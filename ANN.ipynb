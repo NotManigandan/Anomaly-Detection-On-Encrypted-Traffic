{
 "cells": [
  {
   "cell_type": "code",
   "execution_count": 66,
   "id": "37e53658",
   "metadata": {},
   "outputs": [],
   "source": [
    "import numpy as np\n",
    "import pandas as pd\n",
    "import time\n",
    "import random\n",
    "import matplotlib.pyplot as plt\n",
    "from sklearn import preprocessing\n",
    "from sklearn.model_selection import train_test_split\n",
    "from sklearn.metrics import accuracy_score, recall_score, f1_score, precision_score\n",
    "from sklearn.metrics import confusion_matrix,accuracy_score, classification_report\n",
    "from tqdm import tqdm\n",
    "import torch\n",
    "from torch import nn\n",
    "from torch.optim.lr_scheduler import ReduceLROnPlateau\n",
    "import tenseal as ts"
   ]
  },
  {
   "cell_type": "code",
   "execution_count": 13,
   "id": "c68934f9",
   "metadata": {},
   "outputs": [
    {
     "name": "stdout",
     "output_type": "stream",
     "text": [
      "x_train shape: torch.Size([681185, 40])\n",
      "y_train shape: torch.Size([681185, 1])\n",
      "x_test shape: torch.Size([170297, 40])\n",
      "y_test shape: torch.Size([170297, 1])\n"
     ]
    }
   ],
   "source": [
    "df = pd.read_csv(r\"C:\\Users\\invite1\\Downloads\\Manigandan Ramadasan\\Code\\top_feature_df.csv\")\n",
    "grouped = df.groupby('Label')\n",
    "df = grouped.apply(lambda x: x.sample(grouped.size().min(), random_state=73).reset_index(drop=True))\n",
    "x = df.drop([\"Label\"], axis = 1)\n",
    "y = df[\"Label\"]\n",
    "scaler = preprocessing.MinMaxScaler()\n",
    "# scaler = preprocessing.StandardScaler()\n",
    "x = scaler.fit_transform(x)\n",
    "x_train, x_test_20, y_train, y_test_20 = train_test_split(x, y, test_size=0.20, random_state=42)\n",
    "x_train=torch.from_numpy(x_train).float()\n",
    "x_test_20=torch.from_numpy(x_test_20).float()\n",
    "y_train=torch.from_numpy(np.array(y_train)).float().unsqueeze(1)\n",
    "y_test_20=torch.from_numpy(np.array(y_test_20)).float().unsqueeze(1)\n",
    "print(f\"x_train shape: {x_train.shape}\")\n",
    "print(f\"y_train shape: {y_train.shape}\")\n",
    "print(f\"x_test shape: {x_test_20.shape}\")\n",
    "print(f\"y_test shape: {y_test_20.shape}\")"
   ]
  },
  {
   "cell_type": "code",
   "execution_count": 5,
   "id": "0f87605f",
   "metadata": {},
   "outputs": [
    {
     "data": {
      "text/plain": [
       "'cpu'"
      ]
     },
     "execution_count": 5,
     "metadata": {},
     "output_type": "execute_result"
    }
   ],
   "source": [
    "device = \"cuda\" if torch.cuda.is_available() else \"cpu\"\n",
    "device"
   ]
  },
  {
   "cell_type": "code",
   "execution_count": 95,
   "id": "84033640",
   "metadata": {},
   "outputs": [],
   "source": [
    "torch.manual_seed(42)\n",
    "class NN(nn.Module):\n",
    "    def __init__(self, n_features):\n",
    "        super().__init__()\n",
    "        self.layer_1 = nn.Linear(in_features=n_features, out_features=32)\n",
    "        self.layer_2 = nn.Linear(in_features=32, out_features=16)\n",
    "        self.layer_3 = nn.Linear(in_features=16, out_features=8)\n",
    "        self.layer_4 = nn.Linear(in_features=8, out_features=4)\n",
    "        self.layer_5 = nn.Linear(in_features=4, out_features=1)\n",
    "        self.relu = nn.ReLU()\n",
    "\n",
    "    def forward(self, x):\n",
    "        x = self.layer_1(x)\n",
    "        x = x*x\n",
    "#         x = self.relu(x)\n",
    "#         x = torch.sigmoid(x)\n",
    "        x = self.layer_2(x)\n",
    "        x = x*x\n",
    "#         x = self.relu(x)\n",
    "#         x = torch.sigmoid(x)\n",
    "        x = self.layer_3(x)\n",
    "        x = x*x\n",
    "#         x = self.relu(x)\n",
    "#         x = torch.sigmoid(x)\n",
    "        x = self.layer_4(x)\n",
    "        x = x*x\n",
    "#         x = self.relu(x)\n",
    "#         x = torch.sigmoid(x)\n",
    "        x = self.layer_5(x)\n",
    "        return x"
   ]
  },
  {
   "cell_type": "code",
   "execution_count": 74,
   "id": "158db3b9",
   "metadata": {},
   "outputs": [],
   "source": [
    "def train(model, optim, criterion, scheduler, x, y, epochs):\n",
    "    x, y = x.to(device), y.to(device)\n",
    "    loss_dict = {}\n",
    "    for e in range(1, epochs + 1):\n",
    "        model.train()\n",
    "        out = model(x)\n",
    "        loss = loss_fn(out, y)\n",
    "        optim.zero_grad()\n",
    "        loss.backward()\n",
    "        optim.step()\n",
    "        scheduler.step(loss)\n",
    "        loss_dict[e] = loss.data\n",
    "        if e%10 == 0:\n",
    "            print(f\"Loss at epoch {e}: {loss.data} || Learning Rate: {optimizer.param_groups[0]['lr']}\")\n",
    "    return model, loss_dict"
   ]
  },
  {
   "cell_type": "code",
   "execution_count": 61,
   "id": "65898926",
   "metadata": {},
   "outputs": [],
   "source": [
    "def accuracy_fn(y_true, y_pred):\n",
    "    \n",
    "    correct = torch.eq(y_true, y_pred).sum().item() \n",
    "    acc = (correct / len(y_pred)) * 100 \n",
    "    return acc"
   ]
  },
  {
   "cell_type": "code",
   "execution_count": 96,
   "id": "d3dbae0c",
   "metadata": {
    "scrolled": false
   },
   "outputs": [
    {
     "name": "stdout",
     "output_type": "stream",
     "text": [
      "NN(\n",
      "  (layer_1): Linear(in_features=40, out_features=32, bias=True)\n",
      "  (layer_2): Linear(in_features=32, out_features=16, bias=True)\n",
      "  (layer_3): Linear(in_features=16, out_features=8, bias=True)\n",
      "  (layer_4): Linear(in_features=8, out_features=4, bias=True)\n",
      "  (layer_5): Linear(in_features=4, out_features=1, bias=True)\n",
      "  (relu): ReLU()\n",
      ")\n",
      "Loss at epoch 10: 0.6156454682350159\n",
      "Learning Rate at 10: 0.01\n",
      "Loss at epoch 20: 0.5991216897964478\n",
      "Learning Rate at 20: 0.01\n",
      "Loss at epoch 30: 0.5712631344795227\n",
      "Learning Rate at 30: 0.01\n",
      "Loss at epoch 40: 0.502305269241333\n",
      "Learning Rate at 40: 0.01\n",
      "Loss at epoch 50: 0.42768627405166626\n",
      "Learning Rate at 50: 0.01\n",
      "Loss at epoch 60: 0.37459564208984375\n",
      "Learning Rate at 60: 0.01\n",
      "Loss at epoch 70: 0.322366863489151\n",
      "Learning Rate at 70: 0.01\n",
      "Loss at epoch 80: 0.292977511882782\n",
      "Learning Rate at 80: 0.01\n",
      "Loss at epoch 90: 0.2556629776954651\n",
      "Learning Rate at 90: 0.01\n",
      "Loss at epoch 100: 0.23921500146389008\n",
      "Learning Rate at 100: 0.01\n",
      "Loss at epoch 110: 0.2307107299566269\n",
      "Learning Rate at 110: 0.01\n",
      "Loss at epoch 120: 0.21569199860095978\n",
      "Learning Rate at 120: 0.01\n",
      "Loss at epoch 130: 0.19927068054676056\n",
      "Learning Rate at 130: 0.01\n",
      "Loss at epoch 140: 0.1955878585577011\n",
      "Learning Rate at 140: 0.01\n",
      "Loss at epoch 150: 0.3337497115135193\n",
      "Learning Rate at 150: 0.01\n",
      "Loss at epoch 160: 0.20031166076660156\n",
      "Learning Rate at 160: 0.001\n",
      "Loss at epoch 170: 0.1947537362575531\n",
      "Learning Rate at 170: 0.0001\n",
      "Loss at epoch 180: 0.19399414956569672\n",
      "Learning Rate at 180: 1e-05\n",
      "Loss at epoch 190: 0.1938825100660324\n",
      "Learning Rate at 190: 1.0000000000000002e-06\n",
      "Loss at epoch 200: 0.19386056065559387\n",
      "Learning Rate at 200: 1.0000000000000002e-06\n",
      "Loss at epoch 210: 0.19385720789432526\n",
      "Learning Rate at 210: 1.0000000000000002e-07\n",
      "Loss at epoch 220: 0.19385682046413422\n",
      "Learning Rate at 220: 1.0000000000000004e-08\n",
      "Loss at epoch 230: 0.19385677576065063\n",
      "Learning Rate at 230: 1.0000000000000004e-08\n",
      "Loss at epoch 240: 0.19385670125484467\n",
      "Learning Rate at 240: 1.0000000000000004e-08\n",
      "Loss at epoch 250: 0.19385665655136108\n",
      "Learning Rate at 250: 1.0000000000000004e-08\n",
      "Loss at epoch 260: 0.1938566118478775\n",
      "Learning Rate at 260: 1.0000000000000004e-08\n",
      "Loss at epoch 270: 0.19385655224323273\n",
      "Learning Rate at 270: 1.0000000000000004e-08\n",
      "Loss at epoch 280: 0.19385650753974915\n",
      "Learning Rate at 280: 1.0000000000000004e-08\n",
      "Loss at epoch 290: 0.19385643303394318\n",
      "Learning Rate at 290: 1.0000000000000004e-08\n",
      "Loss at epoch 300: 0.1938564032316208\n",
      "Learning Rate at 300: 1.0000000000000004e-08\n",
      "Loss at epoch 310: 0.193856343626976\n",
      "Learning Rate at 310: 1.0000000000000004e-08\n",
      "Loss at epoch 320: 0.19385626912117004\n",
      "Learning Rate at 320: 1.0000000000000004e-08\n",
      "Loss at epoch 330: 0.19385622441768646\n",
      "Learning Rate at 330: 1.0000000000000004e-08\n",
      "Loss at epoch 340: 0.19385617971420288\n",
      "Learning Rate at 340: 1.0000000000000004e-08\n",
      "Loss at epoch 350: 0.1938561052083969\n",
      "Learning Rate at 350: 1.0000000000000004e-08\n",
      "Loss at epoch 360: 0.19385604560375214\n",
      "Learning Rate at 360: 1.0000000000000004e-08\n",
      "Loss at epoch 370: 0.19385597109794617\n",
      "Learning Rate at 370: 1.0000000000000004e-08\n",
      "Loss at epoch 380: 0.19385592639446259\n",
      "Learning Rate at 380: 1.0000000000000004e-08\n",
      "Loss at epoch 390: 0.19385583698749542\n",
      "Learning Rate at 390: 1.0000000000000004e-08\n",
      "Loss at epoch 400: 0.19385579228401184\n",
      "Learning Rate at 400: 1.0000000000000004e-08\n",
      "Loss at epoch 410: 0.19385571777820587\n",
      "Learning Rate at 410: 1.0000000000000004e-08\n",
      "Loss at epoch 420: 0.1938556581735611\n",
      "Learning Rate at 420: 1.0000000000000004e-08\n",
      "Loss at epoch 430: 0.19385561347007751\n",
      "Learning Rate at 430: 1.0000000000000004e-08\n",
      "Loss at epoch 440: 0.19385553896427155\n",
      "Learning Rate at 440: 1.0000000000000004e-08\n",
      "Loss at epoch 450: 0.19385546445846558\n",
      "Learning Rate at 450: 1.0000000000000004e-08\n",
      "Loss at epoch 460: 0.1938553750514984\n",
      "Learning Rate at 460: 1.0000000000000004e-08\n",
      "Loss at epoch 470: 0.19385533034801483\n",
      "Learning Rate at 470: 1.0000000000000004e-08\n",
      "Loss at epoch 480: 0.19385524094104767\n",
      "Learning Rate at 480: 1.0000000000000004e-08\n",
      "Loss at epoch 490: 0.1938551664352417\n",
      "Learning Rate at 490: 1.0000000000000004e-08\n",
      "Loss at epoch 500: 0.19385510683059692\n",
      "Learning Rate at 500: 1.0000000000000004e-08\n",
      "Training Time: 124 seconds\n"
     ]
    },
    {
     "data": {
      "image/png": "[encoded data removed]",
      "text/plain": [
       "<Figure size 432x288 with 1 Axes>"
      ]
     },
     "metadata": {
      "needs_background": "light"
     },
     "output_type": "display_data"
    }
   ],
   "source": [
    "n_features = x_train.shape[1]\n",
    "model = NN(n_features).to(device)\n",
    "print(model)\n",
    "\n",
    "loss_fn = nn.BCEWithLogitsLoss()\n",
    "optimizer = torch.optim.Adam(params=model.parameters(),  lr=0.01)\n",
    "scheduler = ReduceLROnPlateau(optimizer, mode='min', factor=0.1, patience=10, threshold=0.0001)\n",
    "\n",
    "EPOCH = 500\n",
    "t_start = time.time()\n",
    "model, loss_dict = train(model, optimizer, loss_fn, scheduler, x_train, y_train, EPOCH)\n",
    "t_end = time.time()\n",
    "print(f\"Training Time: {int(t_end - t_start)} seconds\")\n",
    "\n",
    "x_coord, y_coord = zip(*(loss_dict.items()))\n",
    "plt.plot(x_coord,y_coord)\n",
    "plt.xlabel(\"Epoch\")\n",
    "plt.ylabel(\"Loss\")\n",
    "plt.show()"
   ]
  },
  {
   "cell_type": "code",
   "execution_count": 97,
   "id": "e9913ba7",
   "metadata": {},
   "outputs": [
    {
     "name": "stdout",
     "output_type": "stream",
     "text": [
      "Prediction Time: 0.02304863929748535 seconds\n",
      "Accuracy on plain test_set: 0.9423360228538513\n"
     ]
    }
   ],
   "source": [
    "def accuracy(model, x, y):\n",
    "    t_start = time.time()\n",
    "    out = torch.sigmoid(model(x))\n",
    "    t_end = time.time()\n",
    "    print(f\"Prediction Time: {(t_end - t_start)} seconds\")\n",
    "    out_list.append(out)\n",
    "    correct = torch.abs(y - out) < 0.5\n",
    "    return correct.float().mean(), out\n",
    "\n",
    "out_list = []\n",
    "plain_accuracy, op = accuracy(model, x_test_20, y_test_20)\n",
    "print(f\"Accuracy on plain test_set: {plain_accuracy}\")"
   ]
  },
  {
   "cell_type": "code",
   "execution_count": 98,
   "id": "95d65941",
   "metadata": {},
   "outputs": [
    {
     "name": "stdout",
     "output_type": "stream",
     "text": [
      "Accuracy: 0.9423360364539598\n",
      "Recall: 0.9719355103862096\n",
      "Precision: 0.9176284076673208\n",
      "F1 - Score: 0.9440015510772003\n"
     ]
    }
   ],
   "source": [
    "op = op.squeeze().detach().numpy()\n",
    "for i in range(len(op)):\n",
    "    if op[i]<0.5:\n",
    "        op[i] = 0\n",
    "    else:\n",
    "        op[i] = 1\n",
    "y_test_temp = y_test_20.squeeze().numpy()\n",
    "plain_accuracy = accuracy_score(y_test_temp, op)\n",
    "plain_recall = recall_score(y_test_temp, op, average='binary')  \n",
    "plain_f1 = f1_score(y_test_temp, op, average='binary')  \n",
    "plain_precision = precision_score(y_test_temp, op, average='binary')  \n",
    "print(f\"Accuracy: {plain_accuracy}\")\n",
    "print(f\"Recall: {plain_recall}\")\n",
    "print(f\"Precision: {plain_precision}\")\n",
    "print(f\"F1 - Score: {plain_f1}\")"
   ]
  },
  {
   "cell_type": "code",
   "execution_count": null,
   "id": "60a58918",
   "metadata": {},
   "outputs": [],
   "source": []
  }
 ],
 "metadata": {
  "kernelspec": {
   "display_name": "Python 3 (ipykernel)",
   "language": "python",
   "name": "python3"
  },
  "language_info": {
   "codemirror_mode": {
    "name": "ipython",
    "version": 3
   },
   "file_extension": ".py",
   "mimetype": "text/x-python",
   "name": "python",
   "nbconvert_exporter": "python",
   "pygments_lexer": "ipython3",
   "version": "3.9.12"
  }
 },
 "nbformat": 4,
 "nbformat_minor": 5
}
