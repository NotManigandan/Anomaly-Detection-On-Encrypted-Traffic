{
 "cells": [
  {
   "cell_type": "code",
   "execution_count": 47,
   "id": "bd1d01ef",
   "metadata": {},
   "outputs": [],
   "source": [
    "import numpy as np\n",
    "import pandas as pd\n",
    "import time\n",
    "import random\n",
    "import matplotlib.pyplot as plt\n",
    "import seaborn as sns\n",
    "from sklearn import preprocessing\n",
    "from sklearn.model_selection import train_test_split\n",
    "from sklearn.metrics import accuracy_score, recall_score, f1_score, precision_score\n",
    "from sklearn.metrics import confusion_matrix,accuracy_score, classification_report, ConfusionMatrixDisplay\n",
    "from sklearn.metrics import RocCurveDisplay, roc_curve\n",
    "from sklearn.metrics import PrecisionRecallDisplay, precision_recall_curve\n",
    "from tqdm import tqdm\n",
    "import torch\n",
    "from torch import nn\n",
    "from torch.optim.lr_scheduler import ReduceLROnPlateau\n",
    "import torchmetrics\n",
    "import tenseal as ts"
   ]
  },
  {
   "cell_type": "code",
   "execution_count": 2,
   "id": "8607bf07",
   "metadata": {
    "scrolled": false
   },
   "outputs": [
    {
     "name": "stdout",
     "output_type": "stream",
     "text": [
      "x_train shape: torch.Size([681185, 1, 7, 7])\n",
      "y_train shape: torch.Size([681185, 1])\n",
      "x_test shape: torch.Size([170297, 1, 7, 7])\n",
      "y_test shape: torch.Size([170297, 1])\n"
     ]
    }
   ],
   "source": [
    "# Importing, balancing, scaling and splitting the dataset into train and test set\n",
    "df = pd.read_csv(r\"C:\\Users\\manig\\Downloads\\Mitacs\\top_feature_df_49.csv\")\n",
    "\n",
    "grouped = df.groupby('Label')\n",
    "df = grouped.apply(lambda x: x.sample(grouped.size().min(), random_state=73).reset_index(drop=True))\n",
    "\n",
    "x = df.drop([\"Label\"], axis = 1)\n",
    "y = df[\"Label\"]\n",
    "# scaler = preprocessing.MinMaxScaler()\n",
    "scaler = preprocessing.StandardScaler()\n",
    "x = scaler.fit_transform(x)\n",
    "\n",
    "x = x.reshape(851482, 7, 7)\n",
    "\n",
    "x_train, x_test_20, y_train, y_test_20 = train_test_split(x, y, test_size=0.2, random_state=42)\n",
    "x_train=torch.from_numpy(x_train).float().unsqueeze(dim=1)\n",
    "x_test_20=torch.from_numpy(x_test_20).float().unsqueeze(dim=1)\n",
    "y_train=torch.from_numpy(np.array(y_train)).float().unsqueeze(dim=1)\n",
    "y_test_20=torch.from_numpy(np.array(y_test_20)).float().unsqueeze(dim=1)\n",
    "print(f\"x_train shape: {x_train.shape}\")\n",
    "print(f\"y_train shape: {y_train.shape}\")\n",
    "print(f\"x_test shape: {x_test_20.shape}\")\n",
    "print(f\"y_test shape: {y_test_20.shape}\")"
   ]
  },
  {
   "cell_type": "code",
   "execution_count": 3,
   "id": "f5e87a1a",
   "metadata": {},
   "outputs": [
    {
     "data": {
      "text/plain": [
       "Counter({1.0: 85161, 0.0: 85136})"
      ]
     },
     "execution_count": 3,
     "metadata": {},
     "output_type": "execute_result"
    }
   ],
   "source": [
    "from collections import Counter\n",
    "Counter(y_test_20.squeeze().numpy())"
   ]
  },
  {
   "cell_type": "code",
   "execution_count": 137,
   "id": "92b14226",
   "metadata": {},
   "outputs": [],
   "source": [
    "# device = \"cuda\" if torch.cuda.is_available() else \"cpu\"\n",
    "# device"
   ]
  },
  {
   "cell_type": "code",
   "execution_count": 208,
   "id": "25809855",
   "metadata": {},
   "outputs": [],
   "source": [
    "train_dataset = torch.utils.data.TensorDataset(x_train, y_train)\n",
    "train_loader = torch.utils.data.DataLoader(train_dataset, batch_size=64, shuffle=True)"
   ]
  },
  {
   "cell_type": "code",
   "execution_count": 194,
   "id": "44389fa9",
   "metadata": {},
   "outputs": [],
   "source": [
    "test_dataset = torch.utils.data.TensorDataset(x_test_20, y_test_20)\n",
    "test_loader = torch.utils.data.DataLoader(test_dataset, batch_size=64)"
   ]
  },
  {
   "cell_type": "code",
   "execution_count": 140,
   "id": "1ecb6bba",
   "metadata": {},
   "outputs": [],
   "source": [
    "# for inputs, labels in train_loader:\n",
    "#     inputs, labels = inputs.to(device), labels.to(device)\n",
    "# for inputs, labels in test_loader:\n",
    "#     inputs, labels = inputs.to(device), labels.to(device)"
   ]
  },
  {
   "cell_type": "code",
   "execution_count": 4,
   "id": "588994f5",
   "metadata": {},
   "outputs": [],
   "source": [
    "# Model Structure\n",
    "class CNN(torch.nn.Module):\n",
    "    def __init__(self):\n",
    "        super(CNN, self).__init__()   \n",
    "        # One convolution  layer becuase TenSEAL restricts this because of the use of im2col operation\n",
    "        self.conv_layer = torch.nn.Conv2d(in_channels=1, out_channels=3, kernel_size=3, padding=0, stride=2)\n",
    "        self.dense_layer_1 = torch.nn.Linear(in_features=27, out_features=8)\n",
    "        self.dense_layer_2 = torch.nn.Linear(in_features=8, out_features=1)\n",
    "\n",
    "    def forward(self, x):\n",
    "        x = self.conv_layer(x)\n",
    "        x = x * x\n",
    "        x = x.view(x.size(0), -1)\n",
    "        x = self.dense_layer_1(x)\n",
    "        x = x * x\n",
    "        x = self.dense_layer_2(x)\n",
    "        return x"
   ]
  },
  {
   "cell_type": "code",
   "execution_count": 5,
   "id": "ee2720cf",
   "metadata": {},
   "outputs": [],
   "source": [
    "# Function to calculate accuracy, recall, precision and f1 - score\n",
    "def metrics_fn(y_true, y_pred, others=False):\n",
    "    for i in range(len(y_pred)):\n",
    "        if y_pred[i]<0.5:\n",
    "            y_pred[i] = 0\n",
    "        else:\n",
    "            y_pred[i] = 1\n",
    "            \n",
    "    accuracy = torchmetrics.Accuracy(task=\"binary\", num_classes=2)\n",
    "    acc = accuracy(y_pred, y_true)\n",
    "    \n",
    "    if others==True:\n",
    "        rec = torchmetrics.Recall(task=\"binary\", num_classes=2)\n",
    "        prec = torchmetrics.Precision(task=\"binary\", num_classes=2)\n",
    "        recall = rec(y_pred, y_true)\n",
    "        precision = prec(y_pred, y_true)\n",
    "        f1_score = 2*((precision*recall)/(precision+recall))\n",
    "        del accuracy, rec, prec\n",
    "        return acc, recall, precision, f1_score\n",
    "    \n",
    "    return acc"
   ]
  },
  {
   "cell_type": "code",
   "execution_count": 209,
   "id": "f0d8404f",
   "metadata": {},
   "outputs": [],
   "source": [
    "# function to train the model\n",
    "def train(model, train_loader, criterion, optimizer, n_epochs=10):\n",
    "    loss_dict = {}\n",
    "    acc_dict = {}\n",
    "    model.train()\n",
    "    for epoch in range(1, n_epochs+1):\n",
    "        train_loss = 0.0\n",
    "        train_acc = 0.0\n",
    "        for data, target in train_loader:\n",
    "            output = model(data)\n",
    "            loss = criterion(output, target)\n",
    "            optimizer.zero_grad()\n",
    "            loss.backward()\n",
    "            optimizer.step()\n",
    "#             scheduler.step(loss)\n",
    "            train_loss += loss.item()\n",
    "            train_acc += metrics_fn(target, torch.sigmoid(output))\n",
    "        train_loss = train_loss / len(train_loader)\n",
    "        train_acc = train_acc / len(train_loader)\n",
    "        loss_dict[epoch] = train_loss\n",
    "        acc_dict[epoch] = train_acc\n",
    "        if epoch%3 == 0:\n",
    "            print(f\"Epoch: {epoch} Training Loss: {train_loss} || Training Accuracy: {train_acc} || Learning Rate: {optimizer.param_groups[0]['lr']}\")\n",
    "    model.eval()\n",
    "    return model, loss_dict, acc_dict"
   ]
  },
  {
   "cell_type": "code",
   "execution_count": 9,
   "id": "c47c8091",
   "metadata": {},
   "outputs": [],
   "source": [
    "criterion = torch.nn.BCEWithLogitsLoss()\n",
    "optimizer = torch.optim.Adam(model.parameters(), lr=0.001) "
   ]
  },
  {
   "cell_type": "code",
   "execution_count": 210,
   "id": "ed7456e7",
   "metadata": {
    "scrolled": false
   },
   "outputs": [
    {
     "name": "stdout",
     "output_type": "stream",
     "text": [
      "Epoch: 3 Training Loss: 1.6024043971628206 || Training Accuracy: 0.9332445859909058 || Learning Rate: 0.001\n",
      "Epoch: 6 Training Loss: 0.14877202765937728 || Training Accuracy: 0.9496183395385742 || Learning Rate: 0.001\n",
      "Epoch: 9 Training Loss: 7.4284984060394805 || Training Accuracy: 0.9506059885025024 || Learning Rate: 0.001\n",
      "Epoch: 12 Training Loss: 0.14398941417852587 || Training Accuracy: 0.9557791948318481 || Learning Rate: 0.001\n",
      "Epoch: 15 Training Loss: 0.2865851190415316 || Training Accuracy: 0.9563680291175842 || Learning Rate: 0.001\n",
      "Epoch: 18 Training Loss: 0.40363887757997735 || Training Accuracy: 0.9573103189468384 || Learning Rate: 0.001\n",
      "Epoch: 21 Training Loss: 0.24118666397836389 || Training Accuracy: 0.9595034122467041 || Learning Rate: 0.001\n",
      "Epoch: 24 Training Loss: 0.12017544711548352 || Training Accuracy: 0.9609419703483582 || Learning Rate: 0.001\n"
     ]
    },
    {
     "data": {
      "text/plain": [
       "[<matplotlib.lines.Line2D at 0x178683c1970>]"
      ]
     },
     "execution_count": 210,
     "metadata": {},
     "output_type": "execute_result"
    },
    {
     "data": {
      "image/png": "[encoded data removed]",
      "text/plain": [
       "<Figure size 1500x500 with 2 Axes>"
      ]
     },
     "metadata": {},
     "output_type": "display_data"
    }
   ],
   "source": [
    "# Training and plotting loss and accuracy curve\n",
    "torch.manual_seed(42)\n",
    "model = CNN()\n",
    "\n",
    "criterion = torch.nn.BCEWithLogitsLoss()\n",
    "optimizer = torch.optim.Adam(model.parameters(), lr=0.001) \n",
    "# scheduler = ReduceLROnPlateau(optimizer, mode='min', factor=0.1, patience=2, threshold=0.0001)\n",
    "\n",
    "model, loss_dict, acc_dict = train(model, train_loader, criterion, optimizer, 24)\n",
    "\n",
    "fig, (ax1, ax2) = plt.subplots(1, 2, figsize=(15, 5)) \n",
    "x_coord, y_coord = zip(*(loss_dict.items()))\n",
    "ax1.plot(x_coord, y_coord)\n",
    "x_coord, y_coord = zip(*(acc_dict.items()))\n",
    "ax2.plot(x_coord, y_coord)"
   ]
  },
  {
   "cell_type": "code",
   "execution_count": 211,
   "id": "fb492132",
   "metadata": {},
   "outputs": [],
   "source": [
    "# Testing on plain data\n",
    "def test(model, test_loader, criterion):\n",
    "    test_loss = 0.0\n",
    "    acc = 0.0\n",
    "    op = []\n",
    "    model.eval()\n",
    "    for data, target in test_loader:\n",
    "        output = torch.sigmoid(model(data))\n",
    "        loss = criterion(output, target)\n",
    "        test_loss += loss.item()\n",
    "        for i in range(len(output)):\n",
    "            if output[i]<0.5:\n",
    "                output[i] = 0\n",
    "            else:\n",
    "                output[i] = 1\n",
    "        opt = output.detach()\n",
    "        op.extend(opt)\n",
    "        acc += metrics_fn(y_true=target, y_pred=output)\n",
    "    loss /= len(test_loader)\n",
    "    acc /= len(test_loader)\n",
    "    op = torch.stack(op)\n",
    "    _, recall, precision, f1 = metrics_fn(y_test_20, op, True)\n",
    "    \n",
    "    return {\"model_loss\": loss.item(),\n",
    "            \"model_acc\": acc,\n",
    "            \"recall\": recall,\n",
    "            \"precision\": precision,\n",
    "            \"f1-score\": f1}, op"
   ]
  },
  {
   "cell_type": "code",
   "execution_count": 212,
   "id": "a85b7edc",
   "metadata": {},
   "outputs": [
    {
     "data": {
      "text/plain": [
       "{'model_loss': 0.0002063219144474715,\n",
       " 'model_acc': tensor(0.9615),\n",
       " 'recall': tensor(0.9665),\n",
       " 'precision': tensor(0.9570),\n",
       " 'f1-score': tensor(0.9617)}"
      ]
     },
     "execution_count": 212,
     "metadata": {},
     "output_type": "execute_result"
    }
   ],
   "source": [
    "dict_res, op = test(model, test_loader, criterion)\n",
    "dict_res"
   ]
  },
  {
   "cell_type": "code",
   "execution_count": 7,
   "id": "16b2b0ab",
   "metadata": {},
   "outputs": [],
   "source": [
    "from pathlib import Path\n",
    "MODEL_PATH = Path(\"models\")\n",
    "MODEL_PATH.mkdir(parents=True, exist_ok=True)\n",
    "MODEL_NAME = \"cnn_3layers.pth\"\n",
    "MODEL_SAVE_PATH = MODEL_PATH / MODEL_NAME"
   ]
  },
  {
   "cell_type": "code",
   "execution_count": 8,
   "id": "9b3a61c0",
   "metadata": {},
   "outputs": [],
   "source": [
    "# print(f\"Saving model to: {MODEL_SAVE_PATH}\")\n",
    "# torch.save(obj=model.state_dict(), f=MODEL_SAVE_PATH) "
   ]
  },
  {
   "cell_type": "code",
   "execution_count": 8,
   "id": "d296b263",
   "metadata": {},
   "outputs": [
    {
     "data": {
      "text/plain": [
       "<All keys matched successfully>"
      ]
     },
     "execution_count": 8,
     "metadata": {},
     "output_type": "execute_result"
    }
   ],
   "source": [
    "model = CNN()\n",
    "model.load_state_dict(torch.load(f=MODEL_SAVE_PATH))"
   ]
  },
  {
   "cell_type": "code",
   "execution_count": 10,
   "id": "8c4f4b66",
   "metadata": {},
   "outputs": [],
   "source": [
    "# Extracting weight and bias\n",
    "class EncCNN:\n",
    "    def __init__(self, torch_nn):\n",
    "        self.conv_layer_weight = torch_nn.conv_layer.weight.data.view(torch_nn.conv_layer.out_channels, torch_nn.conv_layer.kernel_size[0],torch_nn.conv_layer.kernel_size[1]).tolist()\n",
    "        self.conv_layer_bias = torch_nn.conv_layer.bias.data.tolist()\n",
    "        \n",
    "        self.dense_layer_1_weight = torch_nn.dense_layer_1.weight.T.data.tolist()\n",
    "        self.dense_layer_1_bias = torch_nn.dense_layer_1.bias.data.tolist()\n",
    "        \n",
    "        self.dense_layer_2_weight = torch_nn.dense_layer_2.weight.T.data.tolist()\n",
    "        self.dense_layer_2_bias = torch_nn.dense_layer_2.bias.data.tolist()\n",
    "        \n",
    "        \n",
    "    def forward(self, enc_x, windows_nb):\n",
    "        enc_kernel_bias = []\n",
    "        \n",
    "        for kernel, bias in zip(self.conv_layer_weight, self.conv_layer_bias):\n",
    "            y = enc_x.conv2d_im2col(kernel, windows_nb) + bias\n",
    "            enc_kernel_bias.append(y)\n",
    "        enc_op = ts.CKKSVector.pack_vectors(enc_kernel_bias)\n",
    "        enc_op.square_()\n",
    "        \n",
    "        enc_op = enc_op.mm(self.dense_layer_1_weight) + self.dense_layer_1_bias\n",
    "        enc_op.square_()\n",
    "        \n",
    "        enc_op = enc_op.mm(self.dense_layer_2_weight) + self.dense_layer_2_bias\n",
    "        \n",
    "        return enc_op\n",
    "    \n",
    "    def __call__(self, *args, **kwargs):\n",
    "        return self.forward(*args, **kwargs)"
   ]
  },
  {
   "cell_type": "code",
   "execution_count": 11,
   "id": "c34c587f",
   "metadata": {},
   "outputs": [],
   "source": [
    "def enc_test(context, model, test_loader, criterion, kernel_shape, stride, tqdm_batch):\n",
    "    tar = []\n",
    "    op = []\n",
    "    acc = 0.0\n",
    "    test_loss = 0.0\n",
    "    for data, target in tqdm(test_loader):\n",
    "        x_enc, windows_nb = ts.im2col_encoding(context, data.view(7, 7).tolist(), kernel_shape[0],kernel_shape[1], stride)\n",
    "        enc_output = enc_model(x_enc, windows_nb)\n",
    "        output = enc_output.decrypt()\n",
    "        output = torch.tensor(output).view(1, -1)\n",
    "        loss = criterion(output, target)\n",
    "        test_loss += loss.item()\n",
    "        output = torch.sigmoid(output)\n",
    "        for i in range(len(output)):\n",
    "            if output[i]<0.5:\n",
    "                output[i] = 0\n",
    "            else:\n",
    "                output[i] = 1\n",
    "        tar.extend(target)\n",
    "        opt = output.detach()\n",
    "        op.extend(opt)\n",
    "        acc += metrics_fn(y_true=target, y_pred=output)\n",
    "    test_loss = test_loss / len(test_loader)\n",
    "    print(f'Test Loss: {test_loss}')\n",
    "    acc /= len(test_loader)\n",
    "    print(f\"Batch {tqdm_batch} Encrypted Accuracy: {acc}\")\n",
    "#     print(f'Accuracy: {acc}')\n",
    "    return tar, op"
   ]
  },
  {
   "cell_type": "code",
   "execution_count": 12,
   "id": "1f4490f9",
   "metadata": {},
   "outputs": [
    {
     "name": "stdout",
     "output_type": "stream",
     "text": [
      "Kernel Shape: (3, 3)\n",
      "Stride: 2\n"
     ]
    }
   ],
   "source": [
    "kernel_shape = model.conv_layer.kernel_size\n",
    "stride = model.conv_layer.stride[0]\n",
    "print(f\"Kernel Shape: {kernel_shape}\\nStride: {stride}\")"
   ]
  },
  {
   "cell_type": "code",
   "execution_count": 13,
   "id": "06091363",
   "metadata": {},
   "outputs": [],
   "source": [
    "# poly_mod_degree = 8192\n",
    "# bits_scale = 26\n",
    "# integer_scale = 40\n",
    "\n",
    "# poly_mod_degree = 16384\n",
    "# bits_scale = 31\n",
    "# integer_scale = 40"
   ]
  },
  {
   "cell_type": "code",
   "execution_count": 14,
   "id": "54e705c2",
   "metadata": {},
   "outputs": [],
   "source": [
    "poly_mod_degree = 16384\n",
    "bits_scale = 31\n",
    "integer_scale = 40\n",
    "coeff_mod_bit_sizes = [integer_scale, bits_scale, bits_scale, bits_scale, bits_scale, bits_scale, bits_scale, integer_scale]\n",
    "ctx_eval = ts.context(ts.SCHEME_TYPE.CKKS, poly_mod_degree, -1, coeff_mod_bit_sizes)\n",
    "ctx_eval.global_scale = 2 ** bits_scale\n",
    "ctx_eval.generate_galois_keys()"
   ]
  },
  {
   "cell_type": "code",
   "execution_count": 15,
   "id": "4782379d",
   "metadata": {
    "scrolled": false
   },
   "outputs": [
    {
     "name": "stdout",
     "output_type": "stream",
     "text": [
      "\n",
      "Starting Batch 1 Encryption & Evaluation\n"
     ]
    },
    {
     "name": "stderr",
     "output_type": "stream",
     "text": [
      "100%|████████████████████████████████████████████████████████████████████████████| 8514/8514 [1:23:12<00:00,  1.71it/s]\n"
     ]
    },
    {
     "name": "stdout",
     "output_type": "stream",
     "text": [
      "Test Loss: 0.5285176413262385\n",
      "Batch 1 Encrypted Accuracy: 0.9606530666351318\n",
      "Encryption & Evaluation of the test set took 4992 seconds\n",
      "\n",
      "Starting Batch 2 Encryption & Evaluation\n"
     ]
    },
    {
     "name": "stderr",
     "output_type": "stream",
     "text": [
      "100%|████████████████████████████████████████████████████████████████████████████| 8514/8514 [1:23:19<00:00,  1.70it/s]\n"
     ]
    },
    {
     "name": "stdout",
     "output_type": "stream",
     "text": [
      "Test Loss: 0.3645573848088537\n",
      "Batch 2 Encrypted Accuracy: 0.9626497626304626\n",
      "Encryption & Evaluation of the test set took 4999 seconds\n",
      "\n",
      "Starting Batch 3 Encryption & Evaluation\n"
     ]
    },
    {
     "name": "stderr",
     "output_type": "stream",
     "text": [
      "100%|████████████████████████████████████████████████████████████████████████████| 8514/8514 [1:23:31<00:00,  1.70it/s]\n"
     ]
    },
    {
     "name": "stdout",
     "output_type": "stream",
     "text": [
      "Test Loss: 4.185322460627443\n",
      "Batch 3 Encrypted Accuracy: 0.9633544683456421\n",
      "Encryption & Evaluation of the test set took 5011 seconds\n",
      "\n",
      "Starting Batch 4 Encryption & Evaluation\n"
     ]
    },
    {
     "name": "stderr",
     "output_type": "stream",
     "text": [
      "100%|████████████████████████████████████████████████████████████████████████████| 8514/8514 [1:23:14<00:00,  1.70it/s]\n"
     ]
    },
    {
     "name": "stdout",
     "output_type": "stream",
     "text": [
      "Test Loss: 1.2531600944841728\n",
      "Batch 4 Encrypted Accuracy: 0.9655860662460327\n",
      "Encryption & Evaluation of the test set took 4994 seconds\n",
      "\n",
      "Starting Batch 5 Encryption & Evaluation\n"
     ]
    },
    {
     "name": "stderr",
     "output_type": "stream",
     "text": [
      "100%|████████████████████████████████████████████████████████████████████████████| 8514/8514 [1:23:16<00:00,  1.70it/s]\n"
     ]
    },
    {
     "name": "stdout",
     "output_type": "stream",
     "text": [
      "Test Loss: 0.23414799572252012\n",
      "Batch 5 Encrypted Accuracy: 0.9635893702507019\n",
      "Encryption & Evaluation of the test set took 4996 seconds\n",
      "\n",
      "Starting Batch 6 Encryption & Evaluation\n"
     ]
    },
    {
     "name": "stderr",
     "output_type": "stream",
     "text": [
      "100%|████████████████████████████████████████████████████████████████████████████| 8514/8514 [1:24:15<00:00,  1.68it/s]\n"
     ]
    },
    {
     "name": "stdout",
     "output_type": "stream",
     "text": [
      "Test Loss: 3.379133863625173\n",
      "Batch 6 Encrypted Accuracy: 0.9625322818756104\n",
      "Encryption & Evaluation of the test set took 5055 seconds\n",
      "\n",
      "Starting Batch 7 Encryption & Evaluation\n"
     ]
    },
    {
     "name": "stderr",
     "output_type": "stream",
     "text": [
      "100%|████████████████████████████████████████████████████████████████████████████| 8514/8514 [1:25:56<00:00,  1.65it/s]\n"
     ]
    },
    {
     "name": "stdout",
     "output_type": "stream",
     "text": [
      "Test Loss: 0.35608753849903446\n",
      "Batch 7 Encrypted Accuracy: 0.9617100954055786\n",
      "Encryption & Evaluation of the test set took 5156 seconds\n",
      "\n",
      "Starting Batch 8 Encryption & Evaluation\n"
     ]
    },
    {
     "name": "stderr",
     "output_type": "stream",
     "text": [
      "100%|████████████████████████████████████████████████████████████████████████████| 8514/8514 [1:29:34<00:00,  1.58it/s]\n"
     ]
    },
    {
     "name": "stdout",
     "output_type": "stream",
     "text": [
      "Test Loss: 2.4760134712144932\n",
      "Batch 8 Encrypted Accuracy: 0.9581865072250366\n",
      "Encryption & Evaluation of the test set took 5374 seconds\n",
      "\n",
      "Starting Batch 9 Encryption & Evaluation\n"
     ]
    },
    {
     "name": "stderr",
     "output_type": "stream",
     "text": [
      "100%|████████████████████████████████████████████████████████████████████████████| 8514/8514 [1:33:57<00:00,  1.51it/s]\n"
     ]
    },
    {
     "name": "stdout",
     "output_type": "stream",
     "text": [
      "Test Loss: 1.739759609241908\n",
      "Batch 9 Encrypted Accuracy: 0.9619450569152832\n",
      "Encryption & Evaluation of the test set took 5637 seconds\n",
      "\n",
      "Starting Batch 10 Encryption & Evaluation\n"
     ]
    },
    {
     "name": "stderr",
     "output_type": "stream",
     "text": [
      "100%|████████████████████████████████████████████████████████████████████████████| 8514/8514 [1:30:27<00:00,  1.57it/s]\n"
     ]
    },
    {
     "name": "stdout",
     "output_type": "stream",
     "text": [
      "Test Loss: 0.3605881040517963\n",
      "Batch 10 Encrypted Accuracy: 0.9617100954055786\n",
      "Encryption & Evaluation of the test set took 5427 seconds\n",
      "\n",
      "Starting Batch 11 Encryption & Evaluation\n"
     ]
    },
    {
     "name": "stderr",
     "output_type": "stream",
     "text": [
      "100%|████████████████████████████████████████████████████████████████████████████| 8514/8514 [1:24:02<00:00,  1.69it/s]\n"
     ]
    },
    {
     "name": "stdout",
     "output_type": "stream",
     "text": [
      "Test Loss: 0.39607313068452354\n",
      "Batch 11 Encrypted Accuracy: 0.961240291595459\n",
      "Encryption & Evaluation of the test set took 5042 seconds\n",
      "\n",
      "Starting Batch 12 Encryption & Evaluation\n"
     ]
    },
    {
     "name": "stderr",
     "output_type": "stream",
     "text": [
      "100%|████████████████████████████████████████████████████████████████████████████| 8514/8514 [1:23:23<00:00,  1.70it/s]\n"
     ]
    },
    {
     "name": "stdout",
     "output_type": "stream",
     "text": [
      "Test Loss: 0.3543119039750171\n",
      "Batch 12 Encrypted Accuracy: 0.9648813605308533\n",
      "Encryption & Evaluation of the test set took 5003 seconds\n",
      "\n",
      "Starting Batch 13 Encryption & Evaluation\n"
     ]
    },
    {
     "name": "stderr",
     "output_type": "stream",
     "text": [
      "100%|████████████████████████████████████████████████████████████████████████████| 8514/8514 [1:23:17<00:00,  1.70it/s]\n"
     ]
    },
    {
     "name": "stdout",
     "output_type": "stream",
     "text": [
      "Test Loss: 0.30902960951297104\n",
      "Batch 13 Encrypted Accuracy: 0.9637068510055542\n",
      "Encryption & Evaluation of the test set took 4997 seconds\n",
      "\n",
      "Starting Batch 14 Encryption & Evaluation\n"
     ]
    },
    {
     "name": "stderr",
     "output_type": "stream",
     "text": [
      "100%|████████████████████████████████████████████████████████████████████████████| 8514/8514 [1:23:22<00:00,  1.70it/s]\n"
     ]
    },
    {
     "name": "stdout",
     "output_type": "stream",
     "text": [
      "Test Loss: 0.3892619209110219\n",
      "Batch 14 Encrypted Accuracy: 0.9608879685401917\n",
      "Encryption & Evaluation of the test set took 5002 seconds\n",
      "\n",
      "Starting Batch 15 Encryption & Evaluation\n"
     ]
    },
    {
     "name": "stderr",
     "output_type": "stream",
     "text": [
      "100%|████████████████████████████████████████████████████████████████████████████| 8514/8514 [1:23:18<00:00,  1.70it/s]\n"
     ]
    },
    {
     "name": "stdout",
     "output_type": "stream",
     "text": [
      "Test Loss: 0.6929850142086427\n",
      "Batch 15 Encrypted Accuracy: 0.9567770957946777\n",
      "Encryption & Evaluation of the test set took 4998 seconds\n",
      "\n",
      "Starting Batch 16 Encryption & Evaluation\n"
     ]
    },
    {
     "name": "stderr",
     "output_type": "stream",
     "text": [
      "100%|████████████████████████████████████████████████████████████████████████████| 8514/8514 [1:23:19<00:00,  1.70it/s]\n"
     ]
    },
    {
     "name": "stdout",
     "output_type": "stream",
     "text": [
      "Test Loss: 0.31996734618735845\n",
      "Batch 16 Encrypted Accuracy: 0.9604181051254272\n",
      "Encryption & Evaluation of the test set took 4999 seconds\n",
      "\n",
      "Starting Batch 17 Encryption & Evaluation\n"
     ]
    },
    {
     "name": "stderr",
     "output_type": "stream",
     "text": [
      "100%|████████████████████████████████████████████████████████████████████████████| 8514/8514 [1:23:33<00:00,  1.70it/s]\n"
     ]
    },
    {
     "name": "stdout",
     "output_type": "stream",
     "text": [
      "Test Loss: 0.3183999410286705\n",
      "Batch 17 Encrypted Accuracy: 0.9638242721557617\n",
      "Encryption & Evaluation of the test set took 5013 seconds\n",
      "\n",
      "Starting Batch 18 Encryption & Evaluation\n"
     ]
    },
    {
     "name": "stderr",
     "output_type": "stream",
     "text": [
      "100%|████████████████████████████████████████████████████████████████████████████| 8514/8514 [1:23:20<00:00,  1.70it/s]\n"
     ]
    },
    {
     "name": "stdout",
     "output_type": "stream",
     "text": [
      "Test Loss: 0.3832861631745516\n",
      "Batch 18 Encrypted Accuracy: 0.9626497626304626\n",
      "Encryption & Evaluation of the test set took 5000 seconds\n",
      "\n",
      "Starting Batch 19 Encryption & Evaluation\n"
     ]
    },
    {
     "name": "stderr",
     "output_type": "stream",
     "text": [
      "100%|████████████████████████████████████████████████████████████████████████████| 8514/8514 [1:23:29<00:00,  1.70it/s]\n"
     ]
    },
    {
     "name": "stdout",
     "output_type": "stream",
     "text": [
      "Test Loss: 0.7554444129523417\n",
      "Batch 19 Encrypted Accuracy: 0.9610053896903992\n",
      "Encryption & Evaluation of the test set took 5009 seconds\n",
      "\n",
      "Starting Batch 20 Encryption & Evaluation\n"
     ]
    },
    {
     "name": "stderr",
     "output_type": "stream",
     "text": [
      "100%|████████████████████████████████████████████████████████████████████████████| 8531/8531 [1:23:47<00:00,  1.70it/s]"
     ]
    },
    {
     "name": "stdout",
     "output_type": "stream",
     "text": [
      "Test Loss: 0.30539355959649245\n",
      "Batch 20 Encrypted Accuracy: 0.9629586338996887\n",
      "Encryption & Evaluation of the test set took 5027 seconds\n"
     ]
    },
    {
     "name": "stderr",
     "output_type": "stream",
     "text": [
      "\n"
     ]
    }
   ],
   "source": [
    "enc_model = EncCNN(model)\n",
    "y_target_final = []\n",
    "y_pred_final = []\n",
    "one_part = y_test_20.shape[0] // 20\n",
    "for i in range(1, 21):\n",
    "    if i==1:\n",
    "        j = one_part\n",
    "        temp_x_test = x_test_20[:j,]\n",
    "        temp_y_test = y_test_20[:j,]\n",
    "    elif i==20:\n",
    "        j = one_part * (i-1)\n",
    "        temp_x_test = x_test_20[j:,]\n",
    "        temp_y_test = y_test_20[j:,]\n",
    "    else:\n",
    "        j = one_part * i\n",
    "        if i == 1:\n",
    "            k = one_part\n",
    "        else:\n",
    "            k = one_part * (i-1)\n",
    "        temp_x_test = x_test_20[k:j,]\n",
    "        temp_y_test = y_test_20[k:j,]\n",
    "    \n",
    "    test_dataset = torch.utils.data.TensorDataset(temp_x_test, temp_y_test)\n",
    "    test_loader = torch.utils.data.DataLoader(test_dataset, batch_size=1)\n",
    "    \n",
    "    t_start = time.time()\n",
    "    enc_x_test = []\n",
    "    print()\n",
    "    print(f\"Starting Batch {i} Encryption & Evaluation\")\n",
    "    target, output = enc_test(ctx_eval, enc_model, test_loader, criterion, kernel_shape, stride, tqdm_batch=i)\n",
    "    t_end = time.time()\n",
    "    print(f\"Encryption & Evaluation of the test set took {int(t_end - t_start)} seconds\")\n",
    "    y_pred_final.extend(output)\n",
    "    y_target_final.extend(target)"
   ]
  },
  {
   "cell_type": "code",
   "execution_count": 16,
   "id": "5ca706f6",
   "metadata": {},
   "outputs": [
    {
     "name": "stdout",
     "output_type": "stream",
     "text": [
      "Accuracy: 0.9620134234428406\n",
      "Recall: 0.9752703905105591\n",
      "Precision: 0.9500903487205505\n",
      "F1-Score: 0.9625157117843628\n"
     ]
    }
   ],
   "source": [
    "result = metrics_fn(torch.tensor(y_target_final).float().unsqueeze(1), torch.tensor(y_pred_final).float().unsqueeze(1), True)\n",
    "print(f\"Accuracy: {result[0]}\\nRecall: {result[1]}\\nPrecision: {result[2]}\\nF1-Score: {result[3]}\")"
   ]
  },
  {
   "cell_type": "code",
   "execution_count": 55,
   "id": "04558262",
   "metadata": {},
   "outputs": [
    {
     "data": {
      "image/png": "[encoded data removed]",
      "text/plain": [
       "<Figure size 640x480 with 2 Axes>"
      ]
     },
     "metadata": {},
     "output_type": "display_data"
    }
   ],
   "source": [
    "confmat = torchmetrics.ConfusionMatrix(task=\"binary\", num_classes=2)\n",
    "cnf_matrix_val = confmat(torch.tensor(y_target_final).float().unsqueeze(1), torch.tensor(y_pred_final).float().unsqueeze(1))\n",
    "cnf_matrix = sns.heatmap(cnf_matrix_val.numpy(), annot=True, cmap='Blues')\n",
    "for _, spine in cnf_matrix.spines.items():\n",
    "    spine.set_visible(True)\n",
    "    spine.set_linewidth(1)\n",
    "plt.show()"
   ]
  },
  {
   "cell_type": "code",
   "execution_count": 40,
   "id": "28ad63c4",
   "metadata": {},
   "outputs": [
    {
     "data": {
      "image/png": "[encoded data removed]",
      "text/plain": [
       "<Figure size 1500x500 with 2 Axes>"
      ]
     },
     "metadata": {},
     "output_type": "display_data"
    }
   ],
   "source": [
    "fpr, tpr, _ = roc_curve(torch.tensor(y_target_final).float().unsqueeze(1).numpy(), torch.tensor(y_pred_final).float().unsqueeze(1).numpy())\n",
    "roc_display = RocCurveDisplay(fpr=fpr, tpr=tpr)\n",
    "prec, recall, _ = precision_recall_curve(torch.tensor(y_target_final).float().unsqueeze(1).numpy(), torch.tensor(y_pred_final).float().unsqueeze(1).numpy())\n",
    "pr_display = PrecisionRecallDisplay(precision=prec, recall=recall)\n",
    "fig, (ax1, ax2) = plt.subplots(1, 2, figsize=(15, 5))\n",
    "roc_display.plot(ax=ax1)\n",
    "pr_display.plot(ax=ax2)\n",
    "plt.show()"
   ]
  }
 ],
 "metadata": {
  "kernelspec": {
   "display_name": "Python 3.9 (nlp)",
   "language": "python",
   "name": "nlp"
  },
  "language_info": {
   "codemirror_mode": {
    "name": "ipython",
    "version": 3
   },
   "file_extension": ".py",
   "mimetype": "text/x-python",
   "name": "python",
   "nbconvert_exporter": "python",
   "pygments_lexer": "ipython3",
   "version": "3.9.16"
  }
 },
 "nbformat": 4,
 "nbformat_minor": 5
}
