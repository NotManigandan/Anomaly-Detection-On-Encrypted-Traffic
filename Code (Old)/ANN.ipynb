{
 "cells": [
  {
   "cell_type": "code",
   "execution_count": 1,
   "id": "928e3aef",
   "metadata": {},
   "outputs": [],
   "source": [
    "import numpy as np\n",
    "import pandas as pd\n",
    "import time\n",
    "import random\n",
    "import matplotlib.pyplot as plt\n",
    "from sklearn import preprocessing\n",
    "from sklearn.model_selection import train_test_split\n",
    "from sklearn.metrics import accuracy_score, recall_score, f1_score, precision_score\n",
    "from sklearn.metrics import confusion_matrix,accuracy_score, classification_report\n",
    "from tqdm import tqdm\n",
    "import torch\n",
    "from torch import nn\n",
    "from torch.optim.lr_scheduler import ReduceLROnPlateau\n",
    "import tenseal as ts"
   ]
  },
  {
   "cell_type": "code",
   "execution_count": 36,
   "id": "e334268b",
   "metadata": {},
   "outputs": [
    {
     "name": "stdout",
     "output_type": "stream",
     "text": [
      "x_train shape: torch.Size([847224, 40])\n",
      "y_train shape: torch.Size([847224, 1])\n",
      "x_test shape: torch.Size([4258, 40])\n",
      "y_test shape: torch.Size([4258, 1])\n"
     ]
    }
   ],
   "source": [
    "df = pd.read_csv(r\"C:\\Users\\manig\\Downloads\\Mitacs\\top_feature_df_rfr40.csv\")\n",
    "grouped = df.groupby('Label')\n",
    "df = grouped.apply(lambda x: x.sample(grouped.size().min(), random_state=73).reset_index(drop=True))\n",
    "x = df.drop([\"Label\"], axis = 1)\n",
    "y = df[\"Label\"]\n",
    "# scaler = preprocessing.MinMaxScaler()\n",
    "scaler = preprocessing.StandardScaler()\n",
    "x = scaler.fit_transform(x)\n",
    "x_train, x_test_20, y_train, y_test_20 = train_test_split(x, y, test_size=0.005, random_state=42)\n",
    "x_train=torch.from_numpy(x_train).float()\n",
    "x_test_20=torch.from_numpy(x_test_20).float()\n",
    "y_train=torch.from_numpy(np.array(y_train)).float().unsqueeze(1)\n",
    "y_test_20=torch.from_numpy(np.array(y_test_20)).float().unsqueeze(1)\n",
    "print(f\"x_train shape: {x_train.shape}\")\n",
    "print(f\"y_train shape: {y_train.shape}\")\n",
    "print(f\"x_test shape: {x_test_20.shape}\")\n",
    "print(f\"y_test shape: {y_test_20.shape}\")"
   ]
  },
  {
   "cell_type": "code",
   "execution_count": 37,
   "id": "cf672ecb",
   "metadata": {},
   "outputs": [
    {
     "data": {
      "text/plain": [
       "Counter({1.0: 2122, 0.0: 2136})"
      ]
     },
     "execution_count": 37,
     "metadata": {},
     "output_type": "execute_result"
    }
   ],
   "source": [
    "from collections import Counter\n",
    "Counter(y_test_20.squeeze().numpy())"
   ]
  },
  {
   "cell_type": "code",
   "execution_count": 6,
   "id": "9638608c",
   "metadata": {},
   "outputs": [
    {
     "data": {
      "text/plain": [
       "'cuda'"
      ]
     },
     "execution_count": 6,
     "metadata": {},
     "output_type": "execute_result"
    }
   ],
   "source": [
    "device = \"cuda\" if torch.cuda.is_available() else \"cpu\"\n",
    "device"
   ]
  },
  {
   "cell_type": "code",
   "execution_count": null,
   "id": "7ab6242c",
   "metadata": {},
   "outputs": [],
   "source": [
    "class NN(nn.Module):\n",
    "    def __init__(self, n_features):\n",
    "        super().__init__()\n",
    "        self.layer_1 = nn.Linear(in_features=n_features, out_features=16)\n",
    "        self.layer_2 = nn.Linear(in_features=16, out_features=8)\n",
    "        self.layer_3 = nn.Linear(in_features=8, out_features=1)\n",
    "        self.relu = nn.ReLU()\n",
    "\n",
    "    def forward(self, x):\n",
    "        x = self.layer_1(x)\n",
    "        x = x*x\n",
    "        x = self.layer_2(x)\n",
    "        x = x*x\n",
    "        x = self.layer_3(x)\n",
    "        return x"
   ]
  },
  {
   "cell_type": "code",
   "execution_count": 125,
   "id": "650a664b",
   "metadata": {},
   "outputs": [],
   "source": [
    "def train(model, optim, criterion, scheduler, x, y, epochs):\n",
    "    x, y = x.to(device), y.to(device)\n",
    "    loss_dict = {}\n",
    "    for e in range(1, epochs + 1):\n",
    "        model.train()\n",
    "        out = model(x)\n",
    "        loss = loss_fn(out, y)\n",
    "        optim.zero_grad()\n",
    "        loss.backward()\n",
    "        optim.step()\n",
    "        scheduler.step(loss)\n",
    "        loss_dict[e] = loss.data\n",
    "        if e%100 == 0:\n",
    "            print(f\"Loss at epoch {e}: {loss.data} || Learning Rate: {optimizer.param_groups[0]['lr']}\")\n",
    "    return model, loss_dict"
   ]
  },
  {
   "cell_type": "code",
   "execution_count": 140,
   "id": "3d227b32",
   "metadata": {
    "scrolled": false
   },
   "outputs": [
    {
     "name": "stdout",
     "output_type": "stream",
     "text": [
      "NN(\n",
      "  (layer_1): Linear(in_features=40, out_features=24, bias=True)\n",
      "  (layer_2): Linear(in_features=24, out_features=8, bias=True)\n",
      "  (layer_3): Linear(in_features=8, out_features=1, bias=True)\n",
      "  (relu): ReLU()\n",
      ")\n",
      "Loss at epoch 100: 0.49135392904281616 || Learning Rate: 0.002\n",
      "Loss at epoch 200: 0.2536960244178772 || Learning Rate: 0.002\n",
      "Loss at epoch 300: 0.16724127531051636 || Learning Rate: 0.002\n",
      "Loss at epoch 400: 0.14486163854599 || Learning Rate: 0.002\n",
      "Loss at epoch 500: 0.13095974922180176 || Learning Rate: 0.002\n",
      "Loss at epoch 600: 0.1241193637251854 || Learning Rate: 0.002\n",
      "Loss at epoch 700: 0.11898618936538696 || Learning Rate: 0.002\n",
      "Loss at epoch 800: 0.11463438719511032 || Learning Rate: 0.002\n",
      "Loss at epoch 900: 0.11053861677646637 || Learning Rate: 0.002\n",
      "Loss at epoch 1000: 0.1069362461566925 || Learning Rate: 0.002\n",
      "Training Time: 6 seconds\n"
     ]
    },
    {
     "data": {
      "image/png": "[encoded data removed]",
      "text/plain": [
       "<Figure size 640x480 with 1 Axes>"
      ]
     },
     "metadata": {},
     "output_type": "display_data"
    }
   ],
   "source": [
    "n_features = x_train.shape[1]\n",
    "torch.manual_seed(42)\n",
    "model = NN(n_features).to(device)\n",
    "print(model)\n",
    "\n",
    "loss_fn = nn.BCEWithLogitsLoss()\n",
    "optimizer = torch.optim.Adam(params=model.parameters(),  lr=0.002)\n",
    "scheduler = ReduceLROnPlateau(optimizer, mode='min', factor=0.1, patience=10, threshold=0.0001)\n",
    "\n",
    "EPOCH = 1000\n",
    "t_start = time.time()\n",
    "model, loss_dict = train(model, optimizer, loss_fn, scheduler, x_train, y_train, EPOCH)\n",
    "t_end = time.time()\n",
    "print(f\"Training Time: {int(t_end - t_start)} seconds\")\n",
    "\n",
    "x_coord, y_coord = zip(*(loss_dict.items()))\n",
    "if device == \"cuda\":\n",
    "    y_coord = tuple(t.item() for t in y_coord)\n",
    "plt.plot(x_coord,y_coord)\n",
    "plt.xlabel(\"Epoch\")\n",
    "plt.ylabel(\"Loss\")\n",
    "plt.show()"
   ]
  },
  {
   "cell_type": "code",
   "execution_count": 38,
   "id": "b0ddde50",
   "metadata": {},
   "outputs": [
    {
     "name": "stdout",
     "output_type": "stream",
     "text": [
      "Prediction Time: 0.0010101795196533203 seconds\n",
      "Accuracy on plain test_set: 0.9589009284973145\n"
     ]
    }
   ],
   "source": [
    "def accuracy(model, x, y):\n",
    "    x, y = x.to(device), y.to(device)\n",
    "    t_start = time.time()\n",
    "    out = torch.sigmoid(model(x))\n",
    "    t_end = time.time()\n",
    "    print(f\"Prediction Time: {(t_end - t_start)} seconds\")\n",
    "    out_list.append(out)\n",
    "    correct = torch.abs(y - out) < 0.5\n",
    "    return correct.float().mean(), out\n",
    "\n",
    "out_list = []\n",
    "plain_accuracy, op = accuracy(model, x_test_20, y_test_20)\n",
    "print(f\"Accuracy on plain test_set: {plain_accuracy}\")"
   ]
  },
  {
   "cell_type": "code",
   "execution_count": 39,
   "id": "8f0a0621",
   "metadata": {},
   "outputs": [
    {
     "data": {
      "text/html": [
       "<div>\n",
       "<style scoped>\n",
       "    .dataframe tbody tr th:only-of-type {\n",
       "        vertical-align: middle;\n",
       "    }\n",
       "\n",
       "    .dataframe tbody tr th {\n",
       "        vertical-align: top;\n",
       "    }\n",
       "\n",
       "    .dataframe thead th {\n",
       "        text-align: right;\n",
       "    }\n",
       "</style>\n",
       "<table border=\"1\" class=\"dataframe\">\n",
       "  <thead>\n",
       "    <tr style=\"text-align: right;\">\n",
       "      <th></th>\n",
       "      <th>NormalEval</th>\n",
       "    </tr>\n",
       "  </thead>\n",
       "  <tbody>\n",
       "    <tr>\n",
       "      <th>0</th>\n",
       "      <td>6.009799e-01</td>\n",
       "    </tr>\n",
       "    <tr>\n",
       "      <th>1</th>\n",
       "      <td>8.203998e-01</td>\n",
       "    </tr>\n",
       "    <tr>\n",
       "      <th>2</th>\n",
       "      <td>3.711469e-08</td>\n",
       "    </tr>\n",
       "    <tr>\n",
       "      <th>3</th>\n",
       "      <td>9.999999e-01</td>\n",
       "    </tr>\n",
       "    <tr>\n",
       "      <th>4</th>\n",
       "      <td>1.000000e+00</td>\n",
       "    </tr>\n",
       "  </tbody>\n",
       "</table>\n",
       "</div>"
      ],
      "text/plain": [
       "     NormalEval\n",
       "0  6.009799e-01\n",
       "1  8.203998e-01\n",
       "2  3.711469e-08\n",
       "3  9.999999e-01\n",
       "4  1.000000e+00"
      ]
     },
     "execution_count": 39,
     "metadata": {},
     "output_type": "execute_result"
    }
   ],
   "source": [
    "op_df = pd.DataFrame({\n",
    "    \"NormalEval\": op.squeeze().detach().cpu().numpy()})\n",
    "op_df.head()"
   ]
  },
  {
   "cell_type": "code",
   "execution_count": 40,
   "id": "9761c5a0",
   "metadata": {},
   "outputs": [
    {
     "name": "stdout",
     "output_type": "stream",
     "text": [
      "Accuracy: 0.9589008924377642\n",
      "Recall: 0.9736098020735156\n",
      "Precision: 0.9455377574370709\n",
      "F1 - Score: 0.9593684699326678\n"
     ]
    }
   ],
   "source": [
    "op = op.squeeze().detach().cpu().numpy()\n",
    "for i in range(len(op)):\n",
    "    if op[i]<0.5:\n",
    "        op[i] = 0\n",
    "    else:\n",
    "        op[i] = 1\n",
    "y_test_temp = y_test_20.squeeze().numpy()\n",
    "plain_accuracy = accuracy_score(y_test_temp, op)\n",
    "plain_recall = recall_score(y_test_temp, op, average='binary')  \n",
    "plain_f1 = f1_score(y_test_temp, op, average='binary')  \n",
    "plain_precision = precision_score(y_test_temp, op, average='binary')  \n",
    "print(f\"Accuracy: {plain_accuracy}\")\n",
    "print(f\"Recall: {plain_recall}\")\n",
    "print(f\"Precision: {plain_precision}\")\n",
    "print(f\"F1 - Score: {plain_f1}\")"
   ]
  },
  {
   "cell_type": "code",
   "execution_count": 89,
   "id": "aa90ce44",
   "metadata": {},
   "outputs": [],
   "source": [
    "from pathlib import Path\n",
    "MODEL_PATH = Path(\"models\")\n",
    "MODEL_PATH.mkdir(parents=True, exist_ok=True)\n",
    "MODEL_NAME = \"ann_3layers.pth\"\n",
    "MODEL_SAVE_PATH = MODEL_PATH / MODEL_NAME"
   ]
  },
  {
   "cell_type": "code",
   "execution_count": 90,
   "id": "092f8b2b",
   "metadata": {},
   "outputs": [
    {
     "name": "stdout",
     "output_type": "stream",
     "text": [
      "Saving model to: models\\ann_3layers.pth\n"
     ]
    }
   ],
   "source": [
    "print(f\"Saving model to: {MODEL_SAVE_PATH}\")\n",
    "torch.save(obj=model.state_dict(), f=MODEL_SAVE_PATH) "
   ]
  },
  {
   "cell_type": "code",
   "execution_count": 91,
   "id": "e24e886e",
   "metadata": {},
   "outputs": [
    {
     "data": {
      "text/plain": [
       "<All keys matched successfully>"
      ]
     },
     "execution_count": 91,
     "metadata": {},
     "output_type": "execute_result"
    }
   ],
   "source": [
    "model = NN(40).to(device)\n",
    "model.load_state_dict(torch.load(f=MODEL_SAVE_PATH))"
   ]
  },
  {
   "cell_type": "code",
   "execution_count": 14,
   "id": "93745699",
   "metadata": {},
   "outputs": [],
   "source": [
    "class EncryptedANN:\n",
    "    \n",
    "    def __init__(self, torch_ann):\n",
    "        self.layer_1_weight = torch_ann.layer_1.weight.T.data.tolist()\n",
    "        self.layer_1_bias = torch_ann.layer_1.bias.data.tolist()\n",
    "\n",
    "        self.layer_2_weight = torch_ann.layer_2.weight.T.data.tolist()\n",
    "        self.layer_2_bias = torch_ann.layer_2.bias.data.tolist()\n",
    "        \n",
    "        self.layer_3_weight = torch_ann.layer_3.weight.T.data.tolist()\n",
    "        self.layer_3_bias = torch_ann.layer_3.bias.data.tolist()\n",
    "        \n",
    "    def forward(self, enc_x):\n",
    "        enc_x = enc_x.mm(self.layer_1_weight) + self.layer_1_bias\n",
    "        enc_x.square_()\n",
    "        \n",
    "        enc_x = enc_x.mm(self.layer_2_weight) + self.layer_2_bias\n",
    "        enc_x.square_()\n",
    "                \n",
    "        enc_x = enc_x.mm(self.layer_3_weight) + self.layer_3_bias\n",
    "        \n",
    "        return enc_x\n",
    "    \n",
    "    def __call__(self, *args, **kwargs):\n",
    "        return self.forward(*args, **kwargs)\n",
    "    \n",
    "#     def encrypt(self, context):\n",
    "#         self.weight = ts.ckks_vector(context, self.weight)\n",
    "#         self.bias = ts.ckks_vector(context, self.bias)\n",
    "        \n",
    "#     def decrypt(self, context):\n",
    "#         self.weight = self.weight.decrypt()\n",
    "#         self.bias = self.bias.decrypt()\n",
    "        \n",
    "eelr = EncryptedANN(model)"
   ]
  },
  {
   "cell_type": "code",
   "execution_count": 74,
   "id": "b448b93f",
   "metadata": {},
   "outputs": [],
   "source": [
    "poly_mod_degree = 16384\n",
    "bits_scale = 40\n",
    "integer_scale = 60\n",
    "coeff_mod_bit_sizes = [integer_scale, bits_scale, bits_scale, bits_scale, bits_scale, bits_scale, integer_scale]\n",
    "ctx_eval = ts.context(ts.SCHEME_TYPE.CKKS, poly_mod_degree, -1, coeff_mod_bit_sizes)\n",
    "ctx_eval.global_scale = 2 ** bits_scale\n",
    "ctx_eval.generate_galois_keys()"
   ]
  },
  {
   "cell_type": "code",
   "execution_count": 75,
   "id": "d00bbafd",
   "metadata": {},
   "outputs": [],
   "source": [
    "def encrypted_evaluation(model, enc_x_test, y_test):\n",
    "    t_start = time.time()\n",
    "    output_list = []\n",
    "    correct = 0\n",
    "    for enc_x, y in zip(enc_x_test, y_test):\n",
    "        enc_out = model(enc_x)\n",
    "        out = enc_out.decrypt()\n",
    "        out = torch.tensor(out)\n",
    "        out = torch.sigmoid(out)\n",
    "        if torch.abs(out - y) < 0.5:\n",
    "            correct += 1\n",
    "        output_list.append(out)\n",
    "    t_end = time.time()\n",
    "    print(f\"Evaluated test set of {len(enc_x_test)} entries in {int(t_end - t_start)} seconds\")\n",
    "    print(f\"Score: {correct}/{len(enc_x_test)}\")\n",
    "    return correct / len(enc_x_test), output_list"
   ]
  },
  {
   "cell_type": "code",
   "execution_count": 82,
   "id": "1c0a3cef",
   "metadata": {
    "scrolled": false
   },
   "outputs": [
    {
     "name": "stdout",
     "output_type": "stream",
     "text": [
      "Starting Batch 1 Encryption\n"
     ]
    },
    {
     "name": "stderr",
     "output_type": "stream",
     "text": [
      "100%|████████████████████████████████████████████████████████████████████████████████| 212/212 [00:03<00:00, 63.42it/s]\n"
     ]
    },
    {
     "name": "stdout",
     "output_type": "stream",
     "text": [
      "Encryption of the test set took 3 seconds\n",
      "Evaluated test set of 212 entries in 112 seconds\n",
      "Score: 198/212\n",
      "Batch 1 Encrypted Accuracy: 0.9339622641509434\n",
      "Starting Batch 2 Encryption\n"
     ]
    },
    {
     "name": "stderr",
     "output_type": "stream",
     "text": [
      "100%|████████████████████████████████████████████████████████████████████████████████| 212/212 [00:03<00:00, 54.08it/s]\n"
     ]
    },
    {
     "name": "stdout",
     "output_type": "stream",
     "text": [
      "Encryption of the test set took 3 seconds\n",
      "Evaluated test set of 212 entries in 115 seconds\n",
      "Score: 201/212\n",
      "Batch 2 Encrypted Accuracy: 0.9481132075471698\n",
      "Starting Batch 3 Encryption\n"
     ]
    },
    {
     "name": "stderr",
     "output_type": "stream",
     "text": [
      "100%|████████████████████████████████████████████████████████████████████████████████| 212/212 [00:03<00:00, 59.11it/s]\n"
     ]
    },
    {
     "name": "stdout",
     "output_type": "stream",
     "text": [
      "Encryption of the test set took 3 seconds\n",
      "Evaluated test set of 212 entries in 115 seconds\n",
      "Score: 204/212\n",
      "Batch 3 Encrypted Accuracy: 0.9622641509433962\n",
      "Starting Batch 4 Encryption\n"
     ]
    },
    {
     "name": "stderr",
     "output_type": "stream",
     "text": [
      "100%|████████████████████████████████████████████████████████████████████████████████| 212/212 [00:03<00:00, 59.24it/s]\n"
     ]
    },
    {
     "name": "stdout",
     "output_type": "stream",
     "text": [
      "Encryption of the test set took 3 seconds\n",
      "Evaluated test set of 212 entries in 116 seconds\n",
      "Score: 197/212\n",
      "Batch 4 Encrypted Accuracy: 0.9292452830188679\n",
      "Starting Batch 5 Encryption\n"
     ]
    },
    {
     "name": "stderr",
     "output_type": "stream",
     "text": [
      "100%|████████████████████████████████████████████████████████████████████████████████| 212/212 [00:03<00:00, 58.93it/s]\n"
     ]
    },
    {
     "name": "stdout",
     "output_type": "stream",
     "text": [
      "Encryption of the test set took 3 seconds\n",
      "Evaluated test set of 212 entries in 116 seconds\n",
      "Score: 199/212\n",
      "Batch 5 Encrypted Accuracy: 0.9386792452830188\n",
      "Starting Batch 6 Encryption\n"
     ]
    },
    {
     "name": "stderr",
     "output_type": "stream",
     "text": [
      "100%|████████████████████████████████████████████████████████████████████████████████| 212/212 [00:03<00:00, 59.12it/s]\n"
     ]
    },
    {
     "name": "stdout",
     "output_type": "stream",
     "text": [
      "Encryption of the test set took 3 seconds\n",
      "Evaluated test set of 212 entries in 116 seconds\n",
      "Score: 197/212\n",
      "Batch 6 Encrypted Accuracy: 0.9292452830188679\n",
      "Starting Batch 7 Encryption\n"
     ]
    },
    {
     "name": "stderr",
     "output_type": "stream",
     "text": [
      "100%|████████████████████████████████████████████████████████████████████████████████| 212/212 [00:03<00:00, 59.09it/s]\n"
     ]
    },
    {
     "name": "stdout",
     "output_type": "stream",
     "text": [
      "Encryption of the test set took 3 seconds\n",
      "Evaluated test set of 212 entries in 117 seconds\n",
      "Score: 206/212\n",
      "Batch 7 Encrypted Accuracy: 0.9716981132075472\n",
      "Starting Batch 8 Encryption\n"
     ]
    },
    {
     "name": "stderr",
     "output_type": "stream",
     "text": [
      "100%|████████████████████████████████████████████████████████████████████████████████| 212/212 [00:03<00:00, 58.87it/s]\n"
     ]
    },
    {
     "name": "stdout",
     "output_type": "stream",
     "text": [
      "Encryption of the test set took 3 seconds\n",
      "Evaluated test set of 212 entries in 117 seconds\n",
      "Score: 203/212\n",
      "Batch 8 Encrypted Accuracy: 0.9575471698113207\n",
      "Starting Batch 9 Encryption\n"
     ]
    },
    {
     "name": "stderr",
     "output_type": "stream",
     "text": [
      "100%|████████████████████████████████████████████████████████████████████████████████| 212/212 [00:03<00:00, 59.06it/s]\n"
     ]
    },
    {
     "name": "stdout",
     "output_type": "stream",
     "text": [
      "Encryption of the test set took 3 seconds\n",
      "Evaluated test set of 212 entries in 116 seconds\n",
      "Score: 196/212\n",
      "Batch 9 Encrypted Accuracy: 0.9245283018867925\n",
      "Starting Batch 10 Encryption\n"
     ]
    },
    {
     "name": "stderr",
     "output_type": "stream",
     "text": [
      "100%|████████████████████████████████████████████████████████████████████████████████| 212/212 [00:03<00:00, 58.69it/s]\n"
     ]
    },
    {
     "name": "stdout",
     "output_type": "stream",
     "text": [
      "Encryption of the test set took 3 seconds\n",
      "Evaluated test set of 212 entries in 117 seconds\n",
      "Score: 197/212\n",
      "Batch 10 Encrypted Accuracy: 0.9292452830188679\n",
      "Starting Batch 11 Encryption\n"
     ]
    },
    {
     "name": "stderr",
     "output_type": "stream",
     "text": [
      "100%|████████████████████████████████████████████████████████████████████████████████| 212/212 [00:03<00:00, 58.44it/s]\n"
     ]
    },
    {
     "name": "stdout",
     "output_type": "stream",
     "text": [
      "Encryption of the test set took 3 seconds\n",
      "Evaluated test set of 212 entries in 117 seconds\n",
      "Score: 203/212\n",
      "Batch 11 Encrypted Accuracy: 0.9575471698113207\n",
      "Starting Batch 12 Encryption\n"
     ]
    },
    {
     "name": "stderr",
     "output_type": "stream",
     "text": [
      "100%|████████████████████████████████████████████████████████████████████████████████| 212/212 [00:03<00:00, 58.63it/s]\n"
     ]
    },
    {
     "name": "stdout",
     "output_type": "stream",
     "text": [
      "Encryption of the test set took 3 seconds\n",
      "Evaluated test set of 212 entries in 117 seconds\n",
      "Score: 199/212\n",
      "Batch 12 Encrypted Accuracy: 0.9386792452830188\n",
      "Starting Batch 13 Encryption\n"
     ]
    },
    {
     "name": "stderr",
     "output_type": "stream",
     "text": [
      "100%|████████████████████████████████████████████████████████████████████████████████| 212/212 [00:03<00:00, 59.20it/s]\n"
     ]
    },
    {
     "name": "stdout",
     "output_type": "stream",
     "text": [
      "Encryption of the test set took 3 seconds\n",
      "Evaluated test set of 212 entries in 117 seconds\n",
      "Score: 194/212\n",
      "Batch 13 Encrypted Accuracy: 0.9150943396226415\n",
      "Starting Batch 14 Encryption\n"
     ]
    },
    {
     "name": "stderr",
     "output_type": "stream",
     "text": [
      "100%|████████████████████████████████████████████████████████████████████████████████| 212/212 [00:03<00:00, 58.88it/s]\n"
     ]
    },
    {
     "name": "stdout",
     "output_type": "stream",
     "text": [
      "Encryption of the test set took 3 seconds\n",
      "Evaluated test set of 212 entries in 117 seconds\n",
      "Score: 203/212\n",
      "Batch 14 Encrypted Accuracy: 0.9575471698113207\n",
      "Starting Batch 15 Encryption\n"
     ]
    },
    {
     "name": "stderr",
     "output_type": "stream",
     "text": [
      "100%|████████████████████████████████████████████████████████████████████████████████| 212/212 [00:03<00:00, 58.72it/s]\n"
     ]
    },
    {
     "name": "stdout",
     "output_type": "stream",
     "text": [
      "Encryption of the test set took 3 seconds\n",
      "Evaluated test set of 212 entries in 115 seconds\n",
      "Score: 203/212\n",
      "Batch 15 Encrypted Accuracy: 0.9575471698113207\n",
      "Starting Batch 16 Encryption\n"
     ]
    },
    {
     "name": "stderr",
     "output_type": "stream",
     "text": [
      "100%|████████████████████████████████████████████████████████████████████████████████| 212/212 [00:03<00:00, 59.48it/s]\n"
     ]
    },
    {
     "name": "stdout",
     "output_type": "stream",
     "text": [
      "Encryption of the test set took 3 seconds\n",
      "Evaluated test set of 212 entries in 120 seconds\n",
      "Score: 207/212\n",
      "Batch 16 Encrypted Accuracy: 0.9764150943396226\n",
      "Starting Batch 17 Encryption\n"
     ]
    },
    {
     "name": "stderr",
     "output_type": "stream",
     "text": [
      "100%|████████████████████████████████████████████████████████████████████████████████| 212/212 [00:03<00:00, 57.93it/s]\n"
     ]
    },
    {
     "name": "stdout",
     "output_type": "stream",
     "text": [
      "Encryption of the test set took 3 seconds\n",
      "Evaluated test set of 212 entries in 130 seconds\n",
      "Score: 196/212\n",
      "Batch 17 Encrypted Accuracy: 0.9245283018867925\n",
      "Starting Batch 18 Encryption\n"
     ]
    },
    {
     "name": "stderr",
     "output_type": "stream",
     "text": [
      "100%|████████████████████████████████████████████████████████████████████████████████| 212/212 [00:04<00:00, 52.29it/s]\n"
     ]
    },
    {
     "name": "stdout",
     "output_type": "stream",
     "text": [
      "Encryption of the test set took 4 seconds\n",
      "Evaluated test set of 212 entries in 129 seconds\n",
      "Score: 203/212\n",
      "Batch 18 Encrypted Accuracy: 0.9575471698113207\n",
      "Starting Batch 19 Encryption\n"
     ]
    },
    {
     "name": "stderr",
     "output_type": "stream",
     "text": [
      "100%|████████████████████████████████████████████████████████████████████████████████| 212/212 [00:03<00:00, 58.56it/s]\n"
     ]
    },
    {
     "name": "stdout",
     "output_type": "stream",
     "text": [
      "Encryption of the test set took 3 seconds\n",
      "Evaluated test set of 212 entries in 126 seconds\n",
      "Score: 204/212\n",
      "Batch 19 Encrypted Accuracy: 0.9622641509433962\n",
      "Starting Batch 20 Encryption\n"
     ]
    },
    {
     "name": "stderr",
     "output_type": "stream",
     "text": [
      "100%|████████████████████████████████████████████████████████████████████████████████| 230/230 [00:04<00:00, 53.28it/s]\n"
     ]
    },
    {
     "name": "stdout",
     "output_type": "stream",
     "text": [
      "Encryption of the test set took 4 seconds\n",
      "Evaluated test set of 230 entries in 129 seconds\n",
      "Score: 218/230\n",
      "Batch 20 Encrypted Accuracy: 0.9478260869565217\n"
     ]
    }
   ],
   "source": [
    "y_pred_final = []\n",
    "one_part = y_test_20.shape[0] // 20\n",
    "for i in range(1, 21):\n",
    "    if i==1:\n",
    "        j = one_part\n",
    "        temp_x_test = x_test_20[:j,]\n",
    "        temp_y_test = y_test_20[:j,]\n",
    "    elif i==20:\n",
    "        j = one_part * (i-1)\n",
    "        temp_x_test = x_test_20[j:,]\n",
    "        temp_y_test = y_test_20[j:,]\n",
    "    else:\n",
    "        j = one_part * i\n",
    "        if i == 1:\n",
    "            k = one_part\n",
    "        else:\n",
    "            k = one_part * (i-1)\n",
    "        temp_x_test = x_test_20[k:j,]\n",
    "        temp_y_test = y_test_20[k:j,]\n",
    "    \n",
    "    t_start = time.time()\n",
    "    enc_x_test = []\n",
    "    print(f\"Starting Batch {i} Encryption\")\n",
    "    for x in tqdm(range(len(temp_x_test))):\n",
    "        enc_x_test.append(ts.ckks_vector(ctx_eval, temp_x_test[x].tolist()))\n",
    "    t_end = time.time()\n",
    "    print(f\"Encryption of the test set took {int(t_end - t_start)} seconds\")\n",
    "    encrypted_accuracy, output_list = encrypted_evaluation(eelr, enc_x_test, temp_y_test)\n",
    "    print(f\"Batch {i} Encrypted Accuracy: {encrypted_accuracy}\")\n",
    "    y_pred = torch.cat(output_list)\n",
    "    y_pred = y_pred.numpy()\n",
    "    y_pred_final.extend(y_pred)"
   ]
  },
  {
   "cell_type": "code",
   "execution_count": 84,
   "id": "6a871513",
   "metadata": {},
   "outputs": [],
   "source": [
    "op_df[\"HEEval\"] = y_pred_final"
   ]
  },
  {
   "cell_type": "code",
   "execution_count": 85,
   "id": "4ecc81ce",
   "metadata": {},
   "outputs": [
    {
     "name": "stdout",
     "output_type": "stream",
     "text": [
      "Accuracy: 0.9459840300610616\n",
      "Recall: 0.9877474081055608\n",
      "Precision: 0.9113043478260869\n",
      "F1 - Score: 0.9479873360470376\n"
     ]
    }
   ],
   "source": [
    "y_pred_final_temp = y_pred_final\n",
    "for i in range(len(y_pred_final)):\n",
    "    if y_pred_final[i]<0.5:\n",
    "        y_pred_final[i] = 0\n",
    "    else:\n",
    "        y_pred_final[i] = 1\n",
    "y_test_temp = y_test_20.squeeze().numpy()\n",
    "enc_accuracy = accuracy_score(y_test_temp, y_pred_final)\n",
    "enc_recall = recall_score(y_test_temp, y_pred_final, average='binary')\n",
    "enc_f1 = f1_score(y_test_temp, y_pred_final, average='binary')\n",
    "enc_precision = precision_score(y_test_temp, y_pred_final, average='binary')\n",
    "print(f\"Accuracy: {enc_accuracy}\")\n",
    "print(f\"Recall: {enc_recall}\")\n",
    "print(f\"Precision: {enc_precision}\")\n",
    "print(f\"F1 - Score: {enc_f1}\")"
   ]
  },
  {
   "cell_type": "code",
   "execution_count": 87,
   "id": "422c1e0b",
   "metadata": {},
   "outputs": [
    {
     "data": {
      "text/html": [
       "<div>\n",
       "<style scoped>\n",
       "    .dataframe tbody tr th:only-of-type {\n",
       "        vertical-align: middle;\n",
       "    }\n",
       "\n",
       "    .dataframe tbody tr th {\n",
       "        vertical-align: top;\n",
       "    }\n",
       "\n",
       "    .dataframe thead th {\n",
       "        text-align: right;\n",
       "    }\n",
       "</style>\n",
       "<table border=\"1\" class=\"dataframe\">\n",
       "  <thead>\n",
       "    <tr style=\"text-align: right;\">\n",
       "      <th></th>\n",
       "      <th>NormalEval</th>\n",
       "      <th>HEEval</th>\n",
       "    </tr>\n",
       "  </thead>\n",
       "  <tbody>\n",
       "    <tr>\n",
       "      <th>0</th>\n",
       "      <td>6.009799e-01</td>\n",
       "      <td>8.147911e-01</td>\n",
       "    </tr>\n",
       "    <tr>\n",
       "      <th>1</th>\n",
       "      <td>8.203998e-01</td>\n",
       "      <td>9.904236e-01</td>\n",
       "    </tr>\n",
       "    <tr>\n",
       "      <th>2</th>\n",
       "      <td>3.711469e-08</td>\n",
       "      <td>7.161893e-07</td>\n",
       "    </tr>\n",
       "    <tr>\n",
       "      <th>3</th>\n",
       "      <td>9.999999e-01</td>\n",
       "      <td>9.999995e-01</td>\n",
       "    </tr>\n",
       "    <tr>\n",
       "      <th>4</th>\n",
       "      <td>1.000000e+00</td>\n",
       "      <td>1.000000e+00</td>\n",
       "    </tr>\n",
       "    <tr>\n",
       "      <th>...</th>\n",
       "      <td>...</td>\n",
       "      <td>...</td>\n",
       "    </tr>\n",
       "    <tr>\n",
       "      <th>4253</th>\n",
       "      <td>2.892018e-05</td>\n",
       "      <td>4.812529e-02</td>\n",
       "    </tr>\n",
       "    <tr>\n",
       "      <th>4254</th>\n",
       "      <td>3.913748e-13</td>\n",
       "      <td>2.185575e-12</td>\n",
       "    </tr>\n",
       "    <tr>\n",
       "      <th>4255</th>\n",
       "      <td>1.000000e+00</td>\n",
       "      <td>1.000000e+00</td>\n",
       "    </tr>\n",
       "    <tr>\n",
       "      <th>4256</th>\n",
       "      <td>9.563541e-01</td>\n",
       "      <td>9.997515e-01</td>\n",
       "    </tr>\n",
       "    <tr>\n",
       "      <th>4257</th>\n",
       "      <td>5.246674e-02</td>\n",
       "      <td>5.739459e-02</td>\n",
       "    </tr>\n",
       "  </tbody>\n",
       "</table>\n",
       "<p>4258 rows × 2 columns</p>\n",
       "</div>"
      ],
      "text/plain": [
       "        NormalEval        HEEval\n",
       "0     6.009799e-01  8.147911e-01\n",
       "1     8.203998e-01  9.904236e-01\n",
       "2     3.711469e-08  7.161893e-07\n",
       "3     9.999999e-01  9.999995e-01\n",
       "4     1.000000e+00  1.000000e+00\n",
       "...            ...           ...\n",
       "4253  2.892018e-05  4.812529e-02\n",
       "4254  3.913748e-13  2.185575e-12\n",
       "4255  1.000000e+00  1.000000e+00\n",
       "4256  9.563541e-01  9.997515e-01\n",
       "4257  5.246674e-02  5.739459e-02\n",
       "\n",
       "[4258 rows x 2 columns]"
      ]
     },
     "execution_count": 87,
     "metadata": {},
     "output_type": "execute_result"
    }
   ],
   "source": [
    "op_df"
   ]
  },
  {
   "cell_type": "code",
   "execution_count": 32,
   "id": "cd245790",
   "metadata": {},
   "outputs": [],
   "source": [
    "op_df.to_csv(\"NormalHEEval.csv\", index=False)"
   ]
  },
  {
   "cell_type": "code",
   "execution_count": 88,
   "id": "9f86f7a9",
   "metadata": {},
   "outputs": [
    {
     "name": "stdout",
     "output_type": "stream",
     "text": [
      "Mean Absolute Error: 0.050171107\n"
     ]
    }
   ],
   "source": [
    "from sklearn.metrics import mean_absolute_error\n",
    "mae = mean_absolute_error(op_df['NormalEval'], op_df['HEEval'])\n",
    "print(\"Mean Absolute Error:\", mae)"
   ]
  }
 ],
 "metadata": {
  "kernelspec": {
   "display_name": "Python 3 (ipykernel)",
   "language": "python",
   "name": "python3"
  },
  "language_info": {
   "codemirror_mode": {
    "name": "ipython",
    "version": 3
   },
   "file_extension": ".py",
   "mimetype": "text/x-python",
   "name": "python",
   "nbconvert_exporter": "python",
   "pygments_lexer": "ipython3",
   "version": "3.9.16"
  }
 },
 "nbformat": 4,
 "nbformat_minor": 5
}
