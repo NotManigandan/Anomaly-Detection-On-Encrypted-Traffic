{
 "cells": [
  {
   "cell_type": "code",
   "execution_count": 1,
   "id": "e5704c4e",
   "metadata": {},
   "outputs": [],
   "source": [
    "import numpy as np\n",
    "import pandas as pd\n",
    "import time\n",
    "import random\n",
    "import matplotlib.pyplot as plt\n",
    "from sklearn import preprocessing\n",
    "from sklearn.model_selection import train_test_split\n",
    "from sklearn.metrics import accuracy_score, recall_score, f1_score, precision_score\n",
    "from sklearn.metrics import confusion_matrix,accuracy_score, classification_report\n",
    "from tqdm import tqdm\n",
    "import torch\n",
    "import tenseal as ts"
   ]
  },
  {
   "cell_type": "code",
   "execution_count": 2,
   "id": "2da221ae",
   "metadata": {},
   "outputs": [],
   "source": [
    "# def find_minimum(array):\n",
    "#     # Find the minimum value excluding zeros\n",
    "#     non_zero_values = array[array != 0]\n",
    "#     if len(non_zero_values) > 0:\n",
    "#         return np.min(non_zero_values)\n",
    "#     else:\n",
    "#         return None\n",
    "\n",
    "# minimum = find_minimum(x)\n",
    "# print(minimum)"
   ]
  },
  {
   "cell_type": "code",
   "execution_count": 4,
   "id": "187fb728",
   "metadata": {
    "scrolled": true
   },
   "outputs": [
    {
     "name": "stdout",
     "output_type": "stream",
     "text": [
      "x_train shape: torch.Size([681185, 40])\n",
      "y_train shape: torch.Size([681185, 1])\n",
      "x_test shape: torch.Size([170297, 40])\n",
      "y_test shape: torch.Size([170297, 1])\n"
     ]
    }
   ],
   "source": [
    "df = pd.read_csv(r\"C:\\Users\\invite1\\Downloads\\Manigandan Ramadasan\\Code\\top_feature_df.csv\")\n",
    "grouped = df.groupby('Label')\n",
    "df = grouped.apply(lambda x: x.sample(grouped.size().min(), random_state=73).reset_index(drop=True))\n",
    "x = df.drop([\"Label\"], axis = 1)\n",
    "y = df[\"Label\"]\n",
    "scaler = preprocessing.MinMaxScaler()\n",
    "# scaler = preprocessing.QuantileTransformer()\n",
    "# scaler = preprocessing.StandardScaler()\n",
    "x = scaler.fit_transform(x)\n",
    "x_train, x_test_20, y_train, y_test_20 = train_test_split(x, y, test_size=0.20, random_state=42)\n",
    "x_train=torch.from_numpy(x_train).float()\n",
    "x_test_20=torch.from_numpy(x_test_20).float()\n",
    "y_train=torch.from_numpy(np.array(y_train)).float().unsqueeze(1)\n",
    "y_test_20=torch.from_numpy(np.array(y_test_20)).float().unsqueeze(1)\n",
    "print(f\"x_train shape: {x_train.shape}\")\n",
    "print(f\"y_train shape: {y_train.shape}\")\n",
    "print(f\"x_test shape: {x_test_20.shape}\")\n",
    "print(f\"y_test shape: {y_test_20.shape}\")"
   ]
  },
  {
   "cell_type": "code",
   "execution_count": 5,
   "id": "32c28ee8",
   "metadata": {},
   "outputs": [],
   "source": [
    "del grouped\n",
    "del df\n",
    "del x\n",
    "del y"
   ]
  },
  {
   "cell_type": "code",
   "execution_count": 6,
   "id": "c9e48300",
   "metadata": {},
   "outputs": [],
   "source": [
    "torch.random.manual_seed(73)\n",
    "random.seed(73)"
   ]
  },
  {
   "cell_type": "code",
   "execution_count": 6,
   "id": "da803d45",
   "metadata": {
    "scrolled": false
   },
   "outputs": [
    {
     "name": "stdout",
     "output_type": "stream",
     "text": [
      "Loss at epoch 100: 0.3389948904514313\n",
      "Loss at epoch 200: 0.31026074290275574\n",
      "Loss at epoch 300: 0.29027795791625977\n",
      "Loss at epoch 400: 0.2773754596710205\n",
      "Loss at epoch 500: 0.2722761034965515\n",
      "Loss at epoch 600: 0.26761260628700256\n",
      "Loss at epoch 700: 0.26577574014663696\n",
      "Loss at epoch 800: 0.26408708095550537\n",
      "Loss at epoch 900: 0.2637783885002136\n",
      "Loss at epoch 1000: 0.26298004388809204\n",
      "Loss at epoch 1100: 0.2623240053653717\n",
      "Loss at epoch 1200: 0.2619433104991913\n",
      "Loss at epoch 1300: 0.26138409972190857\n",
      "Loss at epoch 1400: 0.2587988078594208\n",
      "Loss at epoch 1500: 0.2587374746799469\n",
      "Loss at epoch 1600: 0.2580565810203552\n",
      "Loss at epoch 1700: 0.2580120861530304\n",
      "Loss at epoch 1800: 0.2578096389770508\n",
      "Loss at epoch 1900: 0.25606560707092285\n",
      "Loss at epoch 2000: 0.25435975193977356\n",
      "Loss at epoch 2100: 0.2538470923900604\n",
      "Loss at epoch 2200: 0.2536613643169403\n",
      "Loss at epoch 2300: 0.2537945806980133\n",
      "Loss at epoch 2400: 0.25350797176361084\n",
      "Loss at epoch 2500: 0.2527654469013214\n",
      "Loss at epoch 2600: 0.2538645565509796\n",
      "Loss at epoch 2700: 0.2858578562736511\n",
      "Loss at epoch 2800: 0.2519645392894745\n",
      "Loss at epoch 2900: 0.25120025873184204\n",
      "Loss at epoch 3000: 0.2522266209125519\n",
      "Loss at epoch 3100: 0.2527255713939667\n",
      "Loss at epoch 3200: 0.25152823328971863\n",
      "Loss at epoch 3300: 0.2532925605773926\n",
      "Loss at epoch 3400: 0.251647412776947\n",
      "Loss at epoch 3500: 0.25265905261039734\n",
      "Loss at epoch 3600: 0.25067001581192017\n",
      "Loss at epoch 3700: 0.25074073672294617\n",
      "Loss at epoch 3800: 0.25024548172950745\n",
      "Loss at epoch 3900: 0.2502128779888153\n",
      "Loss at epoch 4000: 0.2497263103723526\n",
      "Loss at epoch 4100: 0.24913157522678375\n",
      "Loss at epoch 4200: 0.24896198511123657\n",
      "Loss at epoch 4300: 0.252513587474823\n",
      "Loss at epoch 4400: 0.24822159111499786\n",
      "Loss at epoch 4500: 0.2479962259531021\n",
      "Loss at epoch 4600: 0.2484382688999176\n",
      "Loss at epoch 4700: 0.24910204112529755\n",
      "Loss at epoch 4800: 0.2503696084022522\n",
      "Loss at epoch 4900: 0.2476687729358673\n",
      "Loss at epoch 5000: 0.24612678587436676\n",
      "Loss at epoch 5100: 0.2465292513370514\n",
      "Loss at epoch 5200: 0.24789713323116302\n",
      "Loss at epoch 5300: 0.2456311583518982\n",
      "Loss at epoch 5400: 0.2474329173564911\n",
      "Loss at epoch 5500: 0.2450810968875885\n",
      "Loss at epoch 5600: 0.24883240461349487\n",
      "Loss at epoch 5700: 0.24849964678287506\n",
      "Loss at epoch 5800: 0.24528087675571442\n",
      "Loss at epoch 5900: 0.24488027393817902\n",
      "Loss at epoch 6000: 0.24605600535869598\n",
      "Loss at epoch 6100: 0.24641261994838715\n",
      "Loss at epoch 6200: 0.24850840866565704\n",
      "Loss at epoch 6300: 0.24585767090320587\n",
      "Loss at epoch 6400: 0.24435725808143616\n",
      "Loss at epoch 6500: 0.24417389929294586\n",
      "Loss at epoch 6600: 0.24537400901317596\n",
      "Loss at epoch 6700: 0.247711643576622\n",
      "Loss at epoch 6800: 0.24632136523723602\n",
      "Loss at epoch 6900: 0.24618372321128845\n",
      "Loss at epoch 7000: 0.2473210245370865\n",
      "Loss at epoch 7100: 0.2456655502319336\n",
      "Loss at epoch 7200: 0.24633263051509857\n",
      "Loss at epoch 7300: 0.24559800326824188\n",
      "Loss at epoch 7400: 0.24767354130744934\n",
      "Loss at epoch 7500: 0.24665915966033936\n",
      "Loss at epoch 7600: 0.24496965110301971\n",
      "Loss at epoch 7700: 0.24661214649677277\n",
      "Loss at epoch 7800: 0.2454657405614853\n",
      "Loss at epoch 7900: 0.2450966238975525\n",
      "Loss at epoch 8000: 0.2468147575855255\n",
      "Loss at epoch 8100: 0.24573065340518951\n",
      "Loss at epoch 8200: 0.24531681835651398\n",
      "Loss at epoch 8300: 0.2445397526025772\n",
      "Loss at epoch 8400: 0.24457044899463654\n",
      "Loss at epoch 8500: 0.24544474482536316\n",
      "Loss at epoch 8600: 0.2463395595550537\n",
      "Loss at epoch 8700: 0.24491652846336365\n",
      "Loss at epoch 8800: 0.2447231411933899\n",
      "Loss at epoch 8900: 0.24461068212985992\n",
      "Loss at epoch 9000: 0.24751600623130798\n",
      "Loss at epoch 9100: 0.24462349712848663\n",
      "Loss at epoch 9200: 0.24528950452804565\n",
      "Loss at epoch 9300: 0.24581120908260345\n",
      "Loss at epoch 9400: 0.24609144032001495\n",
      "Loss at epoch 9500: 0.24511027336120605\n",
      "Loss at epoch 9600: 0.24435892701148987\n",
      "Loss at epoch 9700: 0.24555368721485138\n",
      "Loss at epoch 9800: 0.2462066113948822\n",
      "Loss at epoch 9900: 0.2454717457294464\n",
      "Loss at epoch 10000: 0.2449941337108612\n"
     ]
    },
    {
     "data": {
      "image/png": "[encoded data removed]",
      "text/plain": [
       "<Figure size 432x288 with 1 Axes>"
      ]
     },
     "metadata": {
      "needs_background": "light"
     },
     "output_type": "display_data"
    }
   ],
   "source": [
    "# Adam Optimizer\n",
    "class LR(torch.nn.Module):\n",
    "\n",
    "    def __init__(self, n_features):\n",
    "        super(LR, self).__init__()\n",
    "        self.lr = torch.nn.Linear(n_features, 1)\n",
    "        \n",
    "    def forward(self, x):\n",
    "        out = torch.sigmoid(self.lr(x))\n",
    "        return out\n",
    "    \n",
    "n_features = x_train.shape[1]\n",
    "model = LR(n_features)\n",
    "optim = torch.optim.Adam(model.parameters(), lr=0.5)\n",
    "criterion = torch.nn.BCELoss()\n",
    "\n",
    "EPOCHS = 10000\n",
    "\n",
    "def train(model, optim, criterion, x, y, epochs=EPOCHS):\n",
    "    loss_dict = {}\n",
    "    for e in range(1, epochs + 1):\n",
    "        out = model(x)\n",
    "        loss = criterion(out, y)\n",
    "        loss.backward()\n",
    "        optim.step()\n",
    "        optim.zero_grad()\n",
    "        loss_dict[e] = loss.data\n",
    "        if e%100 == 0:\n",
    "            print(f\"Loss at epoch {e}: {loss.data}\")\n",
    "    return model, loss_dict\n",
    "\n",
    "t_start = time.time()\n",
    "model, loss_dict = train(model, optim, criterion, x_train, y_train)\n",
    "t_end = time.time()\n",
    "print(f\"Training Time: {int(t_end - t_start)} seconds\")\n",
    "\n",
    "x_coord, y_coord = zip(*(loss_dict.items()))\n",
    "plt.plot(x_coord,y_coord)\n",
    "plt.xlabel(\"Epoch\")\n",
    "plt.ylabel(\"Loss\")\n",
    "plt.show()"
   ]
  },
  {
   "cell_type": "code",
   "execution_count": 7,
   "id": "969ebeea",
   "metadata": {
    "scrolled": false
   },
   "outputs": [
    {
     "name": "stdout",
     "output_type": "stream",
     "text": [
      "Loss at epoch 10: 0.46209266781806946\n",
      "Loss at epoch 20: 0.37963390350341797\n",
      "Loss at epoch 30: 0.3717210590839386\n",
      "Loss at epoch 40: 0.3116186559200287\n",
      "Loss at epoch 50: 0.28313931822776794\n",
      "Loss at epoch 60: 0.2721050977706909\n",
      "Loss at epoch 70: 0.2705861032009125\n",
      "Loss at epoch 80: 0.2706872820854187\n",
      "Loss at epoch 90: 0.2704334259033203\n",
      "Loss at epoch 100: 0.2704344391822815\n",
      "Loss at epoch 110: 0.270438015460968\n",
      "Loss at epoch 120: 0.27090221643447876\n",
      "Loss at epoch 130: 0.27132776379585266\n",
      "Loss at epoch 140: 0.27145692706108093\n",
      "Loss at epoch 150: 0.27142083644866943\n",
      "Loss at epoch 160: 0.27057167887687683\n",
      "Loss at epoch 170: 0.27043861150741577\n",
      "Loss at epoch 180: 0.27030521631240845\n",
      "Loss at epoch 190: 0.27030208706855774\n",
      "Loss at epoch 200: 0.2701742947101593\n",
      "Loss at epoch 210: 0.2700500190258026\n",
      "Loss at epoch 220: 0.2699257433414459\n",
      "Loss at epoch 230: 0.26992565393447876\n",
      "Loss at epoch 240: 0.2699248194694519\n",
      "Loss at epoch 250: 0.26992350816726685\n",
      "Loss at epoch 260: 0.2699243724346161\n",
      "Loss at epoch 270: 0.2697998583316803\n",
      "Loss at epoch 280: 0.2696777582168579\n",
      "Loss at epoch 290: 0.2698013484477997\n",
      "Loss at epoch 300: 0.26992565393447876\n",
      "Training Time: 166 seconds\n"
     ]
    },
    {
     "data": {
      "image/png": "[encoded data removed]",
      "text/plain": [
       "<Figure size 432x288 with 1 Axes>"
      ]
     },
     "metadata": {
      "needs_background": "light"
     },
     "output_type": "display_data"
    }
   ],
   "source": [
    "class LR(torch.nn.Module):\n",
    "\n",
    "    def __init__(self, n_features):\n",
    "        super(LR, self).__init__()\n",
    "        self.lr = torch.nn.Linear(n_features, 1)\n",
    "        \n",
    "    def forward(self, x):\n",
    "        out = torch.sigmoid(self.lr(x))\n",
    "        return out\n",
    "    \n",
    "n_features = x_train.shape[1]\n",
    "model = LR(n_features)\n",
    "optimizer = torch.optim.LBFGS(model.parameters(), lr=0.001, max_iter=100)\n",
    "criterion = torch.nn.BCELoss()\n",
    "\n",
    "EPOCHS = 300\n",
    "\n",
    "def train(model, optimizer, criterion, x, y, epochs=EPOCHS):\n",
    "    loss_dict = {}\n",
    "    for e in range(1, epochs + 1):\n",
    "        def closure():\n",
    "            optimizer.zero_grad()\n",
    "            out = model(x)\n",
    "            loss = criterion(out, y)\n",
    "            loss.backward()\n",
    "            return loss\n",
    "\n",
    "        optimizer.step(closure)\n",
    "        loss_dict[e] = closure().item()\n",
    "        if e%10 == 0:\n",
    "            print(f\"Loss at epoch {e}: {closure().item()}\")\n",
    "    return model, loss_dict\n",
    "\n",
    "t_start = time.time()\n",
    "model, loss_dict = train(model, optimizer, criterion, x_train, y_train)\n",
    "t_end = time.time()\n",
    "print(f\"Training Time: {int(t_end - t_start)} seconds\")\n",
    "\n",
    "x_coord, y_coord = zip(*(loss_dict.items()))\n",
    "plt.plot(x_coord,y_coord)\n",
    "plt.xlabel(\"Epoch\")\n",
    "plt.ylabel(\"Loss\")\n",
    "plt.show()"
   ]
  },
  {
   "cell_type": "code",
   "execution_count": 8,
   "id": "6446764f",
   "metadata": {
    "scrolled": true
   },
   "outputs": [
    {
     "name": "stdout",
     "output_type": "stream",
     "text": [
      "Prediction Time: 0.0020062923431396484 seconds\n",
      "Accuracy on plain test_set: 0.9437277317047119\n"
     ]
    }
   ],
   "source": [
    "def accuracy(model, x, y):\n",
    "    t_start = time.time()\n",
    "    out = model(x)\n",
    "    t_end = time.time()\n",
    "    print(f\"Prediction Time: {(t_end - t_start)} seconds\")\n",
    "    out_list.append(out)\n",
    "    correct = torch.abs(y - out) < 0.5\n",
    "    return correct.float().mean(), out\n",
    "\n",
    "out_list = []\n",
    "plain_accuracy, op = accuracy(model, x_test_20, y_test_20)\n",
    "print(f\"Accuracy on plain test_set: {plain_accuracy}\")"
   ]
  },
  {
   "cell_type": "code",
   "execution_count": 10,
   "id": "fe1e4185",
   "metadata": {},
   "outputs": [
    {
     "data": {
      "text/html": [
       "<div>\n",
       "<style scoped>\n",
       "    .dataframe tbody tr th:only-of-type {\n",
       "        vertical-align: middle;\n",
       "    }\n",
       "\n",
       "    .dataframe tbody tr th {\n",
       "        vertical-align: top;\n",
       "    }\n",
       "\n",
       "    .dataframe thead th {\n",
       "        text-align: right;\n",
       "    }\n",
       "</style>\n",
       "<table border=\"1\" class=\"dataframe\">\n",
       "  <thead>\n",
       "    <tr style=\"text-align: right;\">\n",
       "      <th></th>\n",
       "      <th>Original</th>\n",
       "    </tr>\n",
       "  </thead>\n",
       "  <tbody>\n",
       "    <tr>\n",
       "      <th>0</th>\n",
       "      <td>0.510277</td>\n",
       "    </tr>\n",
       "    <tr>\n",
       "      <th>1</th>\n",
       "      <td>0.776857</td>\n",
       "    </tr>\n",
       "    <tr>\n",
       "      <th>2</th>\n",
       "      <td>0.082351</td>\n",
       "    </tr>\n",
       "    <tr>\n",
       "      <th>3</th>\n",
       "      <td>0.999996</td>\n",
       "    </tr>\n",
       "    <tr>\n",
       "      <th>4</th>\n",
       "      <td>1.000000</td>\n",
       "    </tr>\n",
       "  </tbody>\n",
       "</table>\n",
       "</div>"
      ],
      "text/plain": [
       "   Original\n",
       "0  0.510277\n",
       "1  0.776857\n",
       "2  0.082351\n",
       "3  0.999996\n",
       "4  1.000000"
      ]
     },
     "execution_count": 10,
     "metadata": {},
     "output_type": "execute_result"
    }
   ],
   "source": [
    "op_df = pd.DataFrame({\n",
    "    \"Original\": op.squeeze().detach().numpy()})\n",
    "op_df.head()"
   ]
  },
  {
   "cell_type": "code",
   "execution_count": 11,
   "id": "7dcd9cbd",
   "metadata": {
    "scrolled": false
   },
   "outputs": [
    {
     "name": "stdout",
     "output_type": "stream",
     "text": [
      "Accuracy: 0.9437277227432075\n",
      "Recall: 0.9598642571129977\n",
      "Precision: 0.9298698639486737\n",
      "F1 - Score: 0.9446290207951742\n"
     ]
    }
   ],
   "source": [
    "op = op.squeeze().detach().numpy()\n",
    "for i in range(len(op)):\n",
    "    if op[i]<0.5:\n",
    "        op[i] = 0\n",
    "    else:\n",
    "        op[i] = 1\n",
    "y_test_temp = y_test_20.squeeze().numpy()\n",
    "plain_accuracy = accuracy_score(y_test_temp, op)\n",
    "plain_recall = recall_score(y_test_temp, op, average='binary')  \n",
    "plain_f1 = f1_score(y_test_temp, op, average='binary')  \n",
    "plain_precision = precision_score(y_test_temp, op, average='binary')  \n",
    "print(f\"Accuracy: {plain_accuracy}\")\n",
    "print(f\"Recall: {plain_recall}\")\n",
    "print(f\"Precision: {plain_precision}\")\n",
    "print(f\"F1 - Score: {plain_f1}\")"
   ]
  },
  {
   "cell_type": "code",
   "execution_count": 12,
   "id": "bfd2d9c5",
   "metadata": {},
   "outputs": [],
   "source": [
    "class EncryptedLR:\n",
    "    \n",
    "    def __init__(self, torch_lr):\n",
    "        self.weight = torch_lr.lr.weight.data.tolist()[0]\n",
    "        self.bias = torch_lr.lr.bias.data.tolist()\n",
    "        \n",
    "    def forward(self, enc_x):\n",
    "        enc_out = enc_x.dot(self.weight) + self.bias\n",
    "        return enc_out\n",
    "    \n",
    "    def __call__(self, *args, **kwargs):\n",
    "        return self.forward(*args, **kwargs)\n",
    "    \n",
    "    def encrypt(self, context):\n",
    "        self.weight = ts.ckks_vector(context, self.weight)\n",
    "        self.bias = ts.ckks_vector(context, self.bias)\n",
    "        \n",
    "    def decrypt(self, context):\n",
    "        self.weight = self.weight.decrypt()\n",
    "        self.bias = self.bias.decrypt()\n",
    "        \n",
    "eelr = EncryptedLR(model)"
   ]
  },
  {
   "cell_type": "code",
   "execution_count": 13,
   "id": "56df4553",
   "metadata": {},
   "outputs": [],
   "source": [
    "poly_mod_degree = 8192\n",
    "coeff_mod_bit_sizes = [60, 40, 60]\n",
    "ctx_eval = ts.context(ts.SCHEME_TYPE.CKKS, poly_mod_degree, -1, coeff_mod_bit_sizes)\n",
    "ctx_eval.global_scale = 2 ** 40\n",
    "ctx_eval.generate_galois_keys()"
   ]
  },
  {
   "cell_type": "code",
   "execution_count": 14,
   "id": "49128337",
   "metadata": {},
   "outputs": [],
   "source": [
    "eelr.encrypt(ctx_eval)"
   ]
  },
  {
   "cell_type": "code",
   "execution_count": 17,
   "id": "d0b4da99",
   "metadata": {},
   "outputs": [],
   "source": [
    "def encrypted_evaluation(model, enc_x_test, y_test):\n",
    "    t_start = time.time()\n",
    "    output_list = []\n",
    "    correct = 0\n",
    "    for enc_x, y in zip(enc_x_test, y_test):\n",
    "        enc_out = model(enc_x)\n",
    "        out = enc_out.decrypt()\n",
    "        out = torch.tensor(out)\n",
    "        out = torch.sigmoid(out)\n",
    "        if torch.abs(out - y) < 0.5:\n",
    "            correct += 1\n",
    "        output_list.append(out)\n",
    "    t_end = time.time()\n",
    "    print(f\"Evaluated test set of {len(enc_x_test)} entries in {int(t_end - t_start)} seconds\")\n",
    "    print(f\"Score: {correct}/{len(enc_x_test)}\")\n",
    "    return correct / len(enc_x_test), output_list"
   ]
  },
  {
   "cell_type": "code",
   "execution_count": 18,
   "id": "e83b3f5c",
   "metadata": {
    "scrolled": false
   },
   "outputs": [
    {
     "name": "stdout",
     "output_type": "stream",
     "text": [
      "Starting Batch 1 Encryption\n"
     ]
    },
    {
     "name": "stderr",
     "output_type": "stream",
     "text": [
      "100%|█████████████████████████████████████████████████████████████████████████████| 8514/8514 [00:29<00:00, 289.41it/s]\n"
     ]
    },
    {
     "name": "stdout",
     "output_type": "stream",
     "text": [
      "Encryption of the test set took 29 seconds\n",
      "Evaluated test set of 8514 entries in 67 seconds\n",
      "Score: 8033/8514\n",
      "Batch 1 Encrypted Accuracy: 0.9435048155978388\n",
      "Starting Batch 2 Encryption\n"
     ]
    },
    {
     "name": "stderr",
     "output_type": "stream",
     "text": [
      "100%|█████████████████████████████████████████████████████████████████████████████| 8514/8514 [00:28<00:00, 297.57it/s]\n"
     ]
    },
    {
     "name": "stdout",
     "output_type": "stream",
     "text": [
      "Encryption of the test set took 28 seconds\n",
      "Evaluated test set of 8514 entries in 67 seconds\n",
      "Score: 8066/8514\n",
      "Batch 2 Encrypted Accuracy: 0.9473807845900869\n",
      "Starting Batch 3 Encryption\n"
     ]
    },
    {
     "name": "stderr",
     "output_type": "stream",
     "text": [
      "100%|█████████████████████████████████████████████████████████████████████████████| 8514/8514 [00:28<00:00, 296.40it/s]\n"
     ]
    },
    {
     "name": "stdout",
     "output_type": "stream",
     "text": [
      "Encryption of the test set took 28 seconds\n",
      "Evaluated test set of 8514 entries in 67 seconds\n",
      "Score: 8032/8514\n",
      "Batch 3 Encrypted Accuracy: 0.9433873619920131\n",
      "Starting Batch 4 Encryption\n"
     ]
    },
    {
     "name": "stderr",
     "output_type": "stream",
     "text": [
      "100%|█████████████████████████████████████████████████████████████████████████████| 8514/8514 [00:28<00:00, 296.66it/s]\n"
     ]
    },
    {
     "name": "stdout",
     "output_type": "stream",
     "text": [
      "Encryption of the test set took 28 seconds\n",
      "Evaluated test set of 8514 entries in 67 seconds\n",
      "Score: 8050/8514\n",
      "Batch 4 Encrypted Accuracy: 0.9455015268968757\n",
      "Starting Batch 5 Encryption\n"
     ]
    },
    {
     "name": "stderr",
     "output_type": "stream",
     "text": [
      "100%|█████████████████████████████████████████████████████████████████████████████| 8514/8514 [00:28<00:00, 294.89it/s]\n"
     ]
    },
    {
     "name": "stdout",
     "output_type": "stream",
     "text": [
      "Encryption of the test set took 28 seconds\n",
      "Evaluated test set of 8514 entries in 66 seconds\n",
      "Score: 8062/8514\n",
      "Batch 5 Encrypted Accuracy: 0.9469109701667842\n",
      "Starting Batch 6 Encryption\n"
     ]
    },
    {
     "name": "stderr",
     "output_type": "stream",
     "text": [
      "100%|█████████████████████████████████████████████████████████████████████████████| 8514/8514 [00:28<00:00, 295.93it/s]\n"
     ]
    },
    {
     "name": "stdout",
     "output_type": "stream",
     "text": [
      "Encryption of the test set took 28 seconds\n",
      "Evaluated test set of 8514 entries in 66 seconds\n",
      "Score: 8009/8514\n",
      "Batch 6 Encrypted Accuracy: 0.9406859290580221\n",
      "Starting Batch 7 Encryption\n"
     ]
    },
    {
     "name": "stderr",
     "output_type": "stream",
     "text": [
      "100%|█████████████████████████████████████████████████████████████████████████████| 8514/8514 [00:28<00:00, 297.00it/s]\n"
     ]
    },
    {
     "name": "stdout",
     "output_type": "stream",
     "text": [
      "Encryption of the test set took 28 seconds\n",
      "Evaluated test set of 8514 entries in 66 seconds\n",
      "Score: 8052/8514\n",
      "Batch 7 Encrypted Accuracy: 0.9457364341085271\n",
      "Starting Batch 8 Encryption\n"
     ]
    },
    {
     "name": "stderr",
     "output_type": "stream",
     "text": [
      "100%|█████████████████████████████████████████████████████████████████████████████| 8514/8514 [00:28<00:00, 295.28it/s]\n"
     ]
    },
    {
     "name": "stdout",
     "output_type": "stream",
     "text": [
      "Encryption of the test set took 28 seconds\n",
      "Evaluated test set of 8514 entries in 66 seconds\n",
      "Score: 8025/8514\n",
      "Batch 8 Encrypted Accuracy: 0.9425651867512332\n",
      "Starting Batch 9 Encryption\n"
     ]
    },
    {
     "name": "stderr",
     "output_type": "stream",
     "text": [
      "100%|█████████████████████████████████████████████████████████████████████████████| 8514/8514 [00:28<00:00, 297.20it/s]\n"
     ]
    },
    {
     "name": "stdout",
     "output_type": "stream",
     "text": [
      "Encryption of the test set took 28 seconds\n",
      "Evaluated test set of 8514 entries in 66 seconds\n",
      "Score: 8042/8514\n",
      "Batch 9 Encrypted Accuracy: 0.9445618980502701\n",
      "Starting Batch 10 Encryption\n"
     ]
    },
    {
     "name": "stderr",
     "output_type": "stream",
     "text": [
      "100%|█████████████████████████████████████████████████████████████████████████████| 8514/8514 [00:28<00:00, 296.33it/s]\n"
     ]
    },
    {
     "name": "stdout",
     "output_type": "stream",
     "text": [
      "Encryption of the test set took 28 seconds\n",
      "Evaluated test set of 8514 entries in 67 seconds\n",
      "Score: 8030/8514\n",
      "Batch 10 Encrypted Accuracy: 0.9431524547803618\n",
      "Starting Batch 11 Encryption\n"
     ]
    },
    {
     "name": "stderr",
     "output_type": "stream",
     "text": [
      "100%|█████████████████████████████████████████████████████████████████████████████| 8514/8514 [00:28<00:00, 296.58it/s]\n"
     ]
    },
    {
     "name": "stdout",
     "output_type": "stream",
     "text": [
      "Encryption of the test set took 28 seconds\n",
      "Evaluated test set of 8514 entries in 67 seconds\n",
      "Score: 8026/8514\n",
      "Batch 11 Encrypted Accuracy: 0.942682640357059\n",
      "Starting Batch 12 Encryption\n"
     ]
    },
    {
     "name": "stderr",
     "output_type": "stream",
     "text": [
      "100%|█████████████████████████████████████████████████████████████████████████████| 8514/8514 [00:28<00:00, 295.33it/s]\n"
     ]
    },
    {
     "name": "stdout",
     "output_type": "stream",
     "text": [
      "Encryption of the test set took 28 seconds\n",
      "Evaluated test set of 8514 entries in 66 seconds\n",
      "Score: 8021/8514\n",
      "Batch 12 Encrypted Accuracy: 0.9420953723279305\n",
      "Starting Batch 13 Encryption\n"
     ]
    },
    {
     "name": "stderr",
     "output_type": "stream",
     "text": [
      "100%|█████████████████████████████████████████████████████████████████████████████| 8514/8514 [00:28<00:00, 295.61it/s]\n"
     ]
    },
    {
     "name": "stdout",
     "output_type": "stream",
     "text": [
      "Encryption of the test set took 28 seconds\n",
      "Evaluated test set of 8514 entries in 66 seconds\n",
      "Score: 8049/8514\n",
      "Batch 13 Encrypted Accuracy: 0.94538407329105\n",
      "Starting Batch 14 Encryption\n"
     ]
    },
    {
     "name": "stderr",
     "output_type": "stream",
     "text": [
      "100%|█████████████████████████████████████████████████████████████████████████████| 8514/8514 [00:28<00:00, 295.48it/s]\n"
     ]
    },
    {
     "name": "stdout",
     "output_type": "stream",
     "text": [
      "Encryption of the test set took 28 seconds\n",
      "Evaluated test set of 8514 entries in 66 seconds\n",
      "Score: 8006/8514\n",
      "Batch 14 Encrypted Accuracy: 0.940333568240545\n",
      "Starting Batch 15 Encryption\n"
     ]
    },
    {
     "name": "stderr",
     "output_type": "stream",
     "text": [
      "100%|█████████████████████████████████████████████████████████████████████████████| 8514/8514 [00:28<00:00, 296.29it/s]\n"
     ]
    },
    {
     "name": "stdout",
     "output_type": "stream",
     "text": [
      "Encryption of the test set took 28 seconds\n",
      "Evaluated test set of 8514 entries in 66 seconds\n",
      "Score: 7996/8514\n",
      "Batch 15 Encrypted Accuracy: 0.939159032182288\n",
      "Starting Batch 16 Encryption\n"
     ]
    },
    {
     "name": "stderr",
     "output_type": "stream",
     "text": [
      "100%|█████████████████████████████████████████████████████████████████████████████| 8514/8514 [00:28<00:00, 296.01it/s]\n"
     ]
    },
    {
     "name": "stdout",
     "output_type": "stream",
     "text": [
      "Encryption of the test set took 28 seconds\n",
      "Evaluated test set of 8514 entries in 66 seconds\n",
      "Score: 8036/8514\n",
      "Batch 16 Encrypted Accuracy: 0.943857176415316\n",
      "Starting Batch 17 Encryption\n"
     ]
    },
    {
     "name": "stderr",
     "output_type": "stream",
     "text": [
      "100%|█████████████████████████████████████████████████████████████████████████████| 8514/8514 [00:28<00:00, 296.33it/s]\n"
     ]
    },
    {
     "name": "stdout",
     "output_type": "stream",
     "text": [
      "Encryption of the test set took 28 seconds\n",
      "Evaluated test set of 8514 entries in 66 seconds\n",
      "Score: 8019/8514\n",
      "Batch 17 Encrypted Accuracy: 0.9418604651162791\n",
      "Starting Batch 18 Encryption\n"
     ]
    },
    {
     "name": "stderr",
     "output_type": "stream",
     "text": [
      "100%|█████████████████████████████████████████████████████████████████████████████| 8514/8514 [00:28<00:00, 296.76it/s]\n"
     ]
    },
    {
     "name": "stdout",
     "output_type": "stream",
     "text": [
      "Encryption of the test set took 28 seconds\n",
      "Evaluated test set of 8514 entries in 66 seconds\n",
      "Score: 8058/8514\n",
      "Batch 18 Encrypted Accuracy: 0.9464411557434813\n",
      "Starting Batch 19 Encryption\n"
     ]
    },
    {
     "name": "stderr",
     "output_type": "stream",
     "text": [
      "100%|█████████████████████████████████████████████████████████████████████████████| 8514/8514 [00:28<00:00, 295.84it/s]\n"
     ]
    },
    {
     "name": "stdout",
     "output_type": "stream",
     "text": [
      "Encryption of the test set took 28 seconds\n",
      "Evaluated test set of 8514 entries in 66 seconds\n",
      "Score: 8027/8514\n",
      "Batch 19 Encrypted Accuracy: 0.9428000939628847\n",
      "Starting Batch 20 Encryption\n"
     ]
    },
    {
     "name": "stderr",
     "output_type": "stream",
     "text": [
      "100%|█████████████████████████████████████████████████████████████████████████████| 8531/8531 [00:29<00:00, 293.87it/s]\n"
     ]
    },
    {
     "name": "stdout",
     "output_type": "stream",
     "text": [
      "Encryption of the test set took 29 seconds\n",
      "Evaluated test set of 8531 entries in 67 seconds\n",
      "Score: 8075/8531\n",
      "Batch 20 Encrypted Accuracy: 0.9465478841870824\n"
     ]
    }
   ],
   "source": [
    "y_pred_final = []\n",
    "one_part = y_test_20.shape[0] // 20\n",
    "for i in range(1, 21):\n",
    "    if i==1:\n",
    "        j = one_part\n",
    "        temp_x_test = x_test_20[:j,]\n",
    "        temp_y_test = y_test_20[:j,]\n",
    "    elif i==20:\n",
    "        j = one_part * (i-1)\n",
    "        temp_x_test = x_test_20[j:,]\n",
    "        temp_y_test = y_test_20[j:,]\n",
    "    else:\n",
    "        j = one_part * i\n",
    "        if i == 1:\n",
    "            k = one_part\n",
    "        else:\n",
    "            k = one_part * (i-1)\n",
    "        temp_x_test = x_test_20[k:j,]\n",
    "        temp_y_test = y_test_20[k:j,]\n",
    "    \n",
    "    t_start = time.time()\n",
    "    enc_x_test = []\n",
    "    print(f\"Starting Batch {i} Encryption\")\n",
    "    for x in tqdm(range(len(temp_x_test))):\n",
    "        enc_x_test.append(ts.ckks_vector(ctx_eval, temp_x_test[x].tolist()))\n",
    "    t_end = time.time()\n",
    "    print(f\"Encryption of the test set took {int(t_end - t_start)} seconds\")\n",
    "    encrypted_accuracy, output_list = encrypted_evaluation(eelr, enc_x_test, temp_y_test)\n",
    "    print(f\"Batch {i} Encrypted Accuracy: {encrypted_accuracy}\")\n",
    "    y_pred = torch.cat(output_list)\n",
    "    y_pred = y_pred.numpy()\n",
    "    y_pred_final.extend(y_pred)"
   ]
  },
  {
   "cell_type": "code",
   "execution_count": 19,
   "id": "58510755",
   "metadata": {},
   "outputs": [
    {
     "name": "stdout",
     "output_type": "stream",
     "text": [
      "Accuracy: 0.9437277227432075\n",
      "Recall: 0.9598642571129977\n",
      "Precision: 0.9298698639486737\n",
      "F1 - Score: 0.9446290207951742\n"
     ]
    }
   ],
   "source": [
    "for i in range(len(y_pred_final)):\n",
    "    if y_pred_final[i]<0.5:\n",
    "        y_pred_final[i] = 0\n",
    "    else:\n",
    "        y_pred_final[i] = 1\n",
    "y_test_temp = y_test_20.squeeze().numpy()\n",
    "enc_accuracy = accuracy_score(y_test_temp, y_pred_final)\n",
    "enc_recall = recall_score(y_test_temp, y_pred_final, average='binary')\n",
    "enc_f1 = f1_score(y_test_temp, y_pred_final, average='binary')\n",
    "enc_precision = precision_score(y_test_temp, y_pred_final, average='binary')\n",
    "print(f\"Accuracy: {enc_accuracy}\")\n",
    "print(f\"Recall: {enc_recall}\")\n",
    "print(f\"Precision: {enc_precision}\")\n",
    "print(f\"F1 - Score: {enc_f1}\")"
   ]
  }
 ],
 "metadata": {
  "kernelspec": {
   "display_name": "Python 3 (ipykernel)",
   "language": "python",
   "name": "python3"
  },
  "language_info": {
   "codemirror_mode": {
    "name": "ipython",
    "version": 3
   },
   "file_extension": ".py",
   "mimetype": "text/x-python",
   "name": "python",
   "nbconvert_exporter": "python",
   "pygments_lexer": "ipython3",
   "version": "3.9.16"
  }
 },
 "nbformat": 4,
 "nbformat_minor": 5
}
