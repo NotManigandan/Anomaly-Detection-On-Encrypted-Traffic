{
 "cells": [
  {
   "cell_type": "code",
   "execution_count": 1,
   "id": "e5704c4e",
   "metadata": {},
   "outputs": [],
   "source": [
    "import numpy as np\n",
    "import pandas as pd\n",
    "import time\n",
    "import random\n",
    "import matplotlib.pyplot as plt\n",
    "from sklearn import preprocessing\n",
    "from sklearn.model_selection import train_test_split\n",
    "from sklearn.metrics import accuracy_score, recall_score, f1_score, precision_score\n",
    "from sklearn.metrics import confusion_matrix,accuracy_score, classification_report\n",
    "from torch.optim.lr_scheduler import ReduceLROnPlateau\n",
    "from tqdm import tqdm\n",
    "import torch\n",
    "import tenseal as ts"
   ]
  },
  {
   "cell_type": "code",
   "execution_count": 2,
   "id": "2da221ae",
   "metadata": {},
   "outputs": [],
   "source": [
    "# def find_minimum(array):\n",
    "#     # Find the minimum value excluding zeros\n",
    "#     non_zero_values = array[array != 0]\n",
    "#     if len(non_zero_values) > 0:\n",
    "#         return np.min(non_zero_values)\n",
    "#     else:\n",
    "#         return None\n",
    "\n",
    "# minimum = find_minimum(x)\n",
    "# print(minimum)"
   ]
  },
  {
   "cell_type": "code",
   "execution_count": 2,
   "id": "187fb728",
   "metadata": {
    "scrolled": true
   },
   "outputs": [
    {
     "name": "stdout",
     "output_type": "stream",
     "text": [
      "x_train shape: torch.Size([681185, 30])\n",
      "y_train shape: torch.Size([681185, 1])\n",
      "x_val shape: torch.Size([85148, 30])\n",
      "y_val shape: torch.Size([85148, 1])\n",
      "x_test shape: torch.Size([85149, 30])\n",
      "y_test shape: torch.Size([85149, 1])\n"
     ]
    }
   ],
   "source": [
    "df = pd.read_csv(r\"C:\\Users\\manig\\Downloads\\Mitacs\\top_features.csv\")\n",
    "grouped = df.groupby('Label')\n",
    "df = grouped.apply(lambda x: x.sample(grouped.size().min(), random_state=73).reset_index(drop=True))\n",
    "x = df.drop([\"Label\"], axis = 1)\n",
    "y = df[\"Label\"]\n",
    "# scaler = preprocessing.MinMaxScaler()\n",
    "# scaler = preprocessing.QuantileTransformer()\n",
    "scaler = preprocessing.StandardScaler()\n",
    "x = scaler.fit_transform(x)\n",
    "x_train, x_temp, y_train, y_temp = train_test_split(x, y, test_size=0.20, random_state=42)\n",
    "x_val, x_test_20, y_val, y_test_20 = train_test_split(x_temp, y_temp, test_size=0.5, random_state=42)\n",
    "x_train=torch.from_numpy(x_train).float()\n",
    "x_val=torch.from_numpy(x_val).float()\n",
    "x_test_20=torch.from_numpy(x_test_20).float()\n",
    "y_train=torch.from_numpy(np.array(y_train)).float().unsqueeze(1)\n",
    "y_val=torch.from_numpy(np.array(y_val)).float().unsqueeze(1)\n",
    "y_test_20=torch.from_numpy(np.array(y_test_20)).float().unsqueeze(1)\n",
    "print(f\"x_train shape: {x_train.shape}\")\n",
    "print(f\"y_train shape: {y_train.shape}\")\n",
    "print(f\"x_val shape: {x_val.shape}\")\n",
    "print(f\"y_val shape: {y_val.shape}\")\n",
    "print(f\"x_test shape: {x_test_20.shape}\")\n",
    "print(f\"y_test shape: {y_test_20.shape}\")"
   ]
  },
  {
   "cell_type": "code",
   "execution_count": 3,
   "id": "32c28ee8",
   "metadata": {},
   "outputs": [],
   "source": [
    "del grouped, df, x, y"
   ]
  },
  {
   "cell_type": "code",
   "execution_count": 4,
   "id": "0718a918",
   "metadata": {},
   "outputs": [],
   "source": [
    "class LR(torch.nn.Module):\n",
    "\n",
    "    def __init__(self, n_features):\n",
    "        super(LR, self).__init__()\n",
    "        self.lr = torch.nn.Linear(n_features, 1)\n",
    "        \n",
    "    def forward(self, x):\n",
    "        out = torch.sigmoid(self.lr(x))\n",
    "        return out"
   ]
  },
  {
   "cell_type": "code",
   "execution_count": 6,
   "id": "1c833ffc",
   "metadata": {},
   "outputs": [],
   "source": [
    "def validate(model, criterion, x_val, y_val):\n",
    "    model.eval()  \n",
    "    with torch.no_grad():  \n",
    "        outputs = model(x_val)\n",
    "        loss = criterion(outputs, y_val)\n",
    "        acc, _ = accuracy(model, x_val, y_val)\n",
    "    model.train()  \n",
    "    return loss.item(), acc"
   ]
  },
  {
   "cell_type": "code",
   "execution_count": 7,
   "id": "5662b119",
   "metadata": {},
   "outputs": [],
   "source": [
    "def train(model, optimizer, criterion, x, y, x_val, y_val, epochs):\n",
    "    train_loss_dict = {}\n",
    "    train_acc_dict = {}\n",
    "    val_loss_dict = {}\n",
    "    val_acc_dict = {}\n",
    "    for e in range(1, epochs + 1):\n",
    "        def closure():\n",
    "            optimizer.zero_grad()\n",
    "            out = model(x)\n",
    "            loss = criterion(out, y)\n",
    "            loss.backward()\n",
    "            return loss\n",
    "        optimizer.step(closure)\n",
    "#         scheduler.step(closure().item())\n",
    "        train_loss = closure().item()\n",
    "        train_loss_dict[e] = train_loss\n",
    "        train_acc, _ = accuracy(model, x, y)\n",
    "        train_acc_dict[e] = train_acc\n",
    "        val_loss, val_acc = validate(model, criterion, x_val, y_val)\n",
    "        val_loss_dict[e] = val_loss\n",
    "        val_acc_dict[e] = val_acc\n",
    "        if e%50 == 0:\n",
    "            print(f\"Epoch {e} - Training loss: {train_loss}, Training accuracy: {train_acc}, Validation loss: {val_loss}, Validation accuracy: {val_acc}, Learning Rate: {optimizer.param_groups[0]['lr']}\\n\")\n",
    "    return model, train_loss_dict, train_acc_dict, val_loss_dict, val_acc_dict"
   ]
  },
  {
   "cell_type": "code",
   "execution_count": 8,
   "id": "2102bb07",
   "metadata": {},
   "outputs": [],
   "source": [
    "def accuracy(model, x, y, train=True):\n",
    "    out_list = []\n",
    "    t_start = time.time()\n",
    "    out = model(x)\n",
    "    t_end = time.time()\n",
    "    if(train==False):\n",
    "        print(f\"Prediction Time: {(t_end - t_start)} seconds\")\n",
    "    out_list.append(out)\n",
    "    correct = torch.abs(y - out) < 0.5\n",
    "    return correct.float().mean(), out"
   ]
  },
  {
   "cell_type": "code",
   "execution_count": 24,
   "id": "969ebeea",
   "metadata": {
    "scrolled": false
   },
   "outputs": [
    {
     "name": "stdout",
     "output_type": "stream",
     "text": [
      "Epoch 50 - Training loss: 0.20990997552871704, Training accuracy: 0.9234334230422974, Validation loss: 0.2119133025407791, Validation accuracy: 0.9239559173583984, Learning Rate: 0.001\n",
      "\n",
      "Epoch 100 - Training loss: 0.20727108418941498, Training accuracy: 0.9258674383163452, Validation loss: 0.21026445925235748, Validation accuracy: 0.9258584976196289, Learning Rate: 0.001\n",
      "\n",
      "Epoch 150 - Training loss: 0.20681239664554596, Training accuracy: 0.9241263270378113, Validation loss: 0.2090817540884018, Validation accuracy: 0.9239206910133362, Learning Rate: 0.001\n",
      "\n",
      "Epoch 200 - Training loss: 0.2069191187620163, Training accuracy: 0.9240558743476868, Validation loss: 0.20905396342277527, Validation accuracy: 0.9239324331283569, Learning Rate: 0.001\n",
      "\n",
      "Epoch 250 - Training loss: 0.20678727328777313, Training accuracy: 0.9239927530288696, Validation loss: 0.2090412676334381, Validation accuracy: 0.9238502383232117, Learning Rate: 0.001\n",
      "\n",
      "Epoch 300 - Training loss: 0.20678101480007172, Training accuracy: 0.9239546060562134, Validation loss: 0.2090294510126114, Validation accuracy: 0.9237915277481079, Learning Rate: 0.001\n",
      "\n",
      "Training Time: 341 seconds\n"
     ]
    },
    {
     "data": {
      "image/png": "[encoded data removed]",
      "text/plain": [
       "<Figure size 1200x600 with 2 Axes>"
      ]
     },
     "metadata": {},
     "output_type": "display_data"
    }
   ],
   "source": [
    "n_features = x_train.shape[1]\n",
    "torch.random.manual_seed(42)\n",
    "random.seed(42)\n",
    "model = LR(n_features)\n",
    "optimizer = torch.optim.LBFGS(model.parameters(), lr=0.001, max_iter=100)\n",
    "criterion = torch.nn.BCELoss()\n",
    "scheduler = ReduceLROnPlateau(optimizer, mode='min', factor=0.1, patience=10, threshold=0.0001)\n",
    "EPOCHS = 300\n",
    "\n",
    "t_start = time.time()\n",
    "model, train_loss_dict, train_acc_dict, val_loss_dict, val_acc_dict  = train(model, optimizer, criterion, x_train, y_train, x_val, y_val, EPOCHS)\n",
    "t_end = time.time()\n",
    "print(f\"Training Time: {int(t_end - t_start)} seconds\")\n",
    "\n",
    "fig, (ax1, ax2) = plt.subplots(1, 2, figsize=(12, 6))\n",
    "ax1.plot(*zip(*train_loss_dict.items()), label='Training loss')\n",
    "ax1.plot(*zip(*val_loss_dict.items()), label='Validation loss')\n",
    "ax1.set_xlabel(\"Epoch\")\n",
    "ax1.set_ylabel(\"Loss\")\n",
    "ax1.legend()\n",
    "ax2.plot(*zip(*train_acc_dict.items()), label='Training accuracy')\n",
    "ax2.plot(*zip(*val_acc_dict.items()), label='Validation accuracy')\n",
    "ax2.set_xlabel(\"Epoch\")\n",
    "ax2.set_ylabel(\"Accuracy\")\n",
    "ax2.legend()\n",
    "plt.show()"
   ]
  },
  {
   "cell_type": "code",
   "execution_count": 25,
   "id": "af5ad3ce",
   "metadata": {},
   "outputs": [
    {
     "name": "stdout",
     "output_type": "stream",
     "text": [
      "Accuracy on plain test_set: 0.9221482276916504\n"
     ]
    }
   ],
   "source": [
    "out_list = []\n",
    "plain_accuracy, op = accuracy(model, x_test_20, y_test_20)\n",
    "print(f\"Accuracy on plain test_set: {plain_accuracy}\")"
   ]
  },
  {
   "cell_type": "code",
   "execution_count": 5,
   "id": "456db5e5",
   "metadata": {},
   "outputs": [],
   "source": [
    "from pathlib import Path\n",
    "MODEL_PATH = Path(\"models\")\n",
    "MODEL_PATH.mkdir(parents=True, exist_ok=True)\n",
    "MODEL_NAME = \"lr.pth\"\n",
    "MODEL_SAVE_PATH = MODEL_PATH / MODEL_NAME"
   ]
  },
  {
   "cell_type": "code",
   "execution_count": 39,
   "id": "bd83fc3e",
   "metadata": {},
   "outputs": [
    {
     "name": "stdout",
     "output_type": "stream",
     "text": [
      "Saving model to: models\\lr.pth\n"
     ]
    }
   ],
   "source": [
    "# print(f\"Saving model to: {MODEL_SAVE_PATH}\")\n",
    "# torch.save(obj=model.state_dict(), f=MODEL_SAVE_PATH) "
   ]
  },
  {
   "cell_type": "code",
   "execution_count": 6,
   "id": "c232dc93",
   "metadata": {},
   "outputs": [
    {
     "data": {
      "text/plain": [
       "<All keys matched successfully>"
      ]
     },
     "execution_count": 6,
     "metadata": {},
     "output_type": "execute_result"
    }
   ],
   "source": [
    "model = LR(30)\n",
    "model.load_state_dict(torch.load(f=MODEL_SAVE_PATH))"
   ]
  },
  {
   "cell_type": "code",
   "execution_count": 29,
   "id": "fe1e4185",
   "metadata": {},
   "outputs": [
    {
     "data": {
      "text/html": [
       "<div>\n",
       "<style scoped>\n",
       "    .dataframe tbody tr th:only-of-type {\n",
       "        vertical-align: middle;\n",
       "    }\n",
       "\n",
       "    .dataframe tbody tr th {\n",
       "        vertical-align: top;\n",
       "    }\n",
       "\n",
       "    .dataframe thead th {\n",
       "        text-align: right;\n",
       "    }\n",
       "</style>\n",
       "<table border=\"1\" class=\"dataframe\">\n",
       "  <thead>\n",
       "    <tr style=\"text-align: right;\">\n",
       "      <th></th>\n",
       "      <th>Original</th>\n",
       "    </tr>\n",
       "  </thead>\n",
       "  <tbody>\n",
       "    <tr>\n",
       "      <th>0</th>\n",
       "      <td>0.000965</td>\n",
       "    </tr>\n",
       "    <tr>\n",
       "      <th>1</th>\n",
       "      <td>0.107859</td>\n",
       "    </tr>\n",
       "    <tr>\n",
       "      <th>2</th>\n",
       "      <td>0.999993</td>\n",
       "    </tr>\n",
       "    <tr>\n",
       "      <th>3</th>\n",
       "      <td>0.002897</td>\n",
       "    </tr>\n",
       "    <tr>\n",
       "      <th>4</th>\n",
       "      <td>0.999975</td>\n",
       "    </tr>\n",
       "  </tbody>\n",
       "</table>\n",
       "</div>"
      ],
      "text/plain": [
       "   Original\n",
       "0  0.000965\n",
       "1  0.107859\n",
       "2  0.999993\n",
       "3  0.002897\n",
       "4  0.999975"
      ]
     },
     "execution_count": 29,
     "metadata": {},
     "output_type": "execute_result"
    }
   ],
   "source": [
    "op_df = pd.DataFrame({\n",
    "    \"Original\": op.squeeze().detach().numpy()})\n",
    "op_df.head()"
   ]
  },
  {
   "cell_type": "code",
   "execution_count": 30,
   "id": "7dcd9cbd",
   "metadata": {
    "scrolled": false
   },
   "outputs": [
    {
     "name": "stdout",
     "output_type": "stream",
     "text": [
      "Accuracy: 0.9221482342716885\n",
      "Recall: 0.9659731354499342\n",
      "Precision: 0.8881571844974631\n",
      "F1 - Score: 0.9254322320836006\n"
     ]
    }
   ],
   "source": [
    "op = op.squeeze().detach().numpy()\n",
    "for i in range(len(op)):\n",
    "    if op[i]<0.5:\n",
    "        op[i] = 0\n",
    "    else:\n",
    "        op[i] = 1\n",
    "y_test_temp = y_test_20.squeeze().numpy()\n",
    "plain_accuracy = accuracy_score(y_test_temp, op)\n",
    "plain_recall = recall_score(y_test_temp, op, average='binary')  \n",
    "plain_f1 = f1_score(y_test_temp, op, average='binary')  \n",
    "plain_precision = precision_score(y_test_temp, op, average='binary')  \n",
    "print(f\"Accuracy: {plain_accuracy}\")\n",
    "print(f\"Recall: {plain_recall}\")\n",
    "print(f\"Precision: {plain_precision}\")\n",
    "print(f\"F1 - Score: {plain_f1}\")"
   ]
  },
  {
   "cell_type": "code",
   "execution_count": 7,
   "id": "bfd2d9c5",
   "metadata": {},
   "outputs": [],
   "source": [
    "class EncryptedLR:\n",
    "    \n",
    "    def __init__(self, torch_lr):\n",
    "        self.weight = torch_lr.lr.weight.data.tolist()[0]\n",
    "        self.bias = torch_lr.lr.bias.data.tolist()\n",
    "        \n",
    "    def forward(self, enc_x):\n",
    "        enc_out = enc_x.dot(self.weight) + self.bias\n",
    "        return enc_out\n",
    "    \n",
    "    def __call__(self, *args, **kwargs):\n",
    "        return self.forward(*args, **kwargs)\n",
    "    \n",
    "    def encrypt(self, context):\n",
    "        self.weight = ts.ckks_vector(context, self.weight)\n",
    "        self.bias = ts.ckks_vector(context, self.bias)\n",
    "        \n",
    "    def decrypt(self, context):\n",
    "        self.weight = self.weight.decrypt()\n",
    "        self.bias = self.bias.decrypt()\n",
    "        \n",
    "eelr = EncryptedLR(model)"
   ]
  },
  {
   "cell_type": "code",
   "execution_count": 8,
   "id": "56df4553",
   "metadata": {},
   "outputs": [],
   "source": [
    "poly_mod_degree = 8192\n",
    "coeff_mod_bit_sizes = [60, 40, 60]\n",
    "ctx_eval = ts.context(ts.SCHEME_TYPE.CKKS, poly_mod_degree, -1, coeff_mod_bit_sizes)\n",
    "ctx_eval.global_scale = 2 ** 40\n",
    "ctx_eval.generate_galois_keys()"
   ]
  },
  {
   "cell_type": "code",
   "execution_count": 33,
   "id": "49128337",
   "metadata": {},
   "outputs": [],
   "source": [
    "# eelr.encrypt(ctx_eval)"
   ]
  },
  {
   "cell_type": "code",
   "execution_count": 9,
   "id": "d0b4da99",
   "metadata": {},
   "outputs": [],
   "source": [
    "def encrypted_evaluation(model, enc_x_test, y_test):\n",
    "    t_start = time.time()\n",
    "    output_list = []\n",
    "    correct = 0\n",
    "    for enc_x, y in zip(enc_x_test, y_test):\n",
    "        enc_out = model(enc_x)\n",
    "        out = enc_out.decrypt()\n",
    "        out = torch.tensor(out)\n",
    "        out = torch.sigmoid(out)\n",
    "        if torch.abs(out - y) < 0.5:\n",
    "            correct += 1\n",
    "        output_list.append(out)\n",
    "    t_end = time.time()\n",
    "    print(f\"Evaluated test set of {len(enc_x_test)} entries in {int(t_end - t_start)} seconds\")\n",
    "    print(f\"Score: {correct}/{len(enc_x_test)}\")\n",
    "    return correct / len(enc_x_test), output_list"
   ]
  },
  {
   "cell_type": "code",
   "execution_count": 10,
   "id": "e83b3f5c",
   "metadata": {
    "scrolled": false
   },
   "outputs": [
    {
     "name": "stdout",
     "output_type": "stream",
     "text": [
      "Starting Batch 1 Encryption\n"
     ]
    },
    {
     "name": "stderr",
     "output_type": "stream",
     "text": [
      "100%|█████████████████████████████████████████████████████████████████████████████| 4257/4257 [00:20<00:00, 211.27it/s]\n"
     ]
    },
    {
     "name": "stdout",
     "output_type": "stream",
     "text": [
      "Encryption of the test set took 20 seconds\n",
      "Evaluated test set of 4257 entries in 64 seconds\n",
      "Score: 3917/4257\n",
      "Batch 1 Encrypted Accuracy: 0.9201315480385248\n",
      "Starting Batch 2 Encryption\n"
     ]
    },
    {
     "name": "stderr",
     "output_type": "stream",
     "text": [
      "100%|█████████████████████████████████████████████████████████████████████████████| 4257/4257 [00:20<00:00, 209.64it/s]\n"
     ]
    },
    {
     "name": "stdout",
     "output_type": "stream",
     "text": [
      "Encryption of the test set took 20 seconds\n",
      "Evaluated test set of 4257 entries in 62 seconds\n",
      "Score: 3908/4257\n",
      "Batch 2 Encrypted Accuracy: 0.9180173831336622\n",
      "Starting Batch 3 Encryption\n"
     ]
    },
    {
     "name": "stderr",
     "output_type": "stream",
     "text": [
      "100%|█████████████████████████████████████████████████████████████████████████████| 4257/4257 [00:18<00:00, 232.78it/s]\n"
     ]
    },
    {
     "name": "stdout",
     "output_type": "stream",
     "text": [
      "Encryption of the test set took 18 seconds\n",
      "Evaluated test set of 4257 entries in 59 seconds\n",
      "Score: 3937/4257\n",
      "Batch 3 Encrypted Accuracy: 0.9248296922715528\n",
      "Starting Batch 4 Encryption\n"
     ]
    },
    {
     "name": "stderr",
     "output_type": "stream",
     "text": [
      "100%|█████████████████████████████████████████████████████████████████████████████| 4257/4257 [00:17<00:00, 238.83it/s]\n"
     ]
    },
    {
     "name": "stdout",
     "output_type": "stream",
     "text": [
      "Encryption of the test set took 17 seconds\n",
      "Evaluated test set of 4257 entries in 54 seconds\n",
      "Score: 3933/4257\n",
      "Batch 4 Encrypted Accuracy: 0.9238900634249472\n",
      "Starting Batch 5 Encryption\n"
     ]
    },
    {
     "name": "stderr",
     "output_type": "stream",
     "text": [
      "100%|█████████████████████████████████████████████████████████████████████████████| 4257/4257 [00:17<00:00, 246.67it/s]\n"
     ]
    },
    {
     "name": "stdout",
     "output_type": "stream",
     "text": [
      "Encryption of the test set took 17 seconds\n",
      "Evaluated test set of 4257 entries in 53 seconds\n",
      "Score: 3960/4257\n",
      "Batch 5 Encrypted Accuracy: 0.9302325581395349\n",
      "Starting Batch 6 Encryption\n"
     ]
    },
    {
     "name": "stderr",
     "output_type": "stream",
     "text": [
      "100%|█████████████████████████████████████████████████████████████████████████████| 4257/4257 [00:17<00:00, 247.46it/s]\n"
     ]
    },
    {
     "name": "stdout",
     "output_type": "stream",
     "text": [
      "Encryption of the test set took 17 seconds\n",
      "Evaluated test set of 4257 entries in 53 seconds\n",
      "Score: 3930/4257\n",
      "Batch 6 Encrypted Accuracy: 0.923185341789993\n",
      "Starting Batch 7 Encryption\n"
     ]
    },
    {
     "name": "stderr",
     "output_type": "stream",
     "text": [
      "100%|█████████████████████████████████████████████████████████████████████████████| 4257/4257 [00:17<00:00, 247.70it/s]\n"
     ]
    },
    {
     "name": "stdout",
     "output_type": "stream",
     "text": [
      "Encryption of the test set took 17 seconds\n",
      "Evaluated test set of 4257 entries in 53 seconds\n",
      "Score: 3888/4257\n",
      "Batch 7 Encrypted Accuracy: 0.9133192389006343\n",
      "Starting Batch 8 Encryption\n"
     ]
    },
    {
     "name": "stderr",
     "output_type": "stream",
     "text": [
      "100%|█████████████████████████████████████████████████████████████████████████████| 4257/4257 [00:17<00:00, 247.32it/s]\n"
     ]
    },
    {
     "name": "stdout",
     "output_type": "stream",
     "text": [
      "Encryption of the test set took 17 seconds\n",
      "Evaluated test set of 4257 entries in 53 seconds\n",
      "Score: 3899/4257\n",
      "Batch 8 Encrypted Accuracy: 0.9159032182287996\n",
      "Starting Batch 9 Encryption\n"
     ]
    },
    {
     "name": "stderr",
     "output_type": "stream",
     "text": [
      "100%|█████████████████████████████████████████████████████████████████████████████| 4257/4257 [00:17<00:00, 247.20it/s]\n"
     ]
    },
    {
     "name": "stdout",
     "output_type": "stream",
     "text": [
      "Encryption of the test set took 17 seconds\n",
      "Evaluated test set of 4257 entries in 53 seconds\n",
      "Score: 3920/4257\n",
      "Batch 9 Encrypted Accuracy: 0.920836269673479\n",
      "Starting Batch 10 Encryption\n"
     ]
    },
    {
     "name": "stderr",
     "output_type": "stream",
     "text": [
      "100%|█████████████████████████████████████████████████████████████████████████████| 4257/4257 [00:17<00:00, 248.10it/s]\n"
     ]
    },
    {
     "name": "stdout",
     "output_type": "stream",
     "text": [
      "Encryption of the test set took 17 seconds\n",
      "Evaluated test set of 4257 entries in 52 seconds\n",
      "Score: 3902/4257\n",
      "Batch 10 Encrypted Accuracy: 0.9166079398637538\n",
      "Starting Batch 11 Encryption\n"
     ]
    },
    {
     "name": "stderr",
     "output_type": "stream",
     "text": [
      "100%|█████████████████████████████████████████████████████████████████████████████| 4257/4257 [00:17<00:00, 248.62it/s]\n"
     ]
    },
    {
     "name": "stdout",
     "output_type": "stream",
     "text": [
      "Encryption of the test set took 17 seconds\n",
      "Evaluated test set of 4257 entries in 52 seconds\n",
      "Score: 3937/4257\n",
      "Batch 11 Encrypted Accuracy: 0.9248296922715528\n",
      "Starting Batch 12 Encryption\n"
     ]
    },
    {
     "name": "stderr",
     "output_type": "stream",
     "text": [
      "100%|█████████████████████████████████████████████████████████████████████████████| 4257/4257 [00:17<00:00, 248.37it/s]\n"
     ]
    },
    {
     "name": "stdout",
     "output_type": "stream",
     "text": [
      "Encryption of the test set took 17 seconds\n",
      "Evaluated test set of 4257 entries in 53 seconds\n",
      "Score: 3959/4257\n",
      "Batch 12 Encrypted Accuracy: 0.9299976509278834\n",
      "Starting Batch 13 Encryption\n"
     ]
    },
    {
     "name": "stderr",
     "output_type": "stream",
     "text": [
      "100%|█████████████████████████████████████████████████████████████████████████████| 4257/4257 [00:17<00:00, 247.86it/s]\n"
     ]
    },
    {
     "name": "stdout",
     "output_type": "stream",
     "text": [
      "Encryption of the test set took 17 seconds\n",
      "Evaluated test set of 4257 entries in 53 seconds\n",
      "Score: 3923/4257\n",
      "Batch 13 Encrypted Accuracy: 0.9215409913084331\n",
      "Starting Batch 14 Encryption\n"
     ]
    },
    {
     "name": "stderr",
     "output_type": "stream",
     "text": [
      "100%|█████████████████████████████████████████████████████████████████████████████| 4257/4257 [00:17<00:00, 249.12it/s]\n"
     ]
    },
    {
     "name": "stdout",
     "output_type": "stream",
     "text": [
      "Encryption of the test set took 17 seconds\n",
      "Evaluated test set of 4257 entries in 53 seconds\n",
      "Score: 3938/4257\n",
      "Batch 14 Encrypted Accuracy: 0.9250645994832042\n",
      "Starting Batch 15 Encryption\n"
     ]
    },
    {
     "name": "stderr",
     "output_type": "stream",
     "text": [
      "100%|█████████████████████████████████████████████████████████████████████████████| 4257/4257 [00:17<00:00, 248.03it/s]\n"
     ]
    },
    {
     "name": "stdout",
     "output_type": "stream",
     "text": [
      "Encryption of the test set took 17 seconds\n",
      "Evaluated test set of 4257 entries in 52 seconds\n",
      "Score: 3925/4257\n",
      "Batch 15 Encrypted Accuracy: 0.922010805731736\n",
      "Starting Batch 16 Encryption\n"
     ]
    },
    {
     "name": "stderr",
     "output_type": "stream",
     "text": [
      "100%|█████████████████████████████████████████████████████████████████████████████| 4257/4257 [00:17<00:00, 247.92it/s]\n"
     ]
    },
    {
     "name": "stdout",
     "output_type": "stream",
     "text": [
      "Encryption of the test set took 17 seconds\n",
      "Evaluated test set of 4257 entries in 52 seconds\n",
      "Score: 3934/4257\n",
      "Batch 16 Encrypted Accuracy: 0.9241249706365986\n",
      "Starting Batch 17 Encryption\n"
     ]
    },
    {
     "name": "stderr",
     "output_type": "stream",
     "text": [
      "100%|█████████████████████████████████████████████████████████████████████████████| 4257/4257 [00:17<00:00, 249.26it/s]\n"
     ]
    },
    {
     "name": "stdout",
     "output_type": "stream",
     "text": [
      "Encryption of the test set took 17 seconds\n",
      "Evaluated test set of 4257 entries in 52 seconds\n",
      "Score: 3938/4257\n",
      "Batch 17 Encrypted Accuracy: 0.9250645994832042\n",
      "Starting Batch 18 Encryption\n"
     ]
    },
    {
     "name": "stderr",
     "output_type": "stream",
     "text": [
      "100%|█████████████████████████████████████████████████████████████████████████████| 4257/4257 [00:17<00:00, 248.51it/s]\n"
     ]
    },
    {
     "name": "stdout",
     "output_type": "stream",
     "text": [
      "Encryption of the test set took 17 seconds\n",
      "Evaluated test set of 4257 entries in 53 seconds\n",
      "Score: 3926/4257\n",
      "Batch 18 Encrypted Accuracy: 0.9222457129433873\n",
      "Starting Batch 19 Encryption\n"
     ]
    },
    {
     "name": "stderr",
     "output_type": "stream",
     "text": [
      "100%|█████████████████████████████████████████████████████████████████████████████| 4257/4257 [00:17<00:00, 246.88it/s]\n"
     ]
    },
    {
     "name": "stdout",
     "output_type": "stream",
     "text": [
      "Encryption of the test set took 17 seconds\n",
      "Evaluated test set of 4257 entries in 52 seconds\n",
      "Score: 3932/4257\n",
      "Batch 19 Encrypted Accuracy: 0.9236551562132957\n",
      "Starting Batch 20 Encryption\n"
     ]
    },
    {
     "name": "stderr",
     "output_type": "stream",
     "text": [
      "100%|█████████████████████████████████████████████████████████████████████████████| 4266/4266 [00:17<00:00, 247.41it/s]\n"
     ]
    },
    {
     "name": "stdout",
     "output_type": "stream",
     "text": [
      "Encryption of the test set took 17 seconds\n",
      "Evaluated test set of 4266 entries in 52 seconds\n",
      "Score: 3914/4266\n",
      "Batch 20 Encrypted Accuracy: 0.9174871073605251\n"
     ]
    }
   ],
   "source": [
    "y_pred_final = []\n",
    "one_part = y_test_20.shape[0] // 20\n",
    "for i in range(1, 21):\n",
    "    if i==1:\n",
    "        j = one_part\n",
    "        temp_x_test = x_test_20[:j,]\n",
    "        temp_y_test = y_test_20[:j,]\n",
    "    elif i==20:\n",
    "        j = one_part * (i-1)\n",
    "        temp_x_test = x_test_20[j:,]\n",
    "        temp_y_test = y_test_20[j:,]\n",
    "    else:\n",
    "        j = one_part * i\n",
    "        if i == 1:\n",
    "            k = one_part\n",
    "        else:\n",
    "            k = one_part * (i-1)\n",
    "        temp_x_test = x_test_20[k:j,]\n",
    "        temp_y_test = y_test_20[k:j,]\n",
    "    \n",
    "    t_start = time.time()\n",
    "    enc_x_test = []\n",
    "    print(f\"Starting Batch {i} Encryption\")\n",
    "    for x in tqdm(range(len(temp_x_test))):\n",
    "        enc_x_test.append(ts.ckks_vector(ctx_eval, temp_x_test[x].tolist()))\n",
    "    t_end = time.time()\n",
    "    print(f\"Encryption of the test set took {int(t_end - t_start)} seconds\")\n",
    "    encrypted_accuracy, output_list = encrypted_evaluation(eelr, enc_x_test, temp_y_test)\n",
    "    print(f\"Batch {i} Encrypted Accuracy: {encrypted_accuracy}\")\n",
    "    y_pred = torch.cat(output_list)\n",
    "    y_pred = y_pred.numpy()\n",
    "    y_pred_final.extend(y_pred)"
   ]
  },
  {
   "cell_type": "code",
   "execution_count": 11,
   "id": "58510755",
   "metadata": {},
   "outputs": [
    {
     "name": "stdout",
     "output_type": "stream",
     "text": [
      "Accuracy: 0.9221482342716885\n",
      "Recall: 0.9659731354499342\n",
      "Precision: 0.8881571844974631\n",
      "F1 - Score: 0.9254322320836006\n"
     ]
    }
   ],
   "source": [
    "for i in range(len(y_pred_final)):\n",
    "    if y_pred_final[i]<0.5:\n",
    "        y_pred_final[i] = 0\n",
    "    else:\n",
    "        y_pred_final[i] = 1\n",
    "y_test_temp = y_test_20.squeeze().numpy()\n",
    "enc_accuracy = accuracy_score(y_test_temp, y_pred_final)\n",
    "enc_recall = recall_score(y_test_temp, y_pred_final, average='binary')\n",
    "enc_f1 = f1_score(y_test_temp, y_pred_final, average='binary')\n",
    "enc_precision = precision_score(y_test_temp, y_pred_final, average='binary')\n",
    "print(f\"Accuracy: {enc_accuracy}\")\n",
    "print(f\"Recall: {enc_recall}\")\n",
    "print(f\"Precision: {enc_precision}\")\n",
    "print(f\"F1 - Score: {enc_f1}\")"
   ]
  }
 ],
 "metadata": {
  "kernelspec": {
   "display_name": "Python 3 (ipykernel)",
   "language": "python",
   "name": "python3"
  },
  "language_info": {
   "codemirror_mode": {
    "name": "ipython",
    "version": 3
   },
   "file_extension": ".py",
   "mimetype": "text/x-python",
   "name": "python",
   "nbconvert_exporter": "python",
   "pygments_lexer": "ipython3",
   "version": "3.9.16"
  }
 },
 "nbformat": 4,
 "nbformat_minor": 5
}
