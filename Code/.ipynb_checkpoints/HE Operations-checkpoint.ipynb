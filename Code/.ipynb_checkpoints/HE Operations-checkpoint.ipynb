{
 "cells": [
  {
   "cell_type": "code",
   "execution_count": 1,
   "id": "58f00750",
   "metadata": {},
   "outputs": [],
   "source": [
    "import tenseal as ts"
   ]
  },
  {
   "cell_type": "code",
   "execution_count": 2,
   "id": "e7489397",
   "metadata": {},
   "outputs": [],
   "source": [
    "def inverse(context, enc_vector, itr):\n",
    "    a = 2 - enc_vector\n",
    "    b = 1 - enc_vector\n",
    "    for i in range(itr):\n",
    "        b = b.square_()\n",
    "        a = a * (1 + b)\n",
    "    return a"
   ]
  },
  {
   "cell_type": "code",
   "execution_count": 3,
   "id": "4a6d474e",
   "metadata": {},
   "outputs": [],
   "source": [
    "def inverse(context, enc_vector, itr):\n",
    "    a = 2 - enc_vector\n",
    "    b = 1 - enc_vector\n",
    "    for i in range(itr):\n",
    "        b = b * b\n",
    "        a = a * (1 + b)\n",
    "    return a"
   ]
  },
  {
   "cell_type": "code",
   "execution_count": 4,
   "id": "50bdd81e",
   "metadata": {},
   "outputs": [],
   "source": [
    "def comparision(context, enc_a, enc_b, itr_1, itr_2, t, m):\n",
    "    ''' \n",
    "      d ---> itr_1\n",
    "      d' ---> itr_2\n",
    "      m^t = k\n",
    "    '''\n",
    "    temp = inverse(context, (enc_a + enc_a)*0.5, itr_2) # 2*itr_2\n",
    "    enc_a = enc_a*temp*0.5 # 3\n",
    "    enc_b = 1 - enc_a\n",
    "    for i in range(t):\n",
    "        enc_a_m = enc_a\n",
    "        enc_b_m = enc_b\n",
    "        for i in range(m):\n",
    "            enc_a_m = enc_a_m * enc_a\n",
    "            enc_b_m = enc_b_m * enc_b\n",
    "        inv = inverse(context, enc_a_m + enc_b_m, itr_1)\n",
    "        print(inv)\n",
    "        print(enc_a_m)\n",
    "        print()\n",
    "        enc_a = enc_a_m*inv\n",
    "        enc_b = 1 - enc_a\n",
    "    return enc_a"
   ]
  },
  {
   "cell_type": "code",
   "execution_count": 5,
   "id": "7482bcb8",
   "metadata": {},
   "outputs": [],
   "source": [
    "poly_mod_degree = 32768\n",
    "bits_scale = 26\n",
    "integer_scale = 31\n",
    "coeff_mod_bit_sizes = [integer_scale, bits_scale, bits_scale, bits_scale, bits_scale, bits_scale, bits_scale, bits_scale, bits_scale, bits_scale,  bits_scale,  bits_scale,  bits_scale, bits_scale, bits_scale, bits_scale, bits_scale, bits_scale, bits_scale, bits_scale, integer_scale]\n",
    "ctx_eval = ts.context(ts.SCHEME_TYPE.CKKS, poly_mod_degree, -1, coeff_mod_bit_sizes)\n",
    "ctx_eval.global_scale = 2 ** bits_scale\n",
    "ctx_eval.generate_galois_keys()"
   ]
  },
  {
   "cell_type": "code",
   "execution_count": null,
   "id": "7a5c8e3b",
   "metadata": {},
   "outputs": [],
   "source": []
  },
  {
   "cell_type": "code",
   "execution_count": 5,
   "id": "b675aeed",
   "metadata": {},
   "outputs": [],
   "source": [
    "def square_root(context, enc_vector, itr):\n",
    "    a = enc_vector\n",
    "    b = enc_vector - 1\n",
    "    for i in range(itr):\n",
    "        a = a*(1 - (b*0.5))\n",
    "        b = b.square_()*((b - 3)*0.25)\n",
    "    return a"
   ]
  },
  {
   "cell_type": "code",
   "execution_count": 6,
   "id": "f17c427f",
   "metadata": {},
   "outputs": [],
   "source": [
    "def min_max(context, enc_a, enc_b, itr, max = True):\n",
    "    x = (enc_a + enc_b)*0.5\n",
    "    y = (enc_a - enc_b)*0.5\n",
    "    z = square_root(context, y.square_(), itr)\n",
    "    if max == True:\n",
    "        return x + z # Returns approximate max value\n",
    "    else:\n",
    "        return x - z # Returns approximate min value"
   ]
  },
  {
   "cell_type": "code",
   "execution_count": 36,
   "id": "e513567b",
   "metadata": {},
   "outputs": [
    {
     "data": {
      "text/plain": [
       "16384.0"
      ]
     },
     "execution_count": 36,
     "metadata": {},
     "output_type": "execute_result"
    }
   ],
   "source": [
    "32768/2"
   ]
  },
  {
   "cell_type": "code",
   "execution_count": null,
   "id": "cff3a9c4",
   "metadata": {},
   "outputs": [],
   "source": [
    "poly_mod_degree = 32768\n",
    "bits_scale = 26\n",
    "integer_scale = 31\n",
    "coeff_mod_bit_sizes = [integer_scale, bits_scale, bits_scale, bits_scale, bits_scale, bits_scale, bits_scale, bits_scale, bits_scale, bits_scale,  bits_scale,  bits_scale,  bits_scale, bits_scale, bits_scale, bits_scale, bits_scale, bits_scale, bits_scale, bits_scale, integer_scale]\n",
    "ctx_eval = ts.context(ts.SCHEME_TYPE.CKKS, poly_mod_degree, -1, coeff_mod_bit_sizes)\n",
    "ctx_eval.global_scale = 2 ** bits_scale\n",
    "ctx_eval.generate_galois_keys()\n"
   ]
  },
  {
   "cell_type": "code",
   "execution_count": 39,
   "id": "f1225116",
   "metadata": {},
   "outputs": [],
   "source": [
    "number_b = [0.939999999999999]\n",
    "number_a = 0.561232423423443\n",
    "\n",
    "enc_num_a = number_a\n",
    "# enc_num_a = ts.ckks_vector(ctx_eval, number_a)\n",
    "enc_num_b = ts.ckks_vector(ctx_eval, number_b)"
   ]
  },
  {
   "cell_type": "code",
   "execution_count": 27,
   "id": "3a8a060f",
   "metadata": {},
   "outputs": [],
   "source": [
    "ctx_eval.make_context_public()"
   ]
  },
  {
   "cell_type": "code",
   "execution_count": 30,
   "id": "485b71ae",
   "metadata": {},
   "outputs": [],
   "source": [
    "number_b = [0.561232423423443]\n",
    "number_a = [0.939999999999999]\n",
    "\n",
    "enc_num_a = number_a\n",
    "# enc_num_a = ts.ckks_vector(ctx_eval, number_a)\n",
    "enc_num_b = ts.ckks_vector(ctx_eval, number_b)"
   ]
  },
  {
   "cell_type": "code",
   "execution_count": 16,
   "id": "dfd0f556",
   "metadata": {},
   "outputs": [
    {
     "data": {
      "text/plain": [
       "(<tenseal.tensors.ckksvector.CKKSVector at 0x1dea7d85700>, 0.939999999999999)"
      ]
     },
     "execution_count": 16,
     "metadata": {},
     "output_type": "execute_result"
    }
   ],
   "source": [
    "enc_num_b, enc_num_a"
   ]
  },
  {
   "cell_type": "code",
   "execution_count": 51,
   "id": "a186b676",
   "metadata": {},
   "outputs": [
    {
     "data": {
      "text/plain": [
       "<tenseal.tensors.ckksvector.CKKSVector at 0x1dea7b53c70>"
      ]
     },
     "execution_count": 51,
     "metadata": {},
     "output_type": "execute_result"
    }
   ],
   "source": [
    " 1+enc_num_b"
   ]
  },
  {
   "cell_type": "code",
   "execution_count": 27,
   "id": "b884c06f",
   "metadata": {},
   "outputs": [
    {
     "data": {
      "text/plain": [
       "<tenseal.tensors.ckksvector.CKKSVector at 0x2535f9cab80>"
      ]
     },
     "execution_count": 27,
     "metadata": {},
     "output_type": "execute_result"
    }
   ],
   "source": [
    "enc_num_b"
   ]
  },
  {
   "cell_type": "code",
   "execution_count": null,
   "id": "518681f1",
   "metadata": {},
   "outputs": [],
   "source": [
    "%%time\n",
    "# m^t = k\n",
    "enc_result = comparision(context = ctx_eval, enc_a = enc_num_a, enc_b = enc_num_b, itr_1 = 2, itr_2 = 2, t = 2, m = 2)\n",
    "enc_result.decrypt()"
   ]
  },
  {
   "cell_type": "code",
   "execution_count": 56,
   "id": "6e2ea098",
   "metadata": {},
   "outputs": [
    {
     "ename": "ValueError",
     "evalue": "scale out of bounds",
     "output_type": "error",
     "traceback": [
      "\u001b[1;31m---------------------------------------------------------------------------\u001b[0m",
      "\u001b[1;31mValueError\u001b[0m                                Traceback (most recent call last)",
      "File \u001b[1;32m<timed exec>:1\u001b[0m\n",
      "Cell \u001b[1;32mIn[12], line 16\u001b[0m, in \u001b[0;36mcomparision\u001b[1;34m(context, enc_a, enc_b, itr_1, itr_2, t, m)\u001b[0m\n\u001b[0;32m     14\u001b[0m     enc_a_m \u001b[38;5;241m=\u001b[39m enc_a_m \u001b[38;5;241m*\u001b[39m enc_a\n\u001b[0;32m     15\u001b[0m     enc_b_m \u001b[38;5;241m=\u001b[39m enc_b_m \u001b[38;5;241m*\u001b[39m enc_b\n\u001b[1;32m---> 16\u001b[0m inv \u001b[38;5;241m=\u001b[39m \u001b[43minverse\u001b[49m\u001b[43m(\u001b[49m\u001b[43mcontext\u001b[49m\u001b[43m,\u001b[49m\u001b[43m \u001b[49m\u001b[43menc_a_m\u001b[49m\u001b[43m \u001b[49m\u001b[38;5;241;43m+\u001b[39;49m\u001b[43m \u001b[49m\u001b[43menc_b_m\u001b[49m\u001b[43m,\u001b[49m\u001b[43m \u001b[49m\u001b[43mitr_1\u001b[49m\u001b[43m)\u001b[49m\n\u001b[0;32m     17\u001b[0m \u001b[38;5;28mprint\u001b[39m(inv)\n\u001b[0;32m     18\u001b[0m \u001b[38;5;28mprint\u001b[39m(enc_a_m)\n",
      "Cell \u001b[1;32mIn[4], line 5\u001b[0m, in \u001b[0;36minverse\u001b[1;34m(context, enc_vector, itr)\u001b[0m\n\u001b[0;32m      3\u001b[0m b \u001b[38;5;241m=\u001b[39m \u001b[38;5;241m1\u001b[39m \u001b[38;5;241m-\u001b[39m enc_vector\n\u001b[0;32m      4\u001b[0m \u001b[38;5;28;01mfor\u001b[39;00m i \u001b[38;5;129;01min\u001b[39;00m \u001b[38;5;28mrange\u001b[39m(itr):\n\u001b[1;32m----> 5\u001b[0m     b \u001b[38;5;241m=\u001b[39m \u001b[43mb\u001b[49m\u001b[43m \u001b[49m\u001b[38;5;241;43m*\u001b[39;49m\u001b[43m \u001b[49m\u001b[43mb\u001b[49m\n\u001b[0;32m      6\u001b[0m     a \u001b[38;5;241m=\u001b[39m a \u001b[38;5;241m*\u001b[39m (\u001b[38;5;241m1\u001b[39m \u001b[38;5;241m+\u001b[39m b)\n\u001b[0;32m      7\u001b[0m \u001b[38;5;28;01mreturn\u001b[39;00m a\n",
      "File \u001b[1;32m~\\anaconda3\\envs\\nlp\\lib\\site-packages\\tenseal\\tensors\\abstract_tensor.py:116\u001b[0m, in \u001b[0;36mAbstractTensor.__mul__\u001b[1;34m(self, other)\u001b[0m\n\u001b[0;32m    115\u001b[0m \u001b[38;5;28;01mdef\u001b[39;00m \u001b[38;5;21m__mul__\u001b[39m(\u001b[38;5;28mself\u001b[39m, other) \u001b[38;5;241m-\u001b[39m\u001b[38;5;241m>\u001b[39m \u001b[38;5;124m\"\u001b[39m\u001b[38;5;124mAbstractTensor\u001b[39m\u001b[38;5;124m\"\u001b[39m:\n\u001b[1;32m--> 116\u001b[0m     \u001b[38;5;28;01mreturn\u001b[39;00m \u001b[38;5;28;43mself\u001b[39;49m\u001b[38;5;241;43m.\u001b[39;49m\u001b[43mmul\u001b[49m\u001b[43m(\u001b[49m\u001b[43mother\u001b[49m\u001b[43m)\u001b[49m\n",
      "File \u001b[1;32m~\\anaconda3\\envs\\nlp\\lib\\site-packages\\tenseal\\tensors\\ckksvector.py:102\u001b[0m, in \u001b[0;36mCKKSVector.mul\u001b[1;34m(self, other)\u001b[0m\n\u001b[0;32m    100\u001b[0m \u001b[38;5;28;01mdef\u001b[39;00m \u001b[38;5;21mmul\u001b[39m(\u001b[38;5;28mself\u001b[39m, other) \u001b[38;5;241m-\u001b[39m\u001b[38;5;241m>\u001b[39m \u001b[38;5;124m\"\u001b[39m\u001b[38;5;124mCKKSVector\u001b[39m\u001b[38;5;124m\"\u001b[39m:\n\u001b[0;32m    101\u001b[0m     other \u001b[38;5;241m=\u001b[39m \u001b[38;5;28mself\u001b[39m\u001b[38;5;241m.\u001b[39m_get_operand(other, dtype\u001b[38;5;241m=\u001b[39m\u001b[38;5;124m\"\u001b[39m\u001b[38;5;124mfloat\u001b[39m\u001b[38;5;124m\"\u001b[39m)\n\u001b[1;32m--> 102\u001b[0m     result \u001b[38;5;241m=\u001b[39m \u001b[38;5;28;43mself\u001b[39;49m\u001b[38;5;241;43m.\u001b[39;49m\u001b[43mdata\u001b[49m\u001b[43m \u001b[49m\u001b[38;5;241;43m*\u001b[39;49m\u001b[43m \u001b[49m\u001b[43mother\u001b[49m\n\u001b[0;32m    103\u001b[0m     \u001b[38;5;28;01mreturn\u001b[39;00m \u001b[38;5;28mself\u001b[39m\u001b[38;5;241m.\u001b[39m_wrap(result)\n",
      "\u001b[1;31mValueError\u001b[0m: scale out of bounds"
     ]
    }
   ],
   "source": [
    "%%time\n",
    "\n",
    "aa = comparision(context = ctx_eval, enc_a = enc_num_b, enc_b = enc_num_a, itr_1 = 1, itr_2 = 1, t = 1, m = 1)\n",
    "aa"
   ]
  },
  {
   "cell_type": "code",
   "execution_count": 22,
   "id": "214df7a5",
   "metadata": {
    "scrolled": false
   },
   "outputs": [
    {
     "name": "stdout",
     "output_type": "stream",
     "text": [
      "13.971379417967995\n",
      "0.031249999999443726\n",
      "\n",
      "12.535639364882561\n",
      "0.01586523621651995\n",
      "\n",
      "3.027638595822017\n",
      "0.0003111466725392557\n",
      "\n",
      "1.004723539270248\n",
      "7.419010216881031e-16\n",
      "\n",
      "1.000000000000004\n",
      "2.3012443341777716e-76\n",
      "\n",
      "1.0\n",
      "0.0\n",
      "\n",
      "1.0\n",
      "0.0\n",
      "\n",
      "1.0\n",
      "0.0\n",
      "\n",
      "1.0\n",
      "0.0\n",
      "\n",
      "1.0\n",
      "0.0\n",
      "\n"
     ]
    },
    {
     "data": {
      "text/plain": [
       "0.0"
      ]
     },
     "execution_count": 22,
     "metadata": {},
     "output_type": "execute_result"
    }
   ],
   "source": [
    "aa = comparision(context = ctx_eval, enc_a = enc_num_a, enc_b = enc_num_b, itr_1 = 4, itr_2 = 4, t = 10, m = 4)\n",
    "aa"
   ]
  },
  {
   "cell_type": "code",
   "execution_count": 29,
   "id": "a6af74f9",
   "metadata": {},
   "outputs": [],
   "source": [
    "temp_a = ts.ckks_vector(ctx_eval, number_b)"
   ]
  },
  {
   "cell_type": "code",
   "execution_count": 30,
   "id": "0834e9d2",
   "metadata": {},
   "outputs": [
    {
     "data": {
      "text/plain": [
       "<tenseal.tensors.ckksvector.CKKSVector at 0x2535f9d1610>"
      ]
     },
     "execution_count": 30,
     "metadata": {},
     "output_type": "execute_result"
    }
   ],
   "source": [
    "temp_a + 12"
   ]
  },
  {
   "cell_type": "code",
   "execution_count": null,
   "id": "08277dd1",
   "metadata": {},
   "outputs": [],
   "source": []
  }
 ],
 "metadata": {
  "kernelspec": {
   "display_name": "Python 3.9 (nlp)",
   "language": "python",
   "name": "nlp"
  },
  "language_info": {
   "codemirror_mode": {
    "name": "ipython",
    "version": 3
   },
   "file_extension": ".py",
   "mimetype": "text/x-python",
   "name": "python",
   "nbconvert_exporter": "python",
   "pygments_lexer": "ipython3",
   "version": "3.9.16"
  }
 },
 "nbformat": 4,
 "nbformat_minor": 5
}
