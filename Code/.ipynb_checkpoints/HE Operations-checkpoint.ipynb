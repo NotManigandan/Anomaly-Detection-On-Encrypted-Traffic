{
 "cells": [
  {
   "cell_type": "code",
   "execution_count": 1,
   "id": "58f00750",
   "metadata": {},
   "outputs": [],
   "source": [
    "import tenseal as ts\n",
    "import numpy as np"
   ]
  },
  {
   "cell_type": "code",
   "execution_count": 2,
   "id": "e7489397",
   "metadata": {},
   "outputs": [],
   "source": [
    "def inverse(context, enc_vector, itr):\n",
    "    a = 2 - enc_vector\n",
    "    b = 1 - enc_vector\n",
    "    for i in range(itr): \n",
    "        b = b.square_()\n",
    "        a = a * (1 + b)\n",
    "    return a"
   ]
  },
  {
   "cell_type": "code",
   "execution_count": 8,
   "id": "50bdd81e",
   "metadata": {},
   "outputs": [],
   "source": [
    "def comparision(context, enc_a, enc_b, itr_1, itr_2, t, m):\n",
    "    ''' \n",
    "      d ---> itr_1\n",
    "      d' ---> itr_2\n",
    "      m^t = k - k is the scaling factor of sigmoid function\n",
    "    '''\n",
    "    temp = inverse(context, (enc_a + enc_a)*0.5, itr_2) # 2*itr_2\n",
    "    enc_a = enc_a*temp*0.5 # 3\n",
    "    enc_b = 1 - enc_a\n",
    "    for i in range(t):\n",
    "        enc_a_m  = enc_a.pow_(m)\n",
    "        enc_b_m = enc_b.pow_(m)\n",
    "        print(enc_a_m.decrypt())\n",
    "        print(enc_b_m.decrypt())\n",
    "        inv = inverse(context, enc_a_m + enc_b_m, itr_1)\n",
    "        enc_a = enc_a_m*inv\n",
    "        enc_b = 1 - enc_a\n",
    "    return enc_a"
   ]
  },
  {
   "cell_type": "code",
   "execution_count": 4,
   "id": "7fbd114f",
   "metadata": {},
   "outputs": [],
   "source": [
    "def scaling_bit(num):\n",
    "    return (1/2) + (num/(2**32))"
   ]
  },
  {
   "cell_type": "code",
   "execution_count": 27,
   "id": "c3baf451",
   "metadata": {},
   "outputs": [],
   "source": [
    "poly_mod_degree = 32768\n",
    "bits_scale = 32\n",
    "integer_scale = 40\n",
    "coeff_mod_bit_sizes = [integer_scale, \n",
    "                       bits_scale, \n",
    "                       bits_scale, \n",
    "                       bits_scale, \n",
    "                       bits_scale, \n",
    "                       bits_scale, \n",
    "                       bits_scale, \n",
    "                       bits_scale, \n",
    "                       bits_scale, \n",
    "                       bits_scale,  \n",
    "                       bits_scale,  \n",
    "                       bits_scale,  \n",
    "                       bits_scale, \n",
    "                       bits_scale, \n",
    "                       bits_scale, \n",
    "                       bits_scale, \n",
    "                       bits_scale, \n",
    "                       bits_scale, \n",
    "                       bits_scale, \n",
    "                       bits_scale, \n",
    "                       bits_scale, \n",
    "                       bits_scale,\n",
    "                       bits_scale,\n",
    "                       bits_scale,\n",
    "                       bits_scale,\n",
    "                       bits_scale,\n",
    "                       integer_scale]\n",
    "ctx_eval = ts.context(ts.SCHEME_TYPE.CKKS, poly_mod_degree, -1, coeff_mod_bit_sizes)\n",
    "ctx_eval.global_scale = 2 ** bits_scale\n",
    "# ctx_eval.generate_galois_keys()"
   ]
  },
  {
   "cell_type": "code",
   "execution_count": 28,
   "id": "d2243437",
   "metadata": {},
   "outputs": [],
   "source": [
    "a_32 = np.float32(1.2) # Converting it to 32 bit floating point value\n",
    "b_32 = np.float32(0.6)\n",
    "number_a = [a_32]\n",
    "number_b = [b_32]\n",
    "# a = scaling_bit(a_32) # Scaling it (according too the method metioned in the paper)\n",
    "# b = scaling_bit(b_32)\n",
    "# number_a = [a]\n",
    "# number_b = [b]\n",
    "\n",
    "enc_num_a = ts.ckks_vector(ctx_eval, number_a)\n",
    "# enc_num_a = a\n",
    "enc_num_b = ts.ckks_vector(ctx_eval, number_b)\n",
    "# enc_num_b = number_b"
   ]
  },
  {
   "cell_type": "code",
   "execution_count": 29,
   "id": "173eb406",
   "metadata": {
    "scrolled": true
   },
   "outputs": [
    {
     "name": "stdout",
     "output_type": "stream",
     "text": [
      "[0.2519200141159525]\n",
      "[0.2488029639539909]\n",
      "[0.25484760271870016]\n",
      "[0.24622875798422025]\n",
      "[0.2619050973490274]\n",
      "[0.23994060491111743]\n",
      "CPU times: total: 4min 2s\n",
      "Wall time: 4min 3s\n"
     ]
    }
   ],
   "source": [
    "%%time\n",
    "# m^t = k\n",
    "result = comparision(ctx_eval, enc_num_a, enc_num_b, 2,2,3,2)\n",
    "# result = comparision(ctx_eval, enc_num_a, enc_num_b, 5,5, 6, 4)"
   ]
  },
  {
   "cell_type": "code",
   "execution_count": 30,
   "id": "3143ec54",
   "metadata": {},
   "outputs": [
    {
     "data": {
      "text/plain": [
       "[0.5260814373365532]"
      ]
     },
     "execution_count": 30,
     "metadata": {},
     "output_type": "execute_result"
    }
   ],
   "source": [
    "result.decrypt()"
   ]
  },
  {
   "cell_type": "code",
   "execution_count": 37,
   "id": "16f62fbc",
   "metadata": {},
   "outputs": [],
   "source": [
    "a_32 = np.float16(0.6) # Converting it to 32 bit floating point value\n",
    "b_32 = np.float16(1.2)\n",
    "number_a = [a_32]\n",
    "number_b = [b_32]\n",
    "# a = scaling_bit(a_32) # Scaling it (according too the method metioned in the paper)\n",
    "# b = scaling_bit(b_32)\n",
    "# number_a = [a]\n",
    "# number_b = [b]\n",
    "\n",
    "enc_num_a = ts.ckks_vector(ctx_eval, number_a)\n",
    "# enc_num_a = a\n",
    "enc_num_b = ts.ckks_vector(ctx_eval, number_b)\n",
    "# enc_num_b = number_b"
   ]
  },
  {
   "cell_type": "code",
   "execution_count": 32,
   "id": "95564c8e",
   "metadata": {},
   "outputs": [
    {
     "name": "stdout",
     "output_type": "stream",
     "text": [
      "[0.2516389727263939]\n",
      "[0.24908701032329655]\n",
      "[0.2542739347891062]\n",
      "[0.24679138056989647]\n",
      "[0.2607326973664996]\n",
      "[0.24106296578316289]\n",
      "CPU times: total: 4min 1s\n",
      "Wall time: 4min 3s\n"
     ]
    }
   ],
   "source": [
    "%%time\n",
    "# m^t = k\n",
    "result = comparision(ctx_eval, enc_num_a, enc_num_b, 2,2,3,2)\n",
    "# result = comparision(ctx_eval, enc_num_a, enc_num_b, 5,5, 6, 4)"
   ]
  },
  {
   "cell_type": "code",
   "execution_count": 33,
   "id": "5b96d9a8",
   "metadata": {},
   "outputs": [
    {
     "data": {
      "text/plain": [
       "[0.5237727123735757]"
      ]
     },
     "execution_count": 33,
     "metadata": {},
     "output_type": "execute_result"
    }
   ],
   "source": [
    "result.decrypt()"
   ]
  }
 ],
 "metadata": {
  "kernelspec": {
   "display_name": "Python 3.9 (nlp)",
   "language": "python",
   "name": "nlp"
  },
  "language_info": {
   "codemirror_mode": {
    "name": "ipython",
    "version": 3
   },
   "file_extension": ".py",
   "mimetype": "text/x-python",
   "name": "python",
   "nbconvert_exporter": "python",
   "pygments_lexer": "ipython3",
   "version": "3.9.16"
  }
 },
 "nbformat": 4,
 "nbformat_minor": 5
}
