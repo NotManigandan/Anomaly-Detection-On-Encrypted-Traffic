{
 "cells": [
  {
   "cell_type": "code",
   "execution_count": 22,
   "id": "bd1d01ef",
   "metadata": {},
   "outputs": [],
   "source": [
    "import numpy as np\n",
    "import pandas as pd\n",
    "import time\n",
    "import random\n",
    "import matplotlib.pyplot as plt\n",
    "import seaborn as sns\n",
    "from sklearn import preprocessing\n",
    "from sklearn.model_selection import train_test_split\n",
    "from sklearn.metrics import accuracy_score, recall_score, f1_score, precision_score\n",
    "from sklearn.metrics import confusion_matrix,accuracy_score, classification_report, ConfusionMatrixDisplay\n",
    "from sklearn.metrics import RocCurveDisplay, roc_curve\n",
    "from sklearn.metrics import PrecisionRecallDisplay, precision_recall_curve\n",
    "from tqdm import tqdm\n",
    "import torch\n",
    "from torch import nn\n",
    "from torch.optim.lr_scheduler import ReduceLROnPlateau\n",
    "import torchmetrics\n",
    "import tenseal as ts"
   ]
  },
  {
   "cell_type": "code",
   "execution_count": 16,
   "id": "8607bf07",
   "metadata": {
    "scrolled": false
   },
   "outputs": [
    {
     "name": "stdout",
     "output_type": "stream",
     "text": [
      "x_train shape: torch.Size([681185, 1, 6, 5])\n",
      "y_train shape: torch.Size([681185, 1])\n",
      "x_val shape: torch.Size([161782, 1, 6, 5])\n",
      "y_val shape: torch.Size([161782, 1])\n",
      "x_test shape: torch.Size([8515, 1, 6, 5])\n",
      "y_test shape: torch.Size([8515, 1])\n"
     ]
    }
   ],
   "source": [
    "# Importing, balancing, scaling and splitting the dataset into train and test set\n",
    "df = pd.read_csv(r\"C:\\Users\\manig\\Downloads\\Mitacs\\top_features.csv\")\n",
    "\n",
    "grouped = df.groupby('Label')\n",
    "df = grouped.apply(lambda x: x.sample(grouped.size().min(), random_state=73).reset_index(drop=True))\n",
    "\n",
    "x = df.drop([\"Label\"], axis = 1)\n",
    "y = df[\"Label\"]\n",
    "# scaler = preprocessing.MinMaxScaler()\n",
    "scaler = preprocessing.StandardScaler()\n",
    "x = scaler.fit_transform(x)\n",
    "\n",
    "x = x.reshape(851482, 6, 5)\n",
    "\n",
    "x_train, x_temp, y_train, y_temp = train_test_split(x, y, test_size=0.20, random_state=42)\n",
    "x_val, x_test_20, y_val, y_test_20 = train_test_split(x_temp, y_temp, test_size=0.05, random_state=42)\n",
    "x_train=torch.from_numpy(x_train).float().unsqueeze(1)\n",
    "x_val=torch.from_numpy(x_val).float().unsqueeze(1)\n",
    "x_test_20=torch.from_numpy(x_test_20).float().unsqueeze(1)\n",
    "y_train=torch.from_numpy(np.array(y_train)).float().unsqueeze(1)\n",
    "y_val=torch.from_numpy(np.array(y_val)).float().unsqueeze(1)\n",
    "y_test_20=torch.from_numpy(np.array(y_test_20)).float().unsqueeze(1)\n",
    "print(f\"x_train shape: {x_train.shape}\")\n",
    "print(f\"y_train shape: {y_train.shape}\")\n",
    "print(f\"x_val shape: {x_val.shape}\")\n",
    "print(f\"y_val shape: {y_val.shape}\")\n",
    "print(f\"x_test shape: {x_test_20.shape}\")\n",
    "print(f\"y_test shape: {y_test_20.shape}\")"
   ]
  },
  {
   "cell_type": "code",
   "execution_count": 17,
   "id": "f5e87a1a",
   "metadata": {},
   "outputs": [
    {
     "data": {
      "text/plain": [
       "Counter({0.0: 4253, 1.0: 4262})"
      ]
     },
     "execution_count": 17,
     "metadata": {},
     "output_type": "execute_result"
    }
   ],
   "source": [
    "from collections import Counter\n",
    "Counter(y_test_20.squeeze().numpy())"
   ]
  },
  {
   "cell_type": "code",
   "execution_count": 4,
   "id": "92b14226",
   "metadata": {},
   "outputs": [],
   "source": [
    "# Since we are training by batch, the swapping time is more than the training time which creates a bottleneck due to which training with cuda will hinder the training time\n",
    "# device = \"cuda\" if torch.cuda.is_available() else \"cpu\"\n",
    "# device"
   ]
  },
  {
   "cell_type": "code",
   "execution_count": 5,
   "id": "25809855",
   "metadata": {},
   "outputs": [],
   "source": [
    "train_dataset = torch.utils.data.TensorDataset(x_train, y_train)\n",
    "train_loader = torch.utils.data.DataLoader(train_dataset, batch_size=64, shuffle=True)"
   ]
  },
  {
   "cell_type": "code",
   "execution_count": 6,
   "id": "9c676818",
   "metadata": {},
   "outputs": [],
   "source": [
    "val_dataset = torch.utils.data.TensorDataset(x_val, y_val)\n",
    "val_loader = torch.utils.data.DataLoader(val_dataset, batch_size=64)"
   ]
  },
  {
   "cell_type": "code",
   "execution_count": 7,
   "id": "44389fa9",
   "metadata": {},
   "outputs": [],
   "source": [
    "test_dataset = torch.utils.data.TensorDataset(x_test_20, y_test_20)\n",
    "test_loader = torch.utils.data.DataLoader(test_dataset, batch_size=64)"
   ]
  },
  {
   "cell_type": "code",
   "execution_count": 8,
   "id": "1ecb6bba",
   "metadata": {},
   "outputs": [],
   "source": [
    "# for inputs, labels in train_loader:\n",
    "#     inputs, labels = inputs.to(device), labels.to(device)\n",
    "# for inputs, labels in test_loader:\n",
    "#     inputs, labels = inputs.to(device), labels.to(device)"
   ]
  },
  {
   "cell_type": "code",
   "execution_count": 3,
   "id": "588994f5",
   "metadata": {},
   "outputs": [],
   "source": [
    "# Model Structure\n",
    "class CNN(torch.nn.Module):\n",
    "    def __init__(self):\n",
    "        super(CNN, self).__init__()   \n",
    "        # One convolution  layer becuase TenSEAL restricts this because of the use of im2col operation\n",
    "        self.conv_layer = torch.nn.Conv2d(in_channels=1, out_channels=3, kernel_size=3, padding=0, stride=1)\n",
    "        self.dense_layer_1 = torch.nn.Linear(in_features=36, out_features=8)\n",
    "        self.dense_layer_2 = torch.nn.Linear(in_features=8, out_features=1)\n",
    "\n",
    "    def forward(self, x):\n",
    "        x = self.conv_layer(x)\n",
    "        x = x * x\n",
    "        x = x.view(x.size(0), -1)\n",
    "        x = self.dense_layer_1(x)\n",
    "        x = x * x\n",
    "        x = self.dense_layer_2(x)\n",
    "        return x"
   ]
  },
  {
   "cell_type": "code",
   "execution_count": 14,
   "id": "ee2720cf",
   "metadata": {},
   "outputs": [],
   "source": [
    "# Function to calculate accuracy, recall, precision and f1 - score\n",
    "def metrics_fn(y_true, y_pred, others=False):\n",
    "    for i in range(len(y_pred)):\n",
    "        if y_pred[i]<0.5:\n",
    "            y_pred[i] = 0\n",
    "        else:\n",
    "            y_pred[i] = 1\n",
    "            \n",
    "    accuracy = torchmetrics.Accuracy(task=\"binary\", num_classes=2)\n",
    "    acc = accuracy(y_pred, y_true)\n",
    "    \n",
    "    if others==True:\n",
    "        rec = torchmetrics.Recall(task=\"binary\", num_classes=2)\n",
    "        prec = torchmetrics.Precision(task=\"binary\", num_classes=2)\n",
    "        recall = rec(y_pred, y_true)\n",
    "        precision = prec(y_pred, y_true)\n",
    "        f1_score = 2*((precision*recall)/(precision+recall))\n",
    "        del accuracy, rec, prec\n",
    "        return acc, recall, precision, f1_score\n",
    "    \n",
    "    return acc"
   ]
  },
  {
   "cell_type": "code",
   "execution_count": 10,
   "id": "ed6b5ec3",
   "metadata": {},
   "outputs": [],
   "source": [
    "def train(model, train_loader, val_loader, criterion, optimizer, n_epochs=10):\n",
    "    \n",
    "    train_loss_dict = {}\n",
    "    train_acc_dict = {}\n",
    "    val_loss_dict = {}\n",
    "    val_acc_dict = {}\n",
    "    \n",
    "    for epoch in range(1, n_epochs+1):\n",
    "        model.train()\n",
    "        train_loss = 0.0\n",
    "        train_acc = 0.0\n",
    "        for data, target in train_loader:\n",
    "            output = model(data)\n",
    "            loss = criterion(output, target)\n",
    "            optimizer.zero_grad()\n",
    "            loss.backward()\n",
    "            optimizer.step()\n",
    "            train_loss += loss.item()\n",
    "            train_acc += metrics_fn(target, torch.sigmoid(output))\n",
    "        train_loss = train_loss / len(train_loader)\n",
    "        train_acc = train_acc / len(train_loader)\n",
    "        train_loss_dict[epoch] = train_loss\n",
    "        train_acc_dict[epoch] = train_acc\n",
    "\n",
    "        model.eval()\n",
    "        with torch.no_grad():\n",
    "            val_loss = 0.0\n",
    "            val_acc = 0.0\n",
    "            for data, target in val_loader:\n",
    "                output = model(data)\n",
    "                loss = criterion(output, target)\n",
    "                val_loss += loss.item()\n",
    "                val_acc += metrics_fn(target, torch.sigmoid(output))\n",
    "            val_loss = val_loss / len(val_loader)\n",
    "            val_acc = val_acc / len(val_loader)\n",
    "            val_loss_dict[epoch] = val_loss\n",
    "            val_acc_dict[epoch] = val_acc\n",
    "\n",
    "        if epoch%1 == 0:\n",
    "            print(f\"Epoch {epoch} - Training loss: {train_loss}, Training accuracy: {train_acc}, Validation loss: {val_loss}, Validation accuracy: {val_acc}\\n\")            \n",
    "    \n",
    "    return model, train_loss_dict, train_acc_dict, val_loss_dict, val_acc_dict"
   ]
  },
  {
   "cell_type": "code",
   "execution_count": 12,
   "id": "8c90a946",
   "metadata": {},
   "outputs": [],
   "source": [
    "criterion = torch.nn.BCEWithLogitsLoss()\n",
    "optimizer = torch.optim.Adam(model.parameters(), lr=0.001) "
   ]
  },
  {
   "cell_type": "code",
   "execution_count": 33,
   "id": "c60a49eb",
   "metadata": {
    "scrolled": false
   },
   "outputs": [
    {
     "name": "stdout",
     "output_type": "stream",
     "text": [
      "Epoch 1 - Training loss: 0.4763588867367591, Training accuracy: 0.8495370745658875, Validation loss: 0.43614640739024985, Validation accuracy: 0.9245129227638245\n",
      "\n",
      "Epoch 2 - Training loss: 0.20949122535813094, Training accuracy: 0.9310824275016785, Validation loss: 0.6471228319129981, Validation accuracy: 0.9302651882171631\n",
      "\n",
      "Epoch 3 - Training loss: 0.31166135098372877, Training accuracy: 0.9356136918067932, Validation loss: 0.2562295974510044, Validation accuracy: 0.9322172999382019\n",
      "\n",
      "Epoch 4 - Training loss: 0.35518304235398157, Training accuracy: 0.9380785822868347, Validation loss: 0.3734334628136197, Validation accuracy: 0.937946081161499\n",
      "\n",
      "Epoch 5 - Training loss: 0.258332859454393, Training accuracy: 0.9415326118469238, Validation loss: 0.26027674843563475, Validation accuracy: 0.9439062476158142\n",
      "\n",
      "Epoch 6 - Training loss: 0.16347789343104202, Training accuracy: 0.9438784122467041, Validation loss: 0.17317073752195383, Validation accuracy: 0.9477484226226807\n",
      "\n",
      "Epoch 7 - Training loss: 0.14575680968576005, Training accuracy: 0.9453713297843933, Validation loss: 0.2414480229569592, Validation accuracy: 0.9417613744735718\n",
      "\n",
      "Epoch 8 - Training loss: 0.15224004665033367, Training accuracy: 0.9462992548942566, Validation loss: 0.3426575128053428, Validation accuracy: 0.9466449022293091\n",
      "\n",
      "Epoch 9 - Training loss: 0.15439362938733536, Training accuracy: 0.9480050206184387, Validation loss: 0.12549664944012884, Validation accuracy: 0.9463866353034973\n",
      "\n",
      "Epoch 10 - Training loss: 0.14427913760095107, Training accuracy: 0.9484921097755432, Validation loss: 0.5382805217734792, Validation accuracy: 0.9410737752914429\n",
      "\n",
      "Epoch 11 - Training loss: 0.14472093288237226, Training accuracy: 0.9489737153053284, Validation loss: 0.2252579537198608, Validation accuracy: 0.9474163055419922\n",
      "\n",
      "Epoch 12 - Training loss: 0.23521607435595038, Training accuracy: 0.949198305606842, Validation loss: 0.12960255244686628, Validation accuracy: 0.9488367438316345\n",
      "\n",
      "Epoch 13 - Training loss: 0.1346279978018033, Training accuracy: 0.9494040012359619, Validation loss: 0.16343700117763946, Validation accuracy: 0.9501750469207764\n",
      "\n",
      "Epoch 14 - Training loss: 0.13993634100156782, Training accuracy: 0.9489575624465942, Validation loss: 0.1366201820975739, Validation accuracy: 0.9453032612800598\n",
      "\n",
      "Epoch 15 - Training loss: 0.13274633274065406, Training accuracy: 0.949396550655365, Validation loss: 0.19492969917347563, Validation accuracy: 0.9528549909591675\n",
      "\n",
      "Epoch 16 - Training loss: 0.18083012180130933, Training accuracy: 0.9495388865470886, Validation loss: 0.23730914249937846, Validation accuracy: 0.9474515318870544\n",
      "\n",
      "Epoch 17 - Training loss: 0.14900918692770027, Training accuracy: 0.9503098130226135, Validation loss: 0.15030647319154486, Validation accuracy: 0.9517481327056885\n",
      "\n",
      "Epoch 18 - Training loss: 0.135616623749974, Training accuracy: 0.9506943225860596, Validation loss: 0.8385863133015532, Validation accuracy: 0.9533950090408325\n",
      "\n",
      "Epoch 19 - Training loss: 0.1848542972828154, Training accuracy: 0.9507014751434326, Validation loss: 0.2807641185156772, Validation accuracy: 0.9514228105545044\n",
      "\n",
      "Epoch 20 - Training loss: 0.1321866745186976, Training accuracy: 0.9510259032249451, Validation loss: 0.11678278731821759, Validation accuracy: 0.9506949782371521\n",
      "\n",
      "Epoch 21 - Training loss: 0.12838604569271325, Training accuracy: 0.9519126415252686, Validation loss: 0.1430112445624832, Validation accuracy: 0.9569368958473206\n",
      "\n",
      "Epoch 22 - Training loss: 0.13774122207396486, Training accuracy: 0.951130211353302, Validation loss: 0.2535313164771924, Validation accuracy: 0.949306309223175\n",
      "\n",
      "Epoch 23 - Training loss: 0.14077487069865277, Training accuracy: 0.9503081440925598, Validation loss: 0.4390400833178068, Validation accuracy: 0.9536498785018921\n",
      "\n",
      "Epoch 24 - Training loss: 0.12518895611171155, Training accuracy: 0.9516909718513489, Validation loss: 0.14557812221286712, Validation accuracy: 0.9483470916748047\n",
      "\n",
      "Epoch 25 - Training loss: 0.14775138900948465, Training accuracy: 0.9516264796257019, Validation loss: 0.1165474058527032, Validation accuracy: 0.9588302969932556\n",
      "\n",
      "Epoch 26 - Training loss: 0.1827145836318499, Training accuracy: 0.9517436623573303, Validation loss: 0.1174482342155243, Validation accuracy: 0.9530897736549377\n",
      "\n",
      "Epoch 27 - Training loss: 0.12444653755922902, Training accuracy: 0.9522884488105774, Validation loss: 0.13075220704800783, Validation accuracy: 0.953125\n",
      "\n",
      "Epoch 28 - Training loss: 0.12939469131682388, Training accuracy: 0.9516851305961609, Validation loss: 0.31613596179050263, Validation accuracy: 0.9540054202079773\n",
      "\n",
      "Epoch 29 - Training loss: 0.1476727440170678, Training accuracy: 0.9513840079307556, Validation loss: 0.1174614009895914, Validation accuracy: 0.9518923759460449\n",
      "\n",
      "Epoch 30 - Training loss: 0.20348520638368328, Training accuracy: 0.9520301818847656, Validation loss: 0.11236843008024633, Validation accuracy: 0.9512936472892761\n",
      "\n"
     ]
    },
    {
     "data": {
      "image/png": "[encoded data removed]",
      "text/plain": [
       "<Figure size 1200x600 with 2 Axes>"
      ]
     },
     "metadata": {},
     "output_type": "display_data"
    }
   ],
   "source": [
    "# Training and plotting loss and accuracy curve\n",
    "torch.manual_seed(42)\n",
    "model = CNN()\n",
    "\n",
    "criterion = torch.nn.BCEWithLogitsLoss()\n",
    "optimizer = torch.optim.Adam(model.parameters(), lr=0.001) \n",
    "\n",
    "model, train_loss_dict, train_acc_dict, val_loss_dict, val_acc_dict = train(model, train_loader, val_loader, criterion, optimizer, 30)\n",
    "\n",
    "fig, (ax1, ax2) = plt.subplots(1, 2, figsize=(12, 6))\n",
    "ax1.plot(*zip(*train_loss_dict.items()), label='Training loss')\n",
    "ax1.plot(*zip(*val_loss_dict.items()), label='Validation loss')\n",
    "ax1.set_xlabel(\"Epoch\")\n",
    "ax1.set_ylabel(\"Loss\")\n",
    "ax1.legend()\n",
    "ax2.plot(*zip(*train_acc_dict.items()), label='Training accuracy')\n",
    "ax2.plot(*zip(*val_acc_dict.items()), label='Validation accuracy')\n",
    "ax2.set_xlabel(\"Epoch\")\n",
    "ax2.set_ylabel(\"Accuracy\")\n",
    "ax2.legend()\n",
    "plt.show()"
   ]
  },
  {
   "cell_type": "code",
   "execution_count": 20,
   "id": "fb492132",
   "metadata": {},
   "outputs": [],
   "source": [
    "# Testing on plain data\n",
    "def test(model, test_loader, criterion):\n",
    "    test_loss = 0.0\n",
    "    acc = 0.0\n",
    "    op = []\n",
    "    model.eval()\n",
    "    for data, target in test_loader:\n",
    "        output = torch.sigmoid(model(data))\n",
    "        loss = criterion(output, target)\n",
    "        test_loss += loss.item()\n",
    "        for i in range(len(output)):\n",
    "            if output[i]<0.5:\n",
    "                output[i] = 0\n",
    "            else:\n",
    "                output[i] = 1\n",
    "        opt = output.detach()\n",
    "        op.extend(opt)\n",
    "        acc += metrics_fn(y_true=target, y_pred=output)\n",
    "    loss /= len(test_loader)\n",
    "    acc /= len(test_loader)\n",
    "    op = torch.stack(op)\n",
    "    _, recall, precision, f1 = metrics_fn(y_test_20, op, True)\n",
    "    \n",
    "    return {\"model_loss\": loss.item(),\n",
    "            \"model_acc\": acc,\n",
    "            \"recall\": recall,\n",
    "            \"precision\": precision,\n",
    "            \"f1-score\": f1}, op"
   ]
  },
  {
   "cell_type": "code",
   "execution_count": 34,
   "id": "a85b7edc",
   "metadata": {},
   "outputs": [
    {
     "data": {
      "text/plain": [
       "{'model_loss': 0.00044393562711775303,\n",
       " 'model_acc': tensor(0.9495),\n",
       " 'recall': tensor(0.9547),\n",
       " 'precision': tensor(0.9449),\n",
       " 'f1-score': tensor(0.9498)}"
      ]
     },
     "execution_count": 34,
     "metadata": {},
     "output_type": "execute_result"
    }
   ],
   "source": [
    "dict_res, op = test(model, test_loader, criterion)\n",
    "dict_res"
   ]
  },
  {
   "cell_type": "code",
   "execution_count": 4,
   "id": "16b2b0ab",
   "metadata": {},
   "outputs": [],
   "source": [
    "from pathlib import Path\n",
    "MODEL_PATH = Path(\"models\")\n",
    "MODEL_PATH.mkdir(parents=True, exist_ok=True)\n",
    "MODEL_NAME = \"cnn_3_layers.pth\"\n",
    "MODEL_SAVE_PATH = MODEL_PATH / MODEL_NAME"
   ]
  },
  {
   "cell_type": "code",
   "execution_count": 37,
   "id": "9b3a61c0",
   "metadata": {},
   "outputs": [
    {
     "name": "stdout",
     "output_type": "stream",
     "text": [
      "Saving model to: models\\cnn_3_layers.pth\n"
     ]
    }
   ],
   "source": [
    "# print(f\"Saving model to: {MODEL_SAVE_PATH}\")\n",
    "# torch.save(obj=model.state_dict(), f=MODEL_SAVE_PATH) "
   ]
  },
  {
   "cell_type": "code",
   "execution_count": 5,
   "id": "d296b263",
   "metadata": {},
   "outputs": [
    {
     "data": {
      "text/plain": [
       "<All keys matched successfully>"
      ]
     },
     "execution_count": 5,
     "metadata": {},
     "output_type": "execute_result"
    }
   ],
   "source": [
    "model = CNN()\n",
    "model.load_state_dict(torch.load(f=MODEL_SAVE_PATH))"
   ]
  },
  {
   "cell_type": "code",
   "execution_count": 6,
   "id": "8c4f4b66",
   "metadata": {},
   "outputs": [],
   "source": [
    "# Extracting weight and bias\n",
    "class EncCNN:\n",
    "    def __init__(self, torch_nn):\n",
    "        self.conv_layer_weight = torch_nn.conv_layer.weight.data.view(torch_nn.conv_layer.out_channels, torch_nn.conv_layer.kernel_size[0],torch_nn.conv_layer.kernel_size[1]).tolist()\n",
    "        self.conv_layer_bias = torch_nn.conv_layer.bias.data.tolist()\n",
    "        \n",
    "        self.dense_layer_1_weight = torch_nn.dense_layer_1.weight.T.data.tolist()\n",
    "        self.dense_layer_1_bias = torch_nn.dense_layer_1.bias.data.tolist()\n",
    "        \n",
    "        self.dense_layer_2_weight = torch_nn.dense_layer_2.weight.T.data.tolist()\n",
    "        self.dense_layer_2_bias = torch_nn.dense_layer_2.bias.data.tolist()\n",
    "        \n",
    "        \n",
    "    def forward(self, enc_x, windows_nb):\n",
    "        enc_kernel_bias = []\n",
    "        \n",
    "        for kernel, bias in zip(self.conv_layer_weight, self.conv_layer_bias):\n",
    "            y = enc_x.conv2d_im2col(kernel, windows_nb) + bias\n",
    "            enc_kernel_bias.append(y)\n",
    "        enc_op = ts.CKKSVector.pack_vectors(enc_kernel_bias)\n",
    "        enc_op.square_()\n",
    "        \n",
    "        enc_op = enc_op.mm(self.dense_layer_1_weight) + self.dense_layer_1_bias\n",
    "        enc_op.square_()\n",
    "        \n",
    "        enc_op = enc_op.mm(self.dense_layer_2_weight) + self.dense_layer_2_bias\n",
    "        \n",
    "        return enc_op\n",
    "    \n",
    "    def __call__(self, *args, **kwargs):\n",
    "        return self.forward(*args, **kwargs)"
   ]
  },
  {
   "cell_type": "code",
   "execution_count": 9,
   "id": "c34c587f",
   "metadata": {},
   "outputs": [],
   "source": [
    "def enc_test(context, model, test_loader, criterion, kernel_shape, stride, tqdm_batch):\n",
    "    tar = []\n",
    "    op = []\n",
    "    acc = 0.0\n",
    "    test_loss = 0.0\n",
    "    for data, target in tqdm(test_loader):\n",
    "        x_enc, windows_nb = ts.im2col_encoding(context, data.view(6, 5).tolist(), kernel_shape[0],kernel_shape[1], stride)\n",
    "        enc_output = enc_model(x_enc, windows_nb)\n",
    "        output = enc_output.decrypt()\n",
    "        output = torch.tensor(output).view(1, -1)\n",
    "        loss = criterion(output, target)\n",
    "        test_loss += loss.item()\n",
    "        output = torch.sigmoid(output)\n",
    "        for i in range(len(output)):\n",
    "            if output[i]<0.5:\n",
    "                output[i] = 0\n",
    "            else:\n",
    "                output[i] = 1\n",
    "        tar.extend(target)\n",
    "        opt = output.detach()\n",
    "        op.extend(opt)\n",
    "        acc += metrics_fn(y_true=target, y_pred=output)\n",
    "    test_loss = test_loss / len(test_loader)\n",
    "    print(f'Test Loss: {test_loss}')\n",
    "    acc /= len(test_loader)\n",
    "    print(f\"Batch {tqdm_batch} Encrypted Accuracy: {acc}\")\n",
    "#     print(f'Accuracy: {acc}')\n",
    "    return tar, op"
   ]
  },
  {
   "cell_type": "code",
   "execution_count": 8,
   "id": "1f4490f9",
   "metadata": {},
   "outputs": [
    {
     "name": "stdout",
     "output_type": "stream",
     "text": [
      "Kernel Shape: (3, 3)\n",
      "Stride: 1\n"
     ]
    }
   ],
   "source": [
    "kernel_shape = model.conv_layer.kernel_size\n",
    "stride = model.conv_layer.stride[0]\n",
    "print(f\"Kernel Shape: {kernel_shape}\\nStride: {stride}\")"
   ]
  },
  {
   "cell_type": "code",
   "execution_count": 13,
   "id": "06091363",
   "metadata": {},
   "outputs": [],
   "source": [
    "# poly_mod_degree = 8192\n",
    "# bits_scale = 26\n",
    "# integer_scale = 40\n",
    "\n",
    "# poly_mod_degree = 16384\n",
    "# bits_scale = 31\n",
    "# integer_scale = 40"
   ]
  },
  {
   "cell_type": "code",
   "execution_count": 10,
   "id": "54e705c2",
   "metadata": {},
   "outputs": [],
   "source": [
    "poly_mod_degree = 16384\n",
    "bits_scale = 31\n",
    "integer_scale = 40\n",
    "coeff_mod_bit_sizes = [integer_scale, bits_scale, bits_scale, bits_scale, bits_scale, bits_scale, bits_scale, integer_scale]\n",
    "ctx_eval = ts.context(ts.SCHEME_TYPE.CKKS, poly_mod_degree, -1, coeff_mod_bit_sizes)\n",
    "ctx_eval.global_scale = 2 ** bits_scale\n",
    "ctx_eval.generate_galois_keys()"
   ]
  },
  {
   "cell_type": "code",
   "execution_count": 18,
   "id": "4782379d",
   "metadata": {
    "scrolled": false
   },
   "outputs": [
    {
     "name": "stdout",
     "output_type": "stream",
     "text": [
      "\n",
      "Starting Batch 1 Encryption & Evaluation\n"
     ]
    },
    {
     "name": "stderr",
     "output_type": "stream",
     "text": [
      "100%|████████████████████████████████████████████████████████████████████████████████| 425/425 [04:33<00:00,  1.56it/s]\n"
     ]
    },
    {
     "name": "stdout",
     "output_type": "stream",
     "text": [
      "Test Loss: 0.10426690946175937\n",
      "Batch 1 Encrypted Accuracy: 0.955294132232666\n",
      "Encryption & Evaluation of the test set took 273 seconds\n",
      "\n",
      "Starting Batch 2 Encryption & Evaluation\n"
     ]
    },
    {
     "name": "stderr",
     "output_type": "stream",
     "text": [
      "100%|████████████████████████████████████████████████████████████████████████████████| 425/425 [04:34<00:00,  1.55it/s]\n"
     ]
    },
    {
     "name": "stdout",
     "output_type": "stream",
     "text": [
      "Test Loss: 0.11547653369460753\n",
      "Batch 2 Encrypted Accuracy: 0.9435294270515442\n",
      "Encryption & Evaluation of the test set took 274 seconds\n",
      "\n",
      "Starting Batch 3 Encryption & Evaluation\n"
     ]
    },
    {
     "name": "stderr",
     "output_type": "stream",
     "text": [
      "100%|████████████████████████████████████████████████████████████████████████████████| 425/425 [04:35<00:00,  1.54it/s]\n"
     ]
    },
    {
     "name": "stdout",
     "output_type": "stream",
     "text": [
      "Test Loss: 1.086863967079167\n",
      "Batch 3 Encrypted Accuracy: 0.9341176748275757\n",
      "Encryption & Evaluation of the test set took 275 seconds\n",
      "\n",
      "Starting Batch 4 Encryption & Evaluation\n"
     ]
    },
    {
     "name": "stderr",
     "output_type": "stream",
     "text": [
      "100%|████████████████████████████████████████████████████████████████████████████████| 425/425 [04:34<00:00,  1.55it/s]\n"
     ]
    },
    {
     "name": "stdout",
     "output_type": "stream",
     "text": [
      "Test Loss: 0.10559103716787886\n",
      "Batch 4 Encrypted Accuracy: 0.9576470851898193\n",
      "Encryption & Evaluation of the test set took 274 seconds\n",
      "\n",
      "Starting Batch 5 Encryption & Evaluation\n"
     ]
    },
    {
     "name": "stderr",
     "output_type": "stream",
     "text": [
      "100%|████████████████████████████████████████████████████████████████████████████████| 425/425 [04:35<00:00,  1.54it/s]\n"
     ]
    },
    {
     "name": "stdout",
     "output_type": "stream",
     "text": [
      "Test Loss: 0.09085774338294897\n",
      "Batch 5 Encrypted Accuracy: 0.9599999785423279\n",
      "Encryption & Evaluation of the test set took 275 seconds\n",
      "\n",
      "Starting Batch 6 Encryption & Evaluation\n"
     ]
    },
    {
     "name": "stderr",
     "output_type": "stream",
     "text": [
      "100%|████████████████████████████████████████████████████████████████████████████████| 425/425 [04:33<00:00,  1.55it/s]\n"
     ]
    },
    {
     "name": "stdout",
     "output_type": "stream",
     "text": [
      "Test Loss: 2.7282116175038884\n",
      "Batch 6 Encrypted Accuracy: 0.9411764740943909\n",
      "Encryption & Evaluation of the test set took 273 seconds\n",
      "\n",
      "Starting Batch 7 Encryption & Evaluation\n"
     ]
    },
    {
     "name": "stderr",
     "output_type": "stream",
     "text": [
      "100%|████████████████████████████████████████████████████████████████████████████████| 425/425 [04:34<00:00,  1.55it/s]\n"
     ]
    },
    {
     "name": "stdout",
     "output_type": "stream",
     "text": [
      "Test Loss: 1.0646750968408005\n",
      "Batch 7 Encrypted Accuracy: 0.9435294270515442\n",
      "Encryption & Evaluation of the test set took 274 seconds\n",
      "\n",
      "Starting Batch 8 Encryption & Evaluation\n"
     ]
    },
    {
     "name": "stderr",
     "output_type": "stream",
     "text": [
      "100%|████████████████████████████████████████████████████████████████████████████████| 425/425 [04:33<00:00,  1.56it/s]\n"
     ]
    },
    {
     "name": "stdout",
     "output_type": "stream",
     "text": [
      "Test Loss: 0.13376970942217367\n",
      "Batch 8 Encrypted Accuracy: 0.9435294270515442\n",
      "Encryption & Evaluation of the test set took 273 seconds\n",
      "\n",
      "Starting Batch 9 Encryption & Evaluation\n"
     ]
    },
    {
     "name": "stderr",
     "output_type": "stream",
     "text": [
      "100%|████████████████████████████████████████████████████████████████████████████████| 425/425 [04:32<00:00,  1.56it/s]\n"
     ]
    },
    {
     "name": "stdout",
     "output_type": "stream",
     "text": [
      "Test Loss: 0.11351538027593469\n",
      "Batch 9 Encrypted Accuracy: 0.9458823800086975\n",
      "Encryption & Evaluation of the test set took 272 seconds\n",
      "\n",
      "Starting Batch 10 Encryption & Evaluation\n"
     ]
    },
    {
     "name": "stderr",
     "output_type": "stream",
     "text": [
      "100%|████████████████████████████████████████████████████████████████████████████████| 425/425 [04:33<00:00,  1.55it/s]\n"
     ]
    },
    {
     "name": "stdout",
     "output_type": "stream",
     "text": [
      "Test Loss: 0.14083076185359455\n",
      "Batch 10 Encrypted Accuracy: 0.9576470851898193\n",
      "Encryption & Evaluation of the test set took 273 seconds\n",
      "\n",
      "Starting Batch 11 Encryption & Evaluation\n"
     ]
    },
    {
     "name": "stderr",
     "output_type": "stream",
     "text": [
      "100%|████████████████████████████████████████████████████████████████████████████████| 425/425 [04:33<00:00,  1.56it/s]\n"
     ]
    },
    {
     "name": "stdout",
     "output_type": "stream",
     "text": [
      "Test Loss: 0.10068006955503372\n",
      "Batch 11 Encrypted Accuracy: 0.9458823800086975\n",
      "Encryption & Evaluation of the test set took 273 seconds\n",
      "\n",
      "Starting Batch 12 Encryption & Evaluation\n"
     ]
    },
    {
     "name": "stderr",
     "output_type": "stream",
     "text": [
      "100%|████████████████████████████████████████████████████████████████████████████████| 425/425 [04:32<00:00,  1.56it/s]\n"
     ]
    },
    {
     "name": "stdout",
     "output_type": "stream",
     "text": [
      "Test Loss: 13.915322008496394\n",
      "Batch 12 Encrypted Accuracy: 0.9576470851898193\n",
      "Encryption & Evaluation of the test set took 272 seconds\n",
      "\n",
      "Starting Batch 13 Encryption & Evaluation\n"
     ]
    },
    {
     "name": "stderr",
     "output_type": "stream",
     "text": [
      "100%|████████████████████████████████████████████████████████████████████████████████| 425/425 [04:32<00:00,  1.56it/s]\n"
     ]
    },
    {
     "name": "stdout",
     "output_type": "stream",
     "text": [
      "Test Loss: 0.09923651188643867\n",
      "Batch 13 Encrypted Accuracy: 0.955294132232666\n",
      "Encryption & Evaluation of the test set took 272 seconds\n",
      "\n",
      "Starting Batch 14 Encryption & Evaluation\n"
     ]
    },
    {
     "name": "stderr",
     "output_type": "stream",
     "text": [
      "100%|████████████████████████████████████████████████████████████████████████████████| 425/425 [04:39<00:00,  1.52it/s]\n"
     ]
    },
    {
     "name": "stdout",
     "output_type": "stream",
     "text": [
      "Test Loss: 0.11210817720010656\n",
      "Batch 14 Encrypted Accuracy: 0.9435294270515442\n",
      "Encryption & Evaluation of the test set took 279 seconds\n",
      "\n",
      "Starting Batch 15 Encryption & Evaluation\n"
     ]
    },
    {
     "name": "stderr",
     "output_type": "stream",
     "text": [
      "100%|████████████████████████████████████████████████████████████████████████████████| 425/425 [04:40<00:00,  1.51it/s]\n"
     ]
    },
    {
     "name": "stdout",
     "output_type": "stream",
     "text": [
      "Test Loss: 1.052958364328553\n",
      "Batch 15 Encrypted Accuracy: 0.9458823800086975\n",
      "Encryption & Evaluation of the test set took 280 seconds\n",
      "\n",
      "Starting Batch 16 Encryption & Evaluation\n"
     ]
    },
    {
     "name": "stderr",
     "output_type": "stream",
     "text": [
      "100%|████████████████████████████████████████████████████████████████████████████████| 425/425 [04:34<00:00,  1.55it/s]\n"
     ]
    },
    {
     "name": "stdout",
     "output_type": "stream",
     "text": [
      "Test Loss: 1.0384471739975087\n",
      "Batch 16 Encrypted Accuracy: 0.9599999785423279\n",
      "Encryption & Evaluation of the test set took 274 seconds\n",
      "\n",
      "Starting Batch 17 Encryption & Evaluation\n"
     ]
    },
    {
     "name": "stderr",
     "output_type": "stream",
     "text": [
      "100%|████████████████████████████████████████████████████████████████████████████████| 425/425 [04:33<00:00,  1.56it/s]\n"
     ]
    },
    {
     "name": "stdout",
     "output_type": "stream",
     "text": [
      "Test Loss: 0.11141530430063727\n",
      "Batch 17 Encrypted Accuracy: 0.955294132232666\n",
      "Encryption & Evaluation of the test set took 273 seconds\n",
      "\n",
      "Starting Batch 18 Encryption & Evaluation\n"
     ]
    },
    {
     "name": "stderr",
     "output_type": "stream",
     "text": [
      "100%|████████████████████████████████████████████████████████████████████████████████| 425/425 [04:32<00:00,  1.56it/s]\n"
     ]
    },
    {
     "name": "stdout",
     "output_type": "stream",
     "text": [
      "Test Loss: 0.17529819628103643\n",
      "Batch 18 Encrypted Accuracy: 0.9341176748275757\n",
      "Encryption & Evaluation of the test set took 272 seconds\n",
      "\n",
      "Starting Batch 19 Encryption & Evaluation\n"
     ]
    },
    {
     "name": "stderr",
     "output_type": "stream",
     "text": [
      "100%|████████████████████████████████████████████████████████████████████████████████| 425/425 [04:35<00:00,  1.54it/s]\n"
     ]
    },
    {
     "name": "stdout",
     "output_type": "stream",
     "text": [
      "Test Loss: 0.2738014512100834\n",
      "Batch 19 Encrypted Accuracy: 0.9647058844566345\n",
      "Encryption & Evaluation of the test set took 275 seconds\n",
      "\n",
      "Starting Batch 20 Encryption & Evaluation\n"
     ]
    },
    {
     "name": "stderr",
     "output_type": "stream",
     "text": [
      "100%|████████████████████████████████████████████████████████████████████████████████| 440/440 [04:43<00:00,  1.55it/s]"
     ]
    },
    {
     "name": "stdout",
     "output_type": "stream",
     "text": [
      "Test Loss: 1.7282539058044761\n",
      "Batch 20 Encrypted Accuracy: 0.9431818127632141\n",
      "Encryption & Evaluation of the test set took 283 seconds\n"
     ]
    },
    {
     "name": "stderr",
     "output_type": "stream",
     "text": [
      "\n"
     ]
    }
   ],
   "source": [
    "enc_model = EncCNN(model)\n",
    "y_target_final = []\n",
    "y_pred_final = []\n",
    "one_part = y_test_20.shape[0] // 20\n",
    "for i in range(1, 21):\n",
    "    if i==1:\n",
    "        j = one_part\n",
    "        temp_x_test = x_test_20[:j,]\n",
    "        temp_y_test = y_test_20[:j,]\n",
    "    elif i==20:\n",
    "        j = one_part * (i-1)\n",
    "        temp_x_test = x_test_20[j:,]\n",
    "        temp_y_test = y_test_20[j:,]\n",
    "    else:\n",
    "        j = one_part * i\n",
    "        if i == 1:\n",
    "            k = one_part\n",
    "        else:\n",
    "            k = one_part * (i-1)\n",
    "        temp_x_test = x_test_20[k:j,]\n",
    "        temp_y_test = y_test_20[k:j,]\n",
    "    \n",
    "    test_dataset = torch.utils.data.TensorDataset(temp_x_test, temp_y_test)\n",
    "    test_loader = torch.utils.data.DataLoader(test_dataset, batch_size=1)\n",
    "    \n",
    "    t_start = time.time()\n",
    "    enc_x_test = []\n",
    "    print()\n",
    "    print(f\"Starting Batch {i} Encryption & Evaluation\")\n",
    "    target, output = enc_test(ctx_eval, enc_model, test_loader, criterion, kernel_shape, stride, tqdm_batch=i)\n",
    "    t_end = time.time()\n",
    "    print(f\"Encryption & Evaluation of the test set took {int(t_end - t_start)} seconds\")\n",
    "    y_pred_final.extend(output)\n",
    "    y_target_final.extend(target)"
   ]
  },
  {
   "cell_type": "code",
   "execution_count": 19,
   "id": "5ca706f6",
   "metadata": {},
   "outputs": [
    {
     "name": "stdout",
     "output_type": "stream",
     "text": [
      "Accuracy: 0.9493834376335144\n",
      "Recall: 0.9570624232292175\n",
      "Precision: 0.9426854848861694\n",
      "F1-Score: 0.9498195648193359\n"
     ]
    }
   ],
   "source": [
    "result = metrics_fn(torch.tensor(y_target_final).float().unsqueeze(1), torch.tensor(y_pred_final).float().unsqueeze(1), True)\n",
    "print(f\"Accuracy: {result[0]}\\nRecall: {result[1]}\\nPrecision: {result[2]}\\nF1-Score: {result[3]}\")"
   ]
  },
  {
   "cell_type": "code",
   "execution_count": 20,
   "id": "04558262",
   "metadata": {},
   "outputs": [
    {
     "data": {
      "image/png": "[encoded data removed]",
      "text/plain": [
       "<Figure size 640x480 with 2 Axes>"
      ]
     },
     "metadata": {},
     "output_type": "display_data"
    }
   ],
   "source": [
    "confmat = torchmetrics.ConfusionMatrix(task=\"binary\", num_classes=2)\n",
    "cnf_matrix_val = confmat(torch.tensor(y_target_final).float().unsqueeze(1), torch.tensor(y_pred_final).float().unsqueeze(1))\n",
    "cnf_matrix = sns.heatmap(cnf_matrix_val.numpy(), annot=True, cmap='Blues')\n",
    "for _, spine in cnf_matrix.spines.items():\n",
    "    spine.set_visible(True)\n",
    "    spine.set_linewidth(1)\n",
    "plt.show()"
   ]
  },
  {
   "cell_type": "code",
   "execution_count": 23,
   "id": "28ad63c4",
   "metadata": {
    "scrolled": false
   },
   "outputs": [
    {
     "data": {
      "image/png": "[encoded data removed]",
      "text/plain": [
       "<Figure size 1500x500 with 2 Axes>"
      ]
     },
     "metadata": {},
     "output_type": "display_data"
    }
   ],
   "source": [
    "fpr, tpr, _ = roc_curve(torch.tensor(y_target_final).float().unsqueeze(1).numpy(), torch.tensor(y_pred_final).float().unsqueeze(1).numpy())\n",
    "roc_display = RocCurveDisplay(fpr=fpr, tpr=tpr)\n",
    "prec, recall, _ = precision_recall_curve(torch.tensor(y_target_final).float().unsqueeze(1).numpy(), torch.tensor(y_pred_final).float().unsqueeze(1).numpy())\n",
    "pr_display = PrecisionRecallDisplay(precision=prec, recall=recall)\n",
    "fig, (ax1, ax2) = plt.subplots(1, 2, figsize=(15, 5))\n",
    "roc_display.plot(ax=ax1)\n",
    "pr_display.plot(ax=ax2)\n",
    "plt.show()"
   ]
  }
 ],
 "metadata": {
  "kernelspec": {
   "display_name": "Python 3.9 (nlp)",
   "language": "python",
   "name": "nlp"
  },
  "language_info": {
   "codemirror_mode": {
    "name": "ipython",
    "version": 3
   },
   "file_extension": ".py",
   "mimetype": "text/x-python",
   "name": "python",
   "nbconvert_exporter": "python",
   "pygments_lexer": "ipython3",
   "version": "3.9.16"
  }
 },
 "nbformat": 4,
 "nbformat_minor": 5
}
