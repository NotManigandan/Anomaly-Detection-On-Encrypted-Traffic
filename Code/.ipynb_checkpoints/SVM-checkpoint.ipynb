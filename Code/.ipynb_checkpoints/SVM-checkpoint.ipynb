{
 "cells": [
  {
   "cell_type": "markdown",
   "id": "62c5f482",
   "metadata": {},
   "source": [
    "# <center>Support Vector Machine</center>"
   ]
  },
  {
   "cell_type": "code",
   "execution_count": 1,
   "id": "9dece4db",
   "metadata": {},
   "outputs": [],
   "source": [
    "import numpy as np\n",
    "import pandas as pd\n",
    "import time\n",
    "from random import shuffle, random\n",
    "import matplotlib.pyplot as plt\n",
    "import seaborn as sns\n",
    "from sklearn import preprocessing\n",
    "from sklearn.model_selection import train_test_split\n",
    "from sklearn.metrics import accuracy_score, recall_score, f1_score, precision_score\n",
    "from sklearn.metrics import confusion_matrix,accuracy_score, classification_report, ConfusionMatrixDisplay\n",
    "from sklearn.metrics import RocCurveDisplay, roc_curve\n",
    "from sklearn.metrics import PrecisionRecallDisplay, precision_recall_curve\n",
    "from tqdm import tqdm\n",
    "import torch\n",
    "from torch import nn\n",
    "from torch.optim.lr_scheduler import ReduceLROnPlateau\n",
    "import torchmetrics\n",
    "import tenseal as ts"
   ]
  },
  {
   "cell_type": "code",
   "execution_count": 18,
   "id": "b8888dc1",
   "metadata": {
    "scrolled": true
   },
   "outputs": [
    {
     "name": "stdout",
     "output_type": "stream",
     "text": [
      "x_train shape: torch.Size([681185, 1, 30])\n",
      "y_train shape: torch.Size([681185, 1])\n",
      "x_val shape: torch.Size([85148, 1, 30])\n",
      "y_val shape: torch.Size([85148, 1])\n",
      "x_test shape: torch.Size([85149, 1, 30])\n",
      "y_test shape: torch.Size([85149, 1])\n"
     ]
    }
   ],
   "source": [
    "# Importing the dataset and undersampling it to avoid biases\n",
    "df = pd.read_csv(r\"C:\\Users\\manig\\Downloads\\Mitacs\\top_features.csv\")\n",
    "df['Label'] = df['Label'].replace(0, -1)\n",
    "grouped = df.groupby('Label')\n",
    "df = grouped.apply(lambda x: x.sample(grouped.size().min(), random_state=73).reset_index(drop=True))\n",
    "x = df.drop([\"Label\"], axis = 1)\n",
    "y = df[\"Label\"]\n",
    "\n",
    "# Scaling\n",
    "scaler = preprocessing.StandardScaler()\n",
    "x = scaler.fit_transform(x)\n",
    "\n",
    "#Splitting the dataset into training, testing and validation set\n",
    "x_train, x_temp, y_train, y_temp = train_test_split(x, y, test_size=0.20, random_state=42)\n",
    "x_val, x_test_20, y_val, y_test_20 = train_test_split(x_temp, y_temp, test_size=0.5, random_state=42)\n",
    "x_train=torch.from_numpy(x_train).float().unsqueeze(dim=1)\n",
    "x_val=torch.from_numpy(x_val).float().unsqueeze(dim=1)\n",
    "x_test_20=torch.from_numpy(x_test_20).float().unsqueeze(dim=1)\n",
    "y_train=torch.from_numpy(np.array(y_train)).float().unsqueeze(1)\n",
    "y_val=torch.from_numpy(np.array(y_val)).float().unsqueeze(1)\n",
    "y_test_20=torch.from_numpy(np.array(y_test_20)).float().unsqueeze(1)\n",
    "print(f\"x_train shape: {x_train.shape}\")\n",
    "print(f\"y_train shape: {y_train.shape}\")\n",
    "print(f\"x_val shape: {x_val.shape}\")\n",
    "print(f\"y_val shape: {y_val.shape}\")\n",
    "print(f\"x_test shape: {x_test_20.shape}\")\n",
    "print(f\"y_test shape: {y_test_20.shape}\")"
   ]
  },
  {
   "cell_type": "code",
   "execution_count": 3,
   "id": "ebc79505",
   "metadata": {},
   "outputs": [],
   "source": [
    "del grouped, x, y, scaler"
   ]
  },
  {
   "cell_type": "code",
   "execution_count": 4,
   "id": "38aa96a7",
   "metadata": {},
   "outputs": [],
   "source": [
    "# Support Vector Machine model\n",
    "class SVM(nn.Module):\n",
    "    def __init__(self, n_features):\n",
    "        super(SVM, self).__init__()\n",
    "        self.dense_layer_1 = nn.Linear(n_features, 1)\n",
    "\n",
    "    def forward(self, x):\n",
    "        output = self.dense_layer_1(x)\n",
    "        return output "
   ]
  },
  {
   "cell_type": "code",
   "execution_count": 5,
   "id": "fb0a1ec4",
   "metadata": {},
   "outputs": [],
   "source": [
    "def accuracy(X, y, model):\n",
    "    correct = 0\n",
    "    for i in range(len(y)):\n",
    "        y_predicted = model(X[i]).squeeze().detach()\n",
    "        y_predicted = torch.sign(y_predicted).float()\n",
    "        if y_predicted == y[i]: \n",
    "            correct += 1\n",
    "    return float(correct)/len(y)"
   ]
  },
  {
   "cell_type": "code",
   "execution_count": 21,
   "id": "fd139eb9",
   "metadata": {},
   "outputs": [],
   "source": [
    "# Training function\n",
    "def train(X, Y, optimizer, epoch, batchsize, step, model):\n",
    "    loss_dict = {}\n",
    "    acc_dict = {}\n",
    "    model.train()\n",
    "    for epoch in range(1, epoch+1):\n",
    "        perm = torch.randperm(len(X))\n",
    "        train_loss = 0.0\n",
    "        for i in range(0, len(X), batchsize):\n",
    "            x = X[perm[i : i + batchsize]]\n",
    "            y = Y[perm[i : i + batchsize]]\n",
    "            output = model(x).squeeze()\n",
    "            weight = model.dense_layer_1.weight.squeeze()\n",
    "            loss = torch.mean(torch.clamp(1 - y * output, min=0))\n",
    "            loss += step * (weight.t() @ weight) / 2.0\n",
    "            optimizer.zero_grad()\n",
    "            loss.backward()\n",
    "            optimizer.step()\n",
    "            train_loss += float(loss)\n",
    "        loss_dict[epoch] = train_loss / len(X)\n",
    "        acc = accuracy(X, Y, model)\n",
    "        acc_dict[epoch] = acc\n",
    "\n",
    "        if epoch%1 == 0:\n",
    "            print(f\"Epoch: {epoch}\\tLoss: {train_loss / len(X)}\\tAccuracy: {acc}\")\n",
    "            \n",
    "            \n",
    "    model.eval()\n",
    "    return model, loss_dict, acc_dict"
   ]
  },
  {
   "cell_type": "code",
   "execution_count": 26,
   "id": "9aba57c3",
   "metadata": {
    "scrolled": false
   },
   "outputs": [
    {
     "name": "stdout",
     "output_type": "stream",
     "text": [
      "Epoch: 1\tLoss: 0.015654966262133137\tAccuracy: 0.6149577574374069\n",
      "Epoch: 2\tLoss: 0.015610888968095957\tAccuracy: 0.6209311714145203\n",
      "Epoch: 3\tLoss: 0.015598249829181128\tAccuracy: 0.6950035599726947\n",
      "Epoch: 4\tLoss: 0.015587562300434971\tAccuracy: 0.7441678839081894\n",
      "Epoch: 5\tLoss: 0.015581554297406442\tAccuracy: 0.7510705608608528\n",
      "Epoch: 6\tLoss: 0.015574847735746272\tAccuracy: 0.7487085006275828\n",
      "Epoch: 7\tLoss: 0.015570250813892796\tAccuracy: 0.7629204988365862\n",
      "Epoch: 8\tLoss: 0.015564152854169526\tAccuracy: 0.7733816804539149\n",
      "Epoch: 9\tLoss: 0.015560949461671709\tAccuracy: 0.8068894646828688\n",
      "Epoch: 10\tLoss: 0.015555373583370785\tAccuracy: 0.8019055029103694\n"
     ]
    },
    {
     "data": {
      "text/plain": [
       "[<matplotlib.lines.Line2D at 0x27baf424d90>]"
      ]
     },
     "execution_count": 26,
     "metadata": {},
     "output_type": "execute_result"
    },
    {
     "data": {
      "image/png": "[encoded data removed]",
      "text/plain": [
       "<Figure size 1500x500 with 2 Axes>"
      ]
     },
     "metadata": {},
     "output_type": "display_data"
    }
   ],
   "source": [
    "# Training the model on unencrypted data\n",
    "torch.manual_seed(42)\n",
    "model = SVM(30)\n",
    "optimizer = torch.optim.SGD(model.parameters(), lr=0.0007)\n",
    "epoch = 10\n",
    "batchsize = 64\n",
    "step = 0.001\n",
    "model, loss_dict, acc_dict = train(x_train, y_train, optimizer, epoch, batchsize, step, model)\n",
    "\n",
    "fig, (ax1, ax2) = plt.subplots(1, 2, figsize=(15, 5)) \n",
    "x_coord, y_coord = zip(*(loss_dict.items()))\n",
    "ax1.plot(x_coord, y_coord)\n",
    "x_coord, y_coord = zip(*(acc_dict.items()))\n",
    "ax2.plot(x_coord, y_coord)"
   ]
  },
  {
   "cell_type": "code",
   "execution_count": 6,
   "id": "fea49836",
   "metadata": {},
   "outputs": [],
   "source": [
    "from pathlib import Path\n",
    "MODEL_PATH = Path(\"models\")\n",
    "MODEL_PATH.mkdir(parents=True, exist_ok=True)\n",
    "MODEL_NAME = \"svm.pth\"\n",
    "MODEL_SAVE_PATH = MODEL_PATH / MODEL_NAME"
   ]
  },
  {
   "cell_type": "code",
   "execution_count": 28,
   "id": "bec63727",
   "metadata": {},
   "outputs": [
    {
     "name": "stdout",
     "output_type": "stream",
     "text": [
      "Saving model to: models\\svm.pth\n"
     ]
    }
   ],
   "source": [
    "# Saving the model weights and biases\n",
    "# print(f\"Saving model to: {MODEL_SAVE_PATH}\")\n",
    "# torch.save(obj=model.state_dict(), f=MODEL_SAVE_PATH) "
   ]
  },
  {
   "cell_type": "code",
   "execution_count": 7,
   "id": "d1aa01e5",
   "metadata": {},
   "outputs": [
    {
     "data": {
      "text/plain": [
       "<All keys matched successfully>"
      ]
     },
     "execution_count": 7,
     "metadata": {},
     "output_type": "execute_result"
    }
   ],
   "source": [
    "# Loading the model weights and biases\n",
    "model = SVM(30)\n",
    "model.load_state_dict(torch.load(f=MODEL_SAVE_PATH))"
   ]
  },
  {
   "cell_type": "code",
   "execution_count": 8,
   "id": "9613a79b",
   "metadata": {},
   "outputs": [],
   "source": [
    "# Class to define forward function for encrypted model evaluation using weights and biases\n",
    "class EncryptedSVM:\n",
    "    \n",
    "    def __init__(self, torch_svm):\n",
    "        self.weight = torch_svm.dense_layer_1.weight.data.tolist()[0]\n",
    "        self.bias = torch_svm.dense_layer_1.bias.data.tolist()\n",
    "        \n",
    "    def forward(self, enc_x):\n",
    "        enc_out = enc_x.dot(self.weight) + self.bias\n",
    "        return enc_out\n",
    "    \n",
    "    def __call__(self, *args, **kwargs):\n",
    "        return self.forward(*args, **kwargs)\n",
    "    \n",
    "    def encrypt(self, context):\n",
    "        self.weight = ts.ckks_vector(context, self.weight)\n",
    "        self.bias = ts.ckks_vector(context, self.bias)\n",
    "        \n",
    "    def decrypt(self, context):\n",
    "        self.weight = self.weight.decrypt()\n",
    "        self.bias = self.bias.decrypt()"
   ]
  },
  {
   "cell_type": "code",
   "execution_count": 9,
   "id": "b718d2ab",
   "metadata": {},
   "outputs": [],
   "source": [
    "encsvm = EncryptedSVM(model)"
   ]
  },
  {
   "cell_type": "code",
   "execution_count": 10,
   "id": "357ebfa3",
   "metadata": {},
   "outputs": [],
   "source": [
    "# Defining TenSEAL Context\n",
    "poly_mod_degree = 8192\n",
    "coeff_mod_bit_sizes = [60, 40, 60]\n",
    "ctx_eval = ts.context(ts.SCHEME_TYPE.CKKS, poly_mod_degree, -1, coeff_mod_bit_sizes)\n",
    "ctx_eval.global_scale = 2 ** 40\n",
    "ctx_eval.generate_galois_keys()"
   ]
  },
  {
   "cell_type": "code",
   "execution_count": 11,
   "id": "710e6bc2",
   "metadata": {},
   "outputs": [],
   "source": [
    "# Function to calculate accuracy, recall, precision and f1 - score\n",
    "def metrics_fn(y_true, y_pred, others=False):\n",
    "    y_true = (y_true + 1) / 2\n",
    "    y_pred = (y_pred + 1) / 2\n",
    "            \n",
    "    accuracy = torchmetrics.Accuracy(task=\"binary\", num_classes=2)\n",
    "    acc = accuracy(y_pred, y_true)\n",
    "    \n",
    "    if others==True:\n",
    "        rec = torchmetrics.Recall(task=\"binary\", num_classes=2)\n",
    "        prec = torchmetrics.Precision(task=\"binary\", num_classes=2)\n",
    "        recall = rec(y_pred, y_true)\n",
    "        precision = prec(y_pred, y_true)\n",
    "        f1_score = 2*((precision*recall)/(precision+recall))\n",
    "        del accuracy, rec, prec\n",
    "        return acc, recall, precision, f1_score\n",
    "    \n",
    "    return acc"
   ]
  },
  {
   "cell_type": "code",
   "execution_count": 12,
   "id": "47d783d3",
   "metadata": {},
   "outputs": [],
   "source": [
    "# This function evaluates on encrypted data and applies sign operation (to give -1/+1 output) after decryption\n",
    "def encrypted_evaluation(model, enc_x_test, y_test):\n",
    "    t_start = time.time()\n",
    "    output_list = []\n",
    "    correct = 0\n",
    "    for enc_x, y in zip(enc_x_test, y_test):\n",
    "        enc_out = model(enc_x)\n",
    "        out = enc_out.decrypt()\n",
    "        out = torch.tensor(out)\n",
    "        out = torch.sign(out).float()\n",
    "        output_list.append(out)\n",
    "    t_end = time.time()\n",
    "    print(f\"Evaluated test set of {len(enc_x_test)} entries in {int(t_end - t_start)} seconds\")\n",
    "    accuracy = metrics_fn(torch.stack(output_list), y_test)\n",
    "#     print(f\"Score: {correct}/{len(enc_x_test)}\")\n",
    "    return accuracy, output_list"
   ]
  },
  {
   "cell_type": "code",
   "execution_count": 13,
   "id": "a3715dab",
   "metadata": {},
   "outputs": [
    {
     "name": "stdout",
     "output_type": "stream",
     "text": [
      "Accuracy: 0.8018180131912231\n",
      "Recall: 0.7881335020065308\n",
      "Precision: 0.8256856799125671\n",
      "F1 - Score: 0.806472659111023\n"
     ]
    }
   ],
   "source": [
    "# Testing - Calculating Accuracy, Recall, Precision and F1- Score on unencrypted data\n",
    "out = model(x_test_20).detach().squeeze().unsqueeze(dim=1)\n",
    "out = torch.sign(out).float()\n",
    "acc, rec, prec, f1 = metrics_fn(out, y_test_20, True)\n",
    "print(f\"Accuracy: {acc}\\nRecall: {rec}\\nPrecision: {prec}\\nF1 - Score: {f1}\")"
   ]
  },
  {
   "cell_type": "code",
   "execution_count": 14,
   "id": "4c6d7a51",
   "metadata": {
    "scrolled": false
   },
   "outputs": [
    {
     "name": "stdout",
     "output_type": "stream",
     "text": [
      "\n",
      "Starting Batch 1 Encryption\n"
     ]
    },
    {
     "name": "stderr",
     "output_type": "stream",
     "text": [
      "100%|█████████████████████████████████████████████████████████████████████████████| 4257/4257 [00:21<00:00, 200.59it/s]\n"
     ]
    },
    {
     "name": "stdout",
     "output_type": "stream",
     "text": [
      "Encryption of the test set took 21 seconds\n",
      "Evaluated test set of 4257 entries in 56 seconds\n",
      "Batch 1 Encrypted Accuracy: 0.8057317137718201\n",
      "\n",
      "Starting Batch 2 Encryption\n"
     ]
    },
    {
     "name": "stderr",
     "output_type": "stream",
     "text": [
      "100%|█████████████████████████████████████████████████████████████████████████████| 4257/4257 [00:18<00:00, 229.49it/s]\n"
     ]
    },
    {
     "name": "stdout",
     "output_type": "stream",
     "text": [
      "Encryption of the test set took 18 seconds\n",
      "Evaluated test set of 4257 entries in 56 seconds\n",
      "Batch 2 Encrypted Accuracy: 0.7996241450309753\n",
      "\n",
      "Starting Batch 3 Encryption\n"
     ]
    },
    {
     "name": "stderr",
     "output_type": "stream",
     "text": [
      "100%|█████████████████████████████████████████████████████████████████████████████| 4257/4257 [00:18<00:00, 232.38it/s]\n"
     ]
    },
    {
     "name": "stdout",
     "output_type": "stream",
     "text": [
      "Encryption of the test set took 18 seconds\n",
      "Evaluated test set of 4257 entries in 56 seconds\n",
      "Batch 3 Encrypted Accuracy: 0.7968052625656128\n",
      "\n",
      "Starting Batch 4 Encryption\n"
     ]
    },
    {
     "name": "stderr",
     "output_type": "stream",
     "text": [
      "100%|█████████████████████████████████████████████████████████████████████████████| 4257/4257 [00:18<00:00, 235.86it/s]\n"
     ]
    },
    {
     "name": "stdout",
     "output_type": "stream",
     "text": [
      "Encryption of the test set took 18 seconds\n",
      "Evaluated test set of 4257 entries in 56 seconds\n",
      "Batch 4 Encrypted Accuracy: 0.8052619099617004\n",
      "\n",
      "Starting Batch 5 Encryption\n"
     ]
    },
    {
     "name": "stderr",
     "output_type": "stream",
     "text": [
      "100%|█████████████████████████████████████████████████████████████████████████████| 4257/4257 [00:18<00:00, 230.82it/s]\n"
     ]
    },
    {
     "name": "stdout",
     "output_type": "stream",
     "text": [
      "Encryption of the test set took 18 seconds\n",
      "Evaluated test set of 4257 entries in 58 seconds\n",
      "Batch 5 Encrypted Accuracy: 0.8134836554527283\n",
      "\n",
      "Starting Batch 6 Encryption\n"
     ]
    },
    {
     "name": "stderr",
     "output_type": "stream",
     "text": [
      "100%|█████████████████████████████████████████████████████████████████████████████| 4257/4257 [00:19<00:00, 222.70it/s]\n"
     ]
    },
    {
     "name": "stdout",
     "output_type": "stream",
     "text": [
      "Encryption of the test set took 19 seconds\n",
      "Evaluated test set of 4257 entries in 58 seconds\n",
      "Batch 6 Encrypted Accuracy: 0.8031477332115173\n",
      "\n",
      "Starting Batch 7 Encryption\n"
     ]
    },
    {
     "name": "stderr",
     "output_type": "stream",
     "text": [
      "100%|█████████████████████████████████████████████████████████████████████████████| 4257/4257 [00:17<00:00, 240.76it/s]\n"
     ]
    },
    {
     "name": "stdout",
     "output_type": "stream",
     "text": [
      "Encryption of the test set took 17 seconds\n",
      "Evaluated test set of 4257 entries in 56 seconds\n",
      "Batch 7 Encrypted Accuracy: 0.7914023995399475\n",
      "\n",
      "Starting Batch 8 Encryption\n"
     ]
    },
    {
     "name": "stderr",
     "output_type": "stream",
     "text": [
      "100%|█████████████████████████████████████████████████████████████████████████████| 4257/4257 [00:19<00:00, 214.07it/s]\n"
     ]
    },
    {
     "name": "stdout",
     "output_type": "stream",
     "text": [
      "Encryption of the test set took 19 seconds\n",
      "Evaluated test set of 4257 entries in 56 seconds\n",
      "Batch 8 Encrypted Accuracy: 0.7944561839103699\n",
      "\n",
      "Starting Batch 9 Encryption\n"
     ]
    },
    {
     "name": "stderr",
     "output_type": "stream",
     "text": [
      "100%|█████████████████████████████████████████████████████████████████████████████| 4257/4257 [00:18<00:00, 228.03it/s]\n"
     ]
    },
    {
     "name": "stdout",
     "output_type": "stream",
     "text": [
      "Encryption of the test set took 18 seconds\n",
      "Evaluated test set of 4257 entries in 66 seconds\n",
      "Batch 9 Encrypted Accuracy: 0.8043223023414612\n",
      "\n",
      "Starting Batch 10 Encryption\n"
     ]
    },
    {
     "name": "stderr",
     "output_type": "stream",
     "text": [
      "100%|█████████████████████████████████████████████████████████████████████████████| 4257/4257 [00:21<00:00, 202.66it/s]\n"
     ]
    },
    {
     "name": "stdout",
     "output_type": "stream",
     "text": [
      "Encryption of the test set took 21 seconds\n",
      "Evaluated test set of 4257 entries in 59 seconds\n",
      "Batch 10 Encrypted Accuracy: 0.8024430274963379\n",
      "\n",
      "Starting Batch 11 Encryption\n"
     ]
    },
    {
     "name": "stderr",
     "output_type": "stream",
     "text": [
      "100%|█████████████████████████████████████████████████████████████████████████████| 4257/4257 [00:19<00:00, 218.67it/s]\n"
     ]
    },
    {
     "name": "stdout",
     "output_type": "stream",
     "text": [
      "Encryption of the test set took 19 seconds\n",
      "Evaluated test set of 4257 entries in 57 seconds\n",
      "Batch 11 Encrypted Accuracy: 0.7998590469360352\n",
      "\n",
      "Starting Batch 12 Encryption\n"
     ]
    },
    {
     "name": "stderr",
     "output_type": "stream",
     "text": [
      "100%|█████████████████████████████████████████████████████████████████████████████| 4257/4257 [00:18<00:00, 231.07it/s]\n"
     ]
    },
    {
     "name": "stdout",
     "output_type": "stream",
     "text": [
      "Encryption of the test set took 18 seconds\n",
      "Evaluated test set of 4257 entries in 56 seconds\n",
      "Batch 12 Encrypted Accuracy: 0.7993892431259155\n",
      "\n",
      "Starting Batch 13 Encryption\n"
     ]
    },
    {
     "name": "stderr",
     "output_type": "stream",
     "text": [
      "100%|█████████████████████████████████████████████████████████████████████████████| 4257/4257 [00:18<00:00, 226.95it/s]\n"
     ]
    },
    {
     "name": "stdout",
     "output_type": "stream",
     "text": [
      "Encryption of the test set took 18 seconds\n",
      "Evaluated test set of 4257 entries in 57 seconds\n",
      "Batch 13 Encrypted Accuracy: 0.8033826351165771\n",
      "\n",
      "Starting Batch 14 Encryption\n"
     ]
    },
    {
     "name": "stderr",
     "output_type": "stream",
     "text": [
      "100%|█████████████████████████████████████████████████████████████████████████████| 4257/4257 [00:18<00:00, 228.15it/s]\n"
     ]
    },
    {
     "name": "stdout",
     "output_type": "stream",
     "text": [
      "Encryption of the test set took 18 seconds\n",
      "Evaluated test set of 4257 entries in 58 seconds\n",
      "Batch 14 Encrypted Accuracy: 0.8052619099617004\n",
      "\n",
      "Starting Batch 15 Encryption\n"
     ]
    },
    {
     "name": "stderr",
     "output_type": "stream",
     "text": [
      "100%|█████████████████████████████████████████████████████████████████████████████| 4257/4257 [00:19<00:00, 220.33it/s]\n"
     ]
    },
    {
     "name": "stdout",
     "output_type": "stream",
     "text": [
      "Encryption of the test set took 19 seconds\n",
      "Evaluated test set of 4257 entries in 61 seconds\n",
      "Batch 15 Encrypted Accuracy: 0.7989194393157959\n",
      "\n",
      "Starting Batch 16 Encryption\n"
     ]
    },
    {
     "name": "stderr",
     "output_type": "stream",
     "text": [
      "100%|█████████████████████████████████████████████████████████████████████████████| 4257/4257 [00:18<00:00, 224.94it/s]\n"
     ]
    },
    {
     "name": "stdout",
     "output_type": "stream",
     "text": [
      "Encryption of the test set took 18 seconds\n",
      "Evaluated test set of 4257 entries in 57 seconds\n",
      "Batch 16 Encrypted Accuracy: 0.8132487535476685\n",
      "\n",
      "Starting Batch 17 Encryption\n"
     ]
    },
    {
     "name": "stderr",
     "output_type": "stream",
     "text": [
      "100%|█████████████████████████████████████████████████████████████████████████████| 4257/4257 [00:18<00:00, 234.44it/s]\n"
     ]
    },
    {
     "name": "stdout",
     "output_type": "stream",
     "text": [
      "Encryption of the test set took 18 seconds\n",
      "Evaluated test set of 4257 entries in 56 seconds\n",
      "Batch 17 Encrypted Accuracy: 0.8031477332115173\n",
      "\n",
      "Starting Batch 18 Encryption\n"
     ]
    },
    {
     "name": "stderr",
     "output_type": "stream",
     "text": [
      "100%|█████████████████████████████████████████████████████████████████████████████| 4257/4257 [00:17<00:00, 238.63it/s]\n"
     ]
    },
    {
     "name": "stdout",
     "output_type": "stream",
     "text": [
      "Encryption of the test set took 17 seconds\n",
      "Evaluated test set of 4257 entries in 55 seconds\n",
      "Batch 18 Encrypted Accuracy: 0.8036175966262817\n",
      "\n",
      "Starting Batch 19 Encryption\n"
     ]
    },
    {
     "name": "stderr",
     "output_type": "stream",
     "text": [
      "100%|█████████████████████████████████████████████████████████████████████████████| 4257/4257 [00:18<00:00, 235.40it/s]\n"
     ]
    },
    {
     "name": "stdout",
     "output_type": "stream",
     "text": [
      "Encryption of the test set took 18 seconds\n",
      "Evaluated test set of 4257 entries in 54 seconds\n",
      "Batch 19 Encrypted Accuracy: 0.8073760867118835\n",
      "\n",
      "Starting Batch 20 Encryption\n"
     ]
    },
    {
     "name": "stderr",
     "output_type": "stream",
     "text": [
      "100%|█████████████████████████████████████████████████████████████████████████████| 4266/4266 [00:17<00:00, 240.19it/s]\n"
     ]
    },
    {
     "name": "stdout",
     "output_type": "stream",
     "text": [
      "Encryption of the test set took 17 seconds\n",
      "Evaluated test set of 4266 entries in 55 seconds\n",
      "Batch 20 Encrypted Accuracy: 0.7855133414268494\n"
     ]
    }
   ],
   "source": [
    "# Splitting the test set into 20 parts and testing them individually \n",
    "# (did this because testing 1/20th of testing set id faster than testing the whole set at one so it helps to check accuracy and tell whether the parameters selected are good or bad upto some extent)\n",
    "parts = 20\n",
    "one_part = y_test_20.shape[0] // parts\n",
    "for i in range(1, parts+1):\n",
    "    if i==1:\n",
    "        j = one_part\n",
    "        temp_x_test = x_test_20[:j,]\n",
    "        temp_y_test = y_test_20[:j,]\n",
    "    elif i==parts:\n",
    "        j = one_part * (i-1)\n",
    "        temp_x_test = x_test_20[j:,]\n",
    "        temp_y_test = y_test_20[j:,]\n",
    "    else:\n",
    "        j = one_part * i\n",
    "        if i == 1:\n",
    "            k = one_part\n",
    "        else:\n",
    "            k = one_part * (i-1)\n",
    "        temp_x_test = x_test_20[k:j,]\n",
    "        temp_y_test = y_test_20[k:j,]\n",
    "    \n",
    "    t_start = time.time()\n",
    "    enc_x_test = []\n",
    "    print()\n",
    "    print(f\"Starting Batch {i} Encryption\")\n",
    "    for x in tqdm(range(len(temp_x_test))):\n",
    "        enc_x_test.append(ts.ckks_vector(ctx_eval, temp_x_test[x].squeeze().tolist()))\n",
    "    t_end = time.time()\n",
    "    print(f\"Encryption of the test set took {int(t_end - t_start)} seconds\")\n",
    "    encrypted_accuracy, output_list = encrypted_evaluation(encsvm, enc_x_test, temp_y_test)\n",
    "    print(f\"Batch {i} Encrypted Accuracy: {encrypted_accuracy}\")\n",
    "    y_pred = torch.cat(output_list)\n",
    "    y_pred = y_pred.numpy()\n",
    "    y_pred_final.extend(y_pred)"
   ]
  },
  {
   "cell_type": "code",
   "execution_count": 15,
   "id": "b40a4294",
   "metadata": {},
   "outputs": [
    {
     "name": "stdout",
     "output_type": "stream",
     "text": [
      "Accuracy: 0.8018180131912231\n",
      "Recall: 0.7881335020065308\n",
      "Precision: 0.8256856799125671\n",
      "F1 - Score: 0.806472659111023\n"
     ]
    }
   ],
   "source": [
    "# Testing - Calculating Accuracy, Recall, Precision and F1- Score on encrypted data\n",
    "out = model(x_test_20).detach().squeeze().unsqueeze(dim=1)\n",
    "out = torch.sign(out).float()\n",
    "acc, rec, prec, f1 = metrics_fn((torch.tensor(y_pred_final)).unsqueeze(dim=1), y_test_20, True)\n",
    "print(f\"Accuracy: {acc}\\nRecall: {rec}\\nPrecision: {prec}\\nF1 - Score: {f1}\")"
   ]
  },
  {
   "cell_type": "code",
   "execution_count": 23,
   "id": "a5cd806c",
   "metadata": {},
   "outputs": [
    {
     "data": {
      "image/png": "[encoded data removed]",
      "text/plain": [
       "<Figure size 640x480 with 2 Axes>"
      ]
     },
     "metadata": {},
     "output_type": "display_data"
    }
   ],
   "source": [
    "# Confusion Matrix\n",
    "y_pred_final_temp = torch.tensor(y_pred_final).float().unsqueeze(1)\n",
    "y_pred_final_temp = torch.where(y_pred_final_temp == -1, torch.tensor(0), y_pred_final_temp)\n",
    "y_test_20 = (y_test_20 + 1) / 2\n",
    "confmat = torchmetrics.ConfusionMatrix(task=\"binary\", num_classes=2)\n",
    "cnf_matrix_val = confmat(y_test_20, y_pred_final_temp)\n",
    "cnf_matrix = sns.heatmap(cnf_matrix_val.numpy(), annot=True, cmap='Blues')\n",
    "for _, spine in cnf_matrix.spines.items():\n",
    "    spine.set_visible(True)\n",
    "    spine.set_linewidth(1)\n",
    "plt.show()"
   ]
  },
  {
   "cell_type": "code",
   "execution_count": 24,
   "id": "5ff3bacd",
   "metadata": {},
   "outputs": [
    {
     "data": {
      "image/png": "[encoded data removed]",
      "text/plain": [
       "<Figure size 1500x500 with 2 Axes>"
      ]
     },
     "metadata": {},
     "output_type": "display_data"
    }
   ],
   "source": [
    "# ROC Curve and Precision-Recall curve\n",
    "fpr, tpr, _ = roc_curve(y_test_20, y_pred_final_temp)\n",
    "roc_display = RocCurveDisplay(fpr=fpr, tpr=tpr)\n",
    "prec, recall, _ = precision_recall_curve(y_test_20, y_pred_final_temp)\n",
    "pr_display = PrecisionRecallDisplay(precision=prec, recall=recall)\n",
    "fig, (ax1, ax2) = plt.subplots(1, 2, figsize=(15, 5))\n",
    "roc_display.plot(ax=ax1)\n",
    "pr_display.plot(ax=ax2)\n",
    "plt.show()"
   ]
  }
 ],
 "metadata": {
  "kernelspec": {
   "display_name": "Python 3.9 (nlp)",
   "language": "python",
   "name": "nlp"
  },
  "language_info": {
   "codemirror_mode": {
    "name": "ipython",
    "version": 3
   },
   "file_extension": ".py",
   "mimetype": "text/x-python",
   "name": "python",
   "nbconvert_exporter": "python",
   "pygments_lexer": "ipython3",
   "version": "3.9.16"
  }
 },
 "nbformat": 4,
 "nbformat_minor": 5
}
