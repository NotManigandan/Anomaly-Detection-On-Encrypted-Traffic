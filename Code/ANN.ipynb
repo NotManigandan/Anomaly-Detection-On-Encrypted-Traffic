{
 "cells": [
  {
   "cell_type": "markdown",
   "id": "9b0ab5c4",
   "metadata": {},
   "source": [
    "# <center>Artificial Neural Network (ANN)</center>"
   ]
  },
  {
   "cell_type": "code",
   "execution_count": 1,
   "id": "928e3aef",
   "metadata": {},
   "outputs": [],
   "source": [
    "import numpy as np\n",
    "import pandas as pd\n",
    "import time\n",
    "import random\n",
    "import matplotlib.pyplot as plt\n",
    "import seaborn as sns\n",
    "from sklearn import preprocessing\n",
    "from sklearn.model_selection import train_test_split\n",
    "from sklearn.metrics import accuracy_score, recall_score, f1_score, precision_score\n",
    "from sklearn.metrics import confusion_matrix,accuracy_score, classification_report\n",
    "from sklearn.metrics import RocCurveDisplay, roc_curve\n",
    "from sklearn.metrics import PrecisionRecallDisplay, precision_recall_curve\n",
    "from tqdm import tqdm\n",
    "import torch\n",
    "from torch import nn\n",
    "from torch.optim.lr_scheduler import ReduceLROnPlateau\n",
    "import torchmetrics\n",
    "import tenseal as ts"
   ]
  },
  {
   "cell_type": "code",
   "execution_count": 3,
   "id": "e334268b",
   "metadata": {},
   "outputs": [
    {
     "name": "stdout",
     "output_type": "stream",
     "text": [
      "x_train shape: torch.Size([681185, 30])\n",
      "y_train shape: torch.Size([681185, 1])\n",
      "x_val shape: torch.Size([85148, 30])\n",
      "y_val shape: torch.Size([85148, 1])\n",
      "x_test shape: torch.Size([85149, 30])\n",
      "y_test shape: torch.Size([85149, 1])\n"
     ]
    }
   ],
   "source": [
    "# Importing the dataset and undersampling it to avoid biases\n",
    "df = pd.read_csv(r\"C:\\Users\\manig\\Downloads\\Mitacs\\top_features.csv\")\n",
    "grouped = df.groupby('Label')\n",
    "df = grouped.apply(lambda x: x.sample(grouped.size().min(), random_state=73).reset_index(drop=True))\n",
    "x = df.drop([\"Label\"], axis = 1)\n",
    "y = df[\"Label\"]\n",
    "\n",
    "# Scaling\n",
    "scaler = preprocessing.StandardScaler()\n",
    "x = scaler.fit_transform(x)\n",
    "\n",
    "#Splitting the dataset into training, testing and validation set\n",
    "x_train, x_temp, y_train, y_temp = train_test_split(x, y, test_size=0.20, random_state=42)\n",
    "x_val, x_test_20, y_val, y_test_20 = train_test_split(x_temp, y_temp, test_size=0.5, random_state=42)\n",
    "x_train=torch.from_numpy(x_train).float()\n",
    "x_val=torch.from_numpy(x_val).float()\n",
    "x_test_20=torch.from_numpy(x_test_20).float()\n",
    "y_train=torch.from_numpy(np.array(y_train)).float().unsqueeze(1)\n",
    "y_val=torch.from_numpy(np.array(y_val)).float().unsqueeze(1)\n",
    "y_test_20=torch.from_numpy(np.array(y_test_20)).float().unsqueeze(1)\n",
    "print(f\"x_train shape: {x_train.shape}\")\n",
    "print(f\"y_train shape: {y_train.shape}\")\n",
    "print(f\"x_val shape: {x_val.shape}\")\n",
    "print(f\"y_val shape: {y_val.shape}\")\n",
    "print(f\"x_test shape: {x_test_20.shape}\")\n",
    "print(f\"y_test shape: {y_test_20.shape}\")"
   ]
  },
  {
   "cell_type": "code",
   "execution_count": 3,
   "id": "71864a6f",
   "metadata": {},
   "outputs": [],
   "source": [
    "del x, y, grouped, df"
   ]
  },
  {
   "cell_type": "code",
   "execution_count": 4,
   "id": "9638608c",
   "metadata": {},
   "outputs": [
    {
     "data": {
      "text/plain": [
       "'cuda'"
      ]
     },
     "execution_count": 4,
     "metadata": {},
     "output_type": "execute_result"
    }
   ],
   "source": [
    "device = \"cuda\" if torch.cuda.is_available() else \"cpu\"\n",
    "device"
   ]
  },
  {
   "cell_type": "code",
   "execution_count": 5,
   "id": "173683e3",
   "metadata": {},
   "outputs": [],
   "source": [
    "# ANN Model\n",
    "class NN(nn.Module):\n",
    "    def __init__(self, n_features):\n",
    "        super().__init__()\n",
    "        self.layer_1 = nn.Linear(in_features=n_features, out_features=16)\n",
    "        self.layer_2 = nn.Linear(in_features=16, out_features=8)\n",
    "        self.layer_3 = nn.Linear(in_features=8, out_features=1)\n",
    "        self.relu = nn.ReLU()\n",
    "\n",
    "    def forward(self, x):\n",
    "        x = self.layer_1(x)\n",
    "        x = x*x\n",
    "        x = self.layer_2(x)\n",
    "        x = x*x\n",
    "        x = self.layer_3(x)\n",
    "        return x"
   ]
  },
  {
   "cell_type": "code",
   "execution_count": 6,
   "id": "7eb176aa",
   "metadata": {},
   "outputs": [],
   "source": [
    "# Validation function\n",
    "def validate(model, criterion, x_val, y_val):\n",
    "    model.eval()  \n",
    "    with torch.no_grad():  \n",
    "        outputs = model(x_val)\n",
    "        loss = criterion(outputs, y_val)\n",
    "        acc, _ = accuracy(model, x_val, y_val)\n",
    "    model.train()  \n",
    "    return loss.data, acc"
   ]
  },
  {
   "cell_type": "code",
   "execution_count": 7,
   "id": "f77b60ae",
   "metadata": {},
   "outputs": [],
   "source": [
    "def accuracy(model, x, y, train=True):\n",
    "    out_list = []\n",
    "#     x, y = x.to(device), y.to(device)\n",
    "    t_start = time.time()\n",
    "    out = torch.sigmoid(model(x))\n",
    "    if(train==False):\n",
    "        t_end = time.time()\n",
    "        print(f\"Prediction Time: {(t_end - t_start)} seconds\")\n",
    "    out_list.append(out)\n",
    "    correct = torch.abs(y - out) < 0.5\n",
    "    return correct.float().mean(), out"
   ]
  },
  {
   "cell_type": "code",
   "execution_count": 8,
   "id": "9e26f21a",
   "metadata": {},
   "outputs": [],
   "source": [
    "# Training function\n",
    "def train(model, optimizer, criterion, scheduler, x, y, x_val, y_val, epochs):\n",
    "    train_loss_dict = {}\n",
    "    train_acc_dict = {}\n",
    "    val_loss_dict = {}\n",
    "    val_acc_dict = {}\n",
    "    for e in range(1, epochs + 1):\n",
    "        model.train()\n",
    "        out = model(x)\n",
    "        optimizer.zero_grad()\n",
    "        loss = criterion(out, y)\n",
    "        loss.backward()\n",
    "        optimizer.step()\n",
    "#         scheduler.step(loss.data)\n",
    "        train_loss = loss.data\n",
    "        train_loss_dict[e] = train_loss\n",
    "        train_acc, _ = accuracy(model, x, y)\n",
    "        train_acc_dict[e] = train_acc\n",
    "        val_loss, val_acc = validate(model, criterion, x_val, y_val)\n",
    "        val_loss_dict[e] = val_loss\n",
    "        val_acc_dict[e] = val_acc\n",
    "        if e%100 == 0:\n",
    "            print(f\"Epoch {e} - Training loss: {train_loss}, Training accuracy: {train_acc}, Validation loss: {val_loss}, Validation accuracy: {val_acc}, Learning Rate: {optimizer.param_groups[0]['lr']}\\n\")\n",
    "    return model, train_loss_dict, train_acc_dict, val_loss_dict, val_acc_dict"
   ]
  },
  {
   "cell_type": "code",
   "execution_count": 9,
   "id": "7bc3b501",
   "metadata": {},
   "outputs": [],
   "source": [
    "if device == \"cuda\":\n",
    "    x_train, y_train, x_val, y_val = x_train.to(device), y_train.to(device), x_val.to(device), y_val.to(device)"
   ]
  },
  {
   "cell_type": "code",
   "execution_count": 10,
   "id": "3d227b32",
   "metadata": {
    "scrolled": false
   },
   "outputs": [
    {
     "name": "stdout",
     "output_type": "stream",
     "text": [
      "NN(\n",
      "  (layer_1): Linear(in_features=30, out_features=16, bias=True)\n",
      "  (layer_2): Linear(in_features=16, out_features=8, bias=True)\n",
      "  (layer_3): Linear(in_features=8, out_features=1, bias=True)\n",
      "  (relu): ReLU()\n",
      ")\n",
      "Epoch 100 - Training loss: 0.16057245433330536, Training accuracy: 0.9356004595756531, Validation loss: 0.3637044429779053, Validation accuracy: 0.9345727562904358, Learning Rate: 0.013\n",
      "\n",
      "Epoch 200 - Training loss: 0.12261751294136047, Training accuracy: 0.9480786919593811, Validation loss: 0.36068376898765564, Validation accuracy: 0.9472682476043701, Learning Rate: 0.013\n",
      "\n",
      "Epoch 300 - Training loss: 0.11265402287244797, Training accuracy: 0.9545806050300598, Validation loss: 0.3068757951259613, Validation accuracy: 0.9543852806091309, Learning Rate: 0.013\n",
      "\n",
      "Epoch 400 - Training loss: 0.11115255206823349, Training accuracy: 0.9528571367263794, Validation loss: 0.2054438441991806, Validation accuracy: 0.952823281288147, Learning Rate: 0.013\n",
      "\n",
      "Epoch 500 - Training loss: 0.10284499078989029, Training accuracy: 0.9555215835571289, Validation loss: 0.1570461541414261, Validation accuracy: 0.9555832147598267, Learning Rate: 0.013\n",
      "\n",
      "Epoch 600 - Training loss: 0.09910112619400024, Training accuracy: 0.9582007527351379, Validation loss: 0.15355049073696136, Validation accuracy: 0.958178699016571, Learning Rate: 0.013\n",
      "\n",
      "Epoch 700 - Training loss: 0.09445909410715103, Training accuracy: 0.96760493516922, Validation loss: 0.11823791265487671, Validation accuracy: 0.9671630263328552, Learning Rate: 0.013\n",
      "\n",
      "Epoch 800 - Training loss: 0.09070361405611038, Training accuracy: 0.9684079885482788, Validation loss: 0.09510082006454468, Validation accuracy: 0.9678676724433899, Learning Rate: 0.013\n",
      "\n",
      "Epoch 900 - Training loss: 0.08783414959907532, Training accuracy: 0.9646380543708801, Validation loss: 0.09174206852912903, Validation accuracy: 0.9644970893859863, Learning Rate: 0.013\n",
      "\n",
      "Epoch 1000 - Training loss: 0.08712149411439896, Training accuracy: 0.9694355726242065, Validation loss: 0.0901079997420311, Validation accuracy: 0.9693357348442078, Learning Rate: 0.013\n",
      "\n",
      "Training Time: 10 seconds\n"
     ]
    },
    {
     "data": {
      "image/png": "[encoded data removed]",
      "text/plain": [
       "<Figure size 1200x600 with 2 Axes>"
      ]
     },
     "metadata": {},
     "output_type": "display_data"
    }
   ],
   "source": [
    "# Training and validating the model on unencrypted data\n",
    "n_features = x_train.shape[1]\n",
    "torch.manual_seed(42)\n",
    "model = NN(n_features).to(device)\n",
    "print(model)\n",
    "\n",
    "loss_fn = nn.BCEWithLogitsLoss()\n",
    "optimizer = torch.optim.Adam(params=model.parameters(),  lr=0.013)\n",
    "scheduler = ReduceLROnPlateau(optimizer, mode='min', factor=0.1, patience=10, threshold=0.0001)\n",
    "\n",
    "EPOCH = 1000\n",
    "t_start = time.time()\n",
    "model, train_loss_dict, train_acc_dict, val_loss_dict, val_acc_dict = train(model, optimizer, loss_fn, scheduler, x_train, y_train, x_val, y_val, EPOCH)\n",
    "t_end = time.time()\n",
    "print(f\"Training Time: {int(t_end - t_start)} seconds\")\n",
    "\n",
    "if device == \"cuda\":\n",
    "    train_loss_dict = {k: v.cpu() for k, v in train_loss_dict.items()}\n",
    "    val_loss_dict = {k: v.cpu() for k, v in val_loss_dict.items()}\n",
    "    train_acc_dict = {k: v.cpu() for k, v in train_acc_dict.items()}\n",
    "    val_acc_dict = {k: v.cpu() for k, v in val_acc_dict.items()}\n",
    "fig, (ax1, ax2) = plt.subplots(1, 2, figsize=(12, 6))\n",
    "ax1.plot(*zip(*train_loss_dict.items()), label='Training loss')\n",
    "ax1.plot(*zip(*val_loss_dict.items()), label='Validation loss')\n",
    "ax1.set_xlabel(\"Epoch\")\n",
    "ax1.set_ylabel(\"Loss\")\n",
    "ax1.legend()\n",
    "ax2.plot(*zip(*train_acc_dict.items()), label='Training accuracy')\n",
    "ax2.plot(*zip(*val_acc_dict.items()), label='Validation accuracy')\n",
    "ax2.set_xlabel(\"Epoch\")\n",
    "ax2.set_ylabel(\"Accuracy\")\n",
    "ax2.legend()\n",
    "plt.show()"
   ]
  },
  {
   "cell_type": "markdown",
   "id": "807e18c2",
   "metadata": {},
   "source": [
    "From the loss and accuracy curve, we can see that the model neither overfitted nor underfitted"
   ]
  },
  {
   "cell_type": "code",
   "execution_count": 12,
   "id": "49d56784",
   "metadata": {
    "scrolled": true
   },
   "outputs": [
    {
     "name": "stdout",
     "output_type": "stream",
     "text": [
      "Prediction Time: 0.0049855709075927734 seconds\n",
      "Accuracy: 0.9686314577975079\n",
      "Recall: 0.9875070448994928\n",
      "Precision: 0.9515964789210473\n",
      "F1 - Score: 0.9692192451743014\n"
     ]
    }
   ],
   "source": [
    "# Testing - Calculating Accuracy, Recall, Precision and F1- Score on unencrypted data\n",
    "plain_accuracy, op = accuracy(model.cpu(), x_test_20, y_test_20, False)\n",
    "op = op.squeeze().detach().cpu().numpy()\n",
    "for i in range(len(op)):\n",
    "    if op[i]<0.5:\n",
    "        op[i] = 0\n",
    "    else:\n",
    "        op[i] = 1\n",
    "y_test_temp = y_test_20.squeeze().numpy()\n",
    "plain_accuracy = accuracy_score(y_test_temp, op)\n",
    "plain_recall = recall_score(y_test_temp, op, average='binary')  \n",
    "plain_f1 = f1_score(y_test_temp, op, average='binary')  \n",
    "plain_precision = precision_score(y_test_temp, op, average='binary')  \n",
    "print(f\"Accuracy: {plain_accuracy}\")\n",
    "print(f\"Recall: {plain_recall}\")\n",
    "print(f\"Precision: {plain_precision}\")\n",
    "print(f\"F1 - Score: {plain_f1}\")"
   ]
  },
  {
   "cell_type": "code",
   "execution_count": 13,
   "id": "aa90ce44",
   "metadata": {},
   "outputs": [],
   "source": [
    "from pathlib import Path\n",
    "MODEL_PATH = Path(\"models\")\n",
    "MODEL_PATH.mkdir(parents=True, exist_ok=True)\n",
    "MODEL_NAME = \"ann_3_layers.pth\"\n",
    "MODEL_SAVE_PATH = MODEL_PATH / MODEL_NAME"
   ]
  },
  {
   "cell_type": "code",
   "execution_count": 14,
   "id": "e9ad88f8",
   "metadata": {},
   "outputs": [],
   "source": [
    "model = model.cpu()"
   ]
  },
  {
   "cell_type": "code",
   "execution_count": 16,
   "id": "092f8b2b",
   "metadata": {
    "scrolled": true
   },
   "outputs": [
    {
     "name": "stdout",
     "output_type": "stream",
     "text": [
      "Saving model to: models\\ann_3_layers.pth\n"
     ]
    }
   ],
   "source": [
    "# Saving the model weights and biases\n",
    "print(f\"Saving model to: {MODEL_SAVE_PATH}\")\n",
    "torch.save(obj=model.state_dict(), f=MODEL_SAVE_PATH) "
   ]
  },
  {
   "cell_type": "code",
   "execution_count": 17,
   "id": "e24e886e",
   "metadata": {},
   "outputs": [
    {
     "data": {
      "text/plain": [
       "<All keys matched successfully>"
      ]
     },
     "execution_count": 17,
     "metadata": {},
     "output_type": "execute_result"
    }
   ],
   "source": [
    "# Loading the model weights and biases\n",
    "model = NN(30)\n",
    "model.load_state_dict(torch.load(f=MODEL_SAVE_PATH))"
   ]
  },
  {
   "cell_type": "code",
   "execution_count": 32,
   "id": "924b2011",
   "metadata": {},
   "outputs": [],
   "source": [
    "# Class to define forward function for encrypted model evaluation using weights and biases\n",
    "class EncryptedANN:\n",
    "    \n",
    "    def __init__(self, torch_ann):\n",
    "        self.layer_1_weight = torch_ann.layer_1.weight.T.data.tolist()\n",
    "        self.layer_1_bias = torch_ann.layer_1.bias.data.tolist()\n",
    "\n",
    "        self.layer_2_weight = torch_ann.layer_2.weight.T.data.tolist()\n",
    "        self.layer_2_bias = torch_ann.layer_2.bias.data.tolist()\n",
    "        \n",
    "        self.layer_3_weight = torch_ann.layer_3.weight.T.data.tolist()\n",
    "        self.layer_3_bias = torch_ann.layer_3.bias.data.tolist()\n",
    "        \n",
    "    def forward(self, enc_x):\n",
    "        enc_x = enc_x.mm(self.layer_1_weight) + self.layer_1_bias\n",
    "        enc_x.square_()\n",
    "        \n",
    "        enc_x = enc_x.mm(self.layer_2_weight) + self.layer_2_bias\n",
    "        enc_x.square_()\n",
    "                \n",
    "        enc_x = enc_x.mm(self.layer_3_weight) + self.layer_3_bias\n",
    "        \n",
    "        return enc_x\n",
    "    \n",
    "    def __call__(self, *args, **kwargs):\n",
    "        return self.forward(*args, **kwargs)\n",
    "    \n",
    "#     def encrypt(self, context):\n",
    "#         self.layer_1_weight =  ts.ckks_vector(context, self.layer_1_weight)\n",
    "#         self.layer_1_bias = ts.ckks_vector(context, self.layer_1_bias)\n",
    "\n",
    "#         self.layer_2_weight = ts.ckks_vector(context, self.layer_2_weight)\n",
    "#         self.layer_2_bias = ts.ckks_vector(context, self.layer_2_bias)\n",
    "        \n",
    "#         self.layer_3_weight = ts.ckks_vector(context, self.layer_3_weight)\n",
    "#         self.layer_3_bias = ts.ckks_vector(context, self.layer_3_bias)\n",
    "        \n",
    "#     def decrypt(self, context):\n",
    "#         self.layer_1_weight =  self.layer_1_weight.decrypt()\n",
    "#         self.layer_1_bias = self.layer_1_bias.decrypt()\n",
    "\n",
    "#         self.layer_2_weight = self.layer_2_weight.decrypt()\n",
    "#         self.layer_2_bias = self.layer_2_bias.decrypt()\n",
    "        \n",
    "#         self.layer_3_weight = self.layer_3_weight.decrypt()\n",
    "#         self.layer_3_bias = self.layer_3_bias.decrypt()\n",
    "        \n",
    "eelr = EncryptedANN(model)"
   ]
  },
  {
   "cell_type": "code",
   "execution_count": 20,
   "id": "b448b93f",
   "metadata": {},
   "outputs": [],
   "source": [
    "# Defining TenSEAL Context\n",
    "poly_mod_degree = 16384\n",
    "bits_scale = 40\n",
    "integer_scale = 60\n",
    "coeff_mod_bit_sizes = [integer_scale, bits_scale, bits_scale, bits_scale, bits_scale, integer_scale]\n",
    "ctx_eval = ts.context(ts.SCHEME_TYPE.CKKS, poly_mod_degree, -1, coeff_mod_bit_sizes)\n",
    "ctx_eval.global_scale = 2 ** bits_scale\n",
    "ctx_eval.generate_galois_keys()"
   ]
  },
  {
   "cell_type": "code",
   "execution_count": 21,
   "id": "d00bbafd",
   "metadata": {},
   "outputs": [],
   "source": [
    "# This function evaluates on encrypted data and applies sigmoid operation after decryption\n",
    "def encrypted_evaluation(model, enc_x_test, y_test):\n",
    "    t_start = time.time()\n",
    "    output_list = []\n",
    "    correct = 0\n",
    "    for enc_x, y in zip(enc_x_test, y_test):\n",
    "        enc_out = model(enc_x)\n",
    "        out = enc_out.decrypt()\n",
    "        out = torch.tensor(out)\n",
    "        out = torch.sigmoid(out)\n",
    "        if torch.abs(out - y) < 0.5:\n",
    "            correct += 1\n",
    "        output_list.append(out)\n",
    "    t_end = time.time()\n",
    "    print(f\"Evaluated test set of {len(enc_x_test)} entries in {int(t_end - t_start)} seconds\")\n",
    "    print(f\"Score: {correct}/{len(enc_x_test)}\")\n",
    "    return correct / len(enc_x_test), output_list"
   ]
  },
  {
   "cell_type": "code",
   "execution_count": 10,
   "id": "1c0a3cef",
   "metadata": {
    "scrolled": false
   },
   "outputs": [
    {
     "name": "stdout",
     "output_type": "stream",
     "text": [
      "Starting Batch 1 Encryption\n"
     ]
    },
    {
     "name": "stderr",
     "output_type": "stream",
     "text": [
      "100%|██████████████████████████████████████████████████████████████████████████████| 4257/4257 [01:04<00:00, 65.85it/s]\n"
     ]
    },
    {
     "name": "stdout",
     "output_type": "stream",
     "text": [
      "Encryption of the test set took 64 seconds\n",
      "Evaluated test set of 4257 entries in 1696 seconds\n",
      "Score: 4037/4257\n",
      "Batch 1 Encrypted Accuracy: 0.9483204134366925\n",
      "Starting Batch 2 Encryption\n"
     ]
    },
    {
     "name": "stderr",
     "output_type": "stream",
     "text": [
      "100%|██████████████████████████████████████████████████████████████████████████████| 4257/4257 [01:07<00:00, 62.78it/s]\n"
     ]
    },
    {
     "name": "stdout",
     "output_type": "stream",
     "text": [
      "Encryption of the test set took 67 seconds\n",
      "Evaluated test set of 4257 entries in 1687 seconds\n",
      "Score: 4062/4257\n",
      "Batch 2 Encrypted Accuracy: 0.9541930937279774\n",
      "Starting Batch 3 Encryption\n"
     ]
    },
    {
     "name": "stderr",
     "output_type": "stream",
     "text": [
      "100%|██████████████████████████████████████████████████████████████████████████████| 4257/4257 [01:08<00:00, 62.15it/s]\n"
     ]
    },
    {
     "name": "stdout",
     "output_type": "stream",
     "text": [
      "Encryption of the test set took 68 seconds\n",
      "Evaluated test set of 4257 entries in 1802 seconds\n",
      "Score: 4033/4257\n",
      "Batch 3 Encrypted Accuracy: 0.9473807845900869\n",
      "Starting Batch 4 Encryption\n"
     ]
    },
    {
     "name": "stderr",
     "output_type": "stream",
     "text": [
      "100%|██████████████████████████████████████████████████████████████████████████████| 4257/4257 [01:07<00:00, 62.79it/s]\n"
     ]
    },
    {
     "name": "stdout",
     "output_type": "stream",
     "text": [
      "Encryption of the test set took 67 seconds\n",
      "Evaluated test set of 4257 entries in 1759 seconds\n",
      "Score: 4018/4257\n",
      "Batch 4 Encrypted Accuracy: 0.943857176415316\n",
      "Starting Batch 5 Encryption\n"
     ]
    },
    {
     "name": "stderr",
     "output_type": "stream",
     "text": [
      "100%|██████████████████████████████████████████████████████████████████████████████| 4257/4257 [01:04<00:00, 65.61it/s]\n"
     ]
    },
    {
     "name": "stdout",
     "output_type": "stream",
     "text": [
      "Encryption of the test set took 64 seconds\n",
      "Evaluated test set of 4257 entries in 1659 seconds\n",
      "Score: 4058/4257\n",
      "Batch 5 Encrypted Accuracy: 0.9532534648813719\n",
      "Starting Batch 6 Encryption\n"
     ]
    },
    {
     "name": "stderr",
     "output_type": "stream",
     "text": [
      "100%|██████████████████████████████████████████████████████████████████████████████| 4257/4257 [01:05<00:00, 64.92it/s]\n"
     ]
    },
    {
     "name": "stdout",
     "output_type": "stream",
     "text": [
      "Encryption of the test set took 65 seconds\n",
      "Evaluated test set of 4257 entries in 1662 seconds\n",
      "Score: 4042/4257\n",
      "Batch 6 Encrypted Accuracy: 0.9494949494949495\n",
      "Starting Batch 7 Encryption\n"
     ]
    },
    {
     "name": "stderr",
     "output_type": "stream",
     "text": [
      "100%|██████████████████████████████████████████████████████████████████████████████| 4257/4257 [01:04<00:00, 65.64it/s]\n"
     ]
    },
    {
     "name": "stdout",
     "output_type": "stream",
     "text": [
      "Encryption of the test set took 64 seconds\n",
      "Evaluated test set of 4257 entries in 1656 seconds\n",
      "Score: 4030/4257\n",
      "Batch 7 Encrypted Accuracy: 0.9466760629551327\n",
      "Starting Batch 8 Encryption\n"
     ]
    },
    {
     "name": "stderr",
     "output_type": "stream",
     "text": [
      "100%|██████████████████████████████████████████████████████████████████████████████| 4257/4257 [01:04<00:00, 66.18it/s]\n"
     ]
    },
    {
     "name": "stdout",
     "output_type": "stream",
     "text": [
      "Encryption of the test set took 64 seconds\n",
      "Evaluated test set of 4257 entries in 1655 seconds\n",
      "Score: 4002/4257\n",
      "Batch 8 Encrypted Accuracy: 0.9400986610288936\n",
      "Starting Batch 9 Encryption\n"
     ]
    },
    {
     "name": "stderr",
     "output_type": "stream",
     "text": [
      "100%|██████████████████████████████████████████████████████████████████████████████| 4257/4257 [01:04<00:00, 66.25it/s]\n"
     ]
    },
    {
     "name": "stdout",
     "output_type": "stream",
     "text": [
      "Encryption of the test set took 64 seconds\n",
      "Evaluated test set of 4257 entries in 1651 seconds\n",
      "Score: 4023/4257\n",
      "Batch 9 Encrypted Accuracy: 0.945031712473573\n",
      "Starting Batch 10 Encryption\n"
     ]
    },
    {
     "name": "stderr",
     "output_type": "stream",
     "text": [
      "100%|██████████████████████████████████████████████████████████████████████████████| 4257/4257 [01:04<00:00, 66.32it/s]\n"
     ]
    },
    {
     "name": "stdout",
     "output_type": "stream",
     "text": [
      "Encryption of the test set took 64 seconds\n",
      "Evaluated test set of 4257 entries in 1650 seconds\n",
      "Score: 4025/4257\n",
      "Batch 10 Encrypted Accuracy: 0.9455015268968757\n",
      "Starting Batch 11 Encryption\n"
     ]
    },
    {
     "name": "stderr",
     "output_type": "stream",
     "text": [
      "100%|██████████████████████████████████████████████████████████████████████████████| 4257/4257 [01:04<00:00, 66.51it/s]\n"
     ]
    },
    {
     "name": "stdout",
     "output_type": "stream",
     "text": [
      "Encryption of the test set took 64 seconds\n",
      "Evaluated test set of 4257 entries in 1646 seconds\n",
      "Score: 4031/4257\n",
      "Batch 11 Encrypted Accuracy: 0.9469109701667842\n",
      "Starting Batch 12 Encryption\n"
     ]
    },
    {
     "name": "stderr",
     "output_type": "stream",
     "text": [
      "100%|██████████████████████████████████████████████████████████████████████████████| 4257/4257 [01:04<00:00, 66.09it/s]\n"
     ]
    },
    {
     "name": "stdout",
     "output_type": "stream",
     "text": [
      "Encryption of the test set took 64 seconds\n",
      "Evaluated test set of 4257 entries in 1647 seconds\n",
      "Score: 4054/4257\n",
      "Batch 12 Encrypted Accuracy: 0.9523138360347663\n",
      "Starting Batch 13 Encryption\n"
     ]
    },
    {
     "name": "stderr",
     "output_type": "stream",
     "text": [
      "100%|██████████████████████████████████████████████████████████████████████████████| 4257/4257 [01:03<00:00, 66.52it/s]\n"
     ]
    },
    {
     "name": "stdout",
     "output_type": "stream",
     "text": [
      "Encryption of the test set took 63 seconds\n",
      "Evaluated test set of 4257 entries in 1645 seconds\n",
      "Score: 4020/4257\n",
      "Batch 13 Encrypted Accuracy: 0.9443269908386187\n",
      "Starting Batch 14 Encryption\n"
     ]
    },
    {
     "name": "stderr",
     "output_type": "stream",
     "text": [
      "100%|██████████████████████████████████████████████████████████████████████████████| 4257/4257 [01:03<00:00, 66.68it/s]\n"
     ]
    },
    {
     "name": "stdout",
     "output_type": "stream",
     "text": [
      "Encryption of the test set took 63 seconds\n",
      "Evaluated test set of 4257 entries in 1644 seconds\n",
      "Score: 4046/4257\n",
      "Batch 14 Encrypted Accuracy: 0.9504345783415551\n",
      "Starting Batch 15 Encryption\n"
     ]
    },
    {
     "name": "stderr",
     "output_type": "stream",
     "text": [
      "100%|██████████████████████████████████████████████████████████████████████████████| 4257/4257 [01:04<00:00, 66.05it/s]\n"
     ]
    },
    {
     "name": "stdout",
     "output_type": "stream",
     "text": [
      "Encryption of the test set took 64 seconds\n",
      "Evaluated test set of 4257 entries in 1641 seconds\n",
      "Score: 4033/4257\n",
      "Batch 15 Encrypted Accuracy: 0.9473807845900869\n",
      "Starting Batch 16 Encryption\n"
     ]
    },
    {
     "name": "stderr",
     "output_type": "stream",
     "text": [
      "100%|██████████████████████████████████████████████████████████████████████████████| 4257/4257 [01:04<00:00, 66.35it/s]\n"
     ]
    },
    {
     "name": "stdout",
     "output_type": "stream",
     "text": [
      "Encryption of the test set took 64 seconds\n",
      "Evaluated test set of 4257 entries in 1640 seconds\n",
      "Score: 4053/4257\n",
      "Batch 16 Encrypted Accuracy: 0.9520789288231148\n",
      "Starting Batch 17 Encryption\n"
     ]
    },
    {
     "name": "stderr",
     "output_type": "stream",
     "text": [
      "100%|██████████████████████████████████████████████████████████████████████████████| 4257/4257 [01:03<00:00, 66.72it/s]\n"
     ]
    },
    {
     "name": "stdout",
     "output_type": "stream",
     "text": [
      "Encryption of the test set took 63 seconds\n",
      "Evaluated test set of 4257 entries in 1639 seconds\n",
      "Score: 4045/4257\n",
      "Batch 17 Encrypted Accuracy: 0.9501996711299037\n",
      "Starting Batch 18 Encryption\n"
     ]
    },
    {
     "name": "stderr",
     "output_type": "stream",
     "text": [
      "100%|██████████████████████████████████████████████████████████████████████████████| 4257/4257 [01:03<00:00, 66.77it/s]\n"
     ]
    },
    {
     "name": "stdout",
     "output_type": "stream",
     "text": [
      "Encryption of the test set took 63 seconds\n",
      "Evaluated test set of 4257 entries in 1636 seconds\n",
      "Score: 4013/4257\n",
      "Batch 18 Encrypted Accuracy: 0.942682640357059\n",
      "Starting Batch 19 Encryption\n"
     ]
    },
    {
     "name": "stderr",
     "output_type": "stream",
     "text": [
      "100%|██████████████████████████████████████████████████████████████████████████████| 4257/4257 [01:03<00:00, 66.73it/s]\n"
     ]
    },
    {
     "name": "stdout",
     "output_type": "stream",
     "text": [
      "Encryption of the test set took 63 seconds\n",
      "Evaluated test set of 4257 entries in 1636 seconds\n",
      "Score: 4028/4257\n",
      "Batch 19 Encrypted Accuracy: 0.9462062485318299\n",
      "Starting Batch 20 Encryption\n"
     ]
    },
    {
     "name": "stderr",
     "output_type": "stream",
     "text": [
      "100%|██████████████████████████████████████████████████████████████████████████████| 4266/4266 [01:03<00:00, 66.91it/s]\n"
     ]
    },
    {
     "name": "stdout",
     "output_type": "stream",
     "text": [
      "Encryption of the test set took 63 seconds\n",
      "Evaluated test set of 4266 entries in 1642 seconds\n",
      "Score: 4001/4266\n",
      "Batch 20 Encrypted Accuracy: 0.9378809188935772\n"
     ]
    }
   ],
   "source": [
    "# Splitting the test set into 20 parts and testing them individually \n",
    "# (did this because testing 1/20th of testing set id faster than testing the whole set at one so it helps to check accuracy and tell whether the parameters selected are good or bad upto some extent)\n",
    "one_part = y_test_20.shape[0] // 20\n",
    "for i in range(1, 21):\n",
    "    if i==1:\n",
    "        j = one_part\n",
    "        temp_x_test = x_test_20[:j,]\n",
    "        temp_y_test = y_test_20[:j,]\n",
    "    elif i==20:\n",
    "        j = one_part * (i-1)\n",
    "        temp_x_test = x_test_20[j:,]\n",
    "        temp_y_test = y_test_20[j:,]\n",
    "    else:\n",
    "        j = one_part * i\n",
    "        if i == 1:\n",
    "            k = one_part\n",
    "        else:\n",
    "            k = one_part * (i-1)\n",
    "        temp_x_test = x_test_20[k:j,]\n",
    "        temp_y_test = y_test_20[k:j,]\n",
    "    \n",
    "    t_start = time.time()\n",
    "    enc_x_test = []\n",
    "    print(f\"Starting Batch {i} Encryption\")\n",
    "    for x in tqdm(range(len(temp_x_test))):\n",
    "        enc_x_test.append(ts.ckks_vector(ctx_eval, temp_x_test[x].tolist()))\n",
    "    t_end = time.time()\n",
    "    print(f\"Encryption of the test set took {int(t_end - t_start)} seconds\")\n",
    "    encrypted_accuracy, output_list = encrypted_evaluation(eelr, enc_x_test, temp_y_test)\n",
    "    print(f\"Batch {i} Encrypted Accuracy: {encrypted_accuracy}\")\n",
    "    y_pred = torch.cat(output_list)\n",
    "    y_pred = y_pred.numpy()\n",
    "    y_pred_final.extend(y_pred)"
   ]
  },
  {
   "cell_type": "code",
   "execution_count": 13,
   "id": "4ecc81ce",
   "metadata": {},
   "outputs": [
    {
     "name": "stdout",
     "output_type": "stream",
     "text": [
      "Accuracy: 0.9472101845001115\n",
      "Recall: 0.9839845951531091\n",
      "Precision: 0.9165919282511211\n",
      "F1 - Score: 0.9490934212165483\n"
     ]
    }
   ],
   "source": [
    "# Testing - Calculating Accuracy, Recall, Precision and F1- Score on encrypted data\n",
    "y_pred_final_temp = y_pred_final\n",
    "for i in range(len(y_pred_final)):\n",
    "    if y_pred_final[i]<0.5:\n",
    "        y_pred_final[i] = 0\n",
    "    else:\n",
    "        y_pred_final[i] = 1\n",
    "y_test_temp = y_test_20.squeeze().numpy()\n",
    "enc_accuracy = accuracy_score(y_test_temp, y_pred_final)\n",
    "enc_recall = recall_score(y_test_temp, y_pred_final, average='binary')\n",
    "enc_f1 = f1_score(y_test_temp, y_pred_final, average='binary')\n",
    "enc_precision = precision_score(y_test_temp, y_pred_final, average='binary')\n",
    "print(f\"Accuracy: {enc_accuracy}\")\n",
    "print(f\"Recall: {enc_recall}\")\n",
    "print(f\"Precision: {enc_precision}\")\n",
    "print(f\"F1 - Score: {enc_f1}\")"
   ]
  },
  {
   "cell_type": "code",
   "execution_count": 26,
   "id": "1cfbd186",
   "metadata": {},
   "outputs": [
    {
     "data": {
      "image/png": "[encoded data removed]",
      "text/plain": [
       "<Figure size 640x480 with 2 Axes>"
      ]
     },
     "metadata": {},
     "output_type": "display_data"
    }
   ],
   "source": [
    "# Confusion Matrix\n",
    "confmat = torchmetrics.ConfusionMatrix(task=\"binary\", num_classes=2)\n",
    "cnf_matrix_val = confmat(y_test_20, torch.tensor(y_pred_final).float().unsqueeze(1))\n",
    "cnf_matrix = sns.heatmap(cnf_matrix_val.numpy(), annot=True, cmap='Blues')\n",
    "for _, spine in cnf_matrix.spines.items():\n",
    "    spine.set_visible(True)\n",
    "    spine.set_linewidth(1)\n",
    "plt.show()"
   ]
  },
  {
   "cell_type": "code",
   "execution_count": 33,
   "id": "f309cfe9",
   "metadata": {},
   "outputs": [
    {
     "data": {
      "image/png": "[encoded data removed]",
      "text/plain": [
       "<Figure size 1500x500 with 2 Axes>"
      ]
     },
     "metadata": {},
     "output_type": "display_data"
    }
   ],
   "source": [
    "# ROC Curve and Precision-Recall curve\n",
    "fpr, tpr, _ = roc_curve(y_test_20, torch.tensor(y_pred_final).float().unsqueeze(1).numpy())\n",
    "roc_display = RocCurveDisplay(fpr=fpr, tpr=tpr)\n",
    "prec, recall, _ = precision_recall_curve(y_test_20, torch.tensor(y_pred_final).float().unsqueeze(1).numpy())\n",
    "pr_display = PrecisionRecallDisplay(precision=prec, recall=recall)\n",
    "fig, (ax1, ax2) = plt.subplots(1, 2, figsize=(15, 5))\n",
    "roc_display.plot(ax=ax1)\n",
    "pr_display.plot(ax=ax2)\n",
    "plt.show()"
   ]
  }
 ],
 "metadata": {
  "kernelspec": {
   "display_name": "Python 3 (ipykernel)",
   "language": "python",
   "name": "python3"
  },
  "language_info": {
   "codemirror_mode": {
    "name": "ipython",
    "version": 3
   },
   "file_extension": ".py",
   "mimetype": "text/x-python",
   "name": "python",
   "nbconvert_exporter": "python",
   "pygments_lexer": "ipython3",
   "version": "3.9.16"
  }
 },
 "nbformat": 4,
 "nbformat_minor": 5
}
