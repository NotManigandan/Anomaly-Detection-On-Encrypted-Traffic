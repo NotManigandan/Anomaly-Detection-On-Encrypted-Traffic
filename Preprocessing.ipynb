{
 "cells": [
  {
   "cell_type": "markdown",
   "id": "9781a0b4",
   "metadata": {},
   "source": [
    "# Importing Libraries and Dataset"
   ]
  },
  {
   "cell_type": "code",
   "execution_count": 103,
   "id": "c91c6f3d",
   "metadata": {},
   "outputs": [],
   "source": [
    "import os\n",
    "import time\n",
    "import numpy as np\n",
    "import pandas as pd\n",
    "import matplotlib.pyplot as plt\n",
    "%matplotlib inline\n",
    "import seaborn as sns\n",
    "import sklearn as sk\n",
    "from sklearn import preprocessing\n",
    "from sklearn.utils import resample\n",
    "from sklearn.model_selection import train_test_split\n",
    "from sklearn.linear_model import LogisticRegression\n",
    "from sklearn.ensemble import RandomForestRegressor, RandomForestClassifier\n",
    "from sklearn.tree import DecisionTreeClassifier\n",
    "from sklearn.model_selection import RandomizedSearchCV\n",
    "from sklearn.metrics import confusion_matrix,accuracy_score, classification_report\n",
    "import pickle\n",
    "import tenseal as ts"
   ]
  },
  {
   "cell_type": "code",
   "execution_count": 2,
   "id": "56f3d385",
   "metadata": {},
   "outputs": [],
   "source": [
    "pd.options.display.max_rows = 80"
   ]
  },
  {
   "cell_type": "code",
   "execution_count": 3,
   "id": "25b9b741",
   "metadata": {},
   "outputs": [],
   "source": [
    "folder_path = r\"C:\\Users\\invite1\\Downloads\\CIC IDS Dataset\\MachineLearningCVE\" #folder path which contains all the CSV files\n",
    "csv = [i for i in os.listdir(folder_path) if i.endswith(\".csv\")]\n",
    "dfs = []\n",
    "for i in csv:\n",
    "    file_path = os.path.join(folder_path, i)\n",
    "    temp_df = pd.read_csv(file_path)\n",
    "    dfs.append(temp_df)\n",
    "df = pd.concat(dfs, ignore_index = True)"
   ]
  },
  {
   "cell_type": "markdown",
   "id": "9fc0ab85",
   "metadata": {},
   "source": [
    "# Preprocessing"
   ]
  },
  {
   "cell_type": "code",
   "execution_count": 4,
   "id": "6a4afbc6",
   "metadata": {},
   "outputs": [
    {
     "data": {
      "text/html": [
       "<div>\n",
       "<style scoped>\n",
       "    .dataframe tbody tr th:only-of-type {\n",
       "        vertical-align: middle;\n",
       "    }\n",
       "\n",
       "    .dataframe tbody tr th {\n",
       "        vertical-align: top;\n",
       "    }\n",
       "\n",
       "    .dataframe thead th {\n",
       "        text-align: right;\n",
       "    }\n",
       "</style>\n",
       "<table border=\"1\" class=\"dataframe\">\n",
       "  <thead>\n",
       "    <tr style=\"text-align: right;\">\n",
       "      <th></th>\n",
       "      <th>Destination Port</th>\n",
       "      <th>Flow Duration</th>\n",
       "      <th>Total Fwd Packets</th>\n",
       "      <th>Total Backward Packets</th>\n",
       "      <th>Total Length of Fwd Packets</th>\n",
       "      <th>Total Length of Bwd Packets</th>\n",
       "      <th>Fwd Packet Length Max</th>\n",
       "      <th>Fwd Packet Length Min</th>\n",
       "      <th>Fwd Packet Length Mean</th>\n",
       "      <th>Fwd Packet Length Std</th>\n",
       "      <th>...</th>\n",
       "      <th>min_seg_size_forward</th>\n",
       "      <th>Active Mean</th>\n",
       "      <th>Active Std</th>\n",
       "      <th>Active Max</th>\n",
       "      <th>Active Min</th>\n",
       "      <th>Idle Mean</th>\n",
       "      <th>Idle Std</th>\n",
       "      <th>Idle Max</th>\n",
       "      <th>Idle Min</th>\n",
       "      <th>Label</th>\n",
       "    </tr>\n",
       "  </thead>\n",
       "  <tbody>\n",
       "    <tr>\n",
       "      <th>0</th>\n",
       "      <td>54865</td>\n",
       "      <td>3</td>\n",
       "      <td>2</td>\n",
       "      <td>0</td>\n",
       "      <td>12</td>\n",
       "      <td>0</td>\n",
       "      <td>6</td>\n",
       "      <td>6</td>\n",
       "      <td>6.0</td>\n",
       "      <td>0.0</td>\n",
       "      <td>...</td>\n",
       "      <td>20</td>\n",
       "      <td>0.0</td>\n",
       "      <td>0.0</td>\n",
       "      <td>0</td>\n",
       "      <td>0</td>\n",
       "      <td>0.0</td>\n",
       "      <td>0.0</td>\n",
       "      <td>0</td>\n",
       "      <td>0</td>\n",
       "      <td>BENIGN</td>\n",
       "    </tr>\n",
       "    <tr>\n",
       "      <th>1</th>\n",
       "      <td>55054</td>\n",
       "      <td>109</td>\n",
       "      <td>1</td>\n",
       "      <td>1</td>\n",
       "      <td>6</td>\n",
       "      <td>6</td>\n",
       "      <td>6</td>\n",
       "      <td>6</td>\n",
       "      <td>6.0</td>\n",
       "      <td>0.0</td>\n",
       "      <td>...</td>\n",
       "      <td>20</td>\n",
       "      <td>0.0</td>\n",
       "      <td>0.0</td>\n",
       "      <td>0</td>\n",
       "      <td>0</td>\n",
       "      <td>0.0</td>\n",
       "      <td>0.0</td>\n",
       "      <td>0</td>\n",
       "      <td>0</td>\n",
       "      <td>BENIGN</td>\n",
       "    </tr>\n",
       "    <tr>\n",
       "      <th>2</th>\n",
       "      <td>55055</td>\n",
       "      <td>52</td>\n",
       "      <td>1</td>\n",
       "      <td>1</td>\n",
       "      <td>6</td>\n",
       "      <td>6</td>\n",
       "      <td>6</td>\n",
       "      <td>6</td>\n",
       "      <td>6.0</td>\n",
       "      <td>0.0</td>\n",
       "      <td>...</td>\n",
       "      <td>20</td>\n",
       "      <td>0.0</td>\n",
       "      <td>0.0</td>\n",
       "      <td>0</td>\n",
       "      <td>0</td>\n",
       "      <td>0.0</td>\n",
       "      <td>0.0</td>\n",
       "      <td>0</td>\n",
       "      <td>0</td>\n",
       "      <td>BENIGN</td>\n",
       "    </tr>\n",
       "    <tr>\n",
       "      <th>3</th>\n",
       "      <td>46236</td>\n",
       "      <td>34</td>\n",
       "      <td>1</td>\n",
       "      <td>1</td>\n",
       "      <td>6</td>\n",
       "      <td>6</td>\n",
       "      <td>6</td>\n",
       "      <td>6</td>\n",
       "      <td>6.0</td>\n",
       "      <td>0.0</td>\n",
       "      <td>...</td>\n",
       "      <td>20</td>\n",
       "      <td>0.0</td>\n",
       "      <td>0.0</td>\n",
       "      <td>0</td>\n",
       "      <td>0</td>\n",
       "      <td>0.0</td>\n",
       "      <td>0.0</td>\n",
       "      <td>0</td>\n",
       "      <td>0</td>\n",
       "      <td>BENIGN</td>\n",
       "    </tr>\n",
       "    <tr>\n",
       "      <th>4</th>\n",
       "      <td>54863</td>\n",
       "      <td>3</td>\n",
       "      <td>2</td>\n",
       "      <td>0</td>\n",
       "      <td>12</td>\n",
       "      <td>0</td>\n",
       "      <td>6</td>\n",
       "      <td>6</td>\n",
       "      <td>6.0</td>\n",
       "      <td>0.0</td>\n",
       "      <td>...</td>\n",
       "      <td>20</td>\n",
       "      <td>0.0</td>\n",
       "      <td>0.0</td>\n",
       "      <td>0</td>\n",
       "      <td>0</td>\n",
       "      <td>0.0</td>\n",
       "      <td>0.0</td>\n",
       "      <td>0</td>\n",
       "      <td>0</td>\n",
       "      <td>BENIGN</td>\n",
       "    </tr>\n",
       "  </tbody>\n",
       "</table>\n",
       "<p>5 rows × 79 columns</p>\n",
       "</div>"
      ],
      "text/plain": [
       "   Destination Port  Flow Duration  Total Fwd Packets  Total Backward Packets  \\\n",
       "0             54865              3                  2                       0   \n",
       "1             55054            109                  1                       1   \n",
       "2             55055             52                  1                       1   \n",
       "3             46236             34                  1                       1   \n",
       "4             54863              3                  2                       0   \n",
       "\n",
       "   Total Length of Fwd Packets  Total Length of Bwd Packets  \\\n",
       "0                           12                            0   \n",
       "1                            6                            6   \n",
       "2                            6                            6   \n",
       "3                            6                            6   \n",
       "4                           12                            0   \n",
       "\n",
       "   Fwd Packet Length Max  Fwd Packet Length Min  Fwd Packet Length Mean  \\\n",
       "0                      6                      6                     6.0   \n",
       "1                      6                      6                     6.0   \n",
       "2                      6                      6                     6.0   \n",
       "3                      6                      6                     6.0   \n",
       "4                      6                      6                     6.0   \n",
       "\n",
       "   Fwd Packet Length Std  ...  min_seg_size_forward  Active Mean  Active Std  \\\n",
       "0                    0.0  ...                    20          0.0         0.0   \n",
       "1                    0.0  ...                    20          0.0         0.0   \n",
       "2                    0.0  ...                    20          0.0         0.0   \n",
       "3                    0.0  ...                    20          0.0         0.0   \n",
       "4                    0.0  ...                    20          0.0         0.0   \n",
       "\n",
       "   Active Max  Active Min  Idle Mean  Idle Std  Idle Max  Idle Min   Label  \n",
       "0           0           0        0.0       0.0         0         0  BENIGN  \n",
       "1           0           0        0.0       0.0         0         0  BENIGN  \n",
       "2           0           0        0.0       0.0         0         0  BENIGN  \n",
       "3           0           0        0.0       0.0         0         0  BENIGN  \n",
       "4           0           0        0.0       0.0         0         0  BENIGN  \n",
       "\n",
       "[5 rows x 79 columns]"
      ]
     },
     "execution_count": 4,
     "metadata": {},
     "output_type": "execute_result"
    }
   ],
   "source": [
    "df.columns = df.columns.str.strip()\n",
    "df.head()"
   ]
  },
  {
   "cell_type": "code",
   "execution_count": 5,
   "id": "2edd41b3",
   "metadata": {
    "scrolled": true
   },
   "outputs": [
    {
     "data": {
      "text/plain": [
       "(2830743, 79)"
      ]
     },
     "execution_count": 5,
     "metadata": {},
     "output_type": "execute_result"
    }
   ],
   "source": [
    "df.shape"
   ]
  },
  {
   "cell_type": "code",
   "execution_count": 6,
   "id": "53d0d093",
   "metadata": {
    "scrolled": true
   },
   "outputs": [
    {
     "data": {
      "text/plain": [
       "Destination Port                 int64\n",
       "Flow Duration                    int64\n",
       "Total Fwd Packets                int64\n",
       "Total Backward Packets           int64\n",
       "Total Length of Fwd Packets      int64\n",
       "Total Length of Bwd Packets      int64\n",
       "Fwd Packet Length Max            int64\n",
       "Fwd Packet Length Min            int64\n",
       "Fwd Packet Length Mean         float64\n",
       "Fwd Packet Length Std          float64\n",
       "Bwd Packet Length Max            int64\n",
       "Bwd Packet Length Min            int64\n",
       "Bwd Packet Length Mean         float64\n",
       "Bwd Packet Length Std          float64\n",
       "Flow Bytes/s                   float64\n",
       "Flow Packets/s                 float64\n",
       "Flow IAT Mean                  float64\n",
       "Flow IAT Std                   float64\n",
       "Flow IAT Max                     int64\n",
       "Flow IAT Min                     int64\n",
       "Fwd IAT Total                    int64\n",
       "Fwd IAT Mean                   float64\n",
       "Fwd IAT Std                    float64\n",
       "Fwd IAT Max                      int64\n",
       "Fwd IAT Min                      int64\n",
       "Bwd IAT Total                    int64\n",
       "Bwd IAT Mean                   float64\n",
       "Bwd IAT Std                    float64\n",
       "Bwd IAT Max                      int64\n",
       "Bwd IAT Min                      int64\n",
       "Fwd PSH Flags                    int64\n",
       "Bwd PSH Flags                    int64\n",
       "Fwd URG Flags                    int64\n",
       "Bwd URG Flags                    int64\n",
       "Fwd Header Length                int64\n",
       "Bwd Header Length                int64\n",
       "Fwd Packets/s                  float64\n",
       "Bwd Packets/s                  float64\n",
       "Min Packet Length                int64\n",
       "Max Packet Length                int64\n",
       "Packet Length Mean             float64\n",
       "Packet Length Std              float64\n",
       "Packet Length Variance         float64\n",
       "FIN Flag Count                   int64\n",
       "SYN Flag Count                   int64\n",
       "RST Flag Count                   int64\n",
       "PSH Flag Count                   int64\n",
       "ACK Flag Count                   int64\n",
       "URG Flag Count                   int64\n",
       "CWE Flag Count                   int64\n",
       "ECE Flag Count                   int64\n",
       "Down/Up Ratio                    int64\n",
       "Average Packet Size            float64\n",
       "Avg Fwd Segment Size           float64\n",
       "Avg Bwd Segment Size           float64\n",
       "Fwd Header Length.1              int64\n",
       "Fwd Avg Bytes/Bulk               int64\n",
       "Fwd Avg Packets/Bulk             int64\n",
       "Fwd Avg Bulk Rate                int64\n",
       "Bwd Avg Bytes/Bulk               int64\n",
       "Bwd Avg Packets/Bulk             int64\n",
       "Bwd Avg Bulk Rate                int64\n",
       "Subflow Fwd Packets              int64\n",
       "Subflow Fwd Bytes                int64\n",
       "Subflow Bwd Packets              int64\n",
       "Subflow Bwd Bytes                int64\n",
       "Init_Win_bytes_forward           int64\n",
       "Init_Win_bytes_backward          int64\n",
       "act_data_pkt_fwd                 int64\n",
       "min_seg_size_forward             int64\n",
       "Active Mean                    float64\n",
       "Active Std                     float64\n",
       "Active Max                       int64\n",
       "Active Min                       int64\n",
       "Idle Mean                      float64\n",
       "Idle Std                       float64\n",
       "Idle Max                         int64\n",
       "Idle Min                         int64\n",
       "Label                           object\n",
       "dtype: object"
      ]
     },
     "execution_count": 6,
     "metadata": {},
     "output_type": "execute_result"
    }
   ],
   "source": [
    "df.dtypes"
   ]
  },
  {
   "cell_type": "code",
   "execution_count": 7,
   "id": "500b0967",
   "metadata": {
    "scrolled": true
   },
   "outputs": [
    {
     "data": {
      "text/plain": [
       "Destination Port                  0\n",
       "Flow Duration                     0\n",
       "Total Fwd Packets                 0\n",
       "Total Backward Packets            0\n",
       "Total Length of Fwd Packets       0\n",
       "Total Length of Bwd Packets       0\n",
       "Fwd Packet Length Max             0\n",
       "Fwd Packet Length Min             0\n",
       "Fwd Packet Length Mean            0\n",
       "Fwd Packet Length Std             0\n",
       "Bwd Packet Length Max             0\n",
       "Bwd Packet Length Min             0\n",
       "Bwd Packet Length Mean            0\n",
       "Bwd Packet Length Std             0\n",
       "Flow Bytes/s                   1358\n",
       "Flow Packets/s                    0\n",
       "Flow IAT Mean                     0\n",
       "Flow IAT Std                      0\n",
       "Flow IAT Max                      0\n",
       "Flow IAT Min                      0\n",
       "Fwd IAT Total                     0\n",
       "Fwd IAT Mean                      0\n",
       "Fwd IAT Std                       0\n",
       "Fwd IAT Max                       0\n",
       "Fwd IAT Min                       0\n",
       "Bwd IAT Total                     0\n",
       "Bwd IAT Mean                      0\n",
       "Bwd IAT Std                       0\n",
       "Bwd IAT Max                       0\n",
       "Bwd IAT Min                       0\n",
       "Fwd PSH Flags                     0\n",
       "Bwd PSH Flags                     0\n",
       "Fwd URG Flags                     0\n",
       "Bwd URG Flags                     0\n",
       "Fwd Header Length                 0\n",
       "Bwd Header Length                 0\n",
       "Fwd Packets/s                     0\n",
       "Bwd Packets/s                     0\n",
       "Min Packet Length                 0\n",
       "Max Packet Length                 0\n",
       "Packet Length Mean                0\n",
       "Packet Length Std                 0\n",
       "Packet Length Variance            0\n",
       "FIN Flag Count                    0\n",
       "SYN Flag Count                    0\n",
       "RST Flag Count                    0\n",
       "PSH Flag Count                    0\n",
       "ACK Flag Count                    0\n",
       "URG Flag Count                    0\n",
       "CWE Flag Count                    0\n",
       "ECE Flag Count                    0\n",
       "Down/Up Ratio                     0\n",
       "Average Packet Size               0\n",
       "Avg Fwd Segment Size              0\n",
       "Avg Bwd Segment Size              0\n",
       "Fwd Header Length.1               0\n",
       "Fwd Avg Bytes/Bulk                0\n",
       "Fwd Avg Packets/Bulk              0\n",
       "Fwd Avg Bulk Rate                 0\n",
       "Bwd Avg Bytes/Bulk                0\n",
       "Bwd Avg Packets/Bulk              0\n",
       "Bwd Avg Bulk Rate                 0\n",
       "Subflow Fwd Packets               0\n",
       "Subflow Fwd Bytes                 0\n",
       "Subflow Bwd Packets               0\n",
       "Subflow Bwd Bytes                 0\n",
       "Init_Win_bytes_forward            0\n",
       "Init_Win_bytes_backward           0\n",
       "act_data_pkt_fwd                  0\n",
       "min_seg_size_forward              0\n",
       "Active Mean                       0\n",
       "Active Std                        0\n",
       "Active Max                        0\n",
       "Active Min                        0\n",
       "Idle Mean                         0\n",
       "Idle Std                          0\n",
       "Idle Max                          0\n",
       "Idle Min                          0\n",
       "Label                             0\n",
       "dtype: int64"
      ]
     },
     "execution_count": 7,
     "metadata": {},
     "output_type": "execute_result"
    }
   ],
   "source": [
    "df.isnull().sum()"
   ]
  },
  {
   "cell_type": "code",
   "execution_count": 8,
   "id": "73960aac",
   "metadata": {},
   "outputs": [],
   "source": [
    "df.replace([np.inf, -np.inf], np.nan, inplace = True)"
   ]
  },
  {
   "cell_type": "code",
   "execution_count": 9,
   "id": "dbdb21aa",
   "metadata": {
    "scrolled": true
   },
   "outputs": [
    {
     "data": {
      "text/plain": [
       "Destination Port                  0\n",
       "Flow Duration                     0\n",
       "Total Fwd Packets                 0\n",
       "Total Backward Packets            0\n",
       "Total Length of Fwd Packets       0\n",
       "Total Length of Bwd Packets       0\n",
       "Fwd Packet Length Max             0\n",
       "Fwd Packet Length Min             0\n",
       "Fwd Packet Length Mean            0\n",
       "Fwd Packet Length Std             0\n",
       "Bwd Packet Length Max             0\n",
       "Bwd Packet Length Min             0\n",
       "Bwd Packet Length Mean            0\n",
       "Bwd Packet Length Std             0\n",
       "Flow Bytes/s                   2867\n",
       "Flow Packets/s                 2867\n",
       "Flow IAT Mean                     0\n",
       "Flow IAT Std                      0\n",
       "Flow IAT Max                      0\n",
       "Flow IAT Min                      0\n",
       "Fwd IAT Total                     0\n",
       "Fwd IAT Mean                      0\n",
       "Fwd IAT Std                       0\n",
       "Fwd IAT Max                       0\n",
       "Fwd IAT Min                       0\n",
       "Bwd IAT Total                     0\n",
       "Bwd IAT Mean                      0\n",
       "Bwd IAT Std                       0\n",
       "Bwd IAT Max                       0\n",
       "Bwd IAT Min                       0\n",
       "Fwd PSH Flags                     0\n",
       "Bwd PSH Flags                     0\n",
       "Fwd URG Flags                     0\n",
       "Bwd URG Flags                     0\n",
       "Fwd Header Length                 0\n",
       "Bwd Header Length                 0\n",
       "Fwd Packets/s                     0\n",
       "Bwd Packets/s                     0\n",
       "Min Packet Length                 0\n",
       "Max Packet Length                 0\n",
       "Packet Length Mean                0\n",
       "Packet Length Std                 0\n",
       "Packet Length Variance            0\n",
       "FIN Flag Count                    0\n",
       "SYN Flag Count                    0\n",
       "RST Flag Count                    0\n",
       "PSH Flag Count                    0\n",
       "ACK Flag Count                    0\n",
       "URG Flag Count                    0\n",
       "CWE Flag Count                    0\n",
       "ECE Flag Count                    0\n",
       "Down/Up Ratio                     0\n",
       "Average Packet Size               0\n",
       "Avg Fwd Segment Size              0\n",
       "Avg Bwd Segment Size              0\n",
       "Fwd Header Length.1               0\n",
       "Fwd Avg Bytes/Bulk                0\n",
       "Fwd Avg Packets/Bulk              0\n",
       "Fwd Avg Bulk Rate                 0\n",
       "Bwd Avg Bytes/Bulk                0\n",
       "Bwd Avg Packets/Bulk              0\n",
       "Bwd Avg Bulk Rate                 0\n",
       "Subflow Fwd Packets               0\n",
       "Subflow Fwd Bytes                 0\n",
       "Subflow Bwd Packets               0\n",
       "Subflow Bwd Bytes                 0\n",
       "Init_Win_bytes_forward            0\n",
       "Init_Win_bytes_backward           0\n",
       "act_data_pkt_fwd                  0\n",
       "min_seg_size_forward              0\n",
       "Active Mean                       0\n",
       "Active Std                        0\n",
       "Active Max                        0\n",
       "Active Min                        0\n",
       "Idle Mean                         0\n",
       "Idle Std                          0\n",
       "Idle Max                          0\n",
       "Idle Min                          0\n",
       "Label                             0\n",
       "dtype: int64"
      ]
     },
     "execution_count": 9,
     "metadata": {},
     "output_type": "execute_result"
    }
   ],
   "source": [
    "df.isnull().sum()"
   ]
  },
  {
   "cell_type": "code",
   "execution_count": 10,
   "id": "eb5b12f5",
   "metadata": {},
   "outputs": [
    {
     "data": {
      "text/plain": [
       "Label\n",
       "BENIGN                        2273097\n",
       "Bot                              1966\n",
       "DDoS                           128027\n",
       "DoS GoldenEye                   10293\n",
       "DoS Hulk                       231073\n",
       "DoS Slowhttptest                 5499\n",
       "DoS slowloris                    5796\n",
       "FTP-Patator                      7938\n",
       "Heartbleed                         11\n",
       "Infiltration                       36\n",
       "PortScan                       158930\n",
       "SSH-Patator                      5897\n",
       "Web Attack � Brute Force         1507\n",
       "Web Attack � Sql Injection         21\n",
       "Web Attack � XSS                  652\n",
       "Name: Label, dtype: int64"
      ]
     },
     "execution_count": 10,
     "metadata": {},
     "output_type": "execute_result"
    }
   ],
   "source": [
    "df.groupby('Label')['Label'].count()"
   ]
  },
  {
   "cell_type": "code",
   "execution_count": 11,
   "id": "9bc5048b",
   "metadata": {},
   "outputs": [
    {
     "data": {
      "text/plain": [
       "Label\n",
       "BENIGN                        3554\n",
       "Bot                             20\n",
       "DDoS                             4\n",
       "DoS GoldenEye                    0\n",
       "DoS Hulk                      1898\n",
       "DoS Slowhttptest                 0\n",
       "DoS slowloris                    0\n",
       "FTP-Patator                      6\n",
       "Heartbleed                       0\n",
       "Infiltration                     0\n",
       "PortScan                       252\n",
       "SSH-Patator                      0\n",
       "Web Attack � Brute Force         0\n",
       "Web Attack � Sql Injection       0\n",
       "Web Attack � XSS                 0\n",
       "dtype: int64"
      ]
     },
     "execution_count": 11,
     "metadata": {},
     "output_type": "execute_result"
    }
   ],
   "source": [
    "df.groupby('Label').apply(lambda x:x.isnull().sum().sum())"
   ]
  },
  {
   "cell_type": "code",
   "execution_count": 12,
   "id": "daa7dddb",
   "metadata": {},
   "outputs": [
    {
     "data": {
      "text/plain": [
       "5734"
      ]
     },
     "execution_count": 12,
     "metadata": {},
     "output_type": "execute_result"
    }
   ],
   "source": [
    "df.isnull().sum().sum()"
   ]
  },
  {
   "cell_type": "code",
   "execution_count": 13,
   "id": "95ab5426",
   "metadata": {
    "scrolled": false
   },
   "outputs": [],
   "source": [
    "# Filling the null values present in a columns by taking the mean of a particular class to which the null values belong in the target class\n",
    "# for i in df.columns:\n",
    "#     if df[i].isnull().sum() > 0:\n",
    "#         for j in df[\"Label\"].unique():\n",
    "#             j_mean = df[df[\"Label\"] == j][i].mean()\n",
    "#             # print(i, j, j_mean, df[df[\"Label\"] == j][i].median())\n",
    "#             df.loc[(df[\"Label\"] == j) & (df[i].isnull()), i] = j_mean\n",
    "\n",
    "# duplicate_rows = df[df.duplicated()]\n",
    "# print(len(duplicate_rows))\n",
    "# df.drop_duplicates(inplace=True)\n",
    "# print(df.shape)"
   ]
  },
  {
   "cell_type": "code",
   "execution_count": 14,
   "id": "d37d434d",
   "metadata": {},
   "outputs": [
    {
     "data": {
      "text/plain": [
       "0"
      ]
     },
     "execution_count": 14,
     "metadata": {},
     "output_type": "execute_result"
    }
   ],
   "source": [
    "# Instead, I found it better to drop rather than replacing them because null values are less than 1% for each class and Duplicates are not dropped\n",
    "df.dropna(inplace = True)\n",
    "df.isnull().sum().sum()"
   ]
  },
  {
   "cell_type": "code",
   "execution_count": 15,
   "id": "8a7f65ca",
   "metadata": {},
   "outputs": [
    {
     "name": "stdout",
     "output_type": "stream",
     "text": [
      "556556\n"
     ]
    }
   ],
   "source": [
    "total_malicious  = 0\n",
    "for i in range(1, len(df.groupby('Label')['Label'].count())):\n",
    "    total_malicious += df.groupby('Label')['Label'].count()[i]\n",
    "print(total_malicious)"
   ]
  },
  {
   "cell_type": "code",
   "execution_count": 16,
   "id": "93135089",
   "metadata": {},
   "outputs": [],
   "source": [
    "temp_class_list = [i for i in df[\"Label\"] if i!=\"BENIGN\"]\n",
    "temp_class_list = [*set(temp_class_list)]\n",
    "df.replace(temp_class_list, \"MALICIOUS\", inplace=True)"
   ]
  },
  {
   "cell_type": "code",
   "execution_count": 17,
   "id": "240f69f0",
   "metadata": {},
   "outputs": [],
   "source": [
    "def expand_categories(values):\n",
    "    result = []\n",
    "    s = values.value_counts()\n",
    "    t = float(len(values))\n",
    "    for v in s.index:\n",
    "        result.append(\"{}:{}%\".format(v,round(100*(s[v]/t),2)))\n",
    "    return \"[{}]\".format(\",\".join(result))\n",
    "        \n",
    "def analyze(df):\n",
    "    cols = df.columns.values\n",
    "    total = float(len(df))\n",
    "    for col in cols:\n",
    "        uniques = df[col].unique()\n",
    "        unique_count = len(uniques)\n",
    "        if unique_count>100:\n",
    "            print(\"--> {}:{} ({}%)\".format(col,unique_count,int(((unique_count)/total)*100)))\n",
    "        else:\n",
    "            print(\"--> {}:{}\".format(col,expand_categories(df[col])))\n",
    "            expand_categories(df[col])"
   ]
  },
  {
   "cell_type": "code",
   "execution_count": 18,
   "id": "dd807a58",
   "metadata": {
    "scrolled": true
   },
   "outputs": [
    {
     "name": "stdout",
     "output_type": "stream",
     "text": [
      "--> Destination Port:53791 (1%)\n",
      "--> Flow Duration:1050898 (37%)\n",
      "--> Total Fwd Packets:1432 (0%)\n",
      "--> Total Backward Packets:1747 (0%)\n",
      "--> Total Length of Fwd Packets:17928 (0%)\n",
      "--> Total Length of Bwd Packets:64698 (2%)\n",
      "--> Fwd Packet Length Max:5279 (0%)\n",
      "--> Fwd Packet Length Min:384 (0%)\n",
      "--> Fwd Packet Length Mean:99716 (3%)\n",
      "--> Fwd Packet Length Std:253909 (8%)\n",
      "--> Bwd Packet Length Max:4838 (0%)\n",
      "--> Bwd Packet Length Min:583 (0%)\n",
      "--> Bwd Packet Length Mean:147614 (5%)\n",
      "--> Bwd Packet Length Std:248869 (8%)\n",
      "--> Flow Bytes/s:1593907 (56%)\n",
      "--> Flow Packets/s:1240163 (43%)\n",
      "--> Flow IAT Mean:1166310 (41%)\n",
      "--> Flow IAT Std:1056642 (37%)\n",
      "--> Flow IAT Max:580288 (20%)\n",
      "--> Flow IAT Min:136316 (4%)\n",
      "--> Fwd IAT Total:493098 (17%)\n",
      "--> Fwd IAT Mean:737737 (26%)\n",
      "--> Fwd IAT Std:700313 (24%)\n",
      "--> Fwd IAT Max:437316 (15%)\n",
      "--> Fwd IAT Min:110631 (3%)\n",
      "--> Bwd IAT Total:414928 (14%)\n",
      "--> Bwd IAT Mean:670824 (23%)\n",
      "--> Bwd IAT Std:709042 (25%)\n",
      "--> Bwd IAT Max:368285 (13%)\n",
      "--> Bwd IAT Min:66074 (2%)\n",
      "--> Fwd PSH Flags:[0:95.36%,1:4.64%]\n",
      "--> Bwd PSH Flags:[0:100.0%]\n",
      "--> Fwd URG Flags:[0:99.99%,1:0.01%]\n",
      "--> Bwd URG Flags:[0:100.0%]\n",
      "--> Fwd Header Length:3771 (0%)\n",
      "--> Bwd Header Length:3945 (0%)\n",
      "--> Fwd Packets/s:1220423 (43%)\n",
      "--> Bwd Packets/s:1107886 (39%)\n",
      "--> Min Packet Length:215 (0%)\n",
      "--> Max Packet Length:5708 (0%)\n",
      "--> Packet Length Mean:215826 (7%)\n",
      "--> Packet Length Std:412246 (14%)\n",
      "--> Packet Length Variance:405565 (14%)\n",
      "--> FIN Flag Count:[0:96.47%,1:3.53%]\n",
      "--> SYN Flag Count:[0:95.36%,1:4.64%]\n",
      "--> RST Flag Count:[0:99.98%,1:0.02%]\n",
      "--> PSH Flag Count:[0:70.17%,1:29.83%]\n",
      "--> ACK Flag Count:[0:68.47%,1:31.53%]\n",
      "--> URG Flag Count:[0:90.52%,1:9.48%]\n",
      "--> CWE Flag Count:[0:99.99%,1:0.01%]\n",
      "--> ECE Flag Count:[0:99.98%,1:0.02%]\n",
      "--> Down/Up Ratio:[1:60.27%,0:37.0%,2:1.77%,5:0.38%,3:0.23%,6:0.23%,4:0.1%,7:0.02%,8:0.0%,29:0.0%,9:0.0%,10:0.0%,12:0.0%,27:0.0%,25:0.0%,32:0.0%,11:0.0%,39:0.0%,43:0.0%,28:0.0%,14:0.0%,35:0.0%,74:0.0%,21:0.0%,156:0.0%,20:0.0%,90:0.0%,108:0.0%,124:0.0%,16:0.0%,26:0.0%]\n",
      "--> Average Packet Size:212207 (7%)\n",
      "--> Avg Fwd Segment Size:99716 (3%)\n",
      "--> Avg Bwd Segment Size:147611 (5%)\n",
      "--> Fwd Header Length.1:3771 (0%)\n",
      "--> Fwd Avg Bytes/Bulk:[0:100.0%]\n",
      "--> Fwd Avg Packets/Bulk:[0:100.0%]\n",
      "--> Fwd Avg Bulk Rate:[0:100.0%]\n",
      "--> Bwd Avg Bytes/Bulk:[0:100.0%]\n",
      "--> Bwd Avg Packets/Bulk:[0:100.0%]\n",
      "--> Bwd Avg Bulk Rate:[0:100.0%]\n",
      "--> Subflow Fwd Packets:1432 (0%)\n",
      "--> Subflow Fwd Bytes:17928 (0%)\n",
      "--> Subflow Bwd Packets:1747 (0%)\n",
      "--> Subflow Bwd Bytes:64738 (2%)\n",
      "--> Init_Win_bytes_forward:12144 (0%)\n",
      "--> Init_Win_bytes_backward:13110 (0%)\n",
      "--> act_data_pkt_fwd:1093 (0%)\n",
      "--> min_seg_size_forward:[20:48.95%,32:40.81%,24:4.99%,40:4.73%,44:0.28%,28:0.16%,0:0.06%,56:0.0%,36:0.0%,60:0.0%,48:0.0%,52:0.0%,8:0.0%,-83885313:0.0%,14:0.0%,-536870660:0.0%,6:0.0%,12:0.0%,93:0.0%,78:0.0%,-536870661:0.0%,138:0.0%,46:0.0%,31:0.0%,10:0.0%,126:0.0%,38:0.0%,-1:0.0%]\n",
      "--> Active Mean:326325 (11%)\n",
      "--> Active Std:202826 (7%)\n",
      "--> Active Max:299565 (10%)\n",
      "--> Active Min:175670 (6%)\n",
      "--> Idle Mean:222016 (7%)\n",
      "--> Idle Std:197616 (6%)\n",
      "--> Idle Max:149737 (5%)\n",
      "--> Idle Min:223888 (7%)\n",
      "--> Label:[BENIGN:80.32%,MALICIOUS:19.68%]\n"
     ]
    }
   ],
   "source": [
    "analyze(df)"
   ]
  },
  {
   "cell_type": "code",
   "execution_count": 19,
   "id": "cb2e7e19",
   "metadata": {},
   "outputs": [
    {
     "data": {
      "image/png": "[encoded data removed]",
      "text/plain": [
       "<Figure size 432x288 with 1 Axes>"
      ]
     },
     "metadata": {
      "needs_background": "light"
     },
     "output_type": "display_data"
    }
   ],
   "source": [
    "class_percentages = df[\"Label\"].value_counts() / df[\"Label\"].value_counts().sum() * 100\n",
    "plt.bar(class_percentages.index, class_percentages.values)\n",
    "plt.title(\"Percentage of Each Class in Target Column\")\n",
    "plt.xlabel(\"Class\")\n",
    "plt.ylabel(\"Percentage\")\n",
    "plt.show()"
   ]
  },
  {
   "cell_type": "code",
   "execution_count": 20,
   "id": "15b7681e",
   "metadata": {
    "scrolled": true
   },
   "outputs": [
    {
     "data": {
      "text/plain": [
       "(2827876, 79)"
      ]
     },
     "execution_count": 20,
     "metadata": {},
     "output_type": "execute_result"
    }
   ],
   "source": [
    "df.shape"
   ]
  },
  {
   "cell_type": "code",
   "execution_count": 21,
   "id": "047f44fe",
   "metadata": {},
   "outputs": [
    {
     "data": {
      "text/plain": [
       "array([0, 1])"
      ]
     },
     "execution_count": 21,
     "metadata": {},
     "output_type": "execute_result"
    }
   ],
   "source": [
    "label_encoder = preprocessing.LabelEncoder()\n",
    "df['Label']= label_encoder.fit_transform(df['Label'])\n",
    "df['Label'].unique()"
   ]
  },
  {
   "cell_type": "markdown",
   "id": "1e8fc208",
   "metadata": {},
   "source": [
    "# Feature Selection"
   ]
  },
  {
   "cell_type": "code",
   "execution_count": 22,
   "id": "d52f3b01",
   "metadata": {},
   "outputs": [],
   "source": [
    "X = df.drop([\"Label\"], axis = 1)\n",
    "y = df[\"Label\"]"
   ]
  },
  {
   "cell_type": "code",
   "execution_count": 23,
   "id": "754f0d7b",
   "metadata": {},
   "outputs": [],
   "source": [
    "# rfr = RandomForestRegressor(random_state=0)\n",
    "# rfr.fit(X, y)"
   ]
  },
  {
   "cell_type": "code",
   "execution_count": 24,
   "id": "81d8bb97",
   "metadata": {},
   "outputs": [],
   "source": [
    "# rfc = RandomForestClassifier()\n",
    "# rfc.fit(X, y)"
   ]
  },
  {
   "cell_type": "code",
   "execution_count": 25,
   "id": "c67d8011",
   "metadata": {},
   "outputs": [],
   "source": [
    "# dtc = DecisionTreeClassifier()\n",
    "# dtc.fit(X, y)"
   ]
  },
  {
   "cell_type": "code",
   "execution_count": 26,
   "id": "c864b6f8",
   "metadata": {},
   "outputs": [],
   "source": [
    "# with open('rfc_model.pkl', 'wb') as fw1:\n",
    "#     pickle.dump(rfc, fw1)\n",
    "# with open('rfr_model.pkl', 'wb') as fw2:\n",
    "#     pickle.dump(rfr, fw2)\n",
    "# with open('dtc_model.pkl', 'wb') as fw3:\n",
    "#     pickle.dump(dtc, fw3)"
   ]
  },
  {
   "cell_type": "code",
   "execution_count": 27,
   "id": "8dadfb85",
   "metadata": {},
   "outputs": [],
   "source": [
    "with open('rfr_model.pkl', 'rb') as fr1:\n",
    "    rfr = pickle.load(fr1)\n",
    "with open('rfc_model.pkl', 'rb') as fr2:\n",
    "    rfc = pickle.load(fr2)\n",
    "with open('dtc_model.pkl', 'rb') as fr3:\n",
    "    dtc = pickle.load(fr3)"
   ]
  },
  {
   "cell_type": "code",
   "execution_count": 28,
   "id": "3624edaa",
   "metadata": {},
   "outputs": [
    {
     "data": {
      "text/plain": [
       "array([1.03054539e-01, 4.04120615e-04, 2.79196847e-04, 3.68205690e-05,\n",
       "       5.85113219e-04, 3.05727429e-04, 3.69272396e-03, 5.01149204e-04,\n",
       "       1.27408763e-04, 9.54197968e-03, 3.22332413e-04, 3.80393968e-04,\n",
       "       7.40252850e-04, 3.76869084e-01, 5.19691526e-04, 5.54387520e-04,\n",
       "       1.85681058e-03, 8.10521414e-04, 2.59050202e-04, 3.83262042e-03,\n",
       "       3.08503330e-04, 1.03620910e-03, 1.84046975e-04, 3.26732884e-03,\n",
       "       5.35980706e-03, 3.78841457e-05, 1.69794210e-03, 1.97030571e-03,\n",
       "       7.46705961e-05, 5.04895277e-04, 5.03192089e-05, 0.00000000e+00,\n",
       "       5.34495892e-07, 0.00000000e+00, 6.49006682e-04, 1.32152741e-01,\n",
       "       7.87442080e-04, 1.01885727e-03, 3.90772801e-04, 9.32754277e-02,\n",
       "       1.23512817e-03, 2.61171638e-04, 3.52909568e-04, 4.57099317e-05,\n",
       "       4.67649538e-06, 0.00000000e+00, 7.16855428e-05, 4.04441199e-05,\n",
       "       3.18196047e-04, 4.46458564e-07, 0.00000000e+00, 2.24834268e-04,\n",
       "       1.89145619e-01, 1.28922347e-04, 8.86326681e-04, 6.86349019e-04,\n",
       "       0.00000000e+00, 0.00000000e+00, 0.00000000e+00, 0.00000000e+00,\n",
       "       0.00000000e+00, 0.00000000e+00, 3.30444430e-04, 6.59368697e-04,\n",
       "       4.57086780e-05, 3.11320747e-04, 2.70854020e-02, 9.20970533e-03,\n",
       "       4.26796285e-04, 1.87501040e-02, 3.45489512e-05, 2.14058791e-03,\n",
       "       3.49364118e-05, 3.74314990e-05, 1.61978507e-05, 2.23950027e-05,\n",
       "       2.16138591e-05, 3.03997190e-05])"
      ]
     },
     "execution_count": 28,
     "metadata": {},
     "output_type": "execute_result"
    }
   ],
   "source": [
    "rfr.feature_importances_"
   ]
  },
  {
   "cell_type": "code",
   "execution_count": 29,
   "id": "ba45b1e3",
   "metadata": {
    "scrolled": true
   },
   "outputs": [
    {
     "data": {
      "text/plain": [
       "array([5.97099675e-02, 1.06793051e-02, 1.17295445e-02, 7.43995433e-03,\n",
       "       3.56135506e-02, 1.99032813e-02, 2.04154720e-02, 3.61358967e-03,\n",
       "       1.56718243e-02, 3.55888509e-03, 1.97200274e-02, 9.49574435e-03,\n",
       "       4.64719389e-02, 5.31854242e-02, 8.91645040e-03, 9.50473030e-03,\n",
       "       8.28436024e-03, 4.58995546e-03, 1.55775727e-02, 4.66382386e-03,\n",
       "       8.30243808e-03, 6.77193099e-03, 9.52605594e-03, 9.83042374e-03,\n",
       "       9.91579076e-03, 1.92856930e-03, 4.79942794e-03, 1.02908781e-03,\n",
       "       2.61300916e-03, 4.53102028e-03, 6.16387584e-04, 0.00000000e+00,\n",
       "       1.83726984e-05, 0.00000000e+00, 1.18023614e-02, 1.26168760e-02,\n",
       "       5.54155099e-03, 1.00851320e-02, 9.11628663e-03, 2.68501558e-02,\n",
       "       3.44893045e-02, 5.87650266e-02, 4.94464581e-02, 1.31548652e-03,\n",
       "       4.35455527e-04, 0.00000000e+00, 8.85417442e-03, 2.11155972e-03,\n",
       "       5.11039771e-03, 3.90020151e-06, 1.09353503e-07, 3.37216491e-03,\n",
       "       5.48280631e-02, 1.77742609e-02, 5.01432060e-02, 2.05181382e-02,\n",
       "       0.00000000e+00, 0.00000000e+00, 0.00000000e+00, 0.00000000e+00,\n",
       "       0.00000000e+00, 0.00000000e+00, 1.64715486e-02, 2.39642967e-02,\n",
       "       6.83664247e-03, 3.16750009e-02, 2.95566528e-02, 1.96599740e-02,\n",
       "       8.28742710e-03, 1.49083720e-02, 1.27864260e-03, 8.50048821e-04,\n",
       "       8.82269106e-04, 5.38193830e-04, 7.70932867e-03, 4.52428166e-04,\n",
       "       1.63196908e-02, 8.80149831e-03])"
      ]
     },
     "execution_count": 29,
     "metadata": {},
     "output_type": "execute_result"
    }
   ],
   "source": [
    "rfc.feature_importances_"
   ]
  },
  {
   "cell_type": "code",
   "execution_count": 30,
   "id": "5a78acc1",
   "metadata": {},
   "outputs": [
    {
     "data": {
      "text/plain": [
       "array([1.01615685e-01, 1.94272253e-04, 3.04108374e-05, 1.48410718e-05,\n",
       "       3.01180852e-04, 4.30659753e-06, 4.88066809e-03, 9.49009334e-04,\n",
       "       6.91991365e-06, 9.46941673e-03, 1.10107380e-04, 1.66909065e-05,\n",
       "       1.70649685e-03, 3.76959708e-01, 4.74172200e-04, 1.09519541e-03,\n",
       "       3.49146452e-03, 8.07774459e-04, 1.64005312e-04, 3.33315383e-03,\n",
       "       5.53378501e-04, 1.15447710e-04, 1.96820330e-04, 3.32811284e-03,\n",
       "       5.37875015e-03, 4.42448870e-05, 2.11604364e-03, 1.96087750e-03,\n",
       "       6.78767379e-05, 1.01791136e-04, 4.47264483e-06, 0.00000000e+00,\n",
       "       0.00000000e+00, 0.00000000e+00, 8.01284155e-04, 1.32170359e-01,\n",
       "       2.67261896e-04, 4.86375048e-04, 3.02757549e-04, 9.30657180e-02,\n",
       "       1.15859592e-03, 1.29340234e-03, 1.14317028e-05, 8.98183110e-05,\n",
       "       0.00000000e+00, 0.00000000e+00, 0.00000000e+00, 2.57695620e-04,\n",
       "       3.21123985e-04, 0.00000000e+00, 0.00000000e+00, 5.30247659e-04,\n",
       "       1.89208471e-01, 1.14220246e-04, 7.62479582e-04, 8.38763513e-04,\n",
       "       0.00000000e+00, 0.00000000e+00, 0.00000000e+00, 0.00000000e+00,\n",
       "       0.00000000e+00, 0.00000000e+00, 1.76124486e-04, 9.46332886e-04,\n",
       "       1.18451940e-05, 3.86771607e-04, 2.68623772e-02, 9.70582120e-03,\n",
       "       5.49435782e-06, 1.84841505e-02, 1.08543622e-05, 2.12630182e-03,\n",
       "       5.45641685e-06, 4.38343741e-05, 1.52928646e-05, 6.72162839e-08,\n",
       "       2.60795666e-05, 1.98939625e-05])"
      ]
     },
     "execution_count": 30,
     "metadata": {},
     "output_type": "execute_result"
    }
   ],
   "source": [
    "dtc.feature_importances_"
   ]
  },
  {
   "cell_type": "code",
   "execution_count": 31,
   "id": "7d7e2b87",
   "metadata": {},
   "outputs": [
    {
     "data": {
      "text/html": [
       "<div>\n",
       "<style scoped>\n",
       "    .dataframe tbody tr th:only-of-type {\n",
       "        vertical-align: middle;\n",
       "    }\n",
       "\n",
       "    .dataframe tbody tr th {\n",
       "        vertical-align: top;\n",
       "    }\n",
       "\n",
       "    .dataframe thead th {\n",
       "        text-align: right;\n",
       "    }\n",
       "</style>\n",
       "<table border=\"1\" class=\"dataframe\">\n",
       "  <thead>\n",
       "    <tr style=\"text-align: right;\">\n",
       "      <th></th>\n",
       "      <th>Feature</th>\n",
       "      <th>Importance</th>\n",
       "    </tr>\n",
       "  </thead>\n",
       "  <tbody>\n",
       "    <tr>\n",
       "      <th>0</th>\n",
       "      <td>Destination Port</td>\n",
       "      <td>0.059710</td>\n",
       "    </tr>\n",
       "    <tr>\n",
       "      <th>1</th>\n",
       "      <td>Packet Length Std</td>\n",
       "      <td>0.058765</td>\n",
       "    </tr>\n",
       "    <tr>\n",
       "      <th>2</th>\n",
       "      <td>Average Packet Size</td>\n",
       "      <td>0.054828</td>\n",
       "    </tr>\n",
       "    <tr>\n",
       "      <th>3</th>\n",
       "      <td>Bwd Packet Length Std</td>\n",
       "      <td>0.053185</td>\n",
       "    </tr>\n",
       "    <tr>\n",
       "      <th>4</th>\n",
       "      <td>Avg Bwd Segment Size</td>\n",
       "      <td>0.050143</td>\n",
       "    </tr>\n",
       "    <tr>\n",
       "      <th>5</th>\n",
       "      <td>Packet Length Variance</td>\n",
       "      <td>0.049446</td>\n",
       "    </tr>\n",
       "    <tr>\n",
       "      <th>6</th>\n",
       "      <td>Bwd Packet Length Mean</td>\n",
       "      <td>0.046472</td>\n",
       "    </tr>\n",
       "    <tr>\n",
       "      <th>7</th>\n",
       "      <td>Total Length of Fwd Packets</td>\n",
       "      <td>0.035614</td>\n",
       "    </tr>\n",
       "    <tr>\n",
       "      <th>8</th>\n",
       "      <td>Packet Length Mean</td>\n",
       "      <td>0.034489</td>\n",
       "    </tr>\n",
       "    <tr>\n",
       "      <th>9</th>\n",
       "      <td>Subflow Bwd Bytes</td>\n",
       "      <td>0.031675</td>\n",
       "    </tr>\n",
       "    <tr>\n",
       "      <th>10</th>\n",
       "      <td>Init_Win_bytes_forward</td>\n",
       "      <td>0.029557</td>\n",
       "    </tr>\n",
       "    <tr>\n",
       "      <th>11</th>\n",
       "      <td>Max Packet Length</td>\n",
       "      <td>0.026850</td>\n",
       "    </tr>\n",
       "    <tr>\n",
       "      <th>12</th>\n",
       "      <td>Subflow Fwd Bytes</td>\n",
       "      <td>0.023964</td>\n",
       "    </tr>\n",
       "    <tr>\n",
       "      <th>13</th>\n",
       "      <td>Fwd Header Length.1</td>\n",
       "      <td>0.020518</td>\n",
       "    </tr>\n",
       "    <tr>\n",
       "      <th>14</th>\n",
       "      <td>Fwd Packet Length Max</td>\n",
       "      <td>0.020415</td>\n",
       "    </tr>\n",
       "    <tr>\n",
       "      <th>15</th>\n",
       "      <td>Total Length of Bwd Packets</td>\n",
       "      <td>0.019903</td>\n",
       "    </tr>\n",
       "    <tr>\n",
       "      <th>16</th>\n",
       "      <td>Bwd Packet Length Max</td>\n",
       "      <td>0.019720</td>\n",
       "    </tr>\n",
       "    <tr>\n",
       "      <th>17</th>\n",
       "      <td>Init_Win_bytes_backward</td>\n",
       "      <td>0.019660</td>\n",
       "    </tr>\n",
       "    <tr>\n",
       "      <th>18</th>\n",
       "      <td>Avg Fwd Segment Size</td>\n",
       "      <td>0.017774</td>\n",
       "    </tr>\n",
       "    <tr>\n",
       "      <th>19</th>\n",
       "      <td>Subflow Fwd Packets</td>\n",
       "      <td>0.016472</td>\n",
       "    </tr>\n",
       "    <tr>\n",
       "      <th>20</th>\n",
       "      <td>Idle Max</td>\n",
       "      <td>0.016320</td>\n",
       "    </tr>\n",
       "    <tr>\n",
       "      <th>21</th>\n",
       "      <td>Fwd Packet Length Mean</td>\n",
       "      <td>0.015672</td>\n",
       "    </tr>\n",
       "    <tr>\n",
       "      <th>22</th>\n",
       "      <td>Flow IAT Max</td>\n",
       "      <td>0.015578</td>\n",
       "    </tr>\n",
       "    <tr>\n",
       "      <th>23</th>\n",
       "      <td>min_seg_size_forward</td>\n",
       "      <td>0.014908</td>\n",
       "    </tr>\n",
       "    <tr>\n",
       "      <th>24</th>\n",
       "      <td>Bwd Header Length</td>\n",
       "      <td>0.012617</td>\n",
       "    </tr>\n",
       "    <tr>\n",
       "      <th>25</th>\n",
       "      <td>Fwd Header Length</td>\n",
       "      <td>0.011802</td>\n",
       "    </tr>\n",
       "    <tr>\n",
       "      <th>26</th>\n",
       "      <td>Total Fwd Packets</td>\n",
       "      <td>0.011730</td>\n",
       "    </tr>\n",
       "    <tr>\n",
       "      <th>27</th>\n",
       "      <td>Flow Duration</td>\n",
       "      <td>0.010679</td>\n",
       "    </tr>\n",
       "    <tr>\n",
       "      <th>28</th>\n",
       "      <td>Bwd Packets/s</td>\n",
       "      <td>0.010085</td>\n",
       "    </tr>\n",
       "    <tr>\n",
       "      <th>29</th>\n",
       "      <td>Fwd IAT Min</td>\n",
       "      <td>0.009916</td>\n",
       "    </tr>\n",
       "    <tr>\n",
       "      <th>30</th>\n",
       "      <td>Fwd IAT Max</td>\n",
       "      <td>0.009830</td>\n",
       "    </tr>\n",
       "    <tr>\n",
       "      <th>31</th>\n",
       "      <td>Fwd IAT Std</td>\n",
       "      <td>0.009526</td>\n",
       "    </tr>\n",
       "    <tr>\n",
       "      <th>32</th>\n",
       "      <td>Flow Packets/s</td>\n",
       "      <td>0.009505</td>\n",
       "    </tr>\n",
       "    <tr>\n",
       "      <th>33</th>\n",
       "      <td>Bwd Packet Length Min</td>\n",
       "      <td>0.009496</td>\n",
       "    </tr>\n",
       "    <tr>\n",
       "      <th>34</th>\n",
       "      <td>Min Packet Length</td>\n",
       "      <td>0.009116</td>\n",
       "    </tr>\n",
       "    <tr>\n",
       "      <th>35</th>\n",
       "      <td>Flow Bytes/s</td>\n",
       "      <td>0.008916</td>\n",
       "    </tr>\n",
       "    <tr>\n",
       "      <th>36</th>\n",
       "      <td>PSH Flag Count</td>\n",
       "      <td>0.008854</td>\n",
       "    </tr>\n",
       "    <tr>\n",
       "      <th>37</th>\n",
       "      <td>Idle Min</td>\n",
       "      <td>0.008801</td>\n",
       "    </tr>\n",
       "    <tr>\n",
       "      <th>38</th>\n",
       "      <td>Fwd IAT Total</td>\n",
       "      <td>0.008302</td>\n",
       "    </tr>\n",
       "  </tbody>\n",
       "</table>\n",
       "</div>"
      ],
      "text/plain": [
       "                        Feature  Importance\n",
       "0              Destination Port    0.059710\n",
       "1             Packet Length Std    0.058765\n",
       "2           Average Packet Size    0.054828\n",
       "3         Bwd Packet Length Std    0.053185\n",
       "4          Avg Bwd Segment Size    0.050143\n",
       "5        Packet Length Variance    0.049446\n",
       "6        Bwd Packet Length Mean    0.046472\n",
       "7   Total Length of Fwd Packets    0.035614\n",
       "8            Packet Length Mean    0.034489\n",
       "9             Subflow Bwd Bytes    0.031675\n",
       "10       Init_Win_bytes_forward    0.029557\n",
       "11            Max Packet Length    0.026850\n",
       "12            Subflow Fwd Bytes    0.023964\n",
       "13          Fwd Header Length.1    0.020518\n",
       "14        Fwd Packet Length Max    0.020415\n",
       "15  Total Length of Bwd Packets    0.019903\n",
       "16        Bwd Packet Length Max    0.019720\n",
       "17      Init_Win_bytes_backward    0.019660\n",
       "18         Avg Fwd Segment Size    0.017774\n",
       "19          Subflow Fwd Packets    0.016472\n",
       "20                     Idle Max    0.016320\n",
       "21       Fwd Packet Length Mean    0.015672\n",
       "22                 Flow IAT Max    0.015578\n",
       "23         min_seg_size_forward    0.014908\n",
       "24            Bwd Header Length    0.012617\n",
       "25            Fwd Header Length    0.011802\n",
       "26            Total Fwd Packets    0.011730\n",
       "27                Flow Duration    0.010679\n",
       "28                Bwd Packets/s    0.010085\n",
       "29                  Fwd IAT Min    0.009916\n",
       "30                  Fwd IAT Max    0.009830\n",
       "31                  Fwd IAT Std    0.009526\n",
       "32               Flow Packets/s    0.009505\n",
       "33        Bwd Packet Length Min    0.009496\n",
       "34            Min Packet Length    0.009116\n",
       "35                 Flow Bytes/s    0.008916\n",
       "36               PSH Flag Count    0.008854\n",
       "37                     Idle Min    0.008801\n",
       "38                Fwd IAT Total    0.008302"
      ]
     },
     "execution_count": 31,
     "metadata": {},
     "output_type": "execute_result"
    }
   ],
   "source": [
    "feature_importances_df = pd.DataFrame({'Feature': [i for i in df.columns if i != \"Label\"], 'Importance': rfc.feature_importances_})\n",
    "feature_importances_df = feature_importances_df.sort_values('Importance', ascending=False)\n",
    "top_39_features = feature_importances_df.head(39)\n",
    "top_39_features = top_39_features.reset_index(drop=True)\n",
    "top_39_features"
   ]
  },
  {
   "cell_type": "code",
   "execution_count": 32,
   "id": "8f6cc6de",
   "metadata": {
    "scrolled": true
   },
   "outputs": [
    {
     "name": "stdout",
     "output_type": "stream",
     "text": [
      "(2827876, 40)\n"
     ]
    }
   ],
   "source": [
    "top_feature_names = top_39_features['Feature'].tolist()\n",
    "top_feature_names.append(\"Label\")\n",
    "top_feature_df = df[top_feature_names]\n",
    "print(top_feature_df.shape)"
   ]
  },
  {
   "cell_type": "markdown",
   "id": "e7c427d4",
   "metadata": {},
   "source": [
    "# Correlation Analysis"
   ]
  },
  {
   "cell_type": "code",
   "execution_count": 33,
   "id": "660f3534",
   "metadata": {},
   "outputs": [
    {
     "data": {
      "image/png": "[encoded data removed]",
      "text/plain": [
       "<Figure size 1080x864 with 2 Axes>"
      ]
     },
     "metadata": {
      "needs_background": "light"
     },
     "output_type": "display_data"
    }
   ],
   "source": [
    "correlation_matrix = top_feature_df.corr()\n",
    "plt.figure(figsize=(15, 12)) \n",
    "sns.heatmap(correlation_matrix, cmap='coolwarm')\n",
    "plt.show()"
   ]
  },
  {
   "cell_type": "code",
   "execution_count": 46,
   "id": "c0061949",
   "metadata": {},
   "outputs": [
    {
     "data": {
      "text/plain": [
       "(2827876, 14)"
      ]
     },
     "execution_count": 46,
     "metadata": {},
     "output_type": "execute_result"
    }
   ],
   "source": [
    "correlation_threshold = 0.9\n",
    "highly_correlated_features = set()\n",
    "for i in range(len(correlation_matrix.columns)):\n",
    "    for j in range(i):\n",
    "        if abs(correlation_matrix.iloc[i, j]) >= correlation_threshold:\n",
    "            colname_i = correlation_matrix.columns[i]\n",
    "            colname_j = correlation_matrix.columns[j]\n",
    "            highly_correlated_features.add(colname_i)\n",
    "            highly_correlated_features.add(colname_j)\n",
    "corr_rem_df = top_feature_df.drop(highly_correlated_features, axis=1)\n",
    "corr_rem_df.shape"
   ]
  },
  {
   "cell_type": "code",
   "execution_count": 49,
   "id": "089f8724",
   "metadata": {},
   "outputs": [],
   "source": [
    "X = corr_rem_df.drop([\"Label\"], axis = 1)\n",
    "y = corr_rem_df[\"Label\"]"
   ]
  },
  {
   "cell_type": "code",
   "execution_count": 50,
   "id": "c5d16f93",
   "metadata": {},
   "outputs": [],
   "source": [
    "mmscaler = preprocessing.MinMaxScaler()\n",
    "X = mmscaler.fit_transform(X)"
   ]
  },
  {
   "cell_type": "code",
   "execution_count": 52,
   "id": "f735be74",
   "metadata": {},
   "outputs": [],
   "source": [
    "X_train, X_test, y_train, y_test = train_test_split(X, y, test_size=0.2, random_state=42)"
   ]
  },
  {
   "cell_type": "code",
   "execution_count": 53,
   "id": "85b86542",
   "metadata": {},
   "outputs": [
    {
     "data": {
      "text/plain": [
       "RandomForestClassifier()"
      ]
     },
     "execution_count": 53,
     "metadata": {},
     "output_type": "execute_result"
    }
   ],
   "source": [
    "model = RandomForestClassifier()\n",
    "model.fit(X_train, y_train)"
   ]
  },
  {
   "cell_type": "code",
   "execution_count": 55,
   "id": "f7adb2e2",
   "metadata": {
    "scrolled": true
   },
   "outputs": [
    {
     "name": "stdout",
     "output_type": "stream",
     "text": [
      "Accuracy: 0.9963294057739367\n",
      "Classification Report:\n",
      "               precision    recall  f1-score   support\n",
      "\n",
      "           0       1.00      1.00      1.00    454089\n",
      "           1       0.99      1.00      0.99    111487\n",
      "\n",
      "    accuracy                           1.00    565576\n",
      "   macro avg       0.99      1.00      0.99    565576\n",
      "weighted avg       1.00      1.00      1.00    565576\n",
      "\n"
     ]
    }
   ],
   "source": [
    "y_pred = model.predict(X_test)\n",
    "accuracy = accuracy_score(y_test, y_pred)\n",
    "print(\"Accuracy:\", accuracy)\n",
    "classification_rep = classification_report(y_test, y_pred)\n",
    "print(\"Classification Report:\\n\", classification_rep)"
   ]
  },
  {
   "cell_type": "code",
   "execution_count": 83,
   "id": "5780b1e9",
   "metadata": {
    "scrolled": true
   },
   "outputs": [
    {
     "data": {
      "text/plain": [
       "DecisionTreeClassifier()"
      ]
     },
     "execution_count": 83,
     "metadata": {},
     "output_type": "execute_result"
    }
   ],
   "source": [
    "clf = DecisionTreeClassifier()\n",
    "clf.fit(X_train, y_train)"
   ]
  },
  {
   "cell_type": "code",
   "execution_count": 84,
   "id": "aa8845d4",
   "metadata": {
    "scrolled": true
   },
   "outputs": [
    {
     "name": "stdout",
     "output_type": "stream",
     "text": [
      "Accuracy: 0.998769219712249\n",
      "Classification Report:\n",
      "               precision    recall  f1-score   support\n",
      "\n",
      "           0       1.00      1.00      1.00    111095\n",
      "           1       1.00      1.00      1.00    111528\n",
      "\n",
      "    accuracy                           1.00    222623\n",
      "   macro avg       1.00      1.00      1.00    222623\n",
      "weighted avg       1.00      1.00      1.00    222623\n",
      "\n"
     ]
    }
   ],
   "source": [
    "y_pred = clf.predict(X_test)\n",
    "accuracy = accuracy_score(y_test, y_pred)\n",
    "print(\"Accuracy:\", accuracy)\n",
    "classification_rep = classification_report(y_test, y_pred)\n",
    "print(\"Classification Report:\\n\", classification_rep)"
   ]
  },
  {
   "cell_type": "code",
   "execution_count": 73,
   "id": "efa2dbaa",
   "metadata": {},
   "outputs": [],
   "source": [
    "corr_rem_df_0 = corr_rem_df[corr_rem_df[\"Label\"] == 0]\n",
    "corr_rem_df_1 = corr_rem_df[corr_rem_df[\"Label\"] == 1]\n",
    "corr_rem_df_0 = resample(corr_rem_df_0,\n",
    "                                 replace=False,   \n",
    "                                 n_samples=len(corr_rem_df_1),     \n",
    "                                 random_state=42)\n",
    "bal_df = pd.concat([corr_rem_df_0, corr_rem_df_1], ignore_index = True)"
   ]
  },
  {
   "cell_type": "code",
   "execution_count": 77,
   "id": "04a5523a",
   "metadata": {
    "scrolled": true
   },
   "outputs": [
    {
     "data": {
      "text/html": [
       "<div>\n",
       "<style scoped>\n",
       "    .dataframe tbody tr th:only-of-type {\n",
       "        vertical-align: middle;\n",
       "    }\n",
       "\n",
       "    .dataframe tbody tr th {\n",
       "        vertical-align: top;\n",
       "    }\n",
       "\n",
       "    .dataframe thead th {\n",
       "        text-align: right;\n",
       "    }\n",
       "</style>\n",
       "<table border=\"1\" class=\"dataframe\">\n",
       "  <thead>\n",
       "    <tr style=\"text-align: right;\">\n",
       "      <th></th>\n",
       "      <th>Destination Port</th>\n",
       "      <th>Init_Win_bytes_forward</th>\n",
       "      <th>Fwd Packet Length Max</th>\n",
       "      <th>Init_Win_bytes_backward</th>\n",
       "      <th>min_seg_size_forward</th>\n",
       "      <th>Bwd Header Length</th>\n",
       "      <th>Bwd Packets/s</th>\n",
       "      <th>Fwd IAT Min</th>\n",
       "      <th>Flow Packets/s</th>\n",
       "      <th>Bwd Packet Length Min</th>\n",
       "      <th>Min Packet Length</th>\n",
       "      <th>Flow Bytes/s</th>\n",
       "      <th>PSH Flag Count</th>\n",
       "      <th>Label</th>\n",
       "    </tr>\n",
       "  </thead>\n",
       "  <tbody>\n",
       "    <tr>\n",
       "      <th>0</th>\n",
       "      <td>53</td>\n",
       "      <td>-1</td>\n",
       "      <td>34</td>\n",
       "      <td>-1</td>\n",
       "      <td>32</td>\n",
       "      <td>64</td>\n",
       "      <td>9708.737864</td>\n",
       "      <td>3</td>\n",
       "      <td>19417.475730</td>\n",
       "      <td>66</td>\n",
       "      <td>34</td>\n",
       "      <td>970873.786400</td>\n",
       "      <td>0</td>\n",
       "      <td>0</td>\n",
       "    </tr>\n",
       "    <tr>\n",
       "      <th>1</th>\n",
       "      <td>443</td>\n",
       "      <td>8192</td>\n",
       "      <td>1349</td>\n",
       "      <td>65535</td>\n",
       "      <td>20</td>\n",
       "      <td>124</td>\n",
       "      <td>8.862970</td>\n",
       "      <td>4</td>\n",
       "      <td>22.157424</td>\n",
       "      <td>2</td>\n",
       "      <td>0</td>\n",
       "      <td>4310.357562</td>\n",
       "      <td>1</td>\n",
       "      <td>0</td>\n",
       "    </tr>\n",
       "    <tr>\n",
       "      <th>2</th>\n",
       "      <td>443</td>\n",
       "      <td>29200</td>\n",
       "      <td>0</td>\n",
       "      <td>-1</td>\n",
       "      <td>40</td>\n",
       "      <td>0</td>\n",
       "      <td>0.000000</td>\n",
       "      <td>997609</td>\n",
       "      <td>0.110827</td>\n",
       "      <td>0</td>\n",
       "      <td>0</td>\n",
       "      <td>0.000000</td>\n",
       "      <td>1</td>\n",
       "      <td>0</td>\n",
       "    </tr>\n",
       "    <tr>\n",
       "      <th>3</th>\n",
       "      <td>53</td>\n",
       "      <td>-1</td>\n",
       "      <td>56</td>\n",
       "      <td>-1</td>\n",
       "      <td>40</td>\n",
       "      <td>20</td>\n",
       "      <td>12.613044</td>\n",
       "      <td>0</td>\n",
       "      <td>25.226089</td>\n",
       "      <td>137</td>\n",
       "      <td>56</td>\n",
       "      <td>2434.317571</td>\n",
       "      <td>0</td>\n",
       "      <td>0</td>\n",
       "    </tr>\n",
       "    <tr>\n",
       "      <th>4</th>\n",
       "      <td>443</td>\n",
       "      <td>65535</td>\n",
       "      <td>389</td>\n",
       "      <td>122</td>\n",
       "      <td>32</td>\n",
       "      <td>936</td>\n",
       "      <td>98.617653</td>\n",
       "      <td>1</td>\n",
       "      <td>163.229218</td>\n",
       "      <td>0</td>\n",
       "      <td>0</td>\n",
       "      <td>137772.261200</td>\n",
       "      <td>1</td>\n",
       "      <td>0</td>\n",
       "    </tr>\n",
       "    <tr>\n",
       "      <th>...</th>\n",
       "      <td>...</td>\n",
       "      <td>...</td>\n",
       "      <td>...</td>\n",
       "      <td>...</td>\n",
       "      <td>...</td>\n",
       "      <td>...</td>\n",
       "      <td>...</td>\n",
       "      <td>...</td>\n",
       "      <td>...</td>\n",
       "      <td>...</td>\n",
       "      <td>...</td>\n",
       "      <td>...</td>\n",
       "      <td>...</td>\n",
       "      <td>...</td>\n",
       "    </tr>\n",
       "    <tr>\n",
       "      <th>1113107</th>\n",
       "      <td>80</td>\n",
       "      <td>29200</td>\n",
       "      <td>326</td>\n",
       "      <td>235</td>\n",
       "      <td>32</td>\n",
       "      <td>168</td>\n",
       "      <td>0.434322</td>\n",
       "      <td>1</td>\n",
       "      <td>1.129236</td>\n",
       "      <td>0</td>\n",
       "      <td>0</td>\n",
       "      <td>1038.723775</td>\n",
       "      <td>1</td>\n",
       "      <td>1</td>\n",
       "    </tr>\n",
       "    <tr>\n",
       "      <th>1113108</th>\n",
       "      <td>80</td>\n",
       "      <td>29200</td>\n",
       "      <td>471</td>\n",
       "      <td>235</td>\n",
       "      <td>32</td>\n",
       "      <td>168</td>\n",
       "      <td>0.434279</td>\n",
       "      <td>176</td>\n",
       "      <td>0.868559</td>\n",
       "      <td>0</td>\n",
       "      <td>0</td>\n",
       "      <td>347.076105</td>\n",
       "      <td>1</td>\n",
       "      <td>1</td>\n",
       "    </tr>\n",
       "    <tr>\n",
       "      <th>1113109</th>\n",
       "      <td>80</td>\n",
       "      <td>29200</td>\n",
       "      <td>314</td>\n",
       "      <td>235</td>\n",
       "      <td>32</td>\n",
       "      <td>200</td>\n",
       "      <td>0.521322</td>\n",
       "      <td>255</td>\n",
       "      <td>1.129531</td>\n",
       "      <td>0</td>\n",
       "      <td>0</td>\n",
       "      <td>1037.952157</td>\n",
       "      <td>1</td>\n",
       "      <td>1</td>\n",
       "    </tr>\n",
       "    <tr>\n",
       "      <th>1113110</th>\n",
       "      <td>80</td>\n",
       "      <td>29200</td>\n",
       "      <td>369</td>\n",
       "      <td>235</td>\n",
       "      <td>32</td>\n",
       "      <td>168</td>\n",
       "      <td>0.434439</td>\n",
       "      <td>168</td>\n",
       "      <td>1.129541</td>\n",
       "      <td>0</td>\n",
       "      <td>0</td>\n",
       "      <td>1042.740546</td>\n",
       "      <td>1</td>\n",
       "      <td>1</td>\n",
       "    </tr>\n",
       "    <tr>\n",
       "      <th>1113111</th>\n",
       "      <td>80</td>\n",
       "      <td>29200</td>\n",
       "      <td>672</td>\n",
       "      <td>237</td>\n",
       "      <td>32</td>\n",
       "      <td>168</td>\n",
       "      <td>0.434321</td>\n",
       "      <td>4</td>\n",
       "      <td>0.868641</td>\n",
       "      <td>0</td>\n",
       "      <td>0</td>\n",
       "      <td>364.568811</td>\n",
       "      <td>1</td>\n",
       "      <td>1</td>\n",
       "    </tr>\n",
       "  </tbody>\n",
       "</table>\n",
       "<p>1113112 rows × 14 columns</p>\n",
       "</div>"
      ],
      "text/plain": [
       "         Destination Port  Init_Win_bytes_forward  Fwd Packet Length Max  \\\n",
       "0                      53                      -1                     34   \n",
       "1                     443                    8192                   1349   \n",
       "2                     443                   29200                      0   \n",
       "3                      53                      -1                     56   \n",
       "4                     443                   65535                    389   \n",
       "...                   ...                     ...                    ...   \n",
       "1113107                80                   29200                    326   \n",
       "1113108                80                   29200                    471   \n",
       "1113109                80                   29200                    314   \n",
       "1113110                80                   29200                    369   \n",
       "1113111                80                   29200                    672   \n",
       "\n",
       "         Init_Win_bytes_backward  min_seg_size_forward  Bwd Header Length  \\\n",
       "0                             -1                    32                 64   \n",
       "1                          65535                    20                124   \n",
       "2                             -1                    40                  0   \n",
       "3                             -1                    40                 20   \n",
       "4                            122                    32                936   \n",
       "...                          ...                   ...                ...   \n",
       "1113107                      235                    32                168   \n",
       "1113108                      235                    32                168   \n",
       "1113109                      235                    32                200   \n",
       "1113110                      235                    32                168   \n",
       "1113111                      237                    32                168   \n",
       "\n",
       "         Bwd Packets/s  Fwd IAT Min  Flow Packets/s  Bwd Packet Length Min  \\\n",
       "0          9708.737864            3    19417.475730                     66   \n",
       "1             8.862970            4       22.157424                      2   \n",
       "2             0.000000       997609        0.110827                      0   \n",
       "3            12.613044            0       25.226089                    137   \n",
       "4            98.617653            1      163.229218                      0   \n",
       "...                ...          ...             ...                    ...   \n",
       "1113107       0.434322            1        1.129236                      0   \n",
       "1113108       0.434279          176        0.868559                      0   \n",
       "1113109       0.521322          255        1.129531                      0   \n",
       "1113110       0.434439          168        1.129541                      0   \n",
       "1113111       0.434321            4        0.868641                      0   \n",
       "\n",
       "         Min Packet Length   Flow Bytes/s  PSH Flag Count  Label  \n",
       "0                       34  970873.786400               0      0  \n",
       "1                        0    4310.357562               1      0  \n",
       "2                        0       0.000000               1      0  \n",
       "3                       56    2434.317571               0      0  \n",
       "4                        0  137772.261200               1      0  \n",
       "...                    ...            ...             ...    ...  \n",
       "1113107                  0    1038.723775               1      1  \n",
       "1113108                  0     347.076105               1      1  \n",
       "1113109                  0    1037.952157               1      1  \n",
       "1113110                  0    1042.740546               1      1  \n",
       "1113111                  0     364.568811               1      1  \n",
       "\n",
       "[1113112 rows x 14 columns]"
      ]
     },
     "execution_count": 77,
     "metadata": {},
     "output_type": "execute_result"
    }
   ],
   "source": [
    "bal_df"
   ]
  },
  {
   "cell_type": "code",
   "execution_count": 80,
   "id": "78f40ce8",
   "metadata": {},
   "outputs": [],
   "source": [
    "X = bal_df.drop([\"Label\"], axis = 1)\n",
    "y = bal_df[\"Label\"]"
   ]
  },
  {
   "cell_type": "code",
   "execution_count": 81,
   "id": "0de076f5",
   "metadata": {},
   "outputs": [],
   "source": [
    "X_train, X_test, y_train, y_test = train_test_split(X, y, test_size=0.2, random_state=42)"
   ]
  },
  {
   "cell_type": "code",
   "execution_count": 89,
   "id": "b9c4eb14",
   "metadata": {},
   "outputs": [
    {
     "data": {
      "text/plain": [
       "RandomForestClassifier()"
      ]
     },
     "execution_count": 89,
     "metadata": {},
     "output_type": "execute_result"
    }
   ],
   "source": [
    "clf = RandomForestClassifier()\n",
    "clf.fit(X_train, y_train)"
   ]
  },
  {
   "cell_type": "code",
   "execution_count": 90,
   "id": "6b2161d6",
   "metadata": {
    "scrolled": true
   },
   "outputs": [
    {
     "name": "stdout",
     "output_type": "stream",
     "text": [
      "Accuracy: 0.9991061121267794\n",
      "Classification Report:\n",
      "               precision    recall  f1-score   support\n",
      "\n",
      "           0       1.00      1.00      1.00    111095\n",
      "           1       1.00      1.00      1.00    111528\n",
      "\n",
      "    accuracy                           1.00    222623\n",
      "   macro avg       1.00      1.00      1.00    222623\n",
      "weighted avg       1.00      1.00      1.00    222623\n",
      "\n"
     ]
    }
   ],
   "source": [
    "y_pred = clf.predict(X_test)\n",
    "accuracy = accuracy_score(y_test, y_pred)\n",
    "print(\"Accuracy:\", accuracy)\n",
    "classification_rep = classification_report(y_test, y_pred)\n",
    "print(\"Classification Report:\\n\", classification_rep)"
   ]
  },
  {
   "cell_type": "code",
   "execution_count": 101,
   "id": "e14a37d1",
   "metadata": {},
   "outputs": [
    {
     "data": {
      "text/plain": [
       "0    445461\n",
       "1    445028\n",
       "Name: Label, dtype: int64"
      ]
     },
     "execution_count": 101,
     "metadata": {},
     "output_type": "execute_result"
    }
   ],
   "source": [
    "y_train.value_counts()"
   ]
  },
  {
   "cell_type": "code",
   "execution_count": 109,
   "id": "4c778f39",
   "metadata": {},
   "outputs": [
    {
     "name": "stdout",
     "output_type": "stream",
     "text": [
      "WARNING: The input does not fit in a single ciphertext, and some operations will be disabled.\n",
      "The following operations are disabled in this setup: matmul, matmul_plain, enc_matmul_plain, conv2d_im2col.\n",
      "If you need to use those operations, try increasing the poly_modulus parameter, to fit your input.\n",
      "WARNING: The input does not fit in a single ciphertext, and some operations will be disabled.\n",
      "The following operations are disabled in this setup: matmul, matmul_plain, enc_matmul_plain, conv2d_im2col.\n",
      "If you need to use those operations, try increasing the poly_modulus parameter, to fit your input.\n",
      "CPU times: total: 14.2 s\n",
      "Wall time: 14.2 s\n"
     ]
    }
   ],
   "source": [
    "%%time\n",
    "context = ts.context(ts.SCHEME_TYPE.CKKS, poly_modulus_degree=8192, coeff_mod_bit_sizes=[60, 40, 40, 60])\n",
    "context.global_scale = 2 ** 20\n",
    "enc_X_train = ts.ckks_vector(context, X_train.values.ravel().tolist())\n",
    "enc_y_train = ts.ckks_vector(context, y_train.values.ravel().tolist())"
   ]
  },
  {
   "cell_type": "code",
   "execution_count": 110,
   "id": "36c8e212",
   "metadata": {},
   "outputs": [
    {
     "ename": "ValueError",
     "evalue": "Expected 2D array, got 1D array instead:\narray=[ 8.0000580e+01  2.7399963e+02 -2.7388207e-05 ...  6.0000644e+00\n  8.0000000e+05 -8.1180240e-04].\nReshape your data either using array.reshape(-1, 1) if your data has a single feature or array.reshape(1, -1) if it contains a single sample.",
     "output_type": "error",
     "traceback": [
      "\u001b[1;31m---------------------------------------------------------------------------\u001b[0m",
      "\u001b[1;31mValueError\u001b[0m                                Traceback (most recent call last)",
      "Input \u001b[1;32mIn [110]\u001b[0m, in \u001b[0;36m<cell line: 2>\u001b[1;34m()\u001b[0m\n\u001b[0;32m      1\u001b[0m dt \u001b[38;5;241m=\u001b[39m DecisionTreeClassifier()\n\u001b[1;32m----> 2\u001b[0m \u001b[43mdt\u001b[49m\u001b[38;5;241;43m.\u001b[39;49m\u001b[43mfit\u001b[49m\u001b[43m(\u001b[49m\u001b[43menc_X_train\u001b[49m\u001b[38;5;241;43m.\u001b[39;49m\u001b[43mdecrypt\u001b[49m\u001b[43m(\u001b[49m\u001b[43m)\u001b[49m\u001b[43m,\u001b[49m\u001b[43m \u001b[49m\u001b[43menc_y_train\u001b[49m\u001b[38;5;241;43m.\u001b[39;49m\u001b[43mdecrypt\u001b[49m\u001b[43m(\u001b[49m\u001b[43m)\u001b[49m\u001b[43m)\u001b[49m\n",
      "File \u001b[1;32mC:\\ProgramData\\Anaconda3\\lib\\site-packages\\sklearn\\tree\\_classes.py:937\u001b[0m, in \u001b[0;36mDecisionTreeClassifier.fit\u001b[1;34m(self, X, y, sample_weight, check_input, X_idx_sorted)\u001b[0m\n\u001b[0;32m    899\u001b[0m \u001b[38;5;28;01mdef\u001b[39;00m \u001b[38;5;21mfit\u001b[39m(\n\u001b[0;32m    900\u001b[0m     \u001b[38;5;28mself\u001b[39m, X, y, sample_weight\u001b[38;5;241m=\u001b[39m\u001b[38;5;28;01mNone\u001b[39;00m, check_input\u001b[38;5;241m=\u001b[39m\u001b[38;5;28;01mTrue\u001b[39;00m, X_idx_sorted\u001b[38;5;241m=\u001b[39m\u001b[38;5;124m\"\u001b[39m\u001b[38;5;124mdeprecated\u001b[39m\u001b[38;5;124m\"\u001b[39m\n\u001b[0;32m    901\u001b[0m ):\n\u001b[0;32m    902\u001b[0m     \u001b[38;5;124;03m\"\"\"Build a decision tree classifier from the training set (X, y).\u001b[39;00m\n\u001b[0;32m    903\u001b[0m \n\u001b[0;32m    904\u001b[0m \u001b[38;5;124;03m    Parameters\u001b[39;00m\n\u001b[1;32m   (...)\u001b[0m\n\u001b[0;32m    934\u001b[0m \u001b[38;5;124;03m        Fitted estimator.\u001b[39;00m\n\u001b[0;32m    935\u001b[0m \u001b[38;5;124;03m    \"\"\"\u001b[39;00m\n\u001b[1;32m--> 937\u001b[0m     \u001b[38;5;28;43msuper\u001b[39;49m\u001b[43m(\u001b[49m\u001b[43m)\u001b[49m\u001b[38;5;241;43m.\u001b[39;49m\u001b[43mfit\u001b[49m\u001b[43m(\u001b[49m\n\u001b[0;32m    938\u001b[0m \u001b[43m        \u001b[49m\u001b[43mX\u001b[49m\u001b[43m,\u001b[49m\n\u001b[0;32m    939\u001b[0m \u001b[43m        \u001b[49m\u001b[43my\u001b[49m\u001b[43m,\u001b[49m\n\u001b[0;32m    940\u001b[0m \u001b[43m        \u001b[49m\u001b[43msample_weight\u001b[49m\u001b[38;5;241;43m=\u001b[39;49m\u001b[43msample_weight\u001b[49m\u001b[43m,\u001b[49m\n\u001b[0;32m    941\u001b[0m \u001b[43m        \u001b[49m\u001b[43mcheck_input\u001b[49m\u001b[38;5;241;43m=\u001b[39;49m\u001b[43mcheck_input\u001b[49m\u001b[43m,\u001b[49m\n\u001b[0;32m    942\u001b[0m \u001b[43m        \u001b[49m\u001b[43mX_idx_sorted\u001b[49m\u001b[38;5;241;43m=\u001b[39;49m\u001b[43mX_idx_sorted\u001b[49m\u001b[43m,\u001b[49m\n\u001b[0;32m    943\u001b[0m \u001b[43m    \u001b[49m\u001b[43m)\u001b[49m\n\u001b[0;32m    944\u001b[0m     \u001b[38;5;28;01mreturn\u001b[39;00m \u001b[38;5;28mself\u001b[39m\n",
      "File \u001b[1;32mC:\\ProgramData\\Anaconda3\\lib\\site-packages\\sklearn\\tree\\_classes.py:165\u001b[0m, in \u001b[0;36mBaseDecisionTree.fit\u001b[1;34m(self, X, y, sample_weight, check_input, X_idx_sorted)\u001b[0m\n\u001b[0;32m    163\u001b[0m check_X_params \u001b[38;5;241m=\u001b[39m \u001b[38;5;28mdict\u001b[39m(dtype\u001b[38;5;241m=\u001b[39mDTYPE, accept_sparse\u001b[38;5;241m=\u001b[39m\u001b[38;5;124m\"\u001b[39m\u001b[38;5;124mcsc\u001b[39m\u001b[38;5;124m\"\u001b[39m)\n\u001b[0;32m    164\u001b[0m check_y_params \u001b[38;5;241m=\u001b[39m \u001b[38;5;28mdict\u001b[39m(ensure_2d\u001b[38;5;241m=\u001b[39m\u001b[38;5;28;01mFalse\u001b[39;00m, dtype\u001b[38;5;241m=\u001b[39m\u001b[38;5;28;01mNone\u001b[39;00m)\n\u001b[1;32m--> 165\u001b[0m X, y \u001b[38;5;241m=\u001b[39m \u001b[38;5;28;43mself\u001b[39;49m\u001b[38;5;241;43m.\u001b[39;49m\u001b[43m_validate_data\u001b[49m\u001b[43m(\u001b[49m\n\u001b[0;32m    166\u001b[0m \u001b[43m    \u001b[49m\u001b[43mX\u001b[49m\u001b[43m,\u001b[49m\u001b[43m \u001b[49m\u001b[43my\u001b[49m\u001b[43m,\u001b[49m\u001b[43m \u001b[49m\u001b[43mvalidate_separately\u001b[49m\u001b[38;5;241;43m=\u001b[39;49m\u001b[43m(\u001b[49m\u001b[43mcheck_X_params\u001b[49m\u001b[43m,\u001b[49m\u001b[43m \u001b[49m\u001b[43mcheck_y_params\u001b[49m\u001b[43m)\u001b[49m\n\u001b[0;32m    167\u001b[0m \u001b[43m\u001b[49m\u001b[43m)\u001b[49m\n\u001b[0;32m    168\u001b[0m \u001b[38;5;28;01mif\u001b[39;00m issparse(X):\n\u001b[0;32m    169\u001b[0m     X\u001b[38;5;241m.\u001b[39msort_indices()\n",
      "File \u001b[1;32mC:\\ProgramData\\Anaconda3\\lib\\site-packages\\sklearn\\base.py:578\u001b[0m, in \u001b[0;36mBaseEstimator._validate_data\u001b[1;34m(self, X, y, reset, validate_separately, **check_params)\u001b[0m\n\u001b[0;32m    572\u001b[0m \u001b[38;5;28;01mif\u001b[39;00m validate_separately:\n\u001b[0;32m    573\u001b[0m     \u001b[38;5;66;03m# We need this because some estimators validate X and y\u001b[39;00m\n\u001b[0;32m    574\u001b[0m     \u001b[38;5;66;03m# separately, and in general, separately calling check_array()\u001b[39;00m\n\u001b[0;32m    575\u001b[0m     \u001b[38;5;66;03m# on X and y isn't equivalent to just calling check_X_y()\u001b[39;00m\n\u001b[0;32m    576\u001b[0m     \u001b[38;5;66;03m# :(\u001b[39;00m\n\u001b[0;32m    577\u001b[0m     check_X_params, check_y_params \u001b[38;5;241m=\u001b[39m validate_separately\n\u001b[1;32m--> 578\u001b[0m     X \u001b[38;5;241m=\u001b[39m check_array(X, \u001b[38;5;241m*\u001b[39m\u001b[38;5;241m*\u001b[39mcheck_X_params)\n\u001b[0;32m    579\u001b[0m     y \u001b[38;5;241m=\u001b[39m check_array(y, \u001b[38;5;241m*\u001b[39m\u001b[38;5;241m*\u001b[39mcheck_y_params)\n\u001b[0;32m    580\u001b[0m \u001b[38;5;28;01melse\u001b[39;00m:\n",
      "File \u001b[1;32mC:\\ProgramData\\Anaconda3\\lib\\site-packages\\sklearn\\utils\\validation.py:769\u001b[0m, in \u001b[0;36mcheck_array\u001b[1;34m(array, accept_sparse, accept_large_sparse, dtype, order, copy, force_all_finite, ensure_2d, allow_nd, ensure_min_samples, ensure_min_features, estimator)\u001b[0m\n\u001b[0;32m    767\u001b[0m     \u001b[38;5;66;03m# If input is 1D raise error\u001b[39;00m\n\u001b[0;32m    768\u001b[0m     \u001b[38;5;28;01mif\u001b[39;00m array\u001b[38;5;241m.\u001b[39mndim \u001b[38;5;241m==\u001b[39m \u001b[38;5;241m1\u001b[39m:\n\u001b[1;32m--> 769\u001b[0m         \u001b[38;5;28;01mraise\u001b[39;00m \u001b[38;5;167;01mValueError\u001b[39;00m(\n\u001b[0;32m    770\u001b[0m             \u001b[38;5;124m\"\u001b[39m\u001b[38;5;124mExpected 2D array, got 1D array instead:\u001b[39m\u001b[38;5;130;01m\\n\u001b[39;00m\u001b[38;5;124marray=\u001b[39m\u001b[38;5;132;01m{}\u001b[39;00m\u001b[38;5;124m.\u001b[39m\u001b[38;5;130;01m\\n\u001b[39;00m\u001b[38;5;124m\"\u001b[39m\n\u001b[0;32m    771\u001b[0m             \u001b[38;5;124m\"\u001b[39m\u001b[38;5;124mReshape your data either using array.reshape(-1, 1) if \u001b[39m\u001b[38;5;124m\"\u001b[39m\n\u001b[0;32m    772\u001b[0m             \u001b[38;5;124m\"\u001b[39m\u001b[38;5;124myour data has a single feature or array.reshape(1, -1) \u001b[39m\u001b[38;5;124m\"\u001b[39m\n\u001b[0;32m    773\u001b[0m             \u001b[38;5;124m\"\u001b[39m\u001b[38;5;124mif it contains a single sample.\u001b[39m\u001b[38;5;124m\"\u001b[39m\u001b[38;5;241m.\u001b[39mformat(array)\n\u001b[0;32m    774\u001b[0m         )\n\u001b[0;32m    776\u001b[0m \u001b[38;5;66;03m# make sure we actually converted to numeric:\u001b[39;00m\n\u001b[0;32m    777\u001b[0m \u001b[38;5;28;01mif\u001b[39;00m dtype_numeric \u001b[38;5;129;01mand\u001b[39;00m array\u001b[38;5;241m.\u001b[39mdtype\u001b[38;5;241m.\u001b[39mkind \u001b[38;5;129;01min\u001b[39;00m \u001b[38;5;124m\"\u001b[39m\u001b[38;5;124mOUSV\u001b[39m\u001b[38;5;124m\"\u001b[39m:\n",
      "\u001b[1;31mValueError\u001b[0m: Expected 2D array, got 1D array instead:\narray=[ 8.0000580e+01  2.7399963e+02 -2.7388207e-05 ...  6.0000644e+00\n  8.0000000e+05 -8.1180240e-04].\nReshape your data either using array.reshape(-1, 1) if your data has a single feature or array.reshape(1, -1) if it contains a single sample."
     ]
    }
   ],
   "source": [
    "dt = DecisionTreeClassifier()\n",
    "dt.fit(enc_X_train.decrypt(), enc_y_train.decrypt())"
   ]
  },
  {
   "cell_type": "code",
   "execution_count": 112,
   "id": "de6dff3b",
   "metadata": {},
   "outputs": [
    {
     "ename": "AttributeError",
     "evalue": "'RandomForestClassifier' object has no attribute 'lr'",
     "output_type": "error",
     "traceback": [
      "\u001b[1;31m---------------------------------------------------------------------------\u001b[0m",
      "\u001b[1;31mAttributeError\u001b[0m                            Traceback (most recent call last)",
      "Input \u001b[1;32mIn [112]\u001b[0m, in \u001b[0;36m<cell line: 34>\u001b[1;34m()\u001b[0m\n\u001b[0;32m     30\u001b[0m         \u001b[38;5;28mself\u001b[39m\u001b[38;5;241m.\u001b[39mweight \u001b[38;5;241m=\u001b[39m \u001b[38;5;28mself\u001b[39m\u001b[38;5;241m.\u001b[39mweight\u001b[38;5;241m.\u001b[39mdecrypt()\n\u001b[0;32m     31\u001b[0m         \u001b[38;5;28mself\u001b[39m\u001b[38;5;241m.\u001b[39mbias \u001b[38;5;241m=\u001b[39m \u001b[38;5;28mself\u001b[39m\u001b[38;5;241m.\u001b[39mbias\u001b[38;5;241m.\u001b[39mdecrypt()\n\u001b[1;32m---> 34\u001b[0m eelr \u001b[38;5;241m=\u001b[39m \u001b[43mEncryptedLR\u001b[49m\u001b[43m(\u001b[49m\u001b[43mmodel\u001b[49m\u001b[43m)\u001b[49m\n",
      "Input \u001b[1;32mIn [112]\u001b[0m, in \u001b[0;36mEncryptedLR.__init__\u001b[1;34m(self, torch_lr)\u001b[0m\n\u001b[0;32m      4\u001b[0m \u001b[38;5;28;01mdef\u001b[39;00m \u001b[38;5;21m__init__\u001b[39m(\u001b[38;5;28mself\u001b[39m, torch_lr):\n\u001b[0;32m      5\u001b[0m     \u001b[38;5;66;03m# TenSEAL processes lists and not torch tensors,\u001b[39;00m\n\u001b[0;32m      6\u001b[0m     \u001b[38;5;66;03m# so we take out the parameters from the PyTorch model\u001b[39;00m\n\u001b[1;32m----> 7\u001b[0m     \u001b[38;5;28mself\u001b[39m\u001b[38;5;241m.\u001b[39mweight \u001b[38;5;241m=\u001b[39m \u001b[43mtorch_lr\u001b[49m\u001b[38;5;241;43m.\u001b[39;49m\u001b[43mlr\u001b[49m\u001b[38;5;241m.\u001b[39mweight\u001b[38;5;241m.\u001b[39mdata\u001b[38;5;241m.\u001b[39mtolist()[\u001b[38;5;241m0\u001b[39m]\n\u001b[0;32m      8\u001b[0m     \u001b[38;5;28mself\u001b[39m\u001b[38;5;241m.\u001b[39mbias \u001b[38;5;241m=\u001b[39m torch_lr\u001b[38;5;241m.\u001b[39mlr\u001b[38;5;241m.\u001b[39mbias\u001b[38;5;241m.\u001b[39mdata\u001b[38;5;241m.\u001b[39mtolist()\n",
      "\u001b[1;31mAttributeError\u001b[0m: 'RandomForestClassifier' object has no attribute 'lr'"
     ]
    }
   ],
   "source": [
    "import torch\n",
    "class EncryptedLR:\n",
    "    \n",
    "    def __init__(self, torch_lr):\n",
    "        # TenSEAL processes lists and not torch tensors,\n",
    "        # so we take out the parameters from the PyTorch model\n",
    "        self.weight = torch_lr.lr.weight.data.tolist()[0]\n",
    "        self.bias = torch_lr.lr.bias.data.tolist()\n",
    "        \n",
    "    def forward(self, enc_x):\n",
    "        # We don't need to perform sigmoid as this model\n",
    "        # will only be used for evaluation, and the label\n",
    "        # can be deduced without applying sigmoid\n",
    "        enc_out = enc_x.dot(self.weight) + self.bias\n",
    "        return enc_out\n",
    "    \n",
    "    def __call__(self, *args, **kwargs):\n",
    "        return self.forward(*args, **kwargs)\n",
    "        \n",
    "    ################################################\n",
    "    ## You can use the functions below to perform ##\n",
    "    ## the evaluation with an encrypted model     ##\n",
    "    ################################################\n",
    "    \n",
    "    def encrypt(self, context):\n",
    "        self.weight = ts.ckks_vector(context, self.weight)\n",
    "        self.bias = ts.ckks_vector(context, self.bias)\n",
    "        \n",
    "    def decrypt(self, context):\n",
    "        self.weight = self.weight.decrypt()\n",
    "        self.bias = self.bias.decrypt()\n",
    "        \n",
    "\n",
    "eelr = EncryptedLR(model)"
   ]
  },
  {
   "cell_type": "code",
   "execution_count": null,
   "id": "6779b8f9",
   "metadata": {},
   "outputs": [],
   "source": []
  }
 ],
 "metadata": {
  "kernelspec": {
   "display_name": "Python 3 (ipykernel)",
   "language": "python",
   "name": "python3"
  },
  "language_info": {
   "codemirror_mode": {
    "name": "ipython",
    "version": 3
   },
   "file_extension": ".py",
   "mimetype": "text/x-python",
   "name": "python",
   "nbconvert_exporter": "python",
   "pygments_lexer": "ipython3",
   "version": "3.9.12"
  }
 },
 "nbformat": 4,
 "nbformat_minor": 5
}
