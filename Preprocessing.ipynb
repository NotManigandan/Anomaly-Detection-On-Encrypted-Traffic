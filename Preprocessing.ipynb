{
 "cells": [
  {
   "cell_type": "markdown",
   "id": "d8d45928",
   "metadata": {},
   "source": [
    "# Importing Libraries and Dataset"
   ]
  },
  {
   "cell_type": "code",
   "execution_count": 1,
   "id": "c91c6f3d",
   "metadata": {},
   "outputs": [
    {
     "name": "stderr",
     "output_type": "stream",
     "text": [
      "Intel(R) Extension for Scikit-learn* enabled (https://github.com/intel/scikit-learn-intelex)\n"
     ]
    }
   ],
   "source": [
    "from sklearnex import patch_sklearn\n",
    "patch_sklearn()\n",
    "import os\n",
    "import time\n",
    "import numpy as np\n",
    "import pandas as pd\n",
    "import matplotlib.pyplot as plt\n",
    "%matplotlib inline\n",
    "import seaborn as sns\n",
    "import sklearn as sk\n",
    "from sklearn import preprocessing\n",
    "from sklearn.impute import KNNImputer\n",
    "from sklearn.utils import resample\n",
    "from sklearn.model_selection import train_test_split\n",
    "from sklearn.linear_model import LogisticRegression\n",
    "from sklearn.ensemble import RandomForestRegressor, RandomForestClassifier\n",
    "from sklearn.tree import DecisionTreeClassifier\n",
    "from sklearn.model_selection import RandomizedSearchCV\n",
    "from sklearn.metrics import confusion_matrix,accuracy_score, classification_report\n",
    "import pickle\n",
    "import tenseal as ts"
   ]
  },
  {
   "cell_type": "code",
   "execution_count": 2,
   "id": "56f3d385",
   "metadata": {},
   "outputs": [],
   "source": [
    "pd.options.display.max_rows = 80"
   ]
  },
  {
   "cell_type": "code",
   "execution_count": 3,
   "id": "25b9b741",
   "metadata": {},
   "outputs": [],
   "source": [
    "folder_path = r\"C:\\Users\\invite1\\Downloads\\CIC IDS Dataset\\MachineLearningCVE\" #folder path which contains all the CSV files\n",
    "csv = [i for i in os.listdir(folder_path) if i.endswith(\".csv\")]\n",
    "dfs = []\n",
    "for i in csv:\n",
    "    file_path = os.path.join(folder_path, i)\n",
    "    temp_df = pd.read_csv(file_path)\n",
    "    dfs.append(temp_df)\n",
    "df = pd.concat(dfs, ignore_index = True)"
   ]
  },
  {
   "cell_type": "markdown",
   "id": "ba1b5489",
   "metadata": {},
   "source": [
    "# Analysis & Preprocessing"
   ]
  },
  {
   "cell_type": "code",
   "execution_count": 4,
   "id": "6a4afbc6",
   "metadata": {},
   "outputs": [
    {
     "data": {
      "text/html": [
       "<div>\n",
       "<style scoped>\n",
       "    .dataframe tbody tr th:only-of-type {\n",
       "        vertical-align: middle;\n",
       "    }\n",
       "\n",
       "    .dataframe tbody tr th {\n",
       "        vertical-align: top;\n",
       "    }\n",
       "\n",
       "    .dataframe thead th {\n",
       "        text-align: right;\n",
       "    }\n",
       "</style>\n",
       "<table border=\"1\" class=\"dataframe\">\n",
       "  <thead>\n",
       "    <tr style=\"text-align: right;\">\n",
       "      <th></th>\n",
       "      <th>Destination Port</th>\n",
       "      <th>Flow Duration</th>\n",
       "      <th>Total Fwd Packets</th>\n",
       "      <th>Total Backward Packets</th>\n",
       "      <th>Total Length of Fwd Packets</th>\n",
       "      <th>Total Length of Bwd Packets</th>\n",
       "      <th>Fwd Packet Length Max</th>\n",
       "      <th>Fwd Packet Length Min</th>\n",
       "      <th>Fwd Packet Length Mean</th>\n",
       "      <th>Fwd Packet Length Std</th>\n",
       "      <th>...</th>\n",
       "      <th>min_seg_size_forward</th>\n",
       "      <th>Active Mean</th>\n",
       "      <th>Active Std</th>\n",
       "      <th>Active Max</th>\n",
       "      <th>Active Min</th>\n",
       "      <th>Idle Mean</th>\n",
       "      <th>Idle Std</th>\n",
       "      <th>Idle Max</th>\n",
       "      <th>Idle Min</th>\n",
       "      <th>Label</th>\n",
       "    </tr>\n",
       "  </thead>\n",
       "  <tbody>\n",
       "    <tr>\n",
       "      <th>0</th>\n",
       "      <td>54865</td>\n",
       "      <td>3</td>\n",
       "      <td>2</td>\n",
       "      <td>0</td>\n",
       "      <td>12</td>\n",
       "      <td>0</td>\n",
       "      <td>6</td>\n",
       "      <td>6</td>\n",
       "      <td>6.0</td>\n",
       "      <td>0.0</td>\n",
       "      <td>...</td>\n",
       "      <td>20</td>\n",
       "      <td>0.0</td>\n",
       "      <td>0.0</td>\n",
       "      <td>0</td>\n",
       "      <td>0</td>\n",
       "      <td>0.0</td>\n",
       "      <td>0.0</td>\n",
       "      <td>0</td>\n",
       "      <td>0</td>\n",
       "      <td>BENIGN</td>\n",
       "    </tr>\n",
       "    <tr>\n",
       "      <th>1</th>\n",
       "      <td>55054</td>\n",
       "      <td>109</td>\n",
       "      <td>1</td>\n",
       "      <td>1</td>\n",
       "      <td>6</td>\n",
       "      <td>6</td>\n",
       "      <td>6</td>\n",
       "      <td>6</td>\n",
       "      <td>6.0</td>\n",
       "      <td>0.0</td>\n",
       "      <td>...</td>\n",
       "      <td>20</td>\n",
       "      <td>0.0</td>\n",
       "      <td>0.0</td>\n",
       "      <td>0</td>\n",
       "      <td>0</td>\n",
       "      <td>0.0</td>\n",
       "      <td>0.0</td>\n",
       "      <td>0</td>\n",
       "      <td>0</td>\n",
       "      <td>BENIGN</td>\n",
       "    </tr>\n",
       "    <tr>\n",
       "      <th>2</th>\n",
       "      <td>55055</td>\n",
       "      <td>52</td>\n",
       "      <td>1</td>\n",
       "      <td>1</td>\n",
       "      <td>6</td>\n",
       "      <td>6</td>\n",
       "      <td>6</td>\n",
       "      <td>6</td>\n",
       "      <td>6.0</td>\n",
       "      <td>0.0</td>\n",
       "      <td>...</td>\n",
       "      <td>20</td>\n",
       "      <td>0.0</td>\n",
       "      <td>0.0</td>\n",
       "      <td>0</td>\n",
       "      <td>0</td>\n",
       "      <td>0.0</td>\n",
       "      <td>0.0</td>\n",
       "      <td>0</td>\n",
       "      <td>0</td>\n",
       "      <td>BENIGN</td>\n",
       "    </tr>\n",
       "    <tr>\n",
       "      <th>3</th>\n",
       "      <td>46236</td>\n",
       "      <td>34</td>\n",
       "      <td>1</td>\n",
       "      <td>1</td>\n",
       "      <td>6</td>\n",
       "      <td>6</td>\n",
       "      <td>6</td>\n",
       "      <td>6</td>\n",
       "      <td>6.0</td>\n",
       "      <td>0.0</td>\n",
       "      <td>...</td>\n",
       "      <td>20</td>\n",
       "      <td>0.0</td>\n",
       "      <td>0.0</td>\n",
       "      <td>0</td>\n",
       "      <td>0</td>\n",
       "      <td>0.0</td>\n",
       "      <td>0.0</td>\n",
       "      <td>0</td>\n",
       "      <td>0</td>\n",
       "      <td>BENIGN</td>\n",
       "    </tr>\n",
       "    <tr>\n",
       "      <th>4</th>\n",
       "      <td>54863</td>\n",
       "      <td>3</td>\n",
       "      <td>2</td>\n",
       "      <td>0</td>\n",
       "      <td>12</td>\n",
       "      <td>0</td>\n",
       "      <td>6</td>\n",
       "      <td>6</td>\n",
       "      <td>6.0</td>\n",
       "      <td>0.0</td>\n",
       "      <td>...</td>\n",
       "      <td>20</td>\n",
       "      <td>0.0</td>\n",
       "      <td>0.0</td>\n",
       "      <td>0</td>\n",
       "      <td>0</td>\n",
       "      <td>0.0</td>\n",
       "      <td>0.0</td>\n",
       "      <td>0</td>\n",
       "      <td>0</td>\n",
       "      <td>BENIGN</td>\n",
       "    </tr>\n",
       "  </tbody>\n",
       "</table>\n",
       "<p>5 rows × 79 columns</p>\n",
       "</div>"
      ],
      "text/plain": [
       "   Destination Port  Flow Duration  Total Fwd Packets  Total Backward Packets  \\\n",
       "0             54865              3                  2                       0   \n",
       "1             55054            109                  1                       1   \n",
       "2             55055             52                  1                       1   \n",
       "3             46236             34                  1                       1   \n",
       "4             54863              3                  2                       0   \n",
       "\n",
       "   Total Length of Fwd Packets  Total Length of Bwd Packets  \\\n",
       "0                           12                            0   \n",
       "1                            6                            6   \n",
       "2                            6                            6   \n",
       "3                            6                            6   \n",
       "4                           12                            0   \n",
       "\n",
       "   Fwd Packet Length Max  Fwd Packet Length Min  Fwd Packet Length Mean  \\\n",
       "0                      6                      6                     6.0   \n",
       "1                      6                      6                     6.0   \n",
       "2                      6                      6                     6.0   \n",
       "3                      6                      6                     6.0   \n",
       "4                      6                      6                     6.0   \n",
       "\n",
       "   Fwd Packet Length Std  ...  min_seg_size_forward  Active Mean  Active Std  \\\n",
       "0                    0.0  ...                    20          0.0         0.0   \n",
       "1                    0.0  ...                    20          0.0         0.0   \n",
       "2                    0.0  ...                    20          0.0         0.0   \n",
       "3                    0.0  ...                    20          0.0         0.0   \n",
       "4                    0.0  ...                    20          0.0         0.0   \n",
       "\n",
       "   Active Max  Active Min  Idle Mean  Idle Std  Idle Max  Idle Min   Label  \n",
       "0           0           0        0.0       0.0         0         0  BENIGN  \n",
       "1           0           0        0.0       0.0         0         0  BENIGN  \n",
       "2           0           0        0.0       0.0         0         0  BENIGN  \n",
       "3           0           0        0.0       0.0         0         0  BENIGN  \n",
       "4           0           0        0.0       0.0         0         0  BENIGN  \n",
       "\n",
       "[5 rows x 79 columns]"
      ]
     },
     "execution_count": 4,
     "metadata": {},
     "output_type": "execute_result"
    }
   ],
   "source": [
    "df.columns = df.columns.str.strip()\n",
    "columns = df.columns\n",
    "df.head()"
   ]
  },
  {
   "cell_type": "code",
   "execution_count": 5,
   "id": "2edd41b3",
   "metadata": {
    "scrolled": true
   },
   "outputs": [
    {
     "data": {
      "text/plain": [
       "(2830743, 79)"
      ]
     },
     "execution_count": 5,
     "metadata": {},
     "output_type": "execute_result"
    }
   ],
   "source": [
    "df.shape"
   ]
  },
  {
   "cell_type": "code",
   "execution_count": 6,
   "id": "53d0d093",
   "metadata": {
    "scrolled": true
   },
   "outputs": [
    {
     "data": {
      "text/plain": [
       "Destination Port                 int64\n",
       "Flow Duration                    int64\n",
       "Total Fwd Packets                int64\n",
       "Total Backward Packets           int64\n",
       "Total Length of Fwd Packets      int64\n",
       "Total Length of Bwd Packets      int64\n",
       "Fwd Packet Length Max            int64\n",
       "Fwd Packet Length Min            int64\n",
       "Fwd Packet Length Mean         float64\n",
       "Fwd Packet Length Std          float64\n",
       "Bwd Packet Length Max            int64\n",
       "Bwd Packet Length Min            int64\n",
       "Bwd Packet Length Mean         float64\n",
       "Bwd Packet Length Std          float64\n",
       "Flow Bytes/s                   float64\n",
       "Flow Packets/s                 float64\n",
       "Flow IAT Mean                  float64\n",
       "Flow IAT Std                   float64\n",
       "Flow IAT Max                     int64\n",
       "Flow IAT Min                     int64\n",
       "Fwd IAT Total                    int64\n",
       "Fwd IAT Mean                   float64\n",
       "Fwd IAT Std                    float64\n",
       "Fwd IAT Max                      int64\n",
       "Fwd IAT Min                      int64\n",
       "Bwd IAT Total                    int64\n",
       "Bwd IAT Mean                   float64\n",
       "Bwd IAT Std                    float64\n",
       "Bwd IAT Max                      int64\n",
       "Bwd IAT Min                      int64\n",
       "Fwd PSH Flags                    int64\n",
       "Bwd PSH Flags                    int64\n",
       "Fwd URG Flags                    int64\n",
       "Bwd URG Flags                    int64\n",
       "Fwd Header Length                int64\n",
       "Bwd Header Length                int64\n",
       "Fwd Packets/s                  float64\n",
       "Bwd Packets/s                  float64\n",
       "Min Packet Length                int64\n",
       "Max Packet Length                int64\n",
       "Packet Length Mean             float64\n",
       "Packet Length Std              float64\n",
       "Packet Length Variance         float64\n",
       "FIN Flag Count                   int64\n",
       "SYN Flag Count                   int64\n",
       "RST Flag Count                   int64\n",
       "PSH Flag Count                   int64\n",
       "ACK Flag Count                   int64\n",
       "URG Flag Count                   int64\n",
       "CWE Flag Count                   int64\n",
       "ECE Flag Count                   int64\n",
       "Down/Up Ratio                    int64\n",
       "Average Packet Size            float64\n",
       "Avg Fwd Segment Size           float64\n",
       "Avg Bwd Segment Size           float64\n",
       "Fwd Header Length.1              int64\n",
       "Fwd Avg Bytes/Bulk               int64\n",
       "Fwd Avg Packets/Bulk             int64\n",
       "Fwd Avg Bulk Rate                int64\n",
       "Bwd Avg Bytes/Bulk               int64\n",
       "Bwd Avg Packets/Bulk             int64\n",
       "Bwd Avg Bulk Rate                int64\n",
       "Subflow Fwd Packets              int64\n",
       "Subflow Fwd Bytes                int64\n",
       "Subflow Bwd Packets              int64\n",
       "Subflow Bwd Bytes                int64\n",
       "Init_Win_bytes_forward           int64\n",
       "Init_Win_bytes_backward          int64\n",
       "act_data_pkt_fwd                 int64\n",
       "min_seg_size_forward             int64\n",
       "Active Mean                    float64\n",
       "Active Std                     float64\n",
       "Active Max                       int64\n",
       "Active Min                       int64\n",
       "Idle Mean                      float64\n",
       "Idle Std                       float64\n",
       "Idle Max                         int64\n",
       "Idle Min                         int64\n",
       "Label                           object\n",
       "dtype: object"
      ]
     },
     "execution_count": 6,
     "metadata": {},
     "output_type": "execute_result"
    }
   ],
   "source": [
    "df.dtypes"
   ]
  },
  {
   "cell_type": "code",
   "execution_count": 7,
   "id": "500b0967",
   "metadata": {
    "scrolled": true
   },
   "outputs": [
    {
     "data": {
      "text/plain": [
       "Destination Port                  0\n",
       "Flow Duration                     0\n",
       "Total Fwd Packets                 0\n",
       "Total Backward Packets            0\n",
       "Total Length of Fwd Packets       0\n",
       "Total Length of Bwd Packets       0\n",
       "Fwd Packet Length Max             0\n",
       "Fwd Packet Length Min             0\n",
       "Fwd Packet Length Mean            0\n",
       "Fwd Packet Length Std             0\n",
       "Bwd Packet Length Max             0\n",
       "Bwd Packet Length Min             0\n",
       "Bwd Packet Length Mean            0\n",
       "Bwd Packet Length Std             0\n",
       "Flow Bytes/s                   1358\n",
       "Flow Packets/s                    0\n",
       "Flow IAT Mean                     0\n",
       "Flow IAT Std                      0\n",
       "Flow IAT Max                      0\n",
       "Flow IAT Min                      0\n",
       "Fwd IAT Total                     0\n",
       "Fwd IAT Mean                      0\n",
       "Fwd IAT Std                       0\n",
       "Fwd IAT Max                       0\n",
       "Fwd IAT Min                       0\n",
       "Bwd IAT Total                     0\n",
       "Bwd IAT Mean                      0\n",
       "Bwd IAT Std                       0\n",
       "Bwd IAT Max                       0\n",
       "Bwd IAT Min                       0\n",
       "Fwd PSH Flags                     0\n",
       "Bwd PSH Flags                     0\n",
       "Fwd URG Flags                     0\n",
       "Bwd URG Flags                     0\n",
       "Fwd Header Length                 0\n",
       "Bwd Header Length                 0\n",
       "Fwd Packets/s                     0\n",
       "Bwd Packets/s                     0\n",
       "Min Packet Length                 0\n",
       "Max Packet Length                 0\n",
       "Packet Length Mean                0\n",
       "Packet Length Std                 0\n",
       "Packet Length Variance            0\n",
       "FIN Flag Count                    0\n",
       "SYN Flag Count                    0\n",
       "RST Flag Count                    0\n",
       "PSH Flag Count                    0\n",
       "ACK Flag Count                    0\n",
       "URG Flag Count                    0\n",
       "CWE Flag Count                    0\n",
       "ECE Flag Count                    0\n",
       "Down/Up Ratio                     0\n",
       "Average Packet Size               0\n",
       "Avg Fwd Segment Size              0\n",
       "Avg Bwd Segment Size              0\n",
       "Fwd Header Length.1               0\n",
       "Fwd Avg Bytes/Bulk                0\n",
       "Fwd Avg Packets/Bulk              0\n",
       "Fwd Avg Bulk Rate                 0\n",
       "Bwd Avg Bytes/Bulk                0\n",
       "Bwd Avg Packets/Bulk              0\n",
       "Bwd Avg Bulk Rate                 0\n",
       "Subflow Fwd Packets               0\n",
       "Subflow Fwd Bytes                 0\n",
       "Subflow Bwd Packets               0\n",
       "Subflow Bwd Bytes                 0\n",
       "Init_Win_bytes_forward            0\n",
       "Init_Win_bytes_backward           0\n",
       "act_data_pkt_fwd                  0\n",
       "min_seg_size_forward              0\n",
       "Active Mean                       0\n",
       "Active Std                        0\n",
       "Active Max                        0\n",
       "Active Min                        0\n",
       "Idle Mean                         0\n",
       "Idle Std                          0\n",
       "Idle Max                          0\n",
       "Idle Min                          0\n",
       "Label                             0\n",
       "dtype: int64"
      ]
     },
     "execution_count": 7,
     "metadata": {},
     "output_type": "execute_result"
    }
   ],
   "source": [
    "df.isnull().sum()"
   ]
  },
  {
   "cell_type": "code",
   "execution_count": 8,
   "id": "73960aac",
   "metadata": {},
   "outputs": [],
   "source": [
    "df.replace([np.inf, -np.inf], np.nan, inplace = True)"
   ]
  },
  {
   "cell_type": "code",
   "execution_count": 9,
   "id": "dbdb21aa",
   "metadata": {
    "scrolled": true
   },
   "outputs": [
    {
     "data": {
      "text/plain": [
       "Destination Port                  0\n",
       "Flow Duration                     0\n",
       "Total Fwd Packets                 0\n",
       "Total Backward Packets            0\n",
       "Total Length of Fwd Packets       0\n",
       "Total Length of Bwd Packets       0\n",
       "Fwd Packet Length Max             0\n",
       "Fwd Packet Length Min             0\n",
       "Fwd Packet Length Mean            0\n",
       "Fwd Packet Length Std             0\n",
       "Bwd Packet Length Max             0\n",
       "Bwd Packet Length Min             0\n",
       "Bwd Packet Length Mean            0\n",
       "Bwd Packet Length Std             0\n",
       "Flow Bytes/s                   2867\n",
       "Flow Packets/s                 2867\n",
       "Flow IAT Mean                     0\n",
       "Flow IAT Std                      0\n",
       "Flow IAT Max                      0\n",
       "Flow IAT Min                      0\n",
       "Fwd IAT Total                     0\n",
       "Fwd IAT Mean                      0\n",
       "Fwd IAT Std                       0\n",
       "Fwd IAT Max                       0\n",
       "Fwd IAT Min                       0\n",
       "Bwd IAT Total                     0\n",
       "Bwd IAT Mean                      0\n",
       "Bwd IAT Std                       0\n",
       "Bwd IAT Max                       0\n",
       "Bwd IAT Min                       0\n",
       "Fwd PSH Flags                     0\n",
       "Bwd PSH Flags                     0\n",
       "Fwd URG Flags                     0\n",
       "Bwd URG Flags                     0\n",
       "Fwd Header Length                 0\n",
       "Bwd Header Length                 0\n",
       "Fwd Packets/s                     0\n",
       "Bwd Packets/s                     0\n",
       "Min Packet Length                 0\n",
       "Max Packet Length                 0\n",
       "Packet Length Mean                0\n",
       "Packet Length Std                 0\n",
       "Packet Length Variance            0\n",
       "FIN Flag Count                    0\n",
       "SYN Flag Count                    0\n",
       "RST Flag Count                    0\n",
       "PSH Flag Count                    0\n",
       "ACK Flag Count                    0\n",
       "URG Flag Count                    0\n",
       "CWE Flag Count                    0\n",
       "ECE Flag Count                    0\n",
       "Down/Up Ratio                     0\n",
       "Average Packet Size               0\n",
       "Avg Fwd Segment Size              0\n",
       "Avg Bwd Segment Size              0\n",
       "Fwd Header Length.1               0\n",
       "Fwd Avg Bytes/Bulk                0\n",
       "Fwd Avg Packets/Bulk              0\n",
       "Fwd Avg Bulk Rate                 0\n",
       "Bwd Avg Bytes/Bulk                0\n",
       "Bwd Avg Packets/Bulk              0\n",
       "Bwd Avg Bulk Rate                 0\n",
       "Subflow Fwd Packets               0\n",
       "Subflow Fwd Bytes                 0\n",
       "Subflow Bwd Packets               0\n",
       "Subflow Bwd Bytes                 0\n",
       "Init_Win_bytes_forward            0\n",
       "Init_Win_bytes_backward           0\n",
       "act_data_pkt_fwd                  0\n",
       "min_seg_size_forward              0\n",
       "Active Mean                       0\n",
       "Active Std                        0\n",
       "Active Max                        0\n",
       "Active Min                        0\n",
       "Idle Mean                         0\n",
       "Idle Std                          0\n",
       "Idle Max                          0\n",
       "Idle Min                          0\n",
       "Label                             0\n",
       "dtype: int64"
      ]
     },
     "execution_count": 9,
     "metadata": {},
     "output_type": "execute_result"
    }
   ],
   "source": [
    "df.isnull().sum()"
   ]
  },
  {
   "cell_type": "code",
   "execution_count": 10,
   "id": "eb5b12f5",
   "metadata": {},
   "outputs": [
    {
     "data": {
      "text/plain": [
       "Label\n",
       "BENIGN                        2273097\n",
       "Bot                              1966\n",
       "DDoS                           128027\n",
       "DoS GoldenEye                   10293\n",
       "DoS Hulk                       231073\n",
       "DoS Slowhttptest                 5499\n",
       "DoS slowloris                    5796\n",
       "FTP-Patator                      7938\n",
       "Heartbleed                         11\n",
       "Infiltration                       36\n",
       "PortScan                       158930\n",
       "SSH-Patator                      5897\n",
       "Web Attack � Brute Force         1507\n",
       "Web Attack � Sql Injection         21\n",
       "Web Attack � XSS                  652\n",
       "Name: Label, dtype: int64"
      ]
     },
     "execution_count": 10,
     "metadata": {},
     "output_type": "execute_result"
    }
   ],
   "source": [
    "df.groupby('Label')['Label'].count()"
   ]
  },
  {
   "cell_type": "code",
   "execution_count": 11,
   "id": "9bc5048b",
   "metadata": {},
   "outputs": [
    {
     "data": {
      "text/plain": [
       "Label\n",
       "BENIGN                        3554\n",
       "Bot                             20\n",
       "DDoS                             4\n",
       "DoS GoldenEye                    0\n",
       "DoS Hulk                      1898\n",
       "DoS Slowhttptest                 0\n",
       "DoS slowloris                    0\n",
       "FTP-Patator                      6\n",
       "Heartbleed                       0\n",
       "Infiltration                     0\n",
       "PortScan                       252\n",
       "SSH-Patator                      0\n",
       "Web Attack � Brute Force         0\n",
       "Web Attack � Sql Injection       0\n",
       "Web Attack � XSS                 0\n",
       "dtype: int64"
      ]
     },
     "execution_count": 11,
     "metadata": {},
     "output_type": "execute_result"
    }
   ],
   "source": [
    "df.groupby('Label').apply(lambda x:x.isnull().sum().sum())"
   ]
  },
  {
   "cell_type": "code",
   "execution_count": 12,
   "id": "daa7dddb",
   "metadata": {},
   "outputs": [
    {
     "data": {
      "text/plain": [
       "5734"
      ]
     },
     "execution_count": 12,
     "metadata": {},
     "output_type": "execute_result"
    }
   ],
   "source": [
    "df.isnull().sum().sum()"
   ]
  },
  {
   "cell_type": "markdown",
   "id": "ac4bb1a4",
   "metadata": {},
   "source": [
    "### Handling Null Values"
   ]
  },
  {
   "cell_type": "code",
   "execution_count": 13,
   "id": "95ab5426",
   "metadata": {
    "scrolled": false
   },
   "outputs": [],
   "source": [
    "# # Filling the null values present in a columns by taking the mean of a particular class to which the null values belong in the target class\n",
    "# for i in df.columns:\n",
    "#     if df[i].isnull().sum() > 0:\n",
    "#         for j in df[\"Label\"].unique():\n",
    "#             j_mean = df[df[\"Label\"] == j][i].mean()\n",
    "#             df.loc[(df[\"Label\"] == j) & (df[i].isnull()), i] = j_mean"
   ]
  },
  {
   "cell_type": "code",
   "execution_count": 14,
   "id": "8fc8bf08",
   "metadata": {},
   "outputs": [],
   "source": [
    "# # Filling the null values present in a columns by taking the median of a particular class to which the null values belong in the target class\n",
    "# for i in df.columns:\n",
    "#     if df[i].isnull().sum() > 0:\n",
    "#         for j in df[\"Label\"].unique():\n",
    "#             j_median = df[df[\"Label\"] == j][i].median()\n",
    "#             df.loc[(df[\"Label\"] == j) & (df[i].isnull()), i] = j_median"
   ]
  },
  {
   "cell_type": "code",
   "execution_count": 19,
   "id": "08f9eacc",
   "metadata": {},
   "outputs": [
    {
     "name": "stderr",
     "output_type": "stream",
     "text": [
      "C:\\ProgramData\\Anaconda3\\lib\\site-packages\\daal4py\\sklearn\\linear_model\\logistic_path.py:459: ConvergenceWarning: lbfgs failed to converge (status=1):\n",
      "STOP: TOTAL NO. of ITERATIONS REACHED LIMIT.\n",
      "\n",
      "Increase the number of iterations (max_iter) or scale the data as shown in:\n",
      "    https://scikit-learn.org/stable/modules/preprocessing.html\n",
      "Please also refer to the documentation for alternative solver options:\n",
      "    https://scikit-learn.org/stable/modules/linear_model.html#logistic-regression\n",
      "  n_iter_i = _check_optimize_result(\n"
     ]
    },
    {
     "name": "stdout",
     "output_type": "stream",
     "text": [
      "3 0.9440765593509836\n"
     ]
    },
    {
     "name": "stderr",
     "output_type": "stream",
     "text": [
      "C:\\ProgramData\\Anaconda3\\lib\\site-packages\\daal4py\\sklearn\\linear_model\\logistic_path.py:459: ConvergenceWarning: lbfgs failed to converge (status=1):\n",
      "STOP: TOTAL NO. of ITERATIONS REACHED LIMIT.\n",
      "\n",
      "Increase the number of iterations (max_iter) or scale the data as shown in:\n",
      "    https://scikit-learn.org/stable/modules/preprocessing.html\n",
      "Please also refer to the documentation for alternative solver options:\n",
      "    https://scikit-learn.org/stable/modules/linear_model.html#logistic-regression\n",
      "  n_iter_i = _check_optimize_result(\n"
     ]
    },
    {
     "name": "stdout",
     "output_type": "stream",
     "text": [
      "5 0.9432534544792979\n"
     ]
    },
    {
     "name": "stderr",
     "output_type": "stream",
     "text": [
      "C:\\ProgramData\\Anaconda3\\lib\\site-packages\\daal4py\\sklearn\\linear_model\\logistic_path.py:459: ConvergenceWarning: lbfgs failed to converge (status=1):\n",
      "STOP: TOTAL NO. of ITERATIONS REACHED LIMIT.\n",
      "\n",
      "Increase the number of iterations (max_iter) or scale the data as shown in:\n",
      "    https://scikit-learn.org/stable/modules/preprocessing.html\n",
      "Please also refer to the documentation for alternative solver options:\n",
      "    https://scikit-learn.org/stable/modules/linear_model.html#logistic-regression\n",
      "  n_iter_i = _check_optimize_result(\n"
     ]
    },
    {
     "name": "stdout",
     "output_type": "stream",
     "text": [
      "7 0.9439511506688169\n"
     ]
    },
    {
     "name": "stderr",
     "output_type": "stream",
     "text": [
      "C:\\ProgramData\\Anaconda3\\lib\\site-packages\\daal4py\\sklearn\\linear_model\\logistic_path.py:459: ConvergenceWarning: lbfgs failed to converge (status=1):\n",
      "STOP: TOTAL NO. of ITERATIONS REACHED LIMIT.\n",
      "\n",
      "Increase the number of iterations (max_iter) or scale the data as shown in:\n",
      "    https://scikit-learn.org/stable/modules/preprocessing.html\n",
      "Please also refer to the documentation for alternative solver options:\n",
      "    https://scikit-learn.org/stable/modules/linear_model.html#logistic-regression\n",
      "  n_iter_i = _check_optimize_result(\n"
     ]
    },
    {
     "name": "stdout",
     "output_type": "stream",
     "text": [
      "10 0.9434813096905585\n"
     ]
    },
    {
     "name": "stderr",
     "output_type": "stream",
     "text": [
      "C:\\ProgramData\\Anaconda3\\lib\\site-packages\\daal4py\\sklearn\\linear_model\\logistic_path.py:459: ConvergenceWarning: lbfgs failed to converge (status=1):\n",
      "STOP: TOTAL NO. of ITERATIONS REACHED LIMIT.\n",
      "\n",
      "Increase the number of iterations (max_iter) or scale the data as shown in:\n",
      "    https://scikit-learn.org/stable/modules/preprocessing.html\n",
      "Please also refer to the documentation for alternative solver options:\n",
      "    https://scikit-learn.org/stable/modules/linear_model.html#logistic-regression\n",
      "  n_iter_i = _check_optimize_result(\n"
     ]
    },
    {
     "name": "stdout",
     "output_type": "stream",
     "text": [
      "13 0.9432870145491734\n"
     ]
    },
    {
     "name": "stderr",
     "output_type": "stream",
     "text": [
      "C:\\ProgramData\\Anaconda3\\lib\\site-packages\\daal4py\\sklearn\\linear_model\\logistic_path.py:459: ConvergenceWarning: lbfgs failed to converge (status=1):\n",
      "STOP: TOTAL NO. of ITERATIONS REACHED LIMIT.\n",
      "\n",
      "Increase the number of iterations (max_iter) or scale the data as shown in:\n",
      "    https://scikit-learn.org/stable/modules/preprocessing.html\n",
      "Please also refer to the documentation for alternative solver options:\n",
      "    https://scikit-learn.org/stable/modules/linear_model.html#logistic-regression\n",
      "  n_iter_i = _check_optimize_result(\n"
     ]
    },
    {
     "name": "stdout",
     "output_type": "stream",
     "text": [
      "15 0.9433099767022463\n",
      "Optimal k value: 3\n",
      "CPU times: total: 2h 47min 35s\n",
      "Wall time: 2h 2min 7s\n"
     ]
    }
   ],
   "source": [
    "%%time\n",
    "# Imputation\n",
    "temp_X = df.drop(['Label'], axis=1)\n",
    "scaler = preprocessing.MinMaxScaler()\n",
    "temp_X = scaler.fit_transform(temp_X)\n",
    "df = pd.concat([pd.DataFrame(temp_X), df[\"Label\"]], axis=1)\n",
    "df.columns = columns\n",
    "\n",
    "label_encoder = preprocessing.LabelEncoder()\n",
    "df['Label']= label_encoder.fit_transform(df['Label'])\n",
    "\n",
    "X = df.drop([\"Label\"], axis = 1)\n",
    "y = df[\"Label\"]\n",
    "X_train, X_val, y_train, y_val = train_test_split(X, y, test_size=0.2, random_state=42)\n",
    "\n",
    "k_values = [3, 5, 7, 10, 13, 15]\n",
    "acc_dict = {}\n",
    "best_k = None\n",
    "best_accuracy = 0.0\n",
    "for k in k_values:\n",
    "    imputer_X = KNNImputer(n_neighbors=k, weights='distance', metric='nan_euclidean')\n",
    "    X_train_imputed = imputer_X.fit_transform(X_train)\n",
    "    \n",
    "    classifier = LogisticRegression() \n",
    "    classifier.fit(X_train_imputed, y_train)\n",
    "    \n",
    "    if X_val.isnull().values.any():\n",
    "        X_val_imputed = imputer_X.transform(X_val)\n",
    "        y_val_pred = classifier.predict(X_val_imputed)\n",
    "        accuracy = accuracy_score(y_val, y_val_pred)\n",
    "    else:\n",
    "        y_val_pred = classifier.predict(X_val)\n",
    "        accuracy = accuracy_score(y_val, y_val_pred)\n",
    "    \n",
    "    acc_dict[k] = accuracy\n",
    "    print(k, accuracy)\n",
    "    \n",
    "    if accuracy > best_accuracy:\n",
    "        best_k = k\n",
    "        best_accuracy = accuracy\n",
    "\n",
    "print(\"Optimal k value:\", best_k)"
   ]
  },
  {
   "cell_type": "code",
   "execution_count": 22,
   "id": "91550445",
   "metadata": {},
   "outputs": [
    {
     "data": {
      "image/png": "[encoded data removed]",
      "text/plain": [
       "<Figure size 432x288 with 1 Axes>"
      ]
     },
     "metadata": {
      "needs_background": "light"
     },
     "output_type": "display_data"
    }
   ],
   "source": [
    "x_coord, y_coord = zip(*(acc_dict.items()))\n",
    "plt.plot(x_coord,y_coord)\n",
    "plt.show()"
   ]
  },
  {
   "cell_type": "code",
   "execution_count": 17,
   "id": "7565d10b",
   "metadata": {},
   "outputs": [
    {
     "name": "stdout",
     "output_type": "stream",
     "text": [
      "CPU times: total: 43min 18s\n",
      "Wall time: 35min 12s\n"
     ]
    }
   ],
   "source": [
    "%%time\n",
    "# Imputation\n",
    "temp_X = df.drop(['Label'], axis=1)\n",
    "scaler = preprocessing.MinMaxScaler()\n",
    "temp_X = scaler.fit_transform(temp_X)\n",
    "imputer = KNNImputer(n_neighbors=3, weights='distance', metric='nan_euclidean')\n",
    "imputer.fit(temp_X)\n",
    "temp_X = imputer.transform(temp_X)\n",
    "temp_X = pd.DataFrame(temp_X)\n",
    "df = pd.concat([pd.DataFrame(temp_X), df[\"Label\"]], axis=1)\n",
    "df.columns = columns"
   ]
  },
  {
   "cell_type": "code",
   "execution_count": 18,
   "id": "d37d434d",
   "metadata": {},
   "outputs": [
    {
     "data": {
      "text/plain": [
       "0"
      ]
     },
     "execution_count": 18,
     "metadata": {},
     "output_type": "execute_result"
    }
   ],
   "source": [
    "# Instead, I found it better to drop rather than replacing them because null values are less than 1% for each class and Duplicates are not dropped\n",
    "# df.dropna(inplace = True)\n",
    "df.isnull().sum().sum()"
   ]
  },
  {
   "cell_type": "code",
   "execution_count": 19,
   "id": "5a6f0225",
   "metadata": {},
   "outputs": [],
   "source": [
    "temp_df_1 = df"
   ]
  },
  {
   "cell_type": "markdown",
   "id": "d3e3bd13",
   "metadata": {},
   "source": [
    "### Dropping Duplicate Rows"
   ]
  },
  {
   "cell_type": "code",
   "execution_count": 20,
   "id": "e755313d",
   "metadata": {},
   "outputs": [
    {
     "name": "stdout",
     "output_type": "stream",
     "text": [
      "308385\n",
      "(2522358, 79)\n"
     ]
    }
   ],
   "source": [
    "duplicate_rows = df[df.duplicated()]\n",
    "print(len(duplicate_rows))\n",
    "df.drop_duplicates(inplace=True)\n",
    "print(df.shape)"
   ]
  },
  {
   "cell_type": "code",
   "execution_count": 21,
   "id": "8a7f65ca",
   "metadata": {},
   "outputs": [
    {
     "name": "stdout",
     "output_type": "stream",
     "text": [
      "425878\n"
     ]
    }
   ],
   "source": [
    "total_malicious  = 0\n",
    "for i in range(1, len(df.groupby('Label')['Label'].count())):\n",
    "    total_malicious += df.groupby('Label')['Label'].count()[i]\n",
    "print(total_malicious)"
   ]
  },
  {
   "cell_type": "code",
   "execution_count": 22,
   "id": "f27614bc",
   "metadata": {},
   "outputs": [],
   "source": [
    "temp_df_2 = df"
   ]
  },
  {
   "cell_type": "markdown",
   "id": "36b5d07b",
   "metadata": {},
   "source": [
    "### Making Binary Classes"
   ]
  },
  {
   "cell_type": "code",
   "execution_count": 24,
   "id": "93135089",
   "metadata": {},
   "outputs": [],
   "source": [
    "# temp_class_list = [i for i in df[\"Label\"] if i!=0]\n",
    "temp_class_list = [i for i in df[\"Label\"] if i!=\"BENIGN\"]\n",
    "temp_class_list = [*set(temp_class_list)]\n",
    "df.replace(temp_class_list, \"MALICIOUS\", inplace=True)"
   ]
  },
  {
   "cell_type": "code",
   "execution_count": 30,
   "id": "cfea0bda",
   "metadata": {},
   "outputs": [
    {
     "data": {
      "text/plain": [
       "array([0, 1])"
      ]
     },
     "execution_count": 30,
     "metadata": {},
     "output_type": "execute_result"
    }
   ],
   "source": [
    "label_encoder = preprocessing.LabelEncoder()\n",
    "df['Label']= label_encoder.fit_transform(df['Label'])\n",
    "df['Label'].unique()"
   ]
  },
  {
   "cell_type": "code",
   "execution_count": 31,
   "id": "240f69f0",
   "metadata": {},
   "outputs": [],
   "source": [
    "def expand_categories(values):\n",
    "    result = []\n",
    "    s = values.value_counts()\n",
    "    t = float(len(values))\n",
    "    for v in s.index:\n",
    "        result.append(\"{}:{}%\".format(v,round(100*(s[v]/t),2)))\n",
    "    return \"[{}]\".format(\",\".join(result))\n",
    "        \n",
    "def analyze(df):\n",
    "    cols = df.columns.values\n",
    "    total = float(len(df))\n",
    "    for col in cols:\n",
    "        uniques = df[col].unique()\n",
    "        unique_count = len(uniques)\n",
    "        if unique_count>100:\n",
    "            print(\"--> {}:{} ({}%)\".format(col,unique_count,int(((unique_count)/total)*100)))\n",
    "        else:\n",
    "            print(\"--> {}:{}\".format(col,expand_categories(df[col])))\n",
    "            expand_categories(df[col])"
   ]
  },
  {
   "cell_type": "code",
   "execution_count": 32,
   "id": "dd807a58",
   "metadata": {
    "scrolled": true
   },
   "outputs": [
    {
     "name": "stdout",
     "output_type": "stream",
     "text": [
      "--> Destination Port:53805 (2%)\n",
      "--> Flow Duration:1050899 (41%)\n",
      "--> Total Fwd Packets:1432 (0%)\n",
      "--> Total Backward Packets:1747 (0%)\n",
      "--> Total Length of Fwd Packets:17928 (0%)\n",
      "--> Total Length of Bwd Packets:64698 (2%)\n",
      "--> Fwd Packet Length Max:5279 (0%)\n",
      "--> Fwd Packet Length Min:384 (0%)\n",
      "--> Fwd Packet Length Mean:99716 (3%)\n",
      "--> Fwd Packet Length Std:253909 (10%)\n",
      "--> Bwd Packet Length Max:4838 (0%)\n",
      "--> Bwd Packet Length Min:583 (0%)\n",
      "--> Bwd Packet Length Mean:147614 (5%)\n",
      "--> Bwd Packet Length Std:248869 (9%)\n",
      "--> Flow Bytes/s:1592302 (63%)\n",
      "--> Flow Packets/s:1240241 (49%)\n",
      "--> Flow IAT Mean:1166311 (46%)\n",
      "--> Flow IAT Std:1056642 (41%)\n",
      "--> Flow IAT Max:580289 (23%)\n",
      "--> Flow IAT Min:136316 (5%)\n",
      "--> Fwd IAT Total:493098 (19%)\n",
      "--> Fwd IAT Mean:737737 (29%)\n",
      "--> Fwd IAT Std:700313 (27%)\n",
      "--> Fwd IAT Max:437316 (17%)\n",
      "--> Fwd IAT Min:110631 (4%)\n",
      "--> Bwd IAT Total:414928 (16%)\n",
      "--> Bwd IAT Mean:670824 (26%)\n",
      "--> Bwd IAT Std:709042 (28%)\n",
      "--> Bwd IAT Max:368285 (14%)\n",
      "--> Bwd IAT Min:66074 (2%)\n",
      "--> Fwd PSH Flags:[0.0:95.13%,1.0:4.87%]\n",
      "--> Bwd PSH Flags:[0.0:100.0%]\n",
      "--> Fwd URG Flags:[0.0:100.0%,1.0:0.0%]\n",
      "--> Bwd URG Flags:[0.0:100.0%]\n",
      "--> Fwd Header Length:3771 (0%)\n",
      "--> Bwd Header Length:3945 (0%)\n",
      "--> Fwd Packets/s:1220423 (48%)\n",
      "--> Bwd Packets/s:1107886 (43%)\n",
      "--> Min Packet Length:215 (0%)\n",
      "--> Max Packet Length:5708 (0%)\n",
      "--> Packet Length Mean:215826 (8%)\n",
      "--> Packet Length Std:412246 (16%)\n",
      "--> Packet Length Variance:405565 (16%)\n",
      "--> FIN Flag Count:[0.0:96.79%,1.0:3.21%]\n",
      "--> SYN Flag Count:[0.0:95.13%,1.0:4.87%]\n",
      "--> RST Flag Count:[0.0:99.97%,1.0:0.03%]\n",
      "--> PSH Flag Count:[0.0:70.25%,1.0:29.75%]\n",
      "--> ACK Flag Count:[0.0:68.78%,1.0:31.22%]\n",
      "--> URG Flag Count:[0.0:89.86%,1.0:10.14%]\n",
      "--> CWE Flag Count:[0.0:100.0%,1.0:0.0%]\n",
      "--> ECE Flag Count:[0.0:99.97%,1.0:0.03%]\n",
      "--> Down/Up Ratio:[0.00641025641025641:61.12%,0.0:35.89%,0.01282051282051282:1.92%,0.03205128205128205:0.42%,0.019230769230769232:0.26%,0.038461538461538464:0.26%,0.02564102564102564:0.1%,0.04487179487179487:0.03%,0.05128205128205128:0.0%,0.1858974358974359:0.0%,0.05769230769230769:0.0%,0.0641025641025641:0.0%,0.07692307692307693:0.0%,0.17307692307692307:0.0%,0.16025641025641024:0.0%,0.20512820512820512:0.0%,0.07051282051282051:0.0%,0.25:0.0%,0.2756410256410256:0.0%,0.1794871794871795:0.0%,0.08974358974358974:0.0%,0.22435897435897434:0.0%,0.47435897435897434:0.0%,0.1346153846153846:0.0%,1.0:0.0%,0.1282051282051282:0.0%,0.5769230769230769:0.0%,0.6923076923076923:0.0%,0.7948717948717948:0.0%,0.10256410256410256:0.0%,0.16666666666666666:0.0%]\n",
      "--> Average Packet Size:212207 (8%)\n",
      "--> Avg Fwd Segment Size:99716 (3%)\n",
      "--> Avg Bwd Segment Size:147611 (5%)\n",
      "--> Fwd Header Length.1:3771 (0%)\n",
      "--> Fwd Avg Bytes/Bulk:[0.0:100.0%]\n",
      "--> Fwd Avg Packets/Bulk:[0.0:100.0%]\n",
      "--> Fwd Avg Bulk Rate:[0.0:100.0%]\n",
      "--> Bwd Avg Bytes/Bulk:[0.0:100.0%]\n",
      "--> Bwd Avg Packets/Bulk:[0.0:100.0%]\n",
      "--> Bwd Avg Bulk Rate:[0.0:100.0%]\n",
      "--> Subflow Fwd Packets:1432 (0%)\n",
      "--> Subflow Fwd Bytes:17928 (0%)\n",
      "--> Subflow Bwd Packets:1747 (0%)\n",
      "--> Subflow Bwd Bytes:64738 (2%)\n",
      "--> Init_Win_bytes_forward:12151 (0%)\n",
      "--> Init_Win_bytes_backward:13112 (0%)\n",
      "--> act_data_pkt_fwd:1093 (0%)\n",
      "--> min_seg_size_forward:[0.9999997802078263:51.46%,0.9999998025595728:40.8%,0.9999998174607371:3.88%,0.9999997876584085:3.29%,0.9999998249113192:0.32%,0.9999997951089906:0.18%,0.9999997429549154:0.07%,0.9999998472630658:0.01%,0.9999998100101549:0.0%,0.9999998547136479:0.0%,0.9999998323619015:0.0%,0.9999998398124836:0.0%,0.9999997578560798:0.0%,0.8437511387167103:0.0%,0.999999769031953:0.0%,1.862645593320167e-09:0.0%,0.9999997541307887:0.0%,0.9999997653066619:0.0%,0.9999999161809507:0.0%,0.9999998882412676:0.0%,0.0:0.0%,1.0000000000000002:0.0%,0.9999998286366103:0.0%,0.9999998006969272:0.0%,0.9999997615813708:0.0%,0.9999999776482537:0.0%,0.999999813735446:0.0%,0.9999997410922699:0.0%]\n",
      "--> Active Mean:326325 (12%)\n",
      "--> Active Std:202826 (8%)\n",
      "--> Active Max:299565 (11%)\n",
      "--> Active Min:175670 (6%)\n",
      "--> Idle Mean:222016 (8%)\n",
      "--> Idle Std:197616 (7%)\n",
      "--> Idle Max:149737 (5%)\n",
      "--> Idle Min:223888 (8%)\n",
      "--> Label:[0:83.12%,1:16.88%]\n"
     ]
    }
   ],
   "source": [
    "analyze(df)"
   ]
  },
  {
   "cell_type": "code",
   "execution_count": 33,
   "id": "cb2e7e19",
   "metadata": {
    "scrolled": true
   },
   "outputs": [
    {
     "data": {
      "image/png": "[encoded data removed]",
      "text/plain": [
       "<Figure size 432x288 with 1 Axes>"
      ]
     },
     "metadata": {
      "needs_background": "light"
     },
     "output_type": "display_data"
    }
   ],
   "source": [
    "class_percentages = df[\"Label\"].value_counts() / df[\"Label\"].value_counts().sum() * 100\n",
    "plt.bar(class_percentages.index, class_percentages.values)\n",
    "plt.title(\"Percentage of Each Class in Target Column\")\n",
    "plt.xlabel(\"Class\")\n",
    "plt.ylabel(\"Percentage\")\n",
    "plt.show()"
   ]
  },
  {
   "cell_type": "code",
   "execution_count": 34,
   "id": "15b7681e",
   "metadata": {
    "scrolled": false
   },
   "outputs": [
    {
     "data": {
      "text/plain": [
       "(2522358, 79)"
      ]
     },
     "execution_count": 34,
     "metadata": {},
     "output_type": "execute_result"
    }
   ],
   "source": [
    "df.shape"
   ]
  },
  {
   "cell_type": "markdown",
   "id": "1034b7d0",
   "metadata": {},
   "source": [
    "# Feature Selection"
   ]
  },
  {
   "cell_type": "code",
   "execution_count": 35,
   "id": "d52f3b01",
   "metadata": {},
   "outputs": [],
   "source": [
    "X = df.drop([\"Label\"], axis = 1)\n",
    "y = df[\"Label\"]"
   ]
  },
  {
   "cell_type": "code",
   "execution_count": 157,
   "id": "754f0d7b",
   "metadata": {},
   "outputs": [],
   "source": [
    "# fsm = RandomForestRegressor(random_state=0)\n",
    "# fsm.fit(X, y)"
   ]
  },
  {
   "cell_type": "code",
   "execution_count": 36,
   "id": "81d8bb97",
   "metadata": {},
   "outputs": [
    {
     "name": "stdout",
     "output_type": "stream",
     "text": [
      "CPU times: total: 8min 40s\n",
      "Wall time: 1min 7s\n"
     ]
    },
    {
     "data": {
      "text/plain": [
       "RandomForestClassifier()"
      ]
     },
     "execution_count": 36,
     "metadata": {},
     "output_type": "execute_result"
    }
   ],
   "source": [
    "%%time\n",
    "fsm = RandomForestClassifier()\n",
    "fsm.fit(X, y)"
   ]
  },
  {
   "cell_type": "code",
   "execution_count": 25,
   "id": "c67d8011",
   "metadata": {},
   "outputs": [],
   "source": [
    "# fsm = DecisionTreeClassifier()\n",
    "# fsm.fit(X, y)"
   ]
  },
  {
   "cell_type": "code",
   "execution_count": 26,
   "id": "c864b6f8",
   "metadata": {},
   "outputs": [],
   "source": [
    "# with open('rfc_model.pkl', 'wb') as fw1:\n",
    "#     pickle.dump(rfc, fw1)\n",
    "# with open('rfr_model.pkl', 'wb') as fw2:\n",
    "#     pickle.dump(rfr, fw2)\n",
    "# with open('dtc_model.pkl', 'wb') as fw3:\n",
    "#     pickle.dump(dtc, fw3)"
   ]
  },
  {
   "cell_type": "code",
   "execution_count": 27,
   "id": "8dadfb85",
   "metadata": {},
   "outputs": [],
   "source": [
    "# with open('rfr_model.pkl', 'rb') as fr1:\n",
    "#     rfr = pickle.load(fr1)\n",
    "# with open('rfc_model.pkl', 'rb') as fr2:\n",
    "#     rfc = pickle.load(fr2)\n",
    "# with open('dtc_model.pkl', 'rb') as fr3:\n",
    "#     dtc = pickle.load(fr3)"
   ]
  },
  {
   "cell_type": "code",
   "execution_count": 37,
   "id": "3624edaa",
   "metadata": {
    "scrolled": true
   },
   "outputs": [
    {
     "data": {
      "text/plain": [
       "array([2.78618362e-02, 3.01149960e-03, 1.88909405e-02, 1.43601900e-02,\n",
       "       2.76429812e-02, 4.07455017e-02, 1.59241273e-02, 1.99557213e-03,\n",
       "       1.18275177e-02, 2.46847401e-03, 2.56198439e-02, 4.05436103e-03,\n",
       "       5.29914964e-02, 8.78652801e-02, 6.84460858e-03, 1.03913905e-02,\n",
       "       1.35840035e-02, 1.62605995e-02, 1.68339803e-02, 3.51888897e-03,\n",
       "       6.19847387e-03, 6.34802839e-03, 1.79205445e-02, 8.80424383e-03,\n",
       "       9.79039506e-03, 1.14438309e-03, 1.65584424e-03, 1.08384482e-03,\n",
       "       2.77133603e-03, 1.87180999e-03, 4.64178293e-04, 0.00000000e+00,\n",
       "       5.49131874e-07, 0.00000000e+00, 1.61172874e-02, 1.90667886e-02,\n",
       "       6.14556573e-03, 1.10912432e-02, 7.01205417e-03, 4.01286643e-02,\n",
       "       2.86169230e-02, 4.44539236e-02, 7.18340476e-02, 1.83305766e-03,\n",
       "       6.70827583e-04, 5.56174331e-08, 1.59590925e-02, 1.19499610e-02,\n",
       "       1.84792654e-03, 1.07362468e-06, 1.12096979e-07, 1.30801174e-03,\n",
       "       3.97976147e-02, 6.49967835e-03, 5.94106245e-02, 1.12765378e-02,\n",
       "       0.00000000e+00, 0.00000000e+00, 0.00000000e+00, 0.00000000e+00,\n",
       "       0.00000000e+00, 0.00000000e+00, 2.75715741e-02, 2.62670355e-02,\n",
       "       9.07991944e-03, 1.77401432e-02, 1.17973413e-02, 8.97261219e-03,\n",
       "       1.58674548e-02, 1.02527403e-02, 7.86162671e-04, 7.24733941e-04,\n",
       "       5.07418681e-04, 4.81761697e-04, 3.19879203e-03, 1.79950354e-04,\n",
       "       9.40224422e-03, 1.40231990e-03])"
      ]
     },
     "execution_count": 37,
     "metadata": {},
     "output_type": "execute_result"
    }
   ],
   "source": [
    "fsm.feature_importances_"
   ]
  },
  {
   "cell_type": "code",
   "execution_count": 38,
   "id": "7d7e2b87",
   "metadata": {},
   "outputs": [
    {
     "data": {
      "text/html": [
       "<div>\n",
       "<style scoped>\n",
       "    .dataframe tbody tr th:only-of-type {\n",
       "        vertical-align: middle;\n",
       "    }\n",
       "\n",
       "    .dataframe tbody tr th {\n",
       "        vertical-align: top;\n",
       "    }\n",
       "\n",
       "    .dataframe thead th {\n",
       "        text-align: right;\n",
       "    }\n",
       "</style>\n",
       "<table border=\"1\" class=\"dataframe\">\n",
       "  <thead>\n",
       "    <tr style=\"text-align: right;\">\n",
       "      <th></th>\n",
       "      <th>Feature</th>\n",
       "      <th>Importance</th>\n",
       "    </tr>\n",
       "  </thead>\n",
       "  <tbody>\n",
       "    <tr>\n",
       "      <th>0</th>\n",
       "      <td>Bwd Packet Length Std</td>\n",
       "      <td>0.087865</td>\n",
       "    </tr>\n",
       "    <tr>\n",
       "      <th>1</th>\n",
       "      <td>Packet Length Variance</td>\n",
       "      <td>0.071834</td>\n",
       "    </tr>\n",
       "    <tr>\n",
       "      <th>2</th>\n",
       "      <td>Avg Bwd Segment Size</td>\n",
       "      <td>0.059411</td>\n",
       "    </tr>\n",
       "    <tr>\n",
       "      <th>3</th>\n",
       "      <td>Bwd Packet Length Mean</td>\n",
       "      <td>0.052991</td>\n",
       "    </tr>\n",
       "    <tr>\n",
       "      <th>4</th>\n",
       "      <td>Packet Length Std</td>\n",
       "      <td>0.044454</td>\n",
       "    </tr>\n",
       "    <tr>\n",
       "      <th>5</th>\n",
       "      <td>Total Length of Bwd Packets</td>\n",
       "      <td>0.040746</td>\n",
       "    </tr>\n",
       "    <tr>\n",
       "      <th>6</th>\n",
       "      <td>Max Packet Length</td>\n",
       "      <td>0.040129</td>\n",
       "    </tr>\n",
       "    <tr>\n",
       "      <th>7</th>\n",
       "      <td>Average Packet Size</td>\n",
       "      <td>0.039798</td>\n",
       "    </tr>\n",
       "    <tr>\n",
       "      <th>8</th>\n",
       "      <td>Packet Length Mean</td>\n",
       "      <td>0.028617</td>\n",
       "    </tr>\n",
       "    <tr>\n",
       "      <th>9</th>\n",
       "      <td>Destination Port</td>\n",
       "      <td>0.027862</td>\n",
       "    </tr>\n",
       "    <tr>\n",
       "      <th>10</th>\n",
       "      <td>Total Length of Fwd Packets</td>\n",
       "      <td>0.027643</td>\n",
       "    </tr>\n",
       "    <tr>\n",
       "      <th>11</th>\n",
       "      <td>Subflow Fwd Packets</td>\n",
       "      <td>0.027572</td>\n",
       "    </tr>\n",
       "    <tr>\n",
       "      <th>12</th>\n",
       "      <td>Subflow Fwd Bytes</td>\n",
       "      <td>0.026267</td>\n",
       "    </tr>\n",
       "    <tr>\n",
       "      <th>13</th>\n",
       "      <td>Bwd Packet Length Max</td>\n",
       "      <td>0.025620</td>\n",
       "    </tr>\n",
       "    <tr>\n",
       "      <th>14</th>\n",
       "      <td>Bwd Header Length</td>\n",
       "      <td>0.019067</td>\n",
       "    </tr>\n",
       "    <tr>\n",
       "      <th>15</th>\n",
       "      <td>Total Fwd Packets</td>\n",
       "      <td>0.018891</td>\n",
       "    </tr>\n",
       "    <tr>\n",
       "      <th>16</th>\n",
       "      <td>Fwd IAT Std</td>\n",
       "      <td>0.017921</td>\n",
       "    </tr>\n",
       "    <tr>\n",
       "      <th>17</th>\n",
       "      <td>Subflow Bwd Bytes</td>\n",
       "      <td>0.017740</td>\n",
       "    </tr>\n",
       "    <tr>\n",
       "      <th>18</th>\n",
       "      <td>Flow IAT Max</td>\n",
       "      <td>0.016834</td>\n",
       "    </tr>\n",
       "    <tr>\n",
       "      <th>19</th>\n",
       "      <td>Flow IAT Std</td>\n",
       "      <td>0.016261</td>\n",
       "    </tr>\n",
       "    <tr>\n",
       "      <th>20</th>\n",
       "      <td>Fwd Header Length</td>\n",
       "      <td>0.016117</td>\n",
       "    </tr>\n",
       "    <tr>\n",
       "      <th>21</th>\n",
       "      <td>PSH Flag Count</td>\n",
       "      <td>0.015959</td>\n",
       "    </tr>\n",
       "    <tr>\n",
       "      <th>22</th>\n",
       "      <td>Fwd Packet Length Max</td>\n",
       "      <td>0.015924</td>\n",
       "    </tr>\n",
       "    <tr>\n",
       "      <th>23</th>\n",
       "      <td>act_data_pkt_fwd</td>\n",
       "      <td>0.015867</td>\n",
       "    </tr>\n",
       "    <tr>\n",
       "      <th>24</th>\n",
       "      <td>Total Backward Packets</td>\n",
       "      <td>0.014360</td>\n",
       "    </tr>\n",
       "    <tr>\n",
       "      <th>25</th>\n",
       "      <td>Flow IAT Mean</td>\n",
       "      <td>0.013584</td>\n",
       "    </tr>\n",
       "    <tr>\n",
       "      <th>26</th>\n",
       "      <td>ACK Flag Count</td>\n",
       "      <td>0.011950</td>\n",
       "    </tr>\n",
       "    <tr>\n",
       "      <th>27</th>\n",
       "      <td>Fwd Packet Length Mean</td>\n",
       "      <td>0.011828</td>\n",
       "    </tr>\n",
       "    <tr>\n",
       "      <th>28</th>\n",
       "      <td>Init_Win_bytes_forward</td>\n",
       "      <td>0.011797</td>\n",
       "    </tr>\n",
       "    <tr>\n",
       "      <th>29</th>\n",
       "      <td>Fwd Header Length.1</td>\n",
       "      <td>0.011277</td>\n",
       "    </tr>\n",
       "    <tr>\n",
       "      <th>30</th>\n",
       "      <td>Bwd Packets/s</td>\n",
       "      <td>0.011091</td>\n",
       "    </tr>\n",
       "    <tr>\n",
       "      <th>31</th>\n",
       "      <td>Flow Packets/s</td>\n",
       "      <td>0.010391</td>\n",
       "    </tr>\n",
       "    <tr>\n",
       "      <th>32</th>\n",
       "      <td>min_seg_size_forward</td>\n",
       "      <td>0.010253</td>\n",
       "    </tr>\n",
       "    <tr>\n",
       "      <th>33</th>\n",
       "      <td>Fwd IAT Min</td>\n",
       "      <td>0.009790</td>\n",
       "    </tr>\n",
       "    <tr>\n",
       "      <th>34</th>\n",
       "      <td>Idle Max</td>\n",
       "      <td>0.009402</td>\n",
       "    </tr>\n",
       "    <tr>\n",
       "      <th>35</th>\n",
       "      <td>Subflow Bwd Packets</td>\n",
       "      <td>0.009080</td>\n",
       "    </tr>\n",
       "    <tr>\n",
       "      <th>36</th>\n",
       "      <td>Init_Win_bytes_backward</td>\n",
       "      <td>0.008973</td>\n",
       "    </tr>\n",
       "    <tr>\n",
       "      <th>37</th>\n",
       "      <td>Fwd IAT Max</td>\n",
       "      <td>0.008804</td>\n",
       "    </tr>\n",
       "    <tr>\n",
       "      <th>38</th>\n",
       "      <td>Min Packet Length</td>\n",
       "      <td>0.007012</td>\n",
       "    </tr>\n",
       "  </tbody>\n",
       "</table>\n",
       "</div>"
      ],
      "text/plain": [
       "                        Feature  Importance\n",
       "0         Bwd Packet Length Std    0.087865\n",
       "1        Packet Length Variance    0.071834\n",
       "2          Avg Bwd Segment Size    0.059411\n",
       "3        Bwd Packet Length Mean    0.052991\n",
       "4             Packet Length Std    0.044454\n",
       "5   Total Length of Bwd Packets    0.040746\n",
       "6             Max Packet Length    0.040129\n",
       "7           Average Packet Size    0.039798\n",
       "8            Packet Length Mean    0.028617\n",
       "9              Destination Port    0.027862\n",
       "10  Total Length of Fwd Packets    0.027643\n",
       "11          Subflow Fwd Packets    0.027572\n",
       "12            Subflow Fwd Bytes    0.026267\n",
       "13        Bwd Packet Length Max    0.025620\n",
       "14            Bwd Header Length    0.019067\n",
       "15            Total Fwd Packets    0.018891\n",
       "16                  Fwd IAT Std    0.017921\n",
       "17            Subflow Bwd Bytes    0.017740\n",
       "18                 Flow IAT Max    0.016834\n",
       "19                 Flow IAT Std    0.016261\n",
       "20            Fwd Header Length    0.016117\n",
       "21               PSH Flag Count    0.015959\n",
       "22        Fwd Packet Length Max    0.015924\n",
       "23             act_data_pkt_fwd    0.015867\n",
       "24       Total Backward Packets    0.014360\n",
       "25                Flow IAT Mean    0.013584\n",
       "26               ACK Flag Count    0.011950\n",
       "27       Fwd Packet Length Mean    0.011828\n",
       "28       Init_Win_bytes_forward    0.011797\n",
       "29          Fwd Header Length.1    0.011277\n",
       "30                Bwd Packets/s    0.011091\n",
       "31               Flow Packets/s    0.010391\n",
       "32         min_seg_size_forward    0.010253\n",
       "33                  Fwd IAT Min    0.009790\n",
       "34                     Idle Max    0.009402\n",
       "35          Subflow Bwd Packets    0.009080\n",
       "36      Init_Win_bytes_backward    0.008973\n",
       "37                  Fwd IAT Max    0.008804\n",
       "38            Min Packet Length    0.007012"
      ]
     },
     "execution_count": 38,
     "metadata": {},
     "output_type": "execute_result"
    }
   ],
   "source": [
    "number_feature = 39\n",
    "feature_importances_df = pd.DataFrame({'Feature': [i for i in df.columns if i != \"Label\"], 'Importance': fsm.feature_importances_})\n",
    "feature_importances_df = feature_importances_df.sort_values('Importance', ascending=False)\n",
    "top_features = feature_importances_df.head(number_feature)\n",
    "top_features = top_features.reset_index(drop=True)\n",
    "top_features"
   ]
  },
  {
   "cell_type": "code",
   "execution_count": 39,
   "id": "8f6cc6de",
   "metadata": {
    "scrolled": true
   },
   "outputs": [
    {
     "name": "stdout",
     "output_type": "stream",
     "text": [
      "(2522358, 40)\n"
     ]
    }
   ],
   "source": [
    "top_feature_names = top_features['Feature'].tolist()\n",
    "top_feature_names.append(\"Label\")\n",
    "top_feature_df = df[top_feature_names]\n",
    "print(top_feature_df.shape)"
   ]
  },
  {
   "cell_type": "markdown",
   "id": "06e15d85",
   "metadata": {},
   "source": [
    "### Correlation Analysis"
   ]
  },
  {
   "cell_type": "code",
   "execution_count": 40,
   "id": "c572221d",
   "metadata": {},
   "outputs": [
    {
     "data": {
      "image/png": "[encoded data removed]",
      "text/plain": [
       "<Figure size 1080x864 with 2 Axes>"
      ]
     },
     "metadata": {
      "needs_background": "light"
     },
     "output_type": "display_data"
    }
   ],
   "source": [
    "correlation_matrix = top_feature_df.corr()\n",
    "plt.figure(figsize=(15, 12)) \n",
    "sns.heatmap(correlation_matrix, cmap='coolwarm')\n",
    "plt.show()"
   ]
  },
  {
   "cell_type": "code",
   "execution_count": 47,
   "id": "cd326fae",
   "metadata": {
    "scrolled": false
   },
   "outputs": [
    {
     "data": {
      "text/plain": [
       "(2522358, 16)"
      ]
     },
     "execution_count": 47,
     "metadata": {},
     "output_type": "execute_result"
    }
   ],
   "source": [
    "correlation_threshold = 0.9\n",
    "highly_correlated_features = set()\n",
    "for i in range(len(correlation_matrix.columns)):\n",
    "    for j in range(i):\n",
    "        if abs(correlation_matrix.iloc[i, j]) >= correlation_threshold:\n",
    "            colname_i = correlation_matrix.columns[i]\n",
    "            colname_j = correlation_matrix.columns[j]\n",
    "            highly_correlated_features.add(colname_i)\n",
    "            highly_correlated_features.add(colname_j)\n",
    "corr_rem_df = top_feature_df.drop(highly_correlated_features, axis=1)\n",
    "corr_rem_df.shape"
   ]
  },
  {
   "cell_type": "code",
   "execution_count": 48,
   "id": "94e45308",
   "metadata": {},
   "outputs": [],
   "source": [
    "temp_df_3 = corr_rem_df"
   ]
  },
  {
   "cell_type": "markdown",
   "id": "7f11251b",
   "metadata": {},
   "source": [
    "### Balancing the dataset"
   ]
  },
  {
   "cell_type": "code",
   "execution_count": 49,
   "id": "7aedb18a",
   "metadata": {},
   "outputs": [],
   "source": [
    "df_ben = corr_rem_df[corr_rem_df[\"Label\"] == 0]\n",
    "df_mal = corr_rem_df[corr_rem_df[\"Label\"] == 1]\n",
    "\n",
    "df_ben = resample(df_ben,\n",
    "                  replace=False,    \n",
    "                  n_samples=len(df_mal),     \n",
    "                  random_state=42)\n",
    "corr_rem_df = pd.concat([df_ben, df_mal])"
   ]
  },
  {
   "cell_type": "code",
   "execution_count": 51,
   "id": "1f0d044c",
   "metadata": {},
   "outputs": [
    {
     "data": {
      "text/plain": [
       "(851756, 16)"
      ]
     },
     "execution_count": 51,
     "metadata": {},
     "output_type": "execute_result"
    }
   ],
   "source": [
    "corr_rem_df.shape"
   ]
  },
  {
   "cell_type": "markdown",
   "id": "fdb1c151",
   "metadata": {},
   "source": [
    "### Scaling"
   ]
  },
  {
   "cell_type": "code",
   "execution_count": 52,
   "id": "e5c1410f",
   "metadata": {},
   "outputs": [],
   "source": [
    "X = corr_rem_df.drop([\"Label\"], axis = 1)\n",
    "y = corr_rem_df[\"Label\"]"
   ]
  },
  {
   "cell_type": "code",
   "execution_count": 165,
   "id": "e4109292",
   "metadata": {},
   "outputs": [],
   "source": [
    "# # MinMax Scaler\n",
    "# scaler = preprocessing.MinMaxScaler()\n",
    "# X = scaler.fit_transform(X)"
   ]
  },
  {
   "cell_type": "code",
   "execution_count": null,
   "id": "d7ddeab2",
   "metadata": {},
   "outputs": [],
   "source": [
    "# # Standard Scaler\n",
    "# scaler = preprocessing.StandardScaler()\n",
    "# X = scaler.fit_transform(X)"
   ]
  },
  {
   "cell_type": "markdown",
   "id": "56366183",
   "metadata": {},
   "source": [
    "### Splitting the dataset"
   ]
  },
  {
   "cell_type": "code",
   "execution_count": 53,
   "id": "e6cd81cf",
   "metadata": {},
   "outputs": [],
   "source": [
    "X_train, X_test, y_train, y_test = train_test_split(X, y, test_size=0.2, random_state=42)"
   ]
  },
  {
   "cell_type": "markdown",
   "id": "d8d2cf7c",
   "metadata": {},
   "source": [
    "# Training"
   ]
  },
  {
   "cell_type": "code",
   "execution_count": 54,
   "id": "33d61263",
   "metadata": {
    "scrolled": false
   },
   "outputs": [
    {
     "name": "stdout",
     "output_type": "stream",
     "text": [
      "0.7720448970794678\n"
     ]
    },
    {
     "name": "stderr",
     "output_type": "stream",
     "text": [
      "C:\\ProgramData\\Anaconda3\\lib\\site-packages\\daal4py\\sklearn\\linear_model\\logistic_path.py:459: ConvergenceWarning: lbfgs failed to converge (status=2):\n",
      "ABNORMAL_TERMINATION_IN_LNSRCH.\n",
      "\n",
      "Increase the number of iterations (max_iter) or scale the data as shown in:\n",
      "    https://scikit-learn.org/stable/modules/preprocessing.html\n",
      "Please also refer to the documentation for alternative solver options:\n",
      "    https://scikit-learn.org/stable/modules/linear_model.html#logistic-regression\n",
      "  n_iter_i = _check_optimize_result(\n"
     ]
    }
   ],
   "source": [
    "start_time = time.time()\n",
    "model = LogisticRegression()\n",
    "model.fit(X_train, y_train)\n",
    "print(time.time() - start_time)"
   ]
  },
  {
   "cell_type": "code",
   "execution_count": 55,
   "id": "ca52c79a",
   "metadata": {
    "scrolled": false
   },
   "outputs": [
    {
     "name": "stdout",
     "output_type": "stream",
     "text": [
      "Accuracy: 0.8497053160514699\n",
      "Classification Report:\n",
      "               precision    recall  f1-score   support\n",
      "\n",
      "           0       0.89      0.80      0.84     85344\n",
      "           1       0.82      0.90      0.86     85008\n",
      "\n",
      "    accuracy                           0.85    170352\n",
      "   macro avg       0.85      0.85      0.85    170352\n",
      "weighted avg       0.85      0.85      0.85    170352\n",
      "\n"
     ]
    }
   ],
   "source": [
    "y_pred = model.predict(X_test)\n",
    "accuracy = accuracy_score(y_test, y_pred)\n",
    "print(\"Accuracy:\", accuracy)\n",
    "classification_rep = classification_report(y_test, y_pred)\n",
    "print(\"Classification Report:\\n\", classification_rep)"
   ]
  },
  {
   "cell_type": "code",
   "execution_count": 74,
   "id": "63f99c53",
   "metadata": {},
   "outputs": [],
   "source": [
    "model_params = {\n",
    "    'Logistic Regression' : {\n",
    "        'model': LogisticRegression(),\n",
    "        'params': {\n",
    "            'C': [0.1, 2, 4, 6, 8, 10],\n",
    "            'solver': ['newton-cg', 'lbfgs', 'liblinear', 'sag', 'saga']\n",
    "        }\n",
    "    },\n",
    "    'Random Forest': {\n",
    "        'model': RandomForestClassifier(),\n",
    "        'params' : {\n",
    "            'n_estimators': [10, 50, 100, 200, 300, 400, 500],\n",
    "            'criterion': ['gini', 'entropy'],\n",
    "            'max_features': [None, 'sqrt', 'log2']\n",
    "        }\n",
    "    },\n",
    "    'Decision Tree' : {\n",
    "        'model': DecisionTreeClassifier(),\n",
    "        'params': {\n",
    "            'criterion': ['gini', 'entropy'],\n",
    "            'splitter': ['best', 'random'],\n",
    "            'max_features': ['auto', 'sqrt', 'log2']\n",
    "        }\n",
    "    }\n",
    "}\n",
    "scores1 = []"
   ]
  },
  {
   "cell_type": "code",
   "execution_count": 75,
   "id": "d4507c8c",
   "metadata": {},
   "outputs": [
    {
     "name": "stdout",
     "output_type": "stream",
     "text": [
      "Logistic Regression\n"
     ]
    },
    {
     "name": "stderr",
     "output_type": "stream",
     "text": [
      "C:\\ProgramData\\Anaconda3\\lib\\site-packages\\daal4py\\sklearn\\linear_model\\logistic_path.py:459: ConvergenceWarning: lbfgs failed to converge (status=2):\n",
      "ABNORMAL_TERMINATION_IN_LNSRCH.\n",
      "\n",
      "Increase the number of iterations (max_iter) or scale the data as shown in:\n",
      "    https://scikit-learn.org/stable/modules/preprocessing.html\n",
      "Please also refer to the documentation for alternative solver options:\n",
      "    https://scikit-learn.org/stable/modules/linear_model.html#logistic-regression\n",
      "  n_iter_i = _check_optimize_result(\n",
      "C:\\ProgramData\\Anaconda3\\lib\\site-packages\\daal4py\\sklearn\\linear_model\\logistic_path.py:459: ConvergenceWarning: lbfgs failed to converge (status=2):\n",
      "ABNORMAL_TERMINATION_IN_LNSRCH.\n",
      "\n",
      "Increase the number of iterations (max_iter) or scale the data as shown in:\n",
      "    https://scikit-learn.org/stable/modules/preprocessing.html\n",
      "Please also refer to the documentation for alternative solver options:\n",
      "    https://scikit-learn.org/stable/modules/linear_model.html#logistic-regression\n",
      "  n_iter_i = _check_optimize_result(\n",
      "C:\\ProgramData\\Anaconda3\\lib\\site-packages\\daal4py\\sklearn\\linear_model\\logistic_path.py:459: ConvergenceWarning: lbfgs failed to converge (status=2):\n",
      "ABNORMAL_TERMINATION_IN_LNSRCH.\n",
      "\n",
      "Increase the number of iterations (max_iter) or scale the data as shown in:\n",
      "    https://scikit-learn.org/stable/modules/preprocessing.html\n",
      "Please also refer to the documentation for alternative solver options:\n",
      "    https://scikit-learn.org/stable/modules/linear_model.html#logistic-regression\n",
      "  n_iter_i = _check_optimize_result(\n",
      "C:\\ProgramData\\Anaconda3\\lib\\site-packages\\sklearn\\utils\\optimize.py:210: ConvergenceWarning: newton-cg failed to converge. Increase the number of iterations.\n",
      "  warnings.warn(\n",
      "C:\\ProgramData\\Anaconda3\\lib\\site-packages\\sklearn\\utils\\optimize.py:210: ConvergenceWarning: newton-cg failed to converge. Increase the number of iterations.\n",
      "  warnings.warn(\n",
      "C:\\ProgramData\\Anaconda3\\lib\\site-packages\\sklearn\\utils\\optimize.py:210: ConvergenceWarning: newton-cg failed to converge. Increase the number of iterations.\n",
      "  warnings.warn(\n",
      "C:\\ProgramData\\Anaconda3\\lib\\site-packages\\daal4py\\sklearn\\linear_model\\logistic_path.py:459: ConvergenceWarning: lbfgs failed to converge (status=2):\n",
      "ABNORMAL_TERMINATION_IN_LNSRCH.\n",
      "\n",
      "Increase the number of iterations (max_iter) or scale the data as shown in:\n",
      "    https://scikit-learn.org/stable/modules/preprocessing.html\n",
      "Please also refer to the documentation for alternative solver options:\n",
      "    https://scikit-learn.org/stable/modules/linear_model.html#logistic-regression\n",
      "  n_iter_i = _check_optimize_result(\n",
      "C:\\ProgramData\\Anaconda3\\lib\\site-packages\\daal4py\\sklearn\\linear_model\\logistic_path.py:459: ConvergenceWarning: lbfgs failed to converge (status=1):\n",
      "STOP: TOTAL NO. of ITERATIONS REACHED LIMIT.\n",
      "\n",
      "Increase the number of iterations (max_iter) or scale the data as shown in:\n",
      "    https://scikit-learn.org/stable/modules/preprocessing.html\n",
      "Please also refer to the documentation for alternative solver options:\n",
      "    https://scikit-learn.org/stable/modules/linear_model.html#logistic-regression\n",
      "  n_iter_i = _check_optimize_result(\n"
     ]
    },
    {
     "name": "stdout",
     "output_type": "stream",
     "text": [
      "Random Forest\n",
      "Decision Tree\n"
     ]
    }
   ],
   "source": [
    "for model_name, mp in model_params.items():\n",
    "    try:\n",
    "        print(model_name)\n",
    "        clf =  RandomizedSearchCV(mp['model'], mp['params'], cv=3, return_train_score=False)\n",
    "        clf.fit(X_train, y_train)\n",
    "        start_time = time.time()\n",
    "        y_pred = clf.predict(X_test)\n",
    "        predict_time = time.time() - start_time\n",
    "        scores1.append({\n",
    "            'model': model_name,\n",
    "            'fit_time' : clf.refit_time_,\n",
    "            'predict_time' : predict_time,\n",
    "            'best_score': clf.best_score_,\n",
    "            'best_params': clf.best_params_,\n",
    "            'accuracy' : clf.score(X_test, y_test),\n",
    "            'f1 score' : metrics.f1_score(y_test,y_pred),\n",
    "            'recall' : metrics.recall_score(y_test,y_pred)\n",
    "        })\n",
    "        print(scores1)\n",
    "    except:\n",
    "        continue"
   ]
  },
  {
   "cell_type": "code",
   "execution_count": 73,
   "id": "0df70c11",
   "metadata": {
    "scrolled": true
   },
   "outputs": [
    {
     "data": {
      "text/html": [
       "<div>\n",
       "<style scoped>\n",
       "    .dataframe tbody tr th:only-of-type {\n",
       "        vertical-align: middle;\n",
       "    }\n",
       "\n",
       "    .dataframe tbody tr th {\n",
       "        vertical-align: top;\n",
       "    }\n",
       "\n",
       "    .dataframe thead th {\n",
       "        text-align: right;\n",
       "    }\n",
       "</style>\n",
       "<table border=\"1\" class=\"dataframe\">\n",
       "  <thead>\n",
       "    <tr style=\"text-align: right;\">\n",
       "      <th></th>\n",
       "      <th>model</th>\n",
       "      <th>fit_time</th>\n",
       "      <th>predict_time</th>\n",
       "      <th>best_score</th>\n",
       "      <th>best_params</th>\n",
       "      <th>accuracy</th>\n",
       "      <th>f1 score</th>\n",
       "      <th>recall</th>\n",
       "      <th>model_size</th>\n",
       "    </tr>\n",
       "  </thead>\n",
       "  <tbody>\n",
       "  </tbody>\n",
       "</table>\n",
       "</div>"
      ],
      "text/plain": [
       "Empty DataFrame\n",
       "Columns: [model, fit_time, predict_time, best_score, best_params, accuracy, f1 score, recall, model_size]\n",
       "Index: []"
      ]
     },
     "execution_count": 73,
     "metadata": {},
     "output_type": "execute_result"
    }
   ],
   "source": [
    "acc1 = pd.DataFrame(scores1,columns=['model','fit_time','predict_time', 'best_score', 'best_params', 'accuracy', 'f1 score', 'recall', 'model_size'])\n",
    "acc1"
   ]
  },
  {
   "cell_type": "code",
   "execution_count": 76,
   "id": "55308399",
   "metadata": {
    "scrolled": true
   },
   "outputs": [
    {
     "data": {
      "text/plain": [
       "[]"
      ]
     },
     "execution_count": 76,
     "metadata": {},
     "output_type": "execute_result"
    }
   ],
   "source": [
    "scores1"
   ]
  },
  {
   "cell_type": "code",
   "execution_count": 169,
   "id": "6881fe76",
   "metadata": {
    "scrolled": true
   },
   "outputs": [
    {
     "name": "stdout",
     "output_type": "stream",
     "text": [
      "10.649582386016846\n"
     ]
    }
   ],
   "source": [
    "start_time = time.time()\n",
    "dt = DecisionTreeClassifier()\n",
    "dt.fit(X_train, y_train)\n",
    "training_time = time.time() - start_time\n",
    "print(training_time)"
   ]
  },
  {
   "cell_type": "markdown",
   "id": "ecc8b98a",
   "metadata": {},
   "source": [
    "# Evaluation"
   ]
  },
  {
   "cell_type": "code",
   "execution_count": 170,
   "id": "d4405bc9",
   "metadata": {
    "scrolled": true
   },
   "outputs": [
    {
     "name": "stdout",
     "output_type": "stream",
     "text": [
      "Accuracy: 0.9949182988930476\n",
      "Classification Report:\n",
      "               precision    recall  f1-score   support\n",
      "\n",
      "         0.0       1.00      1.00      1.00    454434\n",
      "         1.0       0.99      0.99      0.99    111715\n",
      "\n",
      "    accuracy                           0.99    566149\n",
      "   macro avg       0.99      0.99      0.99    566149\n",
      "weighted avg       0.99      0.99      0.99    566149\n",
      "\n"
     ]
    }
   ],
   "source": [
    "y_pred = dt.predict(X_test)\n",
    "accuracy = accuracy_score(y_test, y_pred)\n",
    "print(\"Accuracy:\", accuracy)\n",
    "classification_rep = classification_report(y_test, y_pred)\n",
    "print(\"Classification Report:\\n\", classification_rep)"
   ]
  },
  {
   "cell_type": "code",
   "execution_count": 171,
   "id": "471e788a",
   "metadata": {},
   "outputs": [],
   "source": [
    "corr_rem_df_0 = corr_rem_df[corr_rem_df[\"Label\"] == 0]\n",
    "corr_rem_df_1 = corr_rem_df[corr_rem_df[\"Label\"] == 1]\n",
    "corr_rem_df_0 = resample(corr_rem_df_0,\n",
    "                                 replace=False,   \n",
    "                                 n_samples=len(corr_rem_df_1),     \n",
    "                                 random_state=42)\n",
    "bal_df = pd.concat([corr_rem_df_0, corr_rem_df_1], ignore_index = True)"
   ]
  },
  {
   "cell_type": "code",
   "execution_count": 108,
   "id": "9ed690f7",
   "metadata": {
    "scrolled": true
   },
   "outputs": [
    {
     "data": {
      "text/html": [
       "<div>\n",
       "<style scoped>\n",
       "    .dataframe tbody tr th:only-of-type {\n",
       "        vertical-align: middle;\n",
       "    }\n",
       "\n",
       "    .dataframe tbody tr th {\n",
       "        vertical-align: top;\n",
       "    }\n",
       "\n",
       "    .dataframe thead th {\n",
       "        text-align: right;\n",
       "    }\n",
       "</style>\n",
       "<table border=\"1\" class=\"dataframe\">\n",
       "  <thead>\n",
       "    <tr style=\"text-align: right;\">\n",
       "      <th></th>\n",
       "      <th>Destination Port</th>\n",
       "      <th>PSH Flag Count</th>\n",
       "      <th>Fwd Packet Length Max</th>\n",
       "      <th>min_seg_size_forward</th>\n",
       "      <th>Bwd Header Length</th>\n",
       "      <th>ACK Flag Count</th>\n",
       "      <th>Bwd Packets/s</th>\n",
       "      <th>Init_Win_bytes_backward</th>\n",
       "      <th>act_data_pkt_fwd</th>\n",
       "      <th>Flow Bytes/s</th>\n",
       "      <th>Init_Win_bytes_forward</th>\n",
       "      <th>Fwd IAT Min</th>\n",
       "      <th>Flow Packets/s</th>\n",
       "      <th>Fwd IAT Mean</th>\n",
       "      <th>Label</th>\n",
       "    </tr>\n",
       "  </thead>\n",
       "  <tbody>\n",
       "    <tr>\n",
       "      <th>0</th>\n",
       "      <td>53</td>\n",
       "      <td>0</td>\n",
       "      <td>44</td>\n",
       "      <td>20</td>\n",
       "      <td>32</td>\n",
       "      <td>0</td>\n",
       "      <td>13.972530</td>\n",
       "      <td>-1</td>\n",
       "      <td>0</td>\n",
       "      <td>2682.725761</td>\n",
       "      <td>-1</td>\n",
       "      <td>0</td>\n",
       "      <td>27.945060</td>\n",
       "      <td>0.000000e+00</td>\n",
       "      <td>0</td>\n",
       "    </tr>\n",
       "    <tr>\n",
       "      <th>1</th>\n",
       "      <td>443</td>\n",
       "      <td>1</td>\n",
       "      <td>494</td>\n",
       "      <td>32</td>\n",
       "      <td>2056</td>\n",
       "      <td>0</td>\n",
       "      <td>0.555321</td>\n",
       "      <td>357</td>\n",
       "      <td>4</td>\n",
       "      <td>631.607691</td>\n",
       "      <td>29200</td>\n",
       "      <td>11</td>\n",
       "      <td>0.937103</td>\n",
       "      <td>2.680204e+06</td>\n",
       "      <td>0</td>\n",
       "    </tr>\n",
       "    <tr>\n",
       "      <th>2</th>\n",
       "      <td>2719</td>\n",
       "      <td>0</td>\n",
       "      <td>6</td>\n",
       "      <td>20</td>\n",
       "      <td>40</td>\n",
       "      <td>1</td>\n",
       "      <td>16949.152540</td>\n",
       "      <td>253</td>\n",
       "      <td>0</td>\n",
       "      <td>152542.372900</td>\n",
       "      <td>245</td>\n",
       "      <td>0</td>\n",
       "      <td>25423.728810</td>\n",
       "      <td>0.000000e+00</td>\n",
       "      <td>0</td>\n",
       "    </tr>\n",
       "    <tr>\n",
       "      <th>3</th>\n",
       "      <td>53</td>\n",
       "      <td>0</td>\n",
       "      <td>63</td>\n",
       "      <td>20</td>\n",
       "      <td>20</td>\n",
       "      <td>0</td>\n",
       "      <td>2016.129032</td>\n",
       "      <td>-1</td>\n",
       "      <td>0</td>\n",
       "      <td>375000.000000</td>\n",
       "      <td>-1</td>\n",
       "      <td>0</td>\n",
       "      <td>4032.258065</td>\n",
       "      <td>0.000000e+00</td>\n",
       "      <td>0</td>\n",
       "    </tr>\n",
       "    <tr>\n",
       "      <th>4</th>\n",
       "      <td>443</td>\n",
       "      <td>1</td>\n",
       "      <td>584</td>\n",
       "      <td>32</td>\n",
       "      <td>648</td>\n",
       "      <td>0</td>\n",
       "      <td>0.170406</td>\n",
       "      <td>136</td>\n",
       "      <td>9</td>\n",
       "      <td>85.075181</td>\n",
       "      <td>29200</td>\n",
       "      <td>27</td>\n",
       "      <td>0.340812</td>\n",
       "      <td>6.177199e+06</td>\n",
       "      <td>0</td>\n",
       "    </tr>\n",
       "    <tr>\n",
       "      <th>...</th>\n",
       "      <td>...</td>\n",
       "      <td>...</td>\n",
       "      <td>...</td>\n",
       "      <td>...</td>\n",
       "      <td>...</td>\n",
       "      <td>...</td>\n",
       "      <td>...</td>\n",
       "      <td>...</td>\n",
       "      <td>...</td>\n",
       "      <td>...</td>\n",
       "      <td>...</td>\n",
       "      <td>...</td>\n",
       "      <td>...</td>\n",
       "      <td>...</td>\n",
       "      <td>...</td>\n",
       "    </tr>\n",
       "    <tr>\n",
       "      <th>851751</th>\n",
       "      <td>80</td>\n",
       "      <td>1</td>\n",
       "      <td>326</td>\n",
       "      <td>32</td>\n",
       "      <td>168</td>\n",
       "      <td>0</td>\n",
       "      <td>0.434322</td>\n",
       "      <td>235</td>\n",
       "      <td>1</td>\n",
       "      <td>1038.723775</td>\n",
       "      <td>29200</td>\n",
       "      <td>1</td>\n",
       "      <td>1.129236</td>\n",
       "      <td>9.301100e+05</td>\n",
       "      <td>1</td>\n",
       "    </tr>\n",
       "    <tr>\n",
       "      <th>851752</th>\n",
       "      <td>80</td>\n",
       "      <td>1</td>\n",
       "      <td>471</td>\n",
       "      <td>32</td>\n",
       "      <td>168</td>\n",
       "      <td>0</td>\n",
       "      <td>0.434279</td>\n",
       "      <td>235</td>\n",
       "      <td>1</td>\n",
       "      <td>347.076105</td>\n",
       "      <td>29200</td>\n",
       "      <td>176</td>\n",
       "      <td>0.868559</td>\n",
       "      <td>1.628158e+06</td>\n",
       "      <td>1</td>\n",
       "    </tr>\n",
       "    <tr>\n",
       "      <th>851753</th>\n",
       "      <td>80</td>\n",
       "      <td>1</td>\n",
       "      <td>314</td>\n",
       "      <td>32</td>\n",
       "      <td>200</td>\n",
       "      <td>0</td>\n",
       "      <td>0.521322</td>\n",
       "      <td>235</td>\n",
       "      <td>1</td>\n",
       "      <td>1037.952157</td>\n",
       "      <td>29200</td>\n",
       "      <td>255</td>\n",
       "      <td>1.129531</td>\n",
       "      <td>1.084509e+06</td>\n",
       "      <td>1</td>\n",
       "    </tr>\n",
       "    <tr>\n",
       "      <th>851754</th>\n",
       "      <td>80</td>\n",
       "      <td>1</td>\n",
       "      <td>369</td>\n",
       "      <td>32</td>\n",
       "      <td>168</td>\n",
       "      <td>0</td>\n",
       "      <td>0.434439</td>\n",
       "      <td>235</td>\n",
       "      <td>1</td>\n",
       "      <td>1042.740546</td>\n",
       "      <td>29200</td>\n",
       "      <td>168</td>\n",
       "      <td>1.129541</td>\n",
       "      <td>9.296849e+05</td>\n",
       "      <td>1</td>\n",
       "    </tr>\n",
       "    <tr>\n",
       "      <th>851755</th>\n",
       "      <td>80</td>\n",
       "      <td>1</td>\n",
       "      <td>672</td>\n",
       "      <td>32</td>\n",
       "      <td>168</td>\n",
       "      <td>0</td>\n",
       "      <td>0.434321</td>\n",
       "      <td>237</td>\n",
       "      <td>1</td>\n",
       "      <td>364.568811</td>\n",
       "      <td>29200</td>\n",
       "      <td>4</td>\n",
       "      <td>0.868641</td>\n",
       "      <td>1.627279e+06</td>\n",
       "      <td>1</td>\n",
       "    </tr>\n",
       "  </tbody>\n",
       "</table>\n",
       "<p>851756 rows × 15 columns</p>\n",
       "</div>"
      ],
      "text/plain": [
       "        Destination Port  PSH Flag Count  Fwd Packet Length Max  \\\n",
       "0                     53               0                     44   \n",
       "1                    443               1                    494   \n",
       "2                   2719               0                      6   \n",
       "3                     53               0                     63   \n",
       "4                    443               1                    584   \n",
       "...                  ...             ...                    ...   \n",
       "851751                80               1                    326   \n",
       "851752                80               1                    471   \n",
       "851753                80               1                    314   \n",
       "851754                80               1                    369   \n",
       "851755                80               1                    672   \n",
       "\n",
       "        min_seg_size_forward  Bwd Header Length  ACK Flag Count  \\\n",
       "0                         20                 32               0   \n",
       "1                         32               2056               0   \n",
       "2                         20                 40               1   \n",
       "3                         20                 20               0   \n",
       "4                         32                648               0   \n",
       "...                      ...                ...             ...   \n",
       "851751                    32                168               0   \n",
       "851752                    32                168               0   \n",
       "851753                    32                200               0   \n",
       "851754                    32                168               0   \n",
       "851755                    32                168               0   \n",
       "\n",
       "        Bwd Packets/s  Init_Win_bytes_backward  act_data_pkt_fwd  \\\n",
       "0           13.972530                       -1                 0   \n",
       "1            0.555321                      357                 4   \n",
       "2        16949.152540                      253                 0   \n",
       "3         2016.129032                       -1                 0   \n",
       "4            0.170406                      136                 9   \n",
       "...               ...                      ...               ...   \n",
       "851751       0.434322                      235                 1   \n",
       "851752       0.434279                      235                 1   \n",
       "851753       0.521322                      235                 1   \n",
       "851754       0.434439                      235                 1   \n",
       "851755       0.434321                      237                 1   \n",
       "\n",
       "         Flow Bytes/s  Init_Win_bytes_forward  Fwd IAT Min  Flow Packets/s  \\\n",
       "0         2682.725761                      -1            0       27.945060   \n",
       "1          631.607691                   29200           11        0.937103   \n",
       "2       152542.372900                     245            0    25423.728810   \n",
       "3       375000.000000                      -1            0     4032.258065   \n",
       "4           85.075181                   29200           27        0.340812   \n",
       "...               ...                     ...          ...             ...   \n",
       "851751    1038.723775                   29200            1        1.129236   \n",
       "851752     347.076105                   29200          176        0.868559   \n",
       "851753    1037.952157                   29200          255        1.129531   \n",
       "851754    1042.740546                   29200          168        1.129541   \n",
       "851755     364.568811                   29200            4        0.868641   \n",
       "\n",
       "        Fwd IAT Mean  Label  \n",
       "0       0.000000e+00      0  \n",
       "1       2.680204e+06      0  \n",
       "2       0.000000e+00      0  \n",
       "3       0.000000e+00      0  \n",
       "4       6.177199e+06      0  \n",
       "...              ...    ...  \n",
       "851751  9.301100e+05      1  \n",
       "851752  1.628158e+06      1  \n",
       "851753  1.084509e+06      1  \n",
       "851754  9.296849e+05      1  \n",
       "851755  1.627279e+06      1  \n",
       "\n",
       "[851756 rows x 15 columns]"
      ]
     },
     "execution_count": 108,
     "metadata": {},
     "output_type": "execute_result"
    }
   ],
   "source": [
    "bal_df"
   ]
  },
  {
   "cell_type": "code",
   "execution_count": 109,
   "id": "855e5c98",
   "metadata": {},
   "outputs": [],
   "source": [
    "X = bal_df.drop([\"Label\"], axis = 1)\n",
    "y = bal_df[\"Label\"]"
   ]
  },
  {
   "cell_type": "code",
   "execution_count": 110,
   "id": "d630809e",
   "metadata": {},
   "outputs": [],
   "source": [
    "X_train, X_test, y_train, y_test = train_test_split(X, y, test_size=0.2, random_state=42)"
   ]
  },
  {
   "cell_type": "code",
   "execution_count": 111,
   "id": "01e4da04",
   "metadata": {},
   "outputs": [
    {
     "name": "stdout",
     "output_type": "stream",
     "text": [
      "7.789804935455322\n"
     ]
    }
   ],
   "source": [
    "start_time = time.time()\n",
    "clf = RandomForestClassifier()\n",
    "clf.fit(X_train, y_train)\n",
    "training_time = time.time() - start_time\n",
    "print(training_time)"
   ]
  },
  {
   "cell_type": "code",
   "execution_count": 112,
   "id": "17a08a6d",
   "metadata": {
    "scrolled": true
   },
   "outputs": [
    {
     "name": "stdout",
     "output_type": "stream",
     "text": [
      "Accuracy: 0.9992251338405185\n",
      "Classification Report:\n",
      "               precision    recall  f1-score   support\n",
      "\n",
      "           0       1.00      1.00      1.00     85344\n",
      "           1       1.00      1.00      1.00     85008\n",
      "\n",
      "    accuracy                           1.00    170352\n",
      "   macro avg       1.00      1.00      1.00    170352\n",
      "weighted avg       1.00      1.00      1.00    170352\n",
      "\n"
     ]
    }
   ],
   "source": [
    "y_pred = clf.predict(X_test)\n",
    "accuracy = accuracy_score(y_test, y_pred)\n",
    "print(\"Accuracy:\", accuracy)\n",
    "classification_rep = classification_report(y_test, y_pred)\n",
    "print(\"Classification Report:\\n\", classification_rep)"
   ]
  },
  {
   "cell_type": "code",
   "execution_count": 101,
   "id": "5474c60d",
   "metadata": {},
   "outputs": [
    {
     "data": {
      "text/plain": [
       "0    445461\n",
       "1    445028\n",
       "Name: Label, dtype: int64"
      ]
     },
     "execution_count": 101,
     "metadata": {},
     "output_type": "execute_result"
    }
   ],
   "source": [
    "y_train.value_counts()"
   ]
  },
  {
   "cell_type": "code",
   "execution_count": 109,
   "id": "02cd54be",
   "metadata": {},
   "outputs": [
    {
     "name": "stdout",
     "output_type": "stream",
     "text": [
      "WARNING: The input does not fit in a single ciphertext, and some operations will be disabled.\n",
      "The following operations are disabled in this setup: matmul, matmul_plain, enc_matmul_plain, conv2d_im2col.\n",
      "If you need to use those operations, try increasing the poly_modulus parameter, to fit your input.\n",
      "WARNING: The input does not fit in a single ciphertext, and some operations will be disabled.\n",
      "The following operations are disabled in this setup: matmul, matmul_plain, enc_matmul_plain, conv2d_im2col.\n",
      "If you need to use those operations, try increasing the poly_modulus parameter, to fit your input.\n",
      "CPU times: total: 14.2 s\n",
      "Wall time: 14.2 s\n"
     ]
    }
   ],
   "source": [
    "%%time\n",
    "context = ts.context(ts.SCHEME_TYPE.CKKS, poly_modulus_degree=8192, coeff_mod_bit_sizes=[60, 40, 40, 60])\n",
    "context.global_scale = 2 ** 20\n",
    "enc_X_train = ts.ckks_vector(context, X_train.values.ravel().tolist())\n",
    "enc_y_train = ts.ckks_vector(context, y_train.values.ravel().tolist())"
   ]
  },
  {
   "cell_type": "code",
   "execution_count": 110,
   "id": "65383958",
   "metadata": {},
   "outputs": [
    {
     "ename": "ValueError",
     "evalue": "Expected 2D array, got 1D array instead:\narray=[ 8.0000580e+01  2.7399963e+02 -2.7388207e-05 ...  6.0000644e+00\n  8.0000000e+05 -8.1180240e-04].\nReshape your data either using array.reshape(-1, 1) if your data has a single feature or array.reshape(1, -1) if it contains a single sample.",
     "output_type": "error",
     "traceback": [
      "\u001b[1;31m---------------------------------------------------------------------------\u001b[0m",
      "\u001b[1;31mValueError\u001b[0m                                Traceback (most recent call last)",
      "Input \u001b[1;32mIn [110]\u001b[0m, in \u001b[0;36m<cell line: 2>\u001b[1;34m()\u001b[0m\n\u001b[0;32m      1\u001b[0m dt \u001b[38;5;241m=\u001b[39m DecisionTreeClassifier()\n\u001b[1;32m----> 2\u001b[0m \u001b[43mdt\u001b[49m\u001b[38;5;241;43m.\u001b[39;49m\u001b[43mfit\u001b[49m\u001b[43m(\u001b[49m\u001b[43menc_X_train\u001b[49m\u001b[38;5;241;43m.\u001b[39;49m\u001b[43mdecrypt\u001b[49m\u001b[43m(\u001b[49m\u001b[43m)\u001b[49m\u001b[43m,\u001b[49m\u001b[43m \u001b[49m\u001b[43menc_y_train\u001b[49m\u001b[38;5;241;43m.\u001b[39;49m\u001b[43mdecrypt\u001b[49m\u001b[43m(\u001b[49m\u001b[43m)\u001b[49m\u001b[43m)\u001b[49m\n",
      "File \u001b[1;32mC:\\ProgramData\\Anaconda3\\lib\\site-packages\\sklearn\\tree\\_classes.py:937\u001b[0m, in \u001b[0;36mDecisionTreeClassifier.fit\u001b[1;34m(self, X, y, sample_weight, check_input, X_idx_sorted)\u001b[0m\n\u001b[0;32m    899\u001b[0m \u001b[38;5;28;01mdef\u001b[39;00m \u001b[38;5;21mfit\u001b[39m(\n\u001b[0;32m    900\u001b[0m     \u001b[38;5;28mself\u001b[39m, X, y, sample_weight\u001b[38;5;241m=\u001b[39m\u001b[38;5;28;01mNone\u001b[39;00m, check_input\u001b[38;5;241m=\u001b[39m\u001b[38;5;28;01mTrue\u001b[39;00m, X_idx_sorted\u001b[38;5;241m=\u001b[39m\u001b[38;5;124m\"\u001b[39m\u001b[38;5;124mdeprecated\u001b[39m\u001b[38;5;124m\"\u001b[39m\n\u001b[0;32m    901\u001b[0m ):\n\u001b[0;32m    902\u001b[0m     \u001b[38;5;124;03m\"\"\"Build a decision tree classifier from the training set (X, y).\u001b[39;00m\n\u001b[0;32m    903\u001b[0m \n\u001b[0;32m    904\u001b[0m \u001b[38;5;124;03m    Parameters\u001b[39;00m\n\u001b[1;32m   (...)\u001b[0m\n\u001b[0;32m    934\u001b[0m \u001b[38;5;124;03m        Fitted estimator.\u001b[39;00m\n\u001b[0;32m    935\u001b[0m \u001b[38;5;124;03m    \"\"\"\u001b[39;00m\n\u001b[1;32m--> 937\u001b[0m     \u001b[38;5;28;43msuper\u001b[39;49m\u001b[43m(\u001b[49m\u001b[43m)\u001b[49m\u001b[38;5;241;43m.\u001b[39;49m\u001b[43mfit\u001b[49m\u001b[43m(\u001b[49m\n\u001b[0;32m    938\u001b[0m \u001b[43m        \u001b[49m\u001b[43mX\u001b[49m\u001b[43m,\u001b[49m\n\u001b[0;32m    939\u001b[0m \u001b[43m        \u001b[49m\u001b[43my\u001b[49m\u001b[43m,\u001b[49m\n\u001b[0;32m    940\u001b[0m \u001b[43m        \u001b[49m\u001b[43msample_weight\u001b[49m\u001b[38;5;241;43m=\u001b[39;49m\u001b[43msample_weight\u001b[49m\u001b[43m,\u001b[49m\n\u001b[0;32m    941\u001b[0m \u001b[43m        \u001b[49m\u001b[43mcheck_input\u001b[49m\u001b[38;5;241;43m=\u001b[39;49m\u001b[43mcheck_input\u001b[49m\u001b[43m,\u001b[49m\n\u001b[0;32m    942\u001b[0m \u001b[43m        \u001b[49m\u001b[43mX_idx_sorted\u001b[49m\u001b[38;5;241;43m=\u001b[39;49m\u001b[43mX_idx_sorted\u001b[49m\u001b[43m,\u001b[49m\n\u001b[0;32m    943\u001b[0m \u001b[43m    \u001b[49m\u001b[43m)\u001b[49m\n\u001b[0;32m    944\u001b[0m     \u001b[38;5;28;01mreturn\u001b[39;00m \u001b[38;5;28mself\u001b[39m\n",
      "File \u001b[1;32mC:\\ProgramData\\Anaconda3\\lib\\site-packages\\sklearn\\tree\\_classes.py:165\u001b[0m, in \u001b[0;36mBaseDecisionTree.fit\u001b[1;34m(self, X, y, sample_weight, check_input, X_idx_sorted)\u001b[0m\n\u001b[0;32m    163\u001b[0m check_X_params \u001b[38;5;241m=\u001b[39m \u001b[38;5;28mdict\u001b[39m(dtype\u001b[38;5;241m=\u001b[39mDTYPE, accept_sparse\u001b[38;5;241m=\u001b[39m\u001b[38;5;124m\"\u001b[39m\u001b[38;5;124mcsc\u001b[39m\u001b[38;5;124m\"\u001b[39m)\n\u001b[0;32m    164\u001b[0m check_y_params \u001b[38;5;241m=\u001b[39m \u001b[38;5;28mdict\u001b[39m(ensure_2d\u001b[38;5;241m=\u001b[39m\u001b[38;5;28;01mFalse\u001b[39;00m, dtype\u001b[38;5;241m=\u001b[39m\u001b[38;5;28;01mNone\u001b[39;00m)\n\u001b[1;32m--> 165\u001b[0m X, y \u001b[38;5;241m=\u001b[39m \u001b[38;5;28;43mself\u001b[39;49m\u001b[38;5;241;43m.\u001b[39;49m\u001b[43m_validate_data\u001b[49m\u001b[43m(\u001b[49m\n\u001b[0;32m    166\u001b[0m \u001b[43m    \u001b[49m\u001b[43mX\u001b[49m\u001b[43m,\u001b[49m\u001b[43m \u001b[49m\u001b[43my\u001b[49m\u001b[43m,\u001b[49m\u001b[43m \u001b[49m\u001b[43mvalidate_separately\u001b[49m\u001b[38;5;241;43m=\u001b[39;49m\u001b[43m(\u001b[49m\u001b[43mcheck_X_params\u001b[49m\u001b[43m,\u001b[49m\u001b[43m \u001b[49m\u001b[43mcheck_y_params\u001b[49m\u001b[43m)\u001b[49m\n\u001b[0;32m    167\u001b[0m \u001b[43m\u001b[49m\u001b[43m)\u001b[49m\n\u001b[0;32m    168\u001b[0m \u001b[38;5;28;01mif\u001b[39;00m issparse(X):\n\u001b[0;32m    169\u001b[0m     X\u001b[38;5;241m.\u001b[39msort_indices()\n",
      "File \u001b[1;32mC:\\ProgramData\\Anaconda3\\lib\\site-packages\\sklearn\\base.py:578\u001b[0m, in \u001b[0;36mBaseEstimator._validate_data\u001b[1;34m(self, X, y, reset, validate_separately, **check_params)\u001b[0m\n\u001b[0;32m    572\u001b[0m \u001b[38;5;28;01mif\u001b[39;00m validate_separately:\n\u001b[0;32m    573\u001b[0m     \u001b[38;5;66;03m# We need this because some estimators validate X and y\u001b[39;00m\n\u001b[0;32m    574\u001b[0m     \u001b[38;5;66;03m# separately, and in general, separately calling check_array()\u001b[39;00m\n\u001b[0;32m    575\u001b[0m     \u001b[38;5;66;03m# on X and y isn't equivalent to just calling check_X_y()\u001b[39;00m\n\u001b[0;32m    576\u001b[0m     \u001b[38;5;66;03m# :(\u001b[39;00m\n\u001b[0;32m    577\u001b[0m     check_X_params, check_y_params \u001b[38;5;241m=\u001b[39m validate_separately\n\u001b[1;32m--> 578\u001b[0m     X \u001b[38;5;241m=\u001b[39m check_array(X, \u001b[38;5;241m*\u001b[39m\u001b[38;5;241m*\u001b[39mcheck_X_params)\n\u001b[0;32m    579\u001b[0m     y \u001b[38;5;241m=\u001b[39m check_array(y, \u001b[38;5;241m*\u001b[39m\u001b[38;5;241m*\u001b[39mcheck_y_params)\n\u001b[0;32m    580\u001b[0m \u001b[38;5;28;01melse\u001b[39;00m:\n",
      "File \u001b[1;32mC:\\ProgramData\\Anaconda3\\lib\\site-packages\\sklearn\\utils\\validation.py:769\u001b[0m, in \u001b[0;36mcheck_array\u001b[1;34m(array, accept_sparse, accept_large_sparse, dtype, order, copy, force_all_finite, ensure_2d, allow_nd, ensure_min_samples, ensure_min_features, estimator)\u001b[0m\n\u001b[0;32m    767\u001b[0m     \u001b[38;5;66;03m# If input is 1D raise error\u001b[39;00m\n\u001b[0;32m    768\u001b[0m     \u001b[38;5;28;01mif\u001b[39;00m array\u001b[38;5;241m.\u001b[39mndim \u001b[38;5;241m==\u001b[39m \u001b[38;5;241m1\u001b[39m:\n\u001b[1;32m--> 769\u001b[0m         \u001b[38;5;28;01mraise\u001b[39;00m \u001b[38;5;167;01mValueError\u001b[39;00m(\n\u001b[0;32m    770\u001b[0m             \u001b[38;5;124m\"\u001b[39m\u001b[38;5;124mExpected 2D array, got 1D array instead:\u001b[39m\u001b[38;5;130;01m\\n\u001b[39;00m\u001b[38;5;124marray=\u001b[39m\u001b[38;5;132;01m{}\u001b[39;00m\u001b[38;5;124m.\u001b[39m\u001b[38;5;130;01m\\n\u001b[39;00m\u001b[38;5;124m\"\u001b[39m\n\u001b[0;32m    771\u001b[0m             \u001b[38;5;124m\"\u001b[39m\u001b[38;5;124mReshape your data either using array.reshape(-1, 1) if \u001b[39m\u001b[38;5;124m\"\u001b[39m\n\u001b[0;32m    772\u001b[0m             \u001b[38;5;124m\"\u001b[39m\u001b[38;5;124myour data has a single feature or array.reshape(1, -1) \u001b[39m\u001b[38;5;124m\"\u001b[39m\n\u001b[0;32m    773\u001b[0m             \u001b[38;5;124m\"\u001b[39m\u001b[38;5;124mif it contains a single sample.\u001b[39m\u001b[38;5;124m\"\u001b[39m\u001b[38;5;241m.\u001b[39mformat(array)\n\u001b[0;32m    774\u001b[0m         )\n\u001b[0;32m    776\u001b[0m \u001b[38;5;66;03m# make sure we actually converted to numeric:\u001b[39;00m\n\u001b[0;32m    777\u001b[0m \u001b[38;5;28;01mif\u001b[39;00m dtype_numeric \u001b[38;5;129;01mand\u001b[39;00m array\u001b[38;5;241m.\u001b[39mdtype\u001b[38;5;241m.\u001b[39mkind \u001b[38;5;129;01min\u001b[39;00m \u001b[38;5;124m\"\u001b[39m\u001b[38;5;124mOUSV\u001b[39m\u001b[38;5;124m\"\u001b[39m:\n",
      "\u001b[1;31mValueError\u001b[0m: Expected 2D array, got 1D array instead:\narray=[ 8.0000580e+01  2.7399963e+02 -2.7388207e-05 ...  6.0000644e+00\n  8.0000000e+05 -8.1180240e-04].\nReshape your data either using array.reshape(-1, 1) if your data has a single feature or array.reshape(1, -1) if it contains a single sample."
     ]
    }
   ],
   "source": [
    "dt = DecisionTreeClassifier()\n",
    "dt.fit(enc_X_train.decrypt(), enc_y_train.decrypt())"
   ]
  },
  {
   "cell_type": "code",
   "execution_count": 112,
   "id": "cd8f3c71",
   "metadata": {},
   "outputs": [
    {
     "ename": "AttributeError",
     "evalue": "'RandomForestClassifier' object has no attribute 'lr'",
     "output_type": "error",
     "traceback": [
      "\u001b[1;31m---------------------------------------------------------------------------\u001b[0m",
      "\u001b[1;31mAttributeError\u001b[0m                            Traceback (most recent call last)",
      "Input \u001b[1;32mIn [112]\u001b[0m, in \u001b[0;36m<cell line: 34>\u001b[1;34m()\u001b[0m\n\u001b[0;32m     30\u001b[0m         \u001b[38;5;28mself\u001b[39m\u001b[38;5;241m.\u001b[39mweight \u001b[38;5;241m=\u001b[39m \u001b[38;5;28mself\u001b[39m\u001b[38;5;241m.\u001b[39mweight\u001b[38;5;241m.\u001b[39mdecrypt()\n\u001b[0;32m     31\u001b[0m         \u001b[38;5;28mself\u001b[39m\u001b[38;5;241m.\u001b[39mbias \u001b[38;5;241m=\u001b[39m \u001b[38;5;28mself\u001b[39m\u001b[38;5;241m.\u001b[39mbias\u001b[38;5;241m.\u001b[39mdecrypt()\n\u001b[1;32m---> 34\u001b[0m eelr \u001b[38;5;241m=\u001b[39m \u001b[43mEncryptedLR\u001b[49m\u001b[43m(\u001b[49m\u001b[43mmodel\u001b[49m\u001b[43m)\u001b[49m\n",
      "Input \u001b[1;32mIn [112]\u001b[0m, in \u001b[0;36mEncryptedLR.__init__\u001b[1;34m(self, torch_lr)\u001b[0m\n\u001b[0;32m      4\u001b[0m \u001b[38;5;28;01mdef\u001b[39;00m \u001b[38;5;21m__init__\u001b[39m(\u001b[38;5;28mself\u001b[39m, torch_lr):\n\u001b[0;32m      5\u001b[0m     \u001b[38;5;66;03m# TenSEAL processes lists and not torch tensors,\u001b[39;00m\n\u001b[0;32m      6\u001b[0m     \u001b[38;5;66;03m# so we take out the parameters from the PyTorch model\u001b[39;00m\n\u001b[1;32m----> 7\u001b[0m     \u001b[38;5;28mself\u001b[39m\u001b[38;5;241m.\u001b[39mweight \u001b[38;5;241m=\u001b[39m \u001b[43mtorch_lr\u001b[49m\u001b[38;5;241;43m.\u001b[39;49m\u001b[43mlr\u001b[49m\u001b[38;5;241m.\u001b[39mweight\u001b[38;5;241m.\u001b[39mdata\u001b[38;5;241m.\u001b[39mtolist()[\u001b[38;5;241m0\u001b[39m]\n\u001b[0;32m      8\u001b[0m     \u001b[38;5;28mself\u001b[39m\u001b[38;5;241m.\u001b[39mbias \u001b[38;5;241m=\u001b[39m torch_lr\u001b[38;5;241m.\u001b[39mlr\u001b[38;5;241m.\u001b[39mbias\u001b[38;5;241m.\u001b[39mdata\u001b[38;5;241m.\u001b[39mtolist()\n",
      "\u001b[1;31mAttributeError\u001b[0m: 'RandomForestClassifier' object has no attribute 'lr'"
     ]
    }
   ],
   "source": [
    "import torch\n",
    "class EncryptedLR:\n",
    "    \n",
    "    def __init__(self, torch_lr):\n",
    "        # TenSEAL processes lists and not torch tensors,\n",
    "        # so we take out the parameters from the PyTorch model\n",
    "        self.weight = torch_lr.lr.weight.data.tolist()[0]\n",
    "        self.bias = torch_lr.lr.bias.data.tolist()\n",
    "        \n",
    "    def forward(self, enc_x):\n",
    "        # We don't need to perform sigmoid as this model\n",
    "        # will only be used for evaluation, and the label\n",
    "        # can be deduced without applying sigmoid\n",
    "        enc_out = enc_x.dot(self.weight) + self.bias\n",
    "        return enc_out\n",
    "    \n",
    "    def __call__(self, *args, **kwargs):\n",
    "        return self.forward(*args, **kwargs)\n",
    "        \n",
    "    ################################################\n",
    "    ## You can use the functions below to perform ##\n",
    "    ## the evaluation with an encrypted model     ##\n",
    "    ################################################\n",
    "    \n",
    "    def encrypt(self, context):\n",
    "        self.weight = ts.ckks_vector(context, self.weight)\n",
    "        self.bias = ts.ckks_vector(context, self.bias)\n",
    "        \n",
    "    def decrypt(self, context):\n",
    "        self.weight = self.weight.decrypt()\n",
    "        self.bias = self.bias.decrypt()\n",
    "        \n",
    "\n",
    "eelr = EncryptedLR(model)"
   ]
  },
  {
   "cell_type": "code",
   "execution_count": null,
   "id": "94aa770b",
   "metadata": {},
   "outputs": [],
   "source": []
  }
 ],
 "metadata": {
  "kernelspec": {
   "display_name": "Python 3 (ipykernel)",
   "language": "python",
   "name": "python3"
  },
  "language_info": {
   "codemirror_mode": {
    "name": "ipython",
    "version": 3
   },
   "file_extension": ".py",
   "mimetype": "text/x-python",
   "name": "python",
   "nbconvert_exporter": "python",
   "pygments_lexer": "ipython3",
   "version": "3.9.12"
  }
 },
 "nbformat": 4,
 "nbformat_minor": 5
}
