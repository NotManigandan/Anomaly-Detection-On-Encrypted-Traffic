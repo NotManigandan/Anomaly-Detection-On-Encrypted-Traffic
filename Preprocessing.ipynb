{
 "cells": [
  {
   "cell_type": "markdown",
   "id": "d8d45928",
   "metadata": {},
   "source": [
    "# Importing Libraries and Dataset"
   ]
  },
  {
   "cell_type": "code",
   "execution_count": 1,
   "id": "c91c6f3d",
   "metadata": {},
   "outputs": [
    {
     "name": "stderr",
     "output_type": "stream",
     "text": [
      "Intel(R) Extension for Scikit-learn* enabled (https://github.com/intel/scikit-learn-intelex)\n"
     ]
    }
   ],
   "source": [
    "from sklearnex import patch_sklearn\n",
    "patch_sklearn()\n",
    "import os\n",
    "import time\n",
    "import numpy as np\n",
    "import pandas as pd\n",
    "import matplotlib.pyplot as plt\n",
    "%matplotlib inline\n",
    "import seaborn as sns\n",
    "import sklearn as sk\n",
    "from sklearn import preprocessing\n",
    "from sklearn.impute import KNNImputer\n",
    "from sklearn.utils import resample\n",
    "from sklearn.model_selection import train_test_split\n",
    "from sklearn.linear_model import LogisticRegression\n",
    "from sklearn.ensemble import RandomForestRegressor, RandomForestClassifier\n",
    "from sklearn.tree import DecisionTreeClassifier\n",
    "from sklearn.model_selection import RandomizedSearchCV\n",
    "from sklearn.metrics import confusion_matrix,accuracy_score, classification_report\n",
    "import pickle\n",
    "import tenseal as ts"
   ]
  },
  {
   "cell_type": "code",
   "execution_count": 2,
   "id": "56f3d385",
   "metadata": {},
   "outputs": [],
   "source": [
    "pd.options.display.max_rows = 80"
   ]
  },
  {
   "cell_type": "code",
   "execution_count": 3,
   "id": "25b9b741",
   "metadata": {},
   "outputs": [],
   "source": [
    "folder_path = r\"C:\\Users\\invite1\\Downloads\\CIC IDS Dataset\\MachineLearningCVE\" #folder path which contains all the CSV files\n",
    "csv = [i for i in os.listdir(folder_path) if i.endswith(\".csv\")]\n",
    "dfs = []\n",
    "for i in csv:\n",
    "    file_path = os.path.join(folder_path, i)\n",
    "    temp_df = pd.read_csv(file_path)\n",
    "    dfs.append(temp_df)\n",
    "df = pd.concat(dfs, ignore_index = True)"
   ]
  },
  {
   "cell_type": "markdown",
   "id": "ba1b5489",
   "metadata": {},
   "source": [
    "# Analysis & Preprocessing"
   ]
  },
  {
   "cell_type": "code",
   "execution_count": 4,
   "id": "6a4afbc6",
   "metadata": {},
   "outputs": [
    {
     "data": {
      "text/html": [
       "<div>\n",
       "<style scoped>\n",
       "    .dataframe tbody tr th:only-of-type {\n",
       "        vertical-align: middle;\n",
       "    }\n",
       "\n",
       "    .dataframe tbody tr th {\n",
       "        vertical-align: top;\n",
       "    }\n",
       "\n",
       "    .dataframe thead th {\n",
       "        text-align: right;\n",
       "    }\n",
       "</style>\n",
       "<table border=\"1\" class=\"dataframe\">\n",
       "  <thead>\n",
       "    <tr style=\"text-align: right;\">\n",
       "      <th></th>\n",
       "      <th>Destination Port</th>\n",
       "      <th>Flow Duration</th>\n",
       "      <th>Total Fwd Packets</th>\n",
       "      <th>Total Backward Packets</th>\n",
       "      <th>Total Length of Fwd Packets</th>\n",
       "      <th>Total Length of Bwd Packets</th>\n",
       "      <th>Fwd Packet Length Max</th>\n",
       "      <th>Fwd Packet Length Min</th>\n",
       "      <th>Fwd Packet Length Mean</th>\n",
       "      <th>Fwd Packet Length Std</th>\n",
       "      <th>...</th>\n",
       "      <th>min_seg_size_forward</th>\n",
       "      <th>Active Mean</th>\n",
       "      <th>Active Std</th>\n",
       "      <th>Active Max</th>\n",
       "      <th>Active Min</th>\n",
       "      <th>Idle Mean</th>\n",
       "      <th>Idle Std</th>\n",
       "      <th>Idle Max</th>\n",
       "      <th>Idle Min</th>\n",
       "      <th>Label</th>\n",
       "    </tr>\n",
       "  </thead>\n",
       "  <tbody>\n",
       "    <tr>\n",
       "      <th>0</th>\n",
       "      <td>54865</td>\n",
       "      <td>3</td>\n",
       "      <td>2</td>\n",
       "      <td>0</td>\n",
       "      <td>12</td>\n",
       "      <td>0</td>\n",
       "      <td>6</td>\n",
       "      <td>6</td>\n",
       "      <td>6.0</td>\n",
       "      <td>0.0</td>\n",
       "      <td>...</td>\n",
       "      <td>20</td>\n",
       "      <td>0.0</td>\n",
       "      <td>0.0</td>\n",
       "      <td>0</td>\n",
       "      <td>0</td>\n",
       "      <td>0.0</td>\n",
       "      <td>0.0</td>\n",
       "      <td>0</td>\n",
       "      <td>0</td>\n",
       "      <td>BENIGN</td>\n",
       "    </tr>\n",
       "    <tr>\n",
       "      <th>1</th>\n",
       "      <td>55054</td>\n",
       "      <td>109</td>\n",
       "      <td>1</td>\n",
       "      <td>1</td>\n",
       "      <td>6</td>\n",
       "      <td>6</td>\n",
       "      <td>6</td>\n",
       "      <td>6</td>\n",
       "      <td>6.0</td>\n",
       "      <td>0.0</td>\n",
       "      <td>...</td>\n",
       "      <td>20</td>\n",
       "      <td>0.0</td>\n",
       "      <td>0.0</td>\n",
       "      <td>0</td>\n",
       "      <td>0</td>\n",
       "      <td>0.0</td>\n",
       "      <td>0.0</td>\n",
       "      <td>0</td>\n",
       "      <td>0</td>\n",
       "      <td>BENIGN</td>\n",
       "    </tr>\n",
       "    <tr>\n",
       "      <th>2</th>\n",
       "      <td>55055</td>\n",
       "      <td>52</td>\n",
       "      <td>1</td>\n",
       "      <td>1</td>\n",
       "      <td>6</td>\n",
       "      <td>6</td>\n",
       "      <td>6</td>\n",
       "      <td>6</td>\n",
       "      <td>6.0</td>\n",
       "      <td>0.0</td>\n",
       "      <td>...</td>\n",
       "      <td>20</td>\n",
       "      <td>0.0</td>\n",
       "      <td>0.0</td>\n",
       "      <td>0</td>\n",
       "      <td>0</td>\n",
       "      <td>0.0</td>\n",
       "      <td>0.0</td>\n",
       "      <td>0</td>\n",
       "      <td>0</td>\n",
       "      <td>BENIGN</td>\n",
       "    </tr>\n",
       "    <tr>\n",
       "      <th>3</th>\n",
       "      <td>46236</td>\n",
       "      <td>34</td>\n",
       "      <td>1</td>\n",
       "      <td>1</td>\n",
       "      <td>6</td>\n",
       "      <td>6</td>\n",
       "      <td>6</td>\n",
       "      <td>6</td>\n",
       "      <td>6.0</td>\n",
       "      <td>0.0</td>\n",
       "      <td>...</td>\n",
       "      <td>20</td>\n",
       "      <td>0.0</td>\n",
       "      <td>0.0</td>\n",
       "      <td>0</td>\n",
       "      <td>0</td>\n",
       "      <td>0.0</td>\n",
       "      <td>0.0</td>\n",
       "      <td>0</td>\n",
       "      <td>0</td>\n",
       "      <td>BENIGN</td>\n",
       "    </tr>\n",
       "    <tr>\n",
       "      <th>4</th>\n",
       "      <td>54863</td>\n",
       "      <td>3</td>\n",
       "      <td>2</td>\n",
       "      <td>0</td>\n",
       "      <td>12</td>\n",
       "      <td>0</td>\n",
       "      <td>6</td>\n",
       "      <td>6</td>\n",
       "      <td>6.0</td>\n",
       "      <td>0.0</td>\n",
       "      <td>...</td>\n",
       "      <td>20</td>\n",
       "      <td>0.0</td>\n",
       "      <td>0.0</td>\n",
       "      <td>0</td>\n",
       "      <td>0</td>\n",
       "      <td>0.0</td>\n",
       "      <td>0.0</td>\n",
       "      <td>0</td>\n",
       "      <td>0</td>\n",
       "      <td>BENIGN</td>\n",
       "    </tr>\n",
       "  </tbody>\n",
       "</table>\n",
       "<p>5 rows × 79 columns</p>\n",
       "</div>"
      ],
      "text/plain": [
       "   Destination Port  Flow Duration  Total Fwd Packets  Total Backward Packets  \\\n",
       "0             54865              3                  2                       0   \n",
       "1             55054            109                  1                       1   \n",
       "2             55055             52                  1                       1   \n",
       "3             46236             34                  1                       1   \n",
       "4             54863              3                  2                       0   \n",
       "\n",
       "   Total Length of Fwd Packets  Total Length of Bwd Packets  \\\n",
       "0                           12                            0   \n",
       "1                            6                            6   \n",
       "2                            6                            6   \n",
       "3                            6                            6   \n",
       "4                           12                            0   \n",
       "\n",
       "   Fwd Packet Length Max  Fwd Packet Length Min  Fwd Packet Length Mean  \\\n",
       "0                      6                      6                     6.0   \n",
       "1                      6                      6                     6.0   \n",
       "2                      6                      6                     6.0   \n",
       "3                      6                      6                     6.0   \n",
       "4                      6                      6                     6.0   \n",
       "\n",
       "   Fwd Packet Length Std  ...  min_seg_size_forward  Active Mean  Active Std  \\\n",
       "0                    0.0  ...                    20          0.0         0.0   \n",
       "1                    0.0  ...                    20          0.0         0.0   \n",
       "2                    0.0  ...                    20          0.0         0.0   \n",
       "3                    0.0  ...                    20          0.0         0.0   \n",
       "4                    0.0  ...                    20          0.0         0.0   \n",
       "\n",
       "   Active Max  Active Min  Idle Mean  Idle Std  Idle Max  Idle Min   Label  \n",
       "0           0           0        0.0       0.0         0         0  BENIGN  \n",
       "1           0           0        0.0       0.0         0         0  BENIGN  \n",
       "2           0           0        0.0       0.0         0         0  BENIGN  \n",
       "3           0           0        0.0       0.0         0         0  BENIGN  \n",
       "4           0           0        0.0       0.0         0         0  BENIGN  \n",
       "\n",
       "[5 rows x 79 columns]"
      ]
     },
     "execution_count": 4,
     "metadata": {},
     "output_type": "execute_result"
    }
   ],
   "source": [
    "df.columns = df.columns.str.strip()\n",
    "columns = df.columns\n",
    "df.head()"
   ]
  },
  {
   "cell_type": "code",
   "execution_count": 5,
   "id": "2edd41b3",
   "metadata": {
    "scrolled": true
   },
   "outputs": [
    {
     "data": {
      "text/plain": [
       "(2830743, 79)"
      ]
     },
     "execution_count": 5,
     "metadata": {},
     "output_type": "execute_result"
    }
   ],
   "source": [
    "df.shape"
   ]
  },
  {
   "cell_type": "code",
   "execution_count": 6,
   "id": "53d0d093",
   "metadata": {
    "scrolled": true
   },
   "outputs": [
    {
     "data": {
      "text/plain": [
       "Destination Port                 int64\n",
       "Flow Duration                    int64\n",
       "Total Fwd Packets                int64\n",
       "Total Backward Packets           int64\n",
       "Total Length of Fwd Packets      int64\n",
       "Total Length of Bwd Packets      int64\n",
       "Fwd Packet Length Max            int64\n",
       "Fwd Packet Length Min            int64\n",
       "Fwd Packet Length Mean         float64\n",
       "Fwd Packet Length Std          float64\n",
       "Bwd Packet Length Max            int64\n",
       "Bwd Packet Length Min            int64\n",
       "Bwd Packet Length Mean         float64\n",
       "Bwd Packet Length Std          float64\n",
       "Flow Bytes/s                   float64\n",
       "Flow Packets/s                 float64\n",
       "Flow IAT Mean                  float64\n",
       "Flow IAT Std                   float64\n",
       "Flow IAT Max                     int64\n",
       "Flow IAT Min                     int64\n",
       "Fwd IAT Total                    int64\n",
       "Fwd IAT Mean                   float64\n",
       "Fwd IAT Std                    float64\n",
       "Fwd IAT Max                      int64\n",
       "Fwd IAT Min                      int64\n",
       "Bwd IAT Total                    int64\n",
       "Bwd IAT Mean                   float64\n",
       "Bwd IAT Std                    float64\n",
       "Bwd IAT Max                      int64\n",
       "Bwd IAT Min                      int64\n",
       "Fwd PSH Flags                    int64\n",
       "Bwd PSH Flags                    int64\n",
       "Fwd URG Flags                    int64\n",
       "Bwd URG Flags                    int64\n",
       "Fwd Header Length                int64\n",
       "Bwd Header Length                int64\n",
       "Fwd Packets/s                  float64\n",
       "Bwd Packets/s                  float64\n",
       "Min Packet Length                int64\n",
       "Max Packet Length                int64\n",
       "Packet Length Mean             float64\n",
       "Packet Length Std              float64\n",
       "Packet Length Variance         float64\n",
       "FIN Flag Count                   int64\n",
       "SYN Flag Count                   int64\n",
       "RST Flag Count                   int64\n",
       "PSH Flag Count                   int64\n",
       "ACK Flag Count                   int64\n",
       "URG Flag Count                   int64\n",
       "CWE Flag Count                   int64\n",
       "ECE Flag Count                   int64\n",
       "Down/Up Ratio                    int64\n",
       "Average Packet Size            float64\n",
       "Avg Fwd Segment Size           float64\n",
       "Avg Bwd Segment Size           float64\n",
       "Fwd Header Length.1              int64\n",
       "Fwd Avg Bytes/Bulk               int64\n",
       "Fwd Avg Packets/Bulk             int64\n",
       "Fwd Avg Bulk Rate                int64\n",
       "Bwd Avg Bytes/Bulk               int64\n",
       "Bwd Avg Packets/Bulk             int64\n",
       "Bwd Avg Bulk Rate                int64\n",
       "Subflow Fwd Packets              int64\n",
       "Subflow Fwd Bytes                int64\n",
       "Subflow Bwd Packets              int64\n",
       "Subflow Bwd Bytes                int64\n",
       "Init_Win_bytes_forward           int64\n",
       "Init_Win_bytes_backward          int64\n",
       "act_data_pkt_fwd                 int64\n",
       "min_seg_size_forward             int64\n",
       "Active Mean                    float64\n",
       "Active Std                     float64\n",
       "Active Max                       int64\n",
       "Active Min                       int64\n",
       "Idle Mean                      float64\n",
       "Idle Std                       float64\n",
       "Idle Max                         int64\n",
       "Idle Min                         int64\n",
       "Label                           object\n",
       "dtype: object"
      ]
     },
     "execution_count": 6,
     "metadata": {},
     "output_type": "execute_result"
    }
   ],
   "source": [
    "df.dtypes"
   ]
  },
  {
   "cell_type": "code",
   "execution_count": 7,
   "id": "500b0967",
   "metadata": {
    "scrolled": true
   },
   "outputs": [
    {
     "data": {
      "text/plain": [
       "Destination Port                  0\n",
       "Flow Duration                     0\n",
       "Total Fwd Packets                 0\n",
       "Total Backward Packets            0\n",
       "Total Length of Fwd Packets       0\n",
       "Total Length of Bwd Packets       0\n",
       "Fwd Packet Length Max             0\n",
       "Fwd Packet Length Min             0\n",
       "Fwd Packet Length Mean            0\n",
       "Fwd Packet Length Std             0\n",
       "Bwd Packet Length Max             0\n",
       "Bwd Packet Length Min             0\n",
       "Bwd Packet Length Mean            0\n",
       "Bwd Packet Length Std             0\n",
       "Flow Bytes/s                   1358\n",
       "Flow Packets/s                    0\n",
       "Flow IAT Mean                     0\n",
       "Flow IAT Std                      0\n",
       "Flow IAT Max                      0\n",
       "Flow IAT Min                      0\n",
       "Fwd IAT Total                     0\n",
       "Fwd IAT Mean                      0\n",
       "Fwd IAT Std                       0\n",
       "Fwd IAT Max                       0\n",
       "Fwd IAT Min                       0\n",
       "Bwd IAT Total                     0\n",
       "Bwd IAT Mean                      0\n",
       "Bwd IAT Std                       0\n",
       "Bwd IAT Max                       0\n",
       "Bwd IAT Min                       0\n",
       "Fwd PSH Flags                     0\n",
       "Bwd PSH Flags                     0\n",
       "Fwd URG Flags                     0\n",
       "Bwd URG Flags                     0\n",
       "Fwd Header Length                 0\n",
       "Bwd Header Length                 0\n",
       "Fwd Packets/s                     0\n",
       "Bwd Packets/s                     0\n",
       "Min Packet Length                 0\n",
       "Max Packet Length                 0\n",
       "Packet Length Mean                0\n",
       "Packet Length Std                 0\n",
       "Packet Length Variance            0\n",
       "FIN Flag Count                    0\n",
       "SYN Flag Count                    0\n",
       "RST Flag Count                    0\n",
       "PSH Flag Count                    0\n",
       "ACK Flag Count                    0\n",
       "URG Flag Count                    0\n",
       "CWE Flag Count                    0\n",
       "ECE Flag Count                    0\n",
       "Down/Up Ratio                     0\n",
       "Average Packet Size               0\n",
       "Avg Fwd Segment Size              0\n",
       "Avg Bwd Segment Size              0\n",
       "Fwd Header Length.1               0\n",
       "Fwd Avg Bytes/Bulk                0\n",
       "Fwd Avg Packets/Bulk              0\n",
       "Fwd Avg Bulk Rate                 0\n",
       "Bwd Avg Bytes/Bulk                0\n",
       "Bwd Avg Packets/Bulk              0\n",
       "Bwd Avg Bulk Rate                 0\n",
       "Subflow Fwd Packets               0\n",
       "Subflow Fwd Bytes                 0\n",
       "Subflow Bwd Packets               0\n",
       "Subflow Bwd Bytes                 0\n",
       "Init_Win_bytes_forward            0\n",
       "Init_Win_bytes_backward           0\n",
       "act_data_pkt_fwd                  0\n",
       "min_seg_size_forward              0\n",
       "Active Mean                       0\n",
       "Active Std                        0\n",
       "Active Max                        0\n",
       "Active Min                        0\n",
       "Idle Mean                         0\n",
       "Idle Std                          0\n",
       "Idle Max                          0\n",
       "Idle Min                          0\n",
       "Label                             0\n",
       "dtype: int64"
      ]
     },
     "execution_count": 7,
     "metadata": {},
     "output_type": "execute_result"
    }
   ],
   "source": [
    "df.isnull().sum()"
   ]
  },
  {
   "cell_type": "code",
   "execution_count": 8,
   "id": "73960aac",
   "metadata": {},
   "outputs": [],
   "source": [
    "df.replace([np.inf, -np.inf], np.nan, inplace = True)"
   ]
  },
  {
   "cell_type": "code",
   "execution_count": 9,
   "id": "dbdb21aa",
   "metadata": {
    "scrolled": true
   },
   "outputs": [
    {
     "data": {
      "text/plain": [
       "Destination Port                  0\n",
       "Flow Duration                     0\n",
       "Total Fwd Packets                 0\n",
       "Total Backward Packets            0\n",
       "Total Length of Fwd Packets       0\n",
       "Total Length of Bwd Packets       0\n",
       "Fwd Packet Length Max             0\n",
       "Fwd Packet Length Min             0\n",
       "Fwd Packet Length Mean            0\n",
       "Fwd Packet Length Std             0\n",
       "Bwd Packet Length Max             0\n",
       "Bwd Packet Length Min             0\n",
       "Bwd Packet Length Mean            0\n",
       "Bwd Packet Length Std             0\n",
       "Flow Bytes/s                   2867\n",
       "Flow Packets/s                 2867\n",
       "Flow IAT Mean                     0\n",
       "Flow IAT Std                      0\n",
       "Flow IAT Max                      0\n",
       "Flow IAT Min                      0\n",
       "Fwd IAT Total                     0\n",
       "Fwd IAT Mean                      0\n",
       "Fwd IAT Std                       0\n",
       "Fwd IAT Max                       0\n",
       "Fwd IAT Min                       0\n",
       "Bwd IAT Total                     0\n",
       "Bwd IAT Mean                      0\n",
       "Bwd IAT Std                       0\n",
       "Bwd IAT Max                       0\n",
       "Bwd IAT Min                       0\n",
       "Fwd PSH Flags                     0\n",
       "Bwd PSH Flags                     0\n",
       "Fwd URG Flags                     0\n",
       "Bwd URG Flags                     0\n",
       "Fwd Header Length                 0\n",
       "Bwd Header Length                 0\n",
       "Fwd Packets/s                     0\n",
       "Bwd Packets/s                     0\n",
       "Min Packet Length                 0\n",
       "Max Packet Length                 0\n",
       "Packet Length Mean                0\n",
       "Packet Length Std                 0\n",
       "Packet Length Variance            0\n",
       "FIN Flag Count                    0\n",
       "SYN Flag Count                    0\n",
       "RST Flag Count                    0\n",
       "PSH Flag Count                    0\n",
       "ACK Flag Count                    0\n",
       "URG Flag Count                    0\n",
       "CWE Flag Count                    0\n",
       "ECE Flag Count                    0\n",
       "Down/Up Ratio                     0\n",
       "Average Packet Size               0\n",
       "Avg Fwd Segment Size              0\n",
       "Avg Bwd Segment Size              0\n",
       "Fwd Header Length.1               0\n",
       "Fwd Avg Bytes/Bulk                0\n",
       "Fwd Avg Packets/Bulk              0\n",
       "Fwd Avg Bulk Rate                 0\n",
       "Bwd Avg Bytes/Bulk                0\n",
       "Bwd Avg Packets/Bulk              0\n",
       "Bwd Avg Bulk Rate                 0\n",
       "Subflow Fwd Packets               0\n",
       "Subflow Fwd Bytes                 0\n",
       "Subflow Bwd Packets               0\n",
       "Subflow Bwd Bytes                 0\n",
       "Init_Win_bytes_forward            0\n",
       "Init_Win_bytes_backward           0\n",
       "act_data_pkt_fwd                  0\n",
       "min_seg_size_forward              0\n",
       "Active Mean                       0\n",
       "Active Std                        0\n",
       "Active Max                        0\n",
       "Active Min                        0\n",
       "Idle Mean                         0\n",
       "Idle Std                          0\n",
       "Idle Max                          0\n",
       "Idle Min                          0\n",
       "Label                             0\n",
       "dtype: int64"
      ]
     },
     "execution_count": 9,
     "metadata": {},
     "output_type": "execute_result"
    }
   ],
   "source": [
    "df.isnull().sum()"
   ]
  },
  {
   "cell_type": "code",
   "execution_count": 10,
   "id": "eb5b12f5",
   "metadata": {},
   "outputs": [
    {
     "data": {
      "text/plain": [
       "Label\n",
       "BENIGN                        2273097\n",
       "Bot                              1966\n",
       "DDoS                           128027\n",
       "DoS GoldenEye                   10293\n",
       "DoS Hulk                       231073\n",
       "DoS Slowhttptest                 5499\n",
       "DoS slowloris                    5796\n",
       "FTP-Patator                      7938\n",
       "Heartbleed                         11\n",
       "Infiltration                       36\n",
       "PortScan                       158930\n",
       "SSH-Patator                      5897\n",
       "Web Attack � Brute Force         1507\n",
       "Web Attack � Sql Injection         21\n",
       "Web Attack � XSS                  652\n",
       "Name: Label, dtype: int64"
      ]
     },
     "execution_count": 10,
     "metadata": {},
     "output_type": "execute_result"
    }
   ],
   "source": [
    "df.groupby('Label')['Label'].count()"
   ]
  },
  {
   "cell_type": "code",
   "execution_count": 11,
   "id": "9bc5048b",
   "metadata": {},
   "outputs": [
    {
     "data": {
      "text/plain": [
       "Label\n",
       "BENIGN                        3554\n",
       "Bot                             20\n",
       "DDoS                             4\n",
       "DoS GoldenEye                    0\n",
       "DoS Hulk                      1898\n",
       "DoS Slowhttptest                 0\n",
       "DoS slowloris                    0\n",
       "FTP-Patator                      6\n",
       "Heartbleed                       0\n",
       "Infiltration                     0\n",
       "PortScan                       252\n",
       "SSH-Patator                      0\n",
       "Web Attack � Brute Force         0\n",
       "Web Attack � Sql Injection       0\n",
       "Web Attack � XSS                 0\n",
       "dtype: int64"
      ]
     },
     "execution_count": 11,
     "metadata": {},
     "output_type": "execute_result"
    }
   ],
   "source": [
    "df.groupby('Label').apply(lambda x:x.isnull().sum().sum())"
   ]
  },
  {
   "cell_type": "code",
   "execution_count": 12,
   "id": "daa7dddb",
   "metadata": {},
   "outputs": [
    {
     "data": {
      "text/plain": [
       "5734"
      ]
     },
     "execution_count": 12,
     "metadata": {},
     "output_type": "execute_result"
    }
   ],
   "source": [
    "df.isnull().sum().sum()"
   ]
  },
  {
   "cell_type": "markdown",
   "id": "8d0dda2d",
   "metadata": {},
   "source": [
    "### Handling Null Values"
   ]
  },
  {
   "cell_type": "code",
   "execution_count": 13,
   "id": "95ab5426",
   "metadata": {
    "scrolled": false
   },
   "outputs": [],
   "source": [
    "# # Filling the null values present in a columns by taking the mean of a particular class to which the null values belong in the target class\n",
    "# for i in df.columns:\n",
    "#     if df[i].isnull().sum() > 0:\n",
    "#         for j in df[\"Label\"].unique():\n",
    "#             j_mean = df[df[\"Label\"] == j][i].mean()\n",
    "#             df.loc[(df[\"Label\"] == j) & (df[i].isnull()), i] = j_mean"
   ]
  },
  {
   "cell_type": "code",
   "execution_count": 14,
   "id": "60604a76",
   "metadata": {},
   "outputs": [],
   "source": [
    "# # Filling the null values present in a columns by taking the median of a particular class to which the null values belong in the target class\n",
    "# for i in df.columns:\n",
    "#     if df[i].isnull().sum() > 0:\n",
    "#         for j in df[\"Label\"].unique():\n",
    "#             j_median = df[df[\"Label\"] == j][i].median()\n",
    "#             df.loc[(df[\"Label\"] == j) & (df[i].isnull()), i] = j_median"
   ]
  },
  {
   "cell_type": "code",
   "execution_count": null,
   "id": "66d9b45c",
   "metadata": {},
   "outputs": [
    {
     "name": "stderr",
     "output_type": "stream",
     "text": [
      "C:\\ProgramData\\Anaconda3\\lib\\site-packages\\daal4py\\sklearn\\linear_model\\logistic_path.py:459: ConvergenceWarning: lbfgs failed to converge (status=1):\n",
      "STOP: TOTAL NO. of ITERATIONS REACHED LIMIT.\n",
      "\n",
      "Increase the number of iterations (max_iter) or scale the data as shown in:\n",
      "    https://scikit-learn.org/stable/modules/preprocessing.html\n",
      "Please also refer to the documentation for alternative solver options:\n",
      "    https://scikit-learn.org/stable/modules/linear_model.html#logistic-regression\n",
      "  n_iter_i = _check_optimize_result(\n"
     ]
    },
    {
     "name": "stdout",
     "output_type": "stream",
     "text": [
      "3 0.9440765593509836\n"
     ]
    },
    {
     "name": "stderr",
     "output_type": "stream",
     "text": [
      "C:\\ProgramData\\Anaconda3\\lib\\site-packages\\daal4py\\sklearn\\linear_model\\logistic_path.py:459: ConvergenceWarning: lbfgs failed to converge (status=1):\n",
      "STOP: TOTAL NO. of ITERATIONS REACHED LIMIT.\n",
      "\n",
      "Increase the number of iterations (max_iter) or scale the data as shown in:\n",
      "    https://scikit-learn.org/stable/modules/preprocessing.html\n",
      "Please also refer to the documentation for alternative solver options:\n",
      "    https://scikit-learn.org/stable/modules/linear_model.html#logistic-regression\n",
      "  n_iter_i = _check_optimize_result(\n"
     ]
    },
    {
     "name": "stdout",
     "output_type": "stream",
     "text": [
      "5 0.9432534544792979\n"
     ]
    }
   ],
   "source": [
    "%%time\n",
    "# Imputation\n",
    "temp_X = df.drop(['Label'], axis=1)\n",
    "scaler = preprocessing.MinMaxScaler()\n",
    "temp_X = scaler.fit_transform(temp_X)\n",
    "df = pd.concat([pd.DataFrame(temp_X), df[\"Label\"]], axis=1)\n",
    "df.columns = columns\n",
    "\n",
    "label_encoder = preprocessing.LabelEncoder()\n",
    "df['Label']= label_encoder.fit_transform(df['Label'])\n",
    "\n",
    "X = df.drop([\"Label\"], axis = 1)\n",
    "y = df[\"Label\"]\n",
    "X_train, X_val, y_train, y_val = train_test_split(X, y, test_size=0.2, random_state=42)\n",
    "\n",
    "k_values = [3, 5, 7, 10, 13, 15]\n",
    "acc_dict = {}\n",
    "best_k = None\n",
    "best_accuracy = 0.0\n",
    "for k in k_values:\n",
    "    imputer_X = KNNImputer(n_neighbors=k, weights='distance', metric='nan_euclidean')\n",
    "    X_train_imputed = imputer_X.fit_transform(X_train)\n",
    "    \n",
    "    classifier = LogisticRegression() \n",
    "    classifier.fit(X_train_imputed, y_train)\n",
    "    \n",
    "    if X_val.isnull().values.any():\n",
    "        X_val_imputed = imputer_X.transform(X_val)\n",
    "        y_val_pred = classifier.predict(X_val_imputed)\n",
    "        accuracy = accuracy_score(y_val, y_val_pred)\n",
    "    else:\n",
    "        y_val_pred = classifier.predict(X_val)\n",
    "        accuracy = accuracy_score(y_val, y_val_pred)\n",
    "    \n",
    "    acc_dict[k] = accuracy\n",
    "    print(k, accuracy)\n",
    "    \n",
    "    if accuracy > best_accuracy:\n",
    "        best_k = k\n",
    "        best_accuracy = accuracy\n",
    "\n",
    "print(\"Optimal k value:\", best_k)"
   ]
  },
  {
   "cell_type": "code",
   "execution_count": null,
   "id": "5d06332d",
   "metadata": {},
   "outputs": [],
   "source": [
    "# Imputation\n",
    "temp_X = df.drop(['Label'], axis=1)\n",
    "scaler = preprocessing.MinMaxScaler()\n",
    "X = scaler.fit_transform(X)\n",
    "label_encoder = preprocessing.LabelEncoder()\n",
    "df['Label']= label_encoder.fit_transform(df['Label'])\n",
    "imputer = KNNImputer(n_neighbors=10, weights='uniform', metric='nan_euclidean')\n",
    "imputer.fit(df)\n",
    "df = imputer.transform(df)\n",
    "df = pd.DataFrame(df)\n",
    "df.columns = columns"
   ]
  },
  {
   "cell_type": "code",
   "execution_count": 87,
   "id": "d37d434d",
   "metadata": {},
   "outputs": [
    {
     "data": {
      "text/plain": [
       "0"
      ]
     },
     "execution_count": 87,
     "metadata": {},
     "output_type": "execute_result"
    }
   ],
   "source": [
    "# Instead, I found it better to drop rather than replacing them because null values are less than 1% for each class and Duplicates are not dropped\n",
    "# df.dropna(inplace = True)\n",
    "df.isnull().sum().sum()"
   ]
  },
  {
   "cell_type": "code",
   "execution_count": null,
   "id": "9d39418e",
   "metadata": {},
   "outputs": [],
   "source": [
    "temp_df_1 = df"
   ]
  },
  {
   "cell_type": "markdown",
   "id": "c0d72e36",
   "metadata": {},
   "source": [
    "### Dropping Duplicate Rows"
   ]
  },
  {
   "cell_type": "code",
   "execution_count": null,
   "id": "74b2f7ce",
   "metadata": {},
   "outputs": [],
   "source": [
    "duplicate_rows = df[df.duplicated()]\n",
    "print(len(duplicate_rows))\n",
    "df.drop_duplicates(inplace=True)\n",
    "print(df.shape)"
   ]
  },
  {
   "cell_type": "code",
   "execution_count": 88,
   "id": "8a7f65ca",
   "metadata": {},
   "outputs": [
    {
     "name": "stdout",
     "output_type": "stream",
     "text": [
      "425878\n"
     ]
    }
   ],
   "source": [
    "total_malicious  = 0\n",
    "for i in range(1, len(df.groupby('Label')['Label'].count())):\n",
    "    total_malicious += df.groupby('Label')['Label'].count()[i]\n",
    "print(total_malicious)"
   ]
  },
  {
   "cell_type": "code",
   "execution_count": null,
   "id": "bf122496",
   "metadata": {},
   "outputs": [],
   "source": [
    "temp_df_2 = df"
   ]
  },
  {
   "cell_type": "markdown",
   "id": "72d9476b",
   "metadata": {},
   "source": [
    "### Making Binary Classes"
   ]
  },
  {
   "cell_type": "code",
   "execution_count": 154,
   "id": "93135089",
   "metadata": {},
   "outputs": [],
   "source": [
    "temp_class_list = [i for i in df[\"Label\"] if i!=0]\n",
    "# temp_class_list = [i for i in df[\"Label\"] if i!=\"BENIGN\"]\n",
    "temp_class_list = [*set(temp_class_list)]\n",
    "df.replace(temp_class_list, 1, inplace=True)"
   ]
  },
  {
   "cell_type": "code",
   "execution_count": null,
   "id": "8d41ad67",
   "metadata": {},
   "outputs": [],
   "source": [
    "# label_encoder = preprocessing.LabelEncoder()\n",
    "# df['Label']= label_encoder.fit_transform(df['Label'])\n",
    "df['Label'].unique()"
   ]
  },
  {
   "cell_type": "code",
   "execution_count": 17,
   "id": "240f69f0",
   "metadata": {},
   "outputs": [],
   "source": [
    "def expand_categories(values):\n",
    "    result = []\n",
    "    s = values.value_counts()\n",
    "    t = float(len(values))\n",
    "    for v in s.index:\n",
    "        result.append(\"{}:{}%\".format(v,round(100*(s[v]/t),2)))\n",
    "    return \"[{}]\".format(\",\".join(result))\n",
    "        \n",
    "def analyze(df):\n",
    "    cols = df.columns.values\n",
    "    total = float(len(df))\n",
    "    for col in cols:\n",
    "        uniques = df[col].unique()\n",
    "        unique_count = len(uniques)\n",
    "        if unique_count>100:\n",
    "            print(\"--> {}:{} ({}%)\".format(col,unique_count,int(((unique_count)/total)*100)))\n",
    "        else:\n",
    "            print(\"--> {}:{}\".format(col,expand_categories(df[col])))\n",
    "            expand_categories(df[col])"
   ]
  },
  {
   "cell_type": "code",
   "execution_count": 18,
   "id": "dd807a58",
   "metadata": {
    "scrolled": true
   },
   "outputs": [
    {
     "name": "stdout",
     "output_type": "stream",
     "text": [
      "--> Destination Port:53791 (1%)\n",
      "--> Flow Duration:1050898 (37%)\n",
      "--> Total Fwd Packets:1432 (0%)\n",
      "--> Total Backward Packets:1747 (0%)\n",
      "--> Total Length of Fwd Packets:17928 (0%)\n",
      "--> Total Length of Bwd Packets:64698 (2%)\n",
      "--> Fwd Packet Length Max:5279 (0%)\n",
      "--> Fwd Packet Length Min:384 (0%)\n",
      "--> Fwd Packet Length Mean:99716 (3%)\n",
      "--> Fwd Packet Length Std:253909 (8%)\n",
      "--> Bwd Packet Length Max:4838 (0%)\n",
      "--> Bwd Packet Length Min:583 (0%)\n",
      "--> Bwd Packet Length Mean:147614 (5%)\n",
      "--> Bwd Packet Length Std:248869 (8%)\n",
      "--> Flow Bytes/s:1593907 (56%)\n",
      "--> Flow Packets/s:1240163 (43%)\n",
      "--> Flow IAT Mean:1166310 (41%)\n",
      "--> Flow IAT Std:1056642 (37%)\n",
      "--> Flow IAT Max:580288 (20%)\n",
      "--> Flow IAT Min:136316 (4%)\n",
      "--> Fwd IAT Total:493098 (17%)\n",
      "--> Fwd IAT Mean:737737 (26%)\n",
      "--> Fwd IAT Std:700313 (24%)\n",
      "--> Fwd IAT Max:437316 (15%)\n",
      "--> Fwd IAT Min:110631 (3%)\n",
      "--> Bwd IAT Total:414928 (14%)\n",
      "--> Bwd IAT Mean:670824 (23%)\n",
      "--> Bwd IAT Std:709042 (25%)\n",
      "--> Bwd IAT Max:368285 (13%)\n",
      "--> Bwd IAT Min:66074 (2%)\n",
      "--> Fwd PSH Flags:[0:95.36%,1:4.64%]\n",
      "--> Bwd PSH Flags:[0:100.0%]\n",
      "--> Fwd URG Flags:[0:99.99%,1:0.01%]\n",
      "--> Bwd URG Flags:[0:100.0%]\n",
      "--> Fwd Header Length:3771 (0%)\n",
      "--> Bwd Header Length:3945 (0%)\n",
      "--> Fwd Packets/s:1220423 (43%)\n",
      "--> Bwd Packets/s:1107886 (39%)\n",
      "--> Min Packet Length:215 (0%)\n",
      "--> Max Packet Length:5708 (0%)\n",
      "--> Packet Length Mean:215826 (7%)\n",
      "--> Packet Length Std:412246 (14%)\n",
      "--> Packet Length Variance:405565 (14%)\n",
      "--> FIN Flag Count:[0:96.47%,1:3.53%]\n",
      "--> SYN Flag Count:[0:95.36%,1:4.64%]\n",
      "--> RST Flag Count:[0:99.98%,1:0.02%]\n",
      "--> PSH Flag Count:[0:70.17%,1:29.83%]\n",
      "--> ACK Flag Count:[0:68.47%,1:31.53%]\n",
      "--> URG Flag Count:[0:90.52%,1:9.48%]\n",
      "--> CWE Flag Count:[0:99.99%,1:0.01%]\n",
      "--> ECE Flag Count:[0:99.98%,1:0.02%]\n",
      "--> Down/Up Ratio:[1:60.27%,0:37.0%,2:1.77%,5:0.38%,3:0.23%,6:0.23%,4:0.1%,7:0.02%,8:0.0%,29:0.0%,9:0.0%,10:0.0%,12:0.0%,27:0.0%,25:0.0%,32:0.0%,11:0.0%,39:0.0%,43:0.0%,28:0.0%,14:0.0%,35:0.0%,74:0.0%,21:0.0%,156:0.0%,20:0.0%,90:0.0%,108:0.0%,124:0.0%,16:0.0%,26:0.0%]\n",
      "--> Average Packet Size:212207 (7%)\n",
      "--> Avg Fwd Segment Size:99716 (3%)\n",
      "--> Avg Bwd Segment Size:147611 (5%)\n",
      "--> Fwd Header Length.1:3771 (0%)\n",
      "--> Fwd Avg Bytes/Bulk:[0:100.0%]\n",
      "--> Fwd Avg Packets/Bulk:[0:100.0%]\n",
      "--> Fwd Avg Bulk Rate:[0:100.0%]\n",
      "--> Bwd Avg Bytes/Bulk:[0:100.0%]\n",
      "--> Bwd Avg Packets/Bulk:[0:100.0%]\n",
      "--> Bwd Avg Bulk Rate:[0:100.0%]\n",
      "--> Subflow Fwd Packets:1432 (0%)\n",
      "--> Subflow Fwd Bytes:17928 (0%)\n",
      "--> Subflow Bwd Packets:1747 (0%)\n",
      "--> Subflow Bwd Bytes:64738 (2%)\n",
      "--> Init_Win_bytes_forward:12144 (0%)\n",
      "--> Init_Win_bytes_backward:13110 (0%)\n",
      "--> act_data_pkt_fwd:1093 (0%)\n",
      "--> min_seg_size_forward:[20:48.95%,32:40.81%,24:4.99%,40:4.73%,44:0.28%,28:0.16%,0:0.06%,56:0.0%,36:0.0%,60:0.0%,48:0.0%,52:0.0%,8:0.0%,-83885313:0.0%,14:0.0%,-536870660:0.0%,6:0.0%,12:0.0%,93:0.0%,78:0.0%,-536870661:0.0%,138:0.0%,46:0.0%,31:0.0%,10:0.0%,126:0.0%,38:0.0%,-1:0.0%]\n",
      "--> Active Mean:326325 (11%)\n",
      "--> Active Std:202826 (7%)\n",
      "--> Active Max:299565 (10%)\n",
      "--> Active Min:175670 (6%)\n",
      "--> Idle Mean:222016 (7%)\n",
      "--> Idle Std:197616 (6%)\n",
      "--> Idle Max:149737 (5%)\n",
      "--> Idle Min:223888 (7%)\n",
      "--> Label:[BENIGN:80.32%,MALICIOUS:19.68%]\n"
     ]
    }
   ],
   "source": [
    "analyze(df)"
   ]
  },
  {
   "cell_type": "code",
   "execution_count": 155,
   "id": "cb2e7e19",
   "metadata": {
    "scrolled": true
   },
   "outputs": [
    {
     "data": {
      "image/png": "[encoded data removed]",
      "text/plain": [
       "<Figure size 432x288 with 1 Axes>"
      ]
     },
     "metadata": {
      "needs_background": "light"
     },
     "output_type": "display_data"
    }
   ],
   "source": [
    "class_percentages = df[\"Label\"].value_counts() / df[\"Label\"].value_counts().sum() * 100\n",
    "plt.bar(class_percentages.index, class_percentages.values)\n",
    "plt.title(\"Percentage of Each Class in Target Column\")\n",
    "plt.xlabel(\"Class\")\n",
    "plt.ylabel(\"Percentage\")\n",
    "plt.show()"
   ]
  },
  {
   "cell_type": "code",
   "execution_count": 91,
   "id": "15b7681e",
   "metadata": {
    "scrolled": false
   },
   "outputs": [
    {
     "data": {
      "text/plain": [
       "(2522362, 79)"
      ]
     },
     "execution_count": 91,
     "metadata": {},
     "output_type": "execute_result"
    }
   ],
   "source": [
    "df.shape"
   ]
  },
  {
   "cell_type": "markdown",
   "id": "1034b7d0",
   "metadata": {},
   "source": [
    "# Feature Selection"
   ]
  },
  {
   "cell_type": "code",
   "execution_count": 156,
   "id": "d52f3b01",
   "metadata": {},
   "outputs": [],
   "source": [
    "X = df.drop([\"Label\"], axis = 1)\n",
    "y = df[\"Label\"]"
   ]
  },
  {
   "cell_type": "code",
   "execution_count": 157,
   "id": "754f0d7b",
   "metadata": {},
   "outputs": [],
   "source": [
    "# fsm = RandomForestRegressor(random_state=0)\n",
    "# fsm.fit(X, y)"
   ]
  },
  {
   "cell_type": "code",
   "execution_count": 158,
   "id": "81d8bb97",
   "metadata": {},
   "outputs": [
    {
     "data": {
      "text/plain": [
       "RandomForestClassifier()"
      ]
     },
     "execution_count": 158,
     "metadata": {},
     "output_type": "execute_result"
    }
   ],
   "source": [
    "fsm = RandomForestClassifier()\n",
    "fsm.fit(X, y)"
   ]
  },
  {
   "cell_type": "code",
   "execution_count": 25,
   "id": "c67d8011",
   "metadata": {},
   "outputs": [],
   "source": [
    "# fsm = DecisionTreeClassifier()\n",
    "# fsm.fit(X, y)"
   ]
  },
  {
   "cell_type": "code",
   "execution_count": 26,
   "id": "c864b6f8",
   "metadata": {},
   "outputs": [],
   "source": [
    "# with open('rfc_model.pkl', 'wb') as fw1:\n",
    "#     pickle.dump(rfc, fw1)\n",
    "# with open('rfr_model.pkl', 'wb') as fw2:\n",
    "#     pickle.dump(rfr, fw2)\n",
    "# with open('dtc_model.pkl', 'wb') as fw3:\n",
    "#     pickle.dump(dtc, fw3)"
   ]
  },
  {
   "cell_type": "code",
   "execution_count": 27,
   "id": "8dadfb85",
   "metadata": {},
   "outputs": [],
   "source": [
    "with open('rfr_model.pkl', 'rb') as fr1:\n",
    "    rfr = pickle.load(fr1)\n",
    "with open('rfc_model.pkl', 'rb') as fr2:\n",
    "    rfc = pickle.load(fr2)\n",
    "with open('dtc_model.pkl', 'rb') as fr3:\n",
    "    dtc = pickle.load(fr3)"
   ]
  },
  {
   "cell_type": "code",
   "execution_count": 64,
   "id": "3624edaa",
   "metadata": {
    "scrolled": true
   },
   "outputs": [
    {
     "data": {
      "text/plain": [
       "array([1.03054539e-01, 4.04120615e-04, 2.79196847e-04, 3.68205690e-05,\n",
       "       5.85113219e-04, 3.05727429e-04, 3.69272396e-03, 5.01149204e-04,\n",
       "       1.27408763e-04, 9.54197968e-03, 3.22332413e-04, 3.80393968e-04,\n",
       "       7.40252850e-04, 3.76869084e-01, 5.19691526e-04, 5.54387520e-04,\n",
       "       1.85681058e-03, 8.10521414e-04, 2.59050202e-04, 3.83262042e-03,\n",
       "       3.08503330e-04, 1.03620910e-03, 1.84046975e-04, 3.26732884e-03,\n",
       "       5.35980706e-03, 3.78841457e-05, 1.69794210e-03, 1.97030571e-03,\n",
       "       7.46705961e-05, 5.04895277e-04, 5.03192089e-05, 0.00000000e+00,\n",
       "       5.34495892e-07, 0.00000000e+00, 6.49006682e-04, 1.32152741e-01,\n",
       "       7.87442080e-04, 1.01885727e-03, 3.90772801e-04, 9.32754277e-02,\n",
       "       1.23512817e-03, 2.61171638e-04, 3.52909568e-04, 4.57099317e-05,\n",
       "       4.67649538e-06, 0.00000000e+00, 7.16855428e-05, 4.04441199e-05,\n",
       "       3.18196047e-04, 4.46458564e-07, 0.00000000e+00, 2.24834268e-04,\n",
       "       1.89145619e-01, 1.28922347e-04, 8.86326681e-04, 6.86349019e-04,\n",
       "       0.00000000e+00, 0.00000000e+00, 0.00000000e+00, 0.00000000e+00,\n",
       "       0.00000000e+00, 0.00000000e+00, 3.30444430e-04, 6.59368697e-04,\n",
       "       4.57086780e-05, 3.11320747e-04, 2.70854020e-02, 9.20970533e-03,\n",
       "       4.26796285e-04, 1.87501040e-02, 3.45489512e-05, 2.14058791e-03,\n",
       "       3.49364118e-05, 3.74314990e-05, 1.61978507e-05, 2.23950027e-05,\n",
       "       2.16138591e-05, 3.03997190e-05])"
      ]
     },
     "execution_count": 64,
     "metadata": {},
     "output_type": "execute_result"
    }
   ],
   "source": [
    "fsm.feature_importances_"
   ]
  },
  {
   "cell_type": "code",
   "execution_count": 160,
   "id": "7d7e2b87",
   "metadata": {},
   "outputs": [
    {
     "data": {
      "text/html": [
       "<div>\n",
       "<style scoped>\n",
       "    .dataframe tbody tr th:only-of-type {\n",
       "        vertical-align: middle;\n",
       "    }\n",
       "\n",
       "    .dataframe tbody tr th {\n",
       "        vertical-align: top;\n",
       "    }\n",
       "\n",
       "    .dataframe thead th {\n",
       "        text-align: right;\n",
       "    }\n",
       "</style>\n",
       "<table border=\"1\" class=\"dataframe\">\n",
       "  <thead>\n",
       "    <tr style=\"text-align: right;\">\n",
       "      <th></th>\n",
       "      <th>Feature</th>\n",
       "      <th>Importance</th>\n",
       "    </tr>\n",
       "  </thead>\n",
       "  <tbody>\n",
       "    <tr>\n",
       "      <th>0</th>\n",
       "      <td>Destination Port</td>\n",
       "      <td>0.069036</td>\n",
       "    </tr>\n",
       "    <tr>\n",
       "      <th>1</th>\n",
       "      <td>Packet Length Std</td>\n",
       "      <td>0.061834</td>\n",
       "    </tr>\n",
       "    <tr>\n",
       "      <th>2</th>\n",
       "      <td>Packet Length Variance</td>\n",
       "      <td>0.059110</td>\n",
       "    </tr>\n",
       "    <tr>\n",
       "      <th>3</th>\n",
       "      <td>Avg Bwd Segment Size</td>\n",
       "      <td>0.046917</td>\n",
       "    </tr>\n",
       "    <tr>\n",
       "      <th>4</th>\n",
       "      <td>Bwd Packet Length Mean</td>\n",
       "      <td>0.043354</td>\n",
       "    </tr>\n",
       "    <tr>\n",
       "      <th>5</th>\n",
       "      <td>Total Length of Bwd Packets</td>\n",
       "      <td>0.037722</td>\n",
       "    </tr>\n",
       "    <tr>\n",
       "      <th>6</th>\n",
       "      <td>Average Packet Size</td>\n",
       "      <td>0.037605</td>\n",
       "    </tr>\n",
       "    <tr>\n",
       "      <th>7</th>\n",
       "      <td>Init_Win_bytes_forward</td>\n",
       "      <td>0.035710</td>\n",
       "    </tr>\n",
       "    <tr>\n",
       "      <th>8</th>\n",
       "      <td>Max Packet Length</td>\n",
       "      <td>0.035323</td>\n",
       "    </tr>\n",
       "    <tr>\n",
       "      <th>9</th>\n",
       "      <td>Bwd Packet Length Std</td>\n",
       "      <td>0.034162</td>\n",
       "    </tr>\n",
       "    <tr>\n",
       "      <th>10</th>\n",
       "      <td>Subflow Bwd Bytes</td>\n",
       "      <td>0.029239</td>\n",
       "    </tr>\n",
       "    <tr>\n",
       "      <th>11</th>\n",
       "      <td>Fwd Packet Length Mean</td>\n",
       "      <td>0.028176</td>\n",
       "    </tr>\n",
       "    <tr>\n",
       "      <th>12</th>\n",
       "      <td>Bwd Packet Length Max</td>\n",
       "      <td>0.028043</td>\n",
       "    </tr>\n",
       "    <tr>\n",
       "      <th>13</th>\n",
       "      <td>Fwd Header Length.1</td>\n",
       "      <td>0.027621</td>\n",
       "    </tr>\n",
       "    <tr>\n",
       "      <th>14</th>\n",
       "      <td>min_seg_size_forward</td>\n",
       "      <td>0.026162</td>\n",
       "    </tr>\n",
       "    <tr>\n",
       "      <th>15</th>\n",
       "      <td>Fwd Header Length</td>\n",
       "      <td>0.024646</td>\n",
       "    </tr>\n",
       "    <tr>\n",
       "      <th>16</th>\n",
       "      <td>Init_Win_bytes_backward</td>\n",
       "      <td>0.022993</td>\n",
       "    </tr>\n",
       "    <tr>\n",
       "      <th>17</th>\n",
       "      <td>Bwd Header Length</td>\n",
       "      <td>0.022242</td>\n",
       "    </tr>\n",
       "    <tr>\n",
       "      <th>18</th>\n",
       "      <td>Fwd Packet Length Max</td>\n",
       "      <td>0.021831</td>\n",
       "    </tr>\n",
       "    <tr>\n",
       "      <th>19</th>\n",
       "      <td>Subflow Fwd Bytes</td>\n",
       "      <td>0.019341</td>\n",
       "    </tr>\n",
       "    <tr>\n",
       "      <th>20</th>\n",
       "      <td>Packet Length Mean</td>\n",
       "      <td>0.018344</td>\n",
       "    </tr>\n",
       "    <tr>\n",
       "      <th>21</th>\n",
       "      <td>Total Length of Fwd Packets</td>\n",
       "      <td>0.017145</td>\n",
       "    </tr>\n",
       "    <tr>\n",
       "      <th>22</th>\n",
       "      <td>Fwd IAT Min</td>\n",
       "      <td>0.016160</td>\n",
       "    </tr>\n",
       "    <tr>\n",
       "      <th>23</th>\n",
       "      <td>Flow IAT Std</td>\n",
       "      <td>0.015172</td>\n",
       "    </tr>\n",
       "    <tr>\n",
       "      <th>24</th>\n",
       "      <td>Fwd IAT Max</td>\n",
       "      <td>0.013191</td>\n",
       "    </tr>\n",
       "    <tr>\n",
       "      <th>25</th>\n",
       "      <td>PSH Flag Count</td>\n",
       "      <td>0.012491</td>\n",
       "    </tr>\n",
       "    <tr>\n",
       "      <th>26</th>\n",
       "      <td>Fwd IAT Std</td>\n",
       "      <td>0.012220</td>\n",
       "    </tr>\n",
       "    <tr>\n",
       "      <th>27</th>\n",
       "      <td>Avg Fwd Segment Size</td>\n",
       "      <td>0.010851</td>\n",
       "    </tr>\n",
       "    <tr>\n",
       "      <th>28</th>\n",
       "      <td>Fwd IAT Total</td>\n",
       "      <td>0.010774</td>\n",
       "    </tr>\n",
       "    <tr>\n",
       "      <th>29</th>\n",
       "      <td>URG Flag Count</td>\n",
       "      <td>0.010414</td>\n",
       "    </tr>\n",
       "    <tr>\n",
       "      <th>30</th>\n",
       "      <td>ACK Flag Count</td>\n",
       "      <td>0.009323</td>\n",
       "    </tr>\n",
       "    <tr>\n",
       "      <th>31</th>\n",
       "      <td>Bwd Packet Length Min</td>\n",
       "      <td>0.008127</td>\n",
       "    </tr>\n",
       "    <tr>\n",
       "      <th>32</th>\n",
       "      <td>Subflow Bwd Packets</td>\n",
       "      <td>0.007758</td>\n",
       "    </tr>\n",
       "    <tr>\n",
       "      <th>33</th>\n",
       "      <td>Fwd IAT Mean</td>\n",
       "      <td>0.007444</td>\n",
       "    </tr>\n",
       "    <tr>\n",
       "      <th>34</th>\n",
       "      <td>Bwd Packets/s</td>\n",
       "      <td>0.007436</td>\n",
       "    </tr>\n",
       "    <tr>\n",
       "      <th>35</th>\n",
       "      <td>Idle Max</td>\n",
       "      <td>0.007335</td>\n",
       "    </tr>\n",
       "    <tr>\n",
       "      <th>36</th>\n",
       "      <td>Flow Duration</td>\n",
       "      <td>0.007243</td>\n",
       "    </tr>\n",
       "    <tr>\n",
       "      <th>37</th>\n",
       "      <td>Flow IAT Mean</td>\n",
       "      <td>0.007228</td>\n",
       "    </tr>\n",
       "    <tr>\n",
       "      <th>38</th>\n",
       "      <td>Fwd Packets/s</td>\n",
       "      <td>0.007208</td>\n",
       "    </tr>\n",
       "  </tbody>\n",
       "</table>\n",
       "</div>"
      ],
      "text/plain": [
       "                        Feature  Importance\n",
       "0              Destination Port    0.069036\n",
       "1             Packet Length Std    0.061834\n",
       "2        Packet Length Variance    0.059110\n",
       "3          Avg Bwd Segment Size    0.046917\n",
       "4        Bwd Packet Length Mean    0.043354\n",
       "5   Total Length of Bwd Packets    0.037722\n",
       "6           Average Packet Size    0.037605\n",
       "7        Init_Win_bytes_forward    0.035710\n",
       "8             Max Packet Length    0.035323\n",
       "9         Bwd Packet Length Std    0.034162\n",
       "10            Subflow Bwd Bytes    0.029239\n",
       "11       Fwd Packet Length Mean    0.028176\n",
       "12        Bwd Packet Length Max    0.028043\n",
       "13          Fwd Header Length.1    0.027621\n",
       "14         min_seg_size_forward    0.026162\n",
       "15            Fwd Header Length    0.024646\n",
       "16      Init_Win_bytes_backward    0.022993\n",
       "17            Bwd Header Length    0.022242\n",
       "18        Fwd Packet Length Max    0.021831\n",
       "19            Subflow Fwd Bytes    0.019341\n",
       "20           Packet Length Mean    0.018344\n",
       "21  Total Length of Fwd Packets    0.017145\n",
       "22                  Fwd IAT Min    0.016160\n",
       "23                 Flow IAT Std    0.015172\n",
       "24                  Fwd IAT Max    0.013191\n",
       "25               PSH Flag Count    0.012491\n",
       "26                  Fwd IAT Std    0.012220\n",
       "27         Avg Fwd Segment Size    0.010851\n",
       "28                Fwd IAT Total    0.010774\n",
       "29               URG Flag Count    0.010414\n",
       "30               ACK Flag Count    0.009323\n",
       "31        Bwd Packet Length Min    0.008127\n",
       "32          Subflow Bwd Packets    0.007758\n",
       "33                 Fwd IAT Mean    0.007444\n",
       "34                Bwd Packets/s    0.007436\n",
       "35                     Idle Max    0.007335\n",
       "36                Flow Duration    0.007243\n",
       "37                Flow IAT Mean    0.007228\n",
       "38                Fwd Packets/s    0.007208"
      ]
     },
     "execution_count": 160,
     "metadata": {},
     "output_type": "execute_result"
    }
   ],
   "source": [
    "number_feature = 39\n",
    "feature_importances_df = pd.DataFrame({'Feature': [i for i in df.columns if i != \"Label\"], 'Importance': fsm.feature_importances_})\n",
    "feature_importances_df = feature_importances_df.sort_values('Importance', ascending=False)\n",
    "top_features = feature_importances_df.head(number_feature)\n",
    "top_features = top_features.reset_index(drop=True)\n",
    "top_features"
   ]
  },
  {
   "cell_type": "code",
   "execution_count": 161,
   "id": "8f6cc6de",
   "metadata": {
    "scrolled": true
   },
   "outputs": [
    {
     "name": "stdout",
     "output_type": "stream",
     "text": [
      "(2830743, 40)\n"
     ]
    }
   ],
   "source": [
    "top_feature_names = top_features['Feature'].tolist()\n",
    "top_feature_names.append(\"Label\")\n",
    "top_feature_df = df[top_feature_names]\n",
    "print(top_feature_df.shape)"
   ]
  },
  {
   "cell_type": "markdown",
   "id": "06e15d85",
   "metadata": {},
   "source": [
    "### Correlation Analysis"
   ]
  },
  {
   "cell_type": "code",
   "execution_count": 162,
   "id": "c572221d",
   "metadata": {},
   "outputs": [
    {
     "data": {
      "image/png": "[encoded data removed]",
      "text/plain": [
       "<Figure size 1080x864 with 2 Axes>"
      ]
     },
     "metadata": {
      "needs_background": "light"
     },
     "output_type": "display_data"
    }
   ],
   "source": [
    "correlation_matrix = top_feature_df.corr()\n",
    "plt.figure(figsize=(15, 12)) \n",
    "sns.heatmap(correlation_matrix, cmap='coolwarm')\n",
    "plt.show()"
   ]
  },
  {
   "cell_type": "code",
   "execution_count": 163,
   "id": "cd326fae",
   "metadata": {
    "scrolled": true
   },
   "outputs": [
    {
     "data": {
      "text/plain": [
       "(2830743, 14)"
      ]
     },
     "execution_count": 163,
     "metadata": {},
     "output_type": "execute_result"
    }
   ],
   "source": [
    "correlation_threshold = 0.9\n",
    "highly_correlated_features = set()\n",
    "for i in range(len(correlation_matrix.columns)):\n",
    "    for j in range(i):\n",
    "        if abs(correlation_matrix.iloc[i, j]) >= correlation_threshold:\n",
    "            colname_i = correlation_matrix.columns[i]\n",
    "            colname_j = correlation_matrix.columns[j]\n",
    "            highly_correlated_features.add(colname_i)\n",
    "            highly_correlated_features.add(colname_j)\n",
    "corr_rem_df = top_feature_df.drop(highly_correlated_features, axis=1)\n",
    "corr_rem_df.shape"
   ]
  },
  {
   "cell_type": "code",
   "execution_count": null,
   "id": "c1fb8994",
   "metadata": {},
   "outputs": [],
   "source": [
    "temp_df_3 = df"
   ]
  },
  {
   "cell_type": "markdown",
   "id": "14bfa19c",
   "metadata": {},
   "source": [
    "### Scaling"
   ]
  },
  {
   "cell_type": "code",
   "execution_count": 164,
   "id": "e5c1410f",
   "metadata": {},
   "outputs": [],
   "source": [
    "X = corr_rem_df.drop([\"Label\"], axis = 1)\n",
    "y = corr_rem_df[\"Label\"]"
   ]
  },
  {
   "cell_type": "code",
   "execution_count": 165,
   "id": "e4109292",
   "metadata": {},
   "outputs": [],
   "source": [
    "# MinMax Scaler\n",
    "scaler = preprocessing.MinMaxScaler()\n",
    "X = scaler.fit_transform(X)"
   ]
  },
  {
   "cell_type": "code",
   "execution_count": null,
   "id": "52315bf8",
   "metadata": {},
   "outputs": [],
   "source": [
    "# Standard Scaler\n",
    "scaler = preprocessing.StandardScaler()\n",
    "X = scaler.fit_transform(X)"
   ]
  },
  {
   "cell_type": "markdown",
   "id": "78ae885b",
   "metadata": {},
   "source": [
    "### Splitting the dataset"
   ]
  },
  {
   "cell_type": "code",
   "execution_count": 166,
   "id": "e6cd81cf",
   "metadata": {},
   "outputs": [],
   "source": [
    "X_train, X_test, y_train, y_test = train_test_split(X, y, test_size=0.2, random_state=42)"
   ]
  },
  {
   "cell_type": "markdown",
   "id": "5f881445",
   "metadata": {},
   "source": [
    "# Training"
   ]
  },
  {
   "cell_type": "code",
   "execution_count": 167,
   "id": "33d61263",
   "metadata": {
    "scrolled": true
   },
   "outputs": [
    {
     "name": "stdout",
     "output_type": "stream",
     "text": [
      "33.90443134307861\n"
     ]
    }
   ],
   "source": [
    "start_time = time.time()\n",
    "model = RandomForestClassifier()\n",
    "model.fit(X_train, y_train)\n",
    "training_time = time.time() - start_time\n",
    "print(training_time)"
   ]
  },
  {
   "cell_type": "code",
   "execution_count": 168,
   "id": "ca52c79a",
   "metadata": {
    "scrolled": false
   },
   "outputs": [
    {
     "name": "stdout",
     "output_type": "stream",
     "text": [
      "Accuracy: 0.9991433350584387\n",
      "Classification Report:\n",
      "               precision    recall  f1-score   support\n",
      "\n",
      "         0.0       1.00      1.00      1.00    454434\n",
      "         1.0       1.00      1.00      1.00    111715\n",
      "\n",
      "    accuracy                           1.00    566149\n",
      "   macro avg       1.00      1.00      1.00    566149\n",
      "weighted avg       1.00      1.00      1.00    566149\n",
      "\n"
     ]
    }
   ],
   "source": [
    "y_pred = model.predict(X_test)\n",
    "accuracy = accuracy_score(y_test, y_pred)\n",
    "print(\"Accuracy:\", accuracy)\n",
    "classification_rep = classification_report(y_test, y_pred)\n",
    "print(\"Classification Report:\\n\", classification_rep)"
   ]
  },
  {
   "cell_type": "code",
   "execution_count": 169,
   "id": "6881fe76",
   "metadata": {
    "scrolled": true
   },
   "outputs": [
    {
     "name": "stdout",
     "output_type": "stream",
     "text": [
      "10.649582386016846\n"
     ]
    }
   ],
   "source": [
    "start_time = time.time()\n",
    "dt = DecisionTreeClassifier()\n",
    "dt.fit(X_train, y_train)\n",
    "training_time = time.time() - start_time\n",
    "print(training_time)"
   ]
  },
  {
   "cell_type": "markdown",
   "id": "aabfee50",
   "metadata": {},
   "source": [
    "# Evaluation"
   ]
  },
  {
   "cell_type": "code",
   "execution_count": 170,
   "id": "d4405bc9",
   "metadata": {
    "scrolled": true
   },
   "outputs": [
    {
     "name": "stdout",
     "output_type": "stream",
     "text": [
      "Accuracy: 0.9949182988930476\n",
      "Classification Report:\n",
      "               precision    recall  f1-score   support\n",
      "\n",
      "         0.0       1.00      1.00      1.00    454434\n",
      "         1.0       0.99      0.99      0.99    111715\n",
      "\n",
      "    accuracy                           0.99    566149\n",
      "   macro avg       0.99      0.99      0.99    566149\n",
      "weighted avg       0.99      0.99      0.99    566149\n",
      "\n"
     ]
    }
   ],
   "source": [
    "y_pred = dt.predict(X_test)\n",
    "accuracy = accuracy_score(y_test, y_pred)\n",
    "print(\"Accuracy:\", accuracy)\n",
    "classification_rep = classification_report(y_test, y_pred)\n",
    "print(\"Classification Report:\\n\", classification_rep)"
   ]
  },
  {
   "cell_type": "code",
   "execution_count": 171,
   "id": "471e788a",
   "metadata": {},
   "outputs": [],
   "source": [
    "corr_rem_df_0 = corr_rem_df[corr_rem_df[\"Label\"] == 0]\n",
    "corr_rem_df_1 = corr_rem_df[corr_rem_df[\"Label\"] == 1]\n",
    "corr_rem_df_0 = resample(corr_rem_df_0,\n",
    "                                 replace=False,   \n",
    "                                 n_samples=len(corr_rem_df_1),     \n",
    "                                 random_state=42)\n",
    "bal_df = pd.concat([corr_rem_df_0, corr_rem_df_1], ignore_index = True)"
   ]
  },
  {
   "cell_type": "code",
   "execution_count": 108,
   "id": "9ed690f7",
   "metadata": {
    "scrolled": true
   },
   "outputs": [
    {
     "data": {
      "text/html": [
       "<div>\n",
       "<style scoped>\n",
       "    .dataframe tbody tr th:only-of-type {\n",
       "        vertical-align: middle;\n",
       "    }\n",
       "\n",
       "    .dataframe tbody tr th {\n",
       "        vertical-align: top;\n",
       "    }\n",
       "\n",
       "    .dataframe thead th {\n",
       "        text-align: right;\n",
       "    }\n",
       "</style>\n",
       "<table border=\"1\" class=\"dataframe\">\n",
       "  <thead>\n",
       "    <tr style=\"text-align: right;\">\n",
       "      <th></th>\n",
       "      <th>Destination Port</th>\n",
       "      <th>PSH Flag Count</th>\n",
       "      <th>Fwd Packet Length Max</th>\n",
       "      <th>min_seg_size_forward</th>\n",
       "      <th>Bwd Header Length</th>\n",
       "      <th>ACK Flag Count</th>\n",
       "      <th>Bwd Packets/s</th>\n",
       "      <th>Init_Win_bytes_backward</th>\n",
       "      <th>act_data_pkt_fwd</th>\n",
       "      <th>Flow Bytes/s</th>\n",
       "      <th>Init_Win_bytes_forward</th>\n",
       "      <th>Fwd IAT Min</th>\n",
       "      <th>Flow Packets/s</th>\n",
       "      <th>Fwd IAT Mean</th>\n",
       "      <th>Label</th>\n",
       "    </tr>\n",
       "  </thead>\n",
       "  <tbody>\n",
       "    <tr>\n",
       "      <th>0</th>\n",
       "      <td>53</td>\n",
       "      <td>0</td>\n",
       "      <td>44</td>\n",
       "      <td>20</td>\n",
       "      <td>32</td>\n",
       "      <td>0</td>\n",
       "      <td>13.972530</td>\n",
       "      <td>-1</td>\n",
       "      <td>0</td>\n",
       "      <td>2682.725761</td>\n",
       "      <td>-1</td>\n",
       "      <td>0</td>\n",
       "      <td>27.945060</td>\n",
       "      <td>0.000000e+00</td>\n",
       "      <td>0</td>\n",
       "    </tr>\n",
       "    <tr>\n",
       "      <th>1</th>\n",
       "      <td>443</td>\n",
       "      <td>1</td>\n",
       "      <td>494</td>\n",
       "      <td>32</td>\n",
       "      <td>2056</td>\n",
       "      <td>0</td>\n",
       "      <td>0.555321</td>\n",
       "      <td>357</td>\n",
       "      <td>4</td>\n",
       "      <td>631.607691</td>\n",
       "      <td>29200</td>\n",
       "      <td>11</td>\n",
       "      <td>0.937103</td>\n",
       "      <td>2.680204e+06</td>\n",
       "      <td>0</td>\n",
       "    </tr>\n",
       "    <tr>\n",
       "      <th>2</th>\n",
       "      <td>2719</td>\n",
       "      <td>0</td>\n",
       "      <td>6</td>\n",
       "      <td>20</td>\n",
       "      <td>40</td>\n",
       "      <td>1</td>\n",
       "      <td>16949.152540</td>\n",
       "      <td>253</td>\n",
       "      <td>0</td>\n",
       "      <td>152542.372900</td>\n",
       "      <td>245</td>\n",
       "      <td>0</td>\n",
       "      <td>25423.728810</td>\n",
       "      <td>0.000000e+00</td>\n",
       "      <td>0</td>\n",
       "    </tr>\n",
       "    <tr>\n",
       "      <th>3</th>\n",
       "      <td>53</td>\n",
       "      <td>0</td>\n",
       "      <td>63</td>\n",
       "      <td>20</td>\n",
       "      <td>20</td>\n",
       "      <td>0</td>\n",
       "      <td>2016.129032</td>\n",
       "      <td>-1</td>\n",
       "      <td>0</td>\n",
       "      <td>375000.000000</td>\n",
       "      <td>-1</td>\n",
       "      <td>0</td>\n",
       "      <td>4032.258065</td>\n",
       "      <td>0.000000e+00</td>\n",
       "      <td>0</td>\n",
       "    </tr>\n",
       "    <tr>\n",
       "      <th>4</th>\n",
       "      <td>443</td>\n",
       "      <td>1</td>\n",
       "      <td>584</td>\n",
       "      <td>32</td>\n",
       "      <td>648</td>\n",
       "      <td>0</td>\n",
       "      <td>0.170406</td>\n",
       "      <td>136</td>\n",
       "      <td>9</td>\n",
       "      <td>85.075181</td>\n",
       "      <td>29200</td>\n",
       "      <td>27</td>\n",
       "      <td>0.340812</td>\n",
       "      <td>6.177199e+06</td>\n",
       "      <td>0</td>\n",
       "    </tr>\n",
       "    <tr>\n",
       "      <th>...</th>\n",
       "      <td>...</td>\n",
       "      <td>...</td>\n",
       "      <td>...</td>\n",
       "      <td>...</td>\n",
       "      <td>...</td>\n",
       "      <td>...</td>\n",
       "      <td>...</td>\n",
       "      <td>...</td>\n",
       "      <td>...</td>\n",
       "      <td>...</td>\n",
       "      <td>...</td>\n",
       "      <td>...</td>\n",
       "      <td>...</td>\n",
       "      <td>...</td>\n",
       "      <td>...</td>\n",
       "    </tr>\n",
       "    <tr>\n",
       "      <th>851751</th>\n",
       "      <td>80</td>\n",
       "      <td>1</td>\n",
       "      <td>326</td>\n",
       "      <td>32</td>\n",
       "      <td>168</td>\n",
       "      <td>0</td>\n",
       "      <td>0.434322</td>\n",
       "      <td>235</td>\n",
       "      <td>1</td>\n",
       "      <td>1038.723775</td>\n",
       "      <td>29200</td>\n",
       "      <td>1</td>\n",
       "      <td>1.129236</td>\n",
       "      <td>9.301100e+05</td>\n",
       "      <td>1</td>\n",
       "    </tr>\n",
       "    <tr>\n",
       "      <th>851752</th>\n",
       "      <td>80</td>\n",
       "      <td>1</td>\n",
       "      <td>471</td>\n",
       "      <td>32</td>\n",
       "      <td>168</td>\n",
       "      <td>0</td>\n",
       "      <td>0.434279</td>\n",
       "      <td>235</td>\n",
       "      <td>1</td>\n",
       "      <td>347.076105</td>\n",
       "      <td>29200</td>\n",
       "      <td>176</td>\n",
       "      <td>0.868559</td>\n",
       "      <td>1.628158e+06</td>\n",
       "      <td>1</td>\n",
       "    </tr>\n",
       "    <tr>\n",
       "      <th>851753</th>\n",
       "      <td>80</td>\n",
       "      <td>1</td>\n",
       "      <td>314</td>\n",
       "      <td>32</td>\n",
       "      <td>200</td>\n",
       "      <td>0</td>\n",
       "      <td>0.521322</td>\n",
       "      <td>235</td>\n",
       "      <td>1</td>\n",
       "      <td>1037.952157</td>\n",
       "      <td>29200</td>\n",
       "      <td>255</td>\n",
       "      <td>1.129531</td>\n",
       "      <td>1.084509e+06</td>\n",
       "      <td>1</td>\n",
       "    </tr>\n",
       "    <tr>\n",
       "      <th>851754</th>\n",
       "      <td>80</td>\n",
       "      <td>1</td>\n",
       "      <td>369</td>\n",
       "      <td>32</td>\n",
       "      <td>168</td>\n",
       "      <td>0</td>\n",
       "      <td>0.434439</td>\n",
       "      <td>235</td>\n",
       "      <td>1</td>\n",
       "      <td>1042.740546</td>\n",
       "      <td>29200</td>\n",
       "      <td>168</td>\n",
       "      <td>1.129541</td>\n",
       "      <td>9.296849e+05</td>\n",
       "      <td>1</td>\n",
       "    </tr>\n",
       "    <tr>\n",
       "      <th>851755</th>\n",
       "      <td>80</td>\n",
       "      <td>1</td>\n",
       "      <td>672</td>\n",
       "      <td>32</td>\n",
       "      <td>168</td>\n",
       "      <td>0</td>\n",
       "      <td>0.434321</td>\n",
       "      <td>237</td>\n",
       "      <td>1</td>\n",
       "      <td>364.568811</td>\n",
       "      <td>29200</td>\n",
       "      <td>4</td>\n",
       "      <td>0.868641</td>\n",
       "      <td>1.627279e+06</td>\n",
       "      <td>1</td>\n",
       "    </tr>\n",
       "  </tbody>\n",
       "</table>\n",
       "<p>851756 rows × 15 columns</p>\n",
       "</div>"
      ],
      "text/plain": [
       "        Destination Port  PSH Flag Count  Fwd Packet Length Max  \\\n",
       "0                     53               0                     44   \n",
       "1                    443               1                    494   \n",
       "2                   2719               0                      6   \n",
       "3                     53               0                     63   \n",
       "4                    443               1                    584   \n",
       "...                  ...             ...                    ...   \n",
       "851751                80               1                    326   \n",
       "851752                80               1                    471   \n",
       "851753                80               1                    314   \n",
       "851754                80               1                    369   \n",
       "851755                80               1                    672   \n",
       "\n",
       "        min_seg_size_forward  Bwd Header Length  ACK Flag Count  \\\n",
       "0                         20                 32               0   \n",
       "1                         32               2056               0   \n",
       "2                         20                 40               1   \n",
       "3                         20                 20               0   \n",
       "4                         32                648               0   \n",
       "...                      ...                ...             ...   \n",
       "851751                    32                168               0   \n",
       "851752                    32                168               0   \n",
       "851753                    32                200               0   \n",
       "851754                    32                168               0   \n",
       "851755                    32                168               0   \n",
       "\n",
       "        Bwd Packets/s  Init_Win_bytes_backward  act_data_pkt_fwd  \\\n",
       "0           13.972530                       -1                 0   \n",
       "1            0.555321                      357                 4   \n",
       "2        16949.152540                      253                 0   \n",
       "3         2016.129032                       -1                 0   \n",
       "4            0.170406                      136                 9   \n",
       "...               ...                      ...               ...   \n",
       "851751       0.434322                      235                 1   \n",
       "851752       0.434279                      235                 1   \n",
       "851753       0.521322                      235                 1   \n",
       "851754       0.434439                      235                 1   \n",
       "851755       0.434321                      237                 1   \n",
       "\n",
       "         Flow Bytes/s  Init_Win_bytes_forward  Fwd IAT Min  Flow Packets/s  \\\n",
       "0         2682.725761                      -1            0       27.945060   \n",
       "1          631.607691                   29200           11        0.937103   \n",
       "2       152542.372900                     245            0    25423.728810   \n",
       "3       375000.000000                      -1            0     4032.258065   \n",
       "4           85.075181                   29200           27        0.340812   \n",
       "...               ...                     ...          ...             ...   \n",
       "851751    1038.723775                   29200            1        1.129236   \n",
       "851752     347.076105                   29200          176        0.868559   \n",
       "851753    1037.952157                   29200          255        1.129531   \n",
       "851754    1042.740546                   29200          168        1.129541   \n",
       "851755     364.568811                   29200            4        0.868641   \n",
       "\n",
       "        Fwd IAT Mean  Label  \n",
       "0       0.000000e+00      0  \n",
       "1       2.680204e+06      0  \n",
       "2       0.000000e+00      0  \n",
       "3       0.000000e+00      0  \n",
       "4       6.177199e+06      0  \n",
       "...              ...    ...  \n",
       "851751  9.301100e+05      1  \n",
       "851752  1.628158e+06      1  \n",
       "851753  1.084509e+06      1  \n",
       "851754  9.296849e+05      1  \n",
       "851755  1.627279e+06      1  \n",
       "\n",
       "[851756 rows x 15 columns]"
      ]
     },
     "execution_count": 108,
     "metadata": {},
     "output_type": "execute_result"
    }
   ],
   "source": [
    "bal_df"
   ]
  },
  {
   "cell_type": "code",
   "execution_count": 109,
   "id": "855e5c98",
   "metadata": {},
   "outputs": [],
   "source": [
    "X = bal_df.drop([\"Label\"], axis = 1)\n",
    "y = bal_df[\"Label\"]"
   ]
  },
  {
   "cell_type": "code",
   "execution_count": 110,
   "id": "d630809e",
   "metadata": {},
   "outputs": [],
   "source": [
    "X_train, X_test, y_train, y_test = train_test_split(X, y, test_size=0.2, random_state=42)"
   ]
  },
  {
   "cell_type": "code",
   "execution_count": 111,
   "id": "01e4da04",
   "metadata": {},
   "outputs": [
    {
     "name": "stdout",
     "output_type": "stream",
     "text": [
      "7.789804935455322\n"
     ]
    }
   ],
   "source": [
    "start_time = time.time()\n",
    "clf = RandomForestClassifier()\n",
    "clf.fit(X_train, y_train)\n",
    "training_time = time.time() - start_time\n",
    "print(training_time)"
   ]
  },
  {
   "cell_type": "code",
   "execution_count": 112,
   "id": "17a08a6d",
   "metadata": {
    "scrolled": true
   },
   "outputs": [
    {
     "name": "stdout",
     "output_type": "stream",
     "text": [
      "Accuracy: 0.9992251338405185\n",
      "Classification Report:\n",
      "               precision    recall  f1-score   support\n",
      "\n",
      "           0       1.00      1.00      1.00     85344\n",
      "           1       1.00      1.00      1.00     85008\n",
      "\n",
      "    accuracy                           1.00    170352\n",
      "   macro avg       1.00      1.00      1.00    170352\n",
      "weighted avg       1.00      1.00      1.00    170352\n",
      "\n"
     ]
    }
   ],
   "source": [
    "y_pred = clf.predict(X_test)\n",
    "accuracy = accuracy_score(y_test, y_pred)\n",
    "print(\"Accuracy:\", accuracy)\n",
    "classification_rep = classification_report(y_test, y_pred)\n",
    "print(\"Classification Report:\\n\", classification_rep)"
   ]
  },
  {
   "cell_type": "code",
   "execution_count": 101,
   "id": "5474c60d",
   "metadata": {},
   "outputs": [
    {
     "data": {
      "text/plain": [
       "0    445461\n",
       "1    445028\n",
       "Name: Label, dtype: int64"
      ]
     },
     "execution_count": 101,
     "metadata": {},
     "output_type": "execute_result"
    }
   ],
   "source": [
    "y_train.value_counts()"
   ]
  },
  {
   "cell_type": "code",
   "execution_count": 109,
   "id": "02cd54be",
   "metadata": {},
   "outputs": [
    {
     "name": "stdout",
     "output_type": "stream",
     "text": [
      "WARNING: The input does not fit in a single ciphertext, and some operations will be disabled.\n",
      "The following operations are disabled in this setup: matmul, matmul_plain, enc_matmul_plain, conv2d_im2col.\n",
      "If you need to use those operations, try increasing the poly_modulus parameter, to fit your input.\n",
      "WARNING: The input does not fit in a single ciphertext, and some operations will be disabled.\n",
      "The following operations are disabled in this setup: matmul, matmul_plain, enc_matmul_plain, conv2d_im2col.\n",
      "If you need to use those operations, try increasing the poly_modulus parameter, to fit your input.\n",
      "CPU times: total: 14.2 s\n",
      "Wall time: 14.2 s\n"
     ]
    }
   ],
   "source": [
    "%%time\n",
    "context = ts.context(ts.SCHEME_TYPE.CKKS, poly_modulus_degree=8192, coeff_mod_bit_sizes=[60, 40, 40, 60])\n",
    "context.global_scale = 2 ** 20\n",
    "enc_X_train = ts.ckks_vector(context, X_train.values.ravel().tolist())\n",
    "enc_y_train = ts.ckks_vector(context, y_train.values.ravel().tolist())"
   ]
  },
  {
   "cell_type": "code",
   "execution_count": 110,
   "id": "65383958",
   "metadata": {},
   "outputs": [
    {
     "ename": "ValueError",
     "evalue": "Expected 2D array, got 1D array instead:\narray=[ 8.0000580e+01  2.7399963e+02 -2.7388207e-05 ...  6.0000644e+00\n  8.0000000e+05 -8.1180240e-04].\nReshape your data either using array.reshape(-1, 1) if your data has a single feature or array.reshape(1, -1) if it contains a single sample.",
     "output_type": "error",
     "traceback": [
      "\u001b[1;31m---------------------------------------------------------------------------\u001b[0m",
      "\u001b[1;31mValueError\u001b[0m                                Traceback (most recent call last)",
      "Input \u001b[1;32mIn [110]\u001b[0m, in \u001b[0;36m<cell line: 2>\u001b[1;34m()\u001b[0m\n\u001b[0;32m      1\u001b[0m dt \u001b[38;5;241m=\u001b[39m DecisionTreeClassifier()\n\u001b[1;32m----> 2\u001b[0m \u001b[43mdt\u001b[49m\u001b[38;5;241;43m.\u001b[39;49m\u001b[43mfit\u001b[49m\u001b[43m(\u001b[49m\u001b[43menc_X_train\u001b[49m\u001b[38;5;241;43m.\u001b[39;49m\u001b[43mdecrypt\u001b[49m\u001b[43m(\u001b[49m\u001b[43m)\u001b[49m\u001b[43m,\u001b[49m\u001b[43m \u001b[49m\u001b[43menc_y_train\u001b[49m\u001b[38;5;241;43m.\u001b[39;49m\u001b[43mdecrypt\u001b[49m\u001b[43m(\u001b[49m\u001b[43m)\u001b[49m\u001b[43m)\u001b[49m\n",
      "File \u001b[1;32mC:\\ProgramData\\Anaconda3\\lib\\site-packages\\sklearn\\tree\\_classes.py:937\u001b[0m, in \u001b[0;36mDecisionTreeClassifier.fit\u001b[1;34m(self, X, y, sample_weight, check_input, X_idx_sorted)\u001b[0m\n\u001b[0;32m    899\u001b[0m \u001b[38;5;28;01mdef\u001b[39;00m \u001b[38;5;21mfit\u001b[39m(\n\u001b[0;32m    900\u001b[0m     \u001b[38;5;28mself\u001b[39m, X, y, sample_weight\u001b[38;5;241m=\u001b[39m\u001b[38;5;28;01mNone\u001b[39;00m, check_input\u001b[38;5;241m=\u001b[39m\u001b[38;5;28;01mTrue\u001b[39;00m, X_idx_sorted\u001b[38;5;241m=\u001b[39m\u001b[38;5;124m\"\u001b[39m\u001b[38;5;124mdeprecated\u001b[39m\u001b[38;5;124m\"\u001b[39m\n\u001b[0;32m    901\u001b[0m ):\n\u001b[0;32m    902\u001b[0m     \u001b[38;5;124;03m\"\"\"Build a decision tree classifier from the training set (X, y).\u001b[39;00m\n\u001b[0;32m    903\u001b[0m \n\u001b[0;32m    904\u001b[0m \u001b[38;5;124;03m    Parameters\u001b[39;00m\n\u001b[1;32m   (...)\u001b[0m\n\u001b[0;32m    934\u001b[0m \u001b[38;5;124;03m        Fitted estimator.\u001b[39;00m\n\u001b[0;32m    935\u001b[0m \u001b[38;5;124;03m    \"\"\"\u001b[39;00m\n\u001b[1;32m--> 937\u001b[0m     \u001b[38;5;28;43msuper\u001b[39;49m\u001b[43m(\u001b[49m\u001b[43m)\u001b[49m\u001b[38;5;241;43m.\u001b[39;49m\u001b[43mfit\u001b[49m\u001b[43m(\u001b[49m\n\u001b[0;32m    938\u001b[0m \u001b[43m        \u001b[49m\u001b[43mX\u001b[49m\u001b[43m,\u001b[49m\n\u001b[0;32m    939\u001b[0m \u001b[43m        \u001b[49m\u001b[43my\u001b[49m\u001b[43m,\u001b[49m\n\u001b[0;32m    940\u001b[0m \u001b[43m        \u001b[49m\u001b[43msample_weight\u001b[49m\u001b[38;5;241;43m=\u001b[39;49m\u001b[43msample_weight\u001b[49m\u001b[43m,\u001b[49m\n\u001b[0;32m    941\u001b[0m \u001b[43m        \u001b[49m\u001b[43mcheck_input\u001b[49m\u001b[38;5;241;43m=\u001b[39;49m\u001b[43mcheck_input\u001b[49m\u001b[43m,\u001b[49m\n\u001b[0;32m    942\u001b[0m \u001b[43m        \u001b[49m\u001b[43mX_idx_sorted\u001b[49m\u001b[38;5;241;43m=\u001b[39;49m\u001b[43mX_idx_sorted\u001b[49m\u001b[43m,\u001b[49m\n\u001b[0;32m    943\u001b[0m \u001b[43m    \u001b[49m\u001b[43m)\u001b[49m\n\u001b[0;32m    944\u001b[0m     \u001b[38;5;28;01mreturn\u001b[39;00m \u001b[38;5;28mself\u001b[39m\n",
      "File \u001b[1;32mC:\\ProgramData\\Anaconda3\\lib\\site-packages\\sklearn\\tree\\_classes.py:165\u001b[0m, in \u001b[0;36mBaseDecisionTree.fit\u001b[1;34m(self, X, y, sample_weight, check_input, X_idx_sorted)\u001b[0m\n\u001b[0;32m    163\u001b[0m check_X_params \u001b[38;5;241m=\u001b[39m \u001b[38;5;28mdict\u001b[39m(dtype\u001b[38;5;241m=\u001b[39mDTYPE, accept_sparse\u001b[38;5;241m=\u001b[39m\u001b[38;5;124m\"\u001b[39m\u001b[38;5;124mcsc\u001b[39m\u001b[38;5;124m\"\u001b[39m)\n\u001b[0;32m    164\u001b[0m check_y_params \u001b[38;5;241m=\u001b[39m \u001b[38;5;28mdict\u001b[39m(ensure_2d\u001b[38;5;241m=\u001b[39m\u001b[38;5;28;01mFalse\u001b[39;00m, dtype\u001b[38;5;241m=\u001b[39m\u001b[38;5;28;01mNone\u001b[39;00m)\n\u001b[1;32m--> 165\u001b[0m X, y \u001b[38;5;241m=\u001b[39m \u001b[38;5;28;43mself\u001b[39;49m\u001b[38;5;241;43m.\u001b[39;49m\u001b[43m_validate_data\u001b[49m\u001b[43m(\u001b[49m\n\u001b[0;32m    166\u001b[0m \u001b[43m    \u001b[49m\u001b[43mX\u001b[49m\u001b[43m,\u001b[49m\u001b[43m \u001b[49m\u001b[43my\u001b[49m\u001b[43m,\u001b[49m\u001b[43m \u001b[49m\u001b[43mvalidate_separately\u001b[49m\u001b[38;5;241;43m=\u001b[39;49m\u001b[43m(\u001b[49m\u001b[43mcheck_X_params\u001b[49m\u001b[43m,\u001b[49m\u001b[43m \u001b[49m\u001b[43mcheck_y_params\u001b[49m\u001b[43m)\u001b[49m\n\u001b[0;32m    167\u001b[0m \u001b[43m\u001b[49m\u001b[43m)\u001b[49m\n\u001b[0;32m    168\u001b[0m \u001b[38;5;28;01mif\u001b[39;00m issparse(X):\n\u001b[0;32m    169\u001b[0m     X\u001b[38;5;241m.\u001b[39msort_indices()\n",
      "File \u001b[1;32mC:\\ProgramData\\Anaconda3\\lib\\site-packages\\sklearn\\base.py:578\u001b[0m, in \u001b[0;36mBaseEstimator._validate_data\u001b[1;34m(self, X, y, reset, validate_separately, **check_params)\u001b[0m\n\u001b[0;32m    572\u001b[0m \u001b[38;5;28;01mif\u001b[39;00m validate_separately:\n\u001b[0;32m    573\u001b[0m     \u001b[38;5;66;03m# We need this because some estimators validate X and y\u001b[39;00m\n\u001b[0;32m    574\u001b[0m     \u001b[38;5;66;03m# separately, and in general, separately calling check_array()\u001b[39;00m\n\u001b[0;32m    575\u001b[0m     \u001b[38;5;66;03m# on X and y isn't equivalent to just calling check_X_y()\u001b[39;00m\n\u001b[0;32m    576\u001b[0m     \u001b[38;5;66;03m# :(\u001b[39;00m\n\u001b[0;32m    577\u001b[0m     check_X_params, check_y_params \u001b[38;5;241m=\u001b[39m validate_separately\n\u001b[1;32m--> 578\u001b[0m     X \u001b[38;5;241m=\u001b[39m check_array(X, \u001b[38;5;241m*\u001b[39m\u001b[38;5;241m*\u001b[39mcheck_X_params)\n\u001b[0;32m    579\u001b[0m     y \u001b[38;5;241m=\u001b[39m check_array(y, \u001b[38;5;241m*\u001b[39m\u001b[38;5;241m*\u001b[39mcheck_y_params)\n\u001b[0;32m    580\u001b[0m \u001b[38;5;28;01melse\u001b[39;00m:\n",
      "File \u001b[1;32mC:\\ProgramData\\Anaconda3\\lib\\site-packages\\sklearn\\utils\\validation.py:769\u001b[0m, in \u001b[0;36mcheck_array\u001b[1;34m(array, accept_sparse, accept_large_sparse, dtype, order, copy, force_all_finite, ensure_2d, allow_nd, ensure_min_samples, ensure_min_features, estimator)\u001b[0m\n\u001b[0;32m    767\u001b[0m     \u001b[38;5;66;03m# If input is 1D raise error\u001b[39;00m\n\u001b[0;32m    768\u001b[0m     \u001b[38;5;28;01mif\u001b[39;00m array\u001b[38;5;241m.\u001b[39mndim \u001b[38;5;241m==\u001b[39m \u001b[38;5;241m1\u001b[39m:\n\u001b[1;32m--> 769\u001b[0m         \u001b[38;5;28;01mraise\u001b[39;00m \u001b[38;5;167;01mValueError\u001b[39;00m(\n\u001b[0;32m    770\u001b[0m             \u001b[38;5;124m\"\u001b[39m\u001b[38;5;124mExpected 2D array, got 1D array instead:\u001b[39m\u001b[38;5;130;01m\\n\u001b[39;00m\u001b[38;5;124marray=\u001b[39m\u001b[38;5;132;01m{}\u001b[39;00m\u001b[38;5;124m.\u001b[39m\u001b[38;5;130;01m\\n\u001b[39;00m\u001b[38;5;124m\"\u001b[39m\n\u001b[0;32m    771\u001b[0m             \u001b[38;5;124m\"\u001b[39m\u001b[38;5;124mReshape your data either using array.reshape(-1, 1) if \u001b[39m\u001b[38;5;124m\"\u001b[39m\n\u001b[0;32m    772\u001b[0m             \u001b[38;5;124m\"\u001b[39m\u001b[38;5;124myour data has a single feature or array.reshape(1, -1) \u001b[39m\u001b[38;5;124m\"\u001b[39m\n\u001b[0;32m    773\u001b[0m             \u001b[38;5;124m\"\u001b[39m\u001b[38;5;124mif it contains a single sample.\u001b[39m\u001b[38;5;124m\"\u001b[39m\u001b[38;5;241m.\u001b[39mformat(array)\n\u001b[0;32m    774\u001b[0m         )\n\u001b[0;32m    776\u001b[0m \u001b[38;5;66;03m# make sure we actually converted to numeric:\u001b[39;00m\n\u001b[0;32m    777\u001b[0m \u001b[38;5;28;01mif\u001b[39;00m dtype_numeric \u001b[38;5;129;01mand\u001b[39;00m array\u001b[38;5;241m.\u001b[39mdtype\u001b[38;5;241m.\u001b[39mkind \u001b[38;5;129;01min\u001b[39;00m \u001b[38;5;124m\"\u001b[39m\u001b[38;5;124mOUSV\u001b[39m\u001b[38;5;124m\"\u001b[39m:\n",
      "\u001b[1;31mValueError\u001b[0m: Expected 2D array, got 1D array instead:\narray=[ 8.0000580e+01  2.7399963e+02 -2.7388207e-05 ...  6.0000644e+00\n  8.0000000e+05 -8.1180240e-04].\nReshape your data either using array.reshape(-1, 1) if your data has a single feature or array.reshape(1, -1) if it contains a single sample."
     ]
    }
   ],
   "source": [
    "dt = DecisionTreeClassifier()\n",
    "dt.fit(enc_X_train.decrypt(), enc_y_train.decrypt())"
   ]
  },
  {
   "cell_type": "code",
   "execution_count": 112,
   "id": "cd8f3c71",
   "metadata": {},
   "outputs": [
    {
     "ename": "AttributeError",
     "evalue": "'RandomForestClassifier' object has no attribute 'lr'",
     "output_type": "error",
     "traceback": [
      "\u001b[1;31m---------------------------------------------------------------------------\u001b[0m",
      "\u001b[1;31mAttributeError\u001b[0m                            Traceback (most recent call last)",
      "Input \u001b[1;32mIn [112]\u001b[0m, in \u001b[0;36m<cell line: 34>\u001b[1;34m()\u001b[0m\n\u001b[0;32m     30\u001b[0m         \u001b[38;5;28mself\u001b[39m\u001b[38;5;241m.\u001b[39mweight \u001b[38;5;241m=\u001b[39m \u001b[38;5;28mself\u001b[39m\u001b[38;5;241m.\u001b[39mweight\u001b[38;5;241m.\u001b[39mdecrypt()\n\u001b[0;32m     31\u001b[0m         \u001b[38;5;28mself\u001b[39m\u001b[38;5;241m.\u001b[39mbias \u001b[38;5;241m=\u001b[39m \u001b[38;5;28mself\u001b[39m\u001b[38;5;241m.\u001b[39mbias\u001b[38;5;241m.\u001b[39mdecrypt()\n\u001b[1;32m---> 34\u001b[0m eelr \u001b[38;5;241m=\u001b[39m \u001b[43mEncryptedLR\u001b[49m\u001b[43m(\u001b[49m\u001b[43mmodel\u001b[49m\u001b[43m)\u001b[49m\n",
      "Input \u001b[1;32mIn [112]\u001b[0m, in \u001b[0;36mEncryptedLR.__init__\u001b[1;34m(self, torch_lr)\u001b[0m\n\u001b[0;32m      4\u001b[0m \u001b[38;5;28;01mdef\u001b[39;00m \u001b[38;5;21m__init__\u001b[39m(\u001b[38;5;28mself\u001b[39m, torch_lr):\n\u001b[0;32m      5\u001b[0m     \u001b[38;5;66;03m# TenSEAL processes lists and not torch tensors,\u001b[39;00m\n\u001b[0;32m      6\u001b[0m     \u001b[38;5;66;03m# so we take out the parameters from the PyTorch model\u001b[39;00m\n\u001b[1;32m----> 7\u001b[0m     \u001b[38;5;28mself\u001b[39m\u001b[38;5;241m.\u001b[39mweight \u001b[38;5;241m=\u001b[39m \u001b[43mtorch_lr\u001b[49m\u001b[38;5;241;43m.\u001b[39;49m\u001b[43mlr\u001b[49m\u001b[38;5;241m.\u001b[39mweight\u001b[38;5;241m.\u001b[39mdata\u001b[38;5;241m.\u001b[39mtolist()[\u001b[38;5;241m0\u001b[39m]\n\u001b[0;32m      8\u001b[0m     \u001b[38;5;28mself\u001b[39m\u001b[38;5;241m.\u001b[39mbias \u001b[38;5;241m=\u001b[39m torch_lr\u001b[38;5;241m.\u001b[39mlr\u001b[38;5;241m.\u001b[39mbias\u001b[38;5;241m.\u001b[39mdata\u001b[38;5;241m.\u001b[39mtolist()\n",
      "\u001b[1;31mAttributeError\u001b[0m: 'RandomForestClassifier' object has no attribute 'lr'"
     ]
    }
   ],
   "source": [
    "import torch\n",
    "class EncryptedLR:\n",
    "    \n",
    "    def __init__(self, torch_lr):\n",
    "        # TenSEAL processes lists and not torch tensors,\n",
    "        # so we take out the parameters from the PyTorch model\n",
    "        self.weight = torch_lr.lr.weight.data.tolist()[0]\n",
    "        self.bias = torch_lr.lr.bias.data.tolist()\n",
    "        \n",
    "    def forward(self, enc_x):\n",
    "        # We don't need to perform sigmoid as this model\n",
    "        # will only be used for evaluation, and the label\n",
    "        # can be deduced without applying sigmoid\n",
    "        enc_out = enc_x.dot(self.weight) + self.bias\n",
    "        return enc_out\n",
    "    \n",
    "    def __call__(self, *args, **kwargs):\n",
    "        return self.forward(*args, **kwargs)\n",
    "        \n",
    "    ################################################\n",
    "    ## You can use the functions below to perform ##\n",
    "    ## the evaluation with an encrypted model     ##\n",
    "    ################################################\n",
    "    \n",
    "    def encrypt(self, context):\n",
    "        self.weight = ts.ckks_vector(context, self.weight)\n",
    "        self.bias = ts.ckks_vector(context, self.bias)\n",
    "        \n",
    "    def decrypt(self, context):\n",
    "        self.weight = self.weight.decrypt()\n",
    "        self.bias = self.bias.decrypt()\n",
    "        \n",
    "\n",
    "eelr = EncryptedLR(model)"
   ]
  },
  {
   "cell_type": "code",
   "execution_count": null,
   "id": "94aa770b",
   "metadata": {},
   "outputs": [],
   "source": []
  }
 ],
 "metadata": {
  "kernelspec": {
   "display_name": "Python 3 (ipykernel)",
   "language": "python",
   "name": "python3"
  },
  "language_info": {
   "codemirror_mode": {
    "name": "ipython",
    "version": 3
   },
   "file_extension": ".py",
   "mimetype": "text/x-python",
   "name": "python",
   "nbconvert_exporter": "python",
   "pygments_lexer": "ipython3",
   "version": "3.9.12"
  }
 },
 "nbformat": 4,
 "nbformat_minor": 5
}
